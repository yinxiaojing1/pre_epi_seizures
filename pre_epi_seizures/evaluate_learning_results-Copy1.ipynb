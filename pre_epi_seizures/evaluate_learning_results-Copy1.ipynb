{
 "cells": [
  {
   "cell_type": "code",
   "execution_count": 1,
   "metadata": {
    "scrolled": true
   },
   "outputs": [
    {
     "name": "stderr",
     "output_type": "stream",
     "text": [
      "/home/franciscosargo/.virtualenvs/pre_epi_seizures/local/lib/python2.7/site-packages/h5py/__init__.py:34: FutureWarning: Conversion of the second argument of issubdtype from `float` to `np.floating` is deprecated. In future, it will be treated as `np.float64 == np.dtype(float).type`.\n",
      "  from ._conv import register_converters as _register_converters\n",
      "Using TensorFlow backend.\n"
     ]
    },
    {
     "ename": "SyntaxError",
     "evalue": "EOL while scanning string literal (iopes.py, line 91)",
     "output_type": "error",
     "traceback": [
      "\u001b[0;36m  File \u001b[0;32m\"iopes.py\"\u001b[0;36m, line \u001b[0;32m91\u001b[0m\n\u001b[0;31m    print 'The table does Not exist!\u001b[0m\n\u001b[0m                                   ^\u001b[0m\n\u001b[0;31mSyntaxError\u001b[0m\u001b[0;31m:\u001b[0m EOL while scanning string literal\n"
     ]
    }
   ],
   "source": [
    "from learning_pipelines import get_learning_results, get_hyper_param_results\n",
    "import sklearn.svm as svm\n",
    "from sklearn.pipeline import Pipeline\n",
    "from sklearn.preprocessing import StandardScaler\n",
    "from sklearn.naive_bayes import GaussianNB\n",
    "import pandas as pd\n",
    "\n",
    "from classification.keras_neural_nets import *\n",
    "\n",
    "import os"
   ]
  },
  {
   "cell_type": "code",
   "execution_count": null,
   "metadata": {
    "collapsed": true
   },
   "outputs": [],
   "source": [
    "# arguments\n",
    "label_struct = {\n",
    "                        'inter_ictal':{\n",
    "                            'label': 'Inter-Ictal Data Points',\n",
    "                            'color': 'blue',\n",
    "                            'intervals_samples': [(1000 * 0 * 60, 1000 * 0 * 60 )]\n",
    "                                     },\n",
    "                        'pre_ictal':{\n",
    "                            'label': 'Pre-Ictal data points',\n",
    "                            'color': 'yellow',\n",
    "                            'intervals_samples': [(1000 * 20 * 60, 1000 * 49 * 60 )]\n",
    "                                     },\n",
    "                        'ictal':{\n",
    "                            'label': 'Ictal data points',\n",
    "                            'color': 'red',\n",
    "                            'intervals_samples': [(1000 * 50 * 60, 1000 * 55 * 60 )]\n",
    "                                 },\n",
    "                        }\n",
    "baseline_label_struct = {\n",
    "                         'baseline':{\n",
    "                            'label': 'Baseline Data Points',\n",
    "                            'color': 'green',\n",
    "                            'intervals_samples': [(0, 1000 * 60 * 60 )]\n",
    "                                    },\n",
    "                        }\n",
    "\n",
    "\n",
    "\n",
    "param_grid = [\n",
    "              {'ANN__epochs': [800],\n",
    "               'ANN__batch_size': [10**4],\n",
    "               'ANN__hidden_layers_nr': [1],\n",
    "               'ANN__hidden_nodes_per_layer': [i for i in xrange(3, 13)],\n",
    "               'ANN__hidden_nodes_activation': ['relu']\n",
    "              }\n",
    "]\n",
    "\n",
    "pipe = Pipeline( [('ANN', KerasClassifier(build_fn=dense_network,\n",
    "                                        input_dim = 5,\n",
    "                                          output_dim = 3,\n",
    "                                          verbose=0))])\n",
    "\n",
    "#param_grid = [\n",
    "#               {'GaussNB__priors': [None]},\n",
    "#                  ]\n",
    "#pipe = Pipeline([('GaussNB', GaussianNB())])\n",
    "\n",
    "param_grid = [\n",
    "               {'SVC__C': [2**i for i in xrange(-5, 11)],\n",
    "                'SVC__gamma':[2**i for i in xrange(-15, 1)]},\n",
    "                 ]\n",
    "\n",
    "pipe = Pipeline([('SVC', svm.SVC())])\n",
    "\n",
    "\n",
    "feature_slot = 'pca_beat_amp_computation'\n",
    "hyper_param=0\n",
    "\n",
    "\n",
    "scaler = StandardScaler()\n",
    "\n",
    "plot_eda=False\n",
    "learn_flag=True\n",
    "compute_all_new=True"
   ]
  },
  {
   "cell_type": "code",
   "execution_count": null,
   "metadata": {
    "scrolled": false
   },
   "outputs": [],
   "source": [
    "# Perform Hyper analysis\n",
    "\n",
    "patient_lists = [[3], [4]]\n",
    "\n",
    "\n",
    "\n",
    "\n",
    "table = [get_learning_results(label_struct, baseline_label_struct,\n",
    "                                              pipe, scaler, param_grid,\n",
    "                                              patient_list,\n",
    "                                              feature_slot,\n",
    "                                              hyper_param,\n",
    "                                              plot_eda,\n",
    "                                              learn_flag,\n",
    "                                              compute_all_new)\n",
    "                   for patient_list in patient_lists]\n",
    "\n",
    "hp_opt_results = [get_hyper_param_results(label_struct, baseline_label_struct,\n",
    "                                              pipe, scaler, param_grid,\n",
    "                                              patient_list,\n",
    "                                              feature_slot,\n",
    "                                              hyper_param,\n",
    "                                              plot_eda,\n",
    "                                              learn_flag,\n",
    "                                              compute_all_new)\n",
    "                   for patient_list in patient_lists]\n",
    "    "
   ]
  },
  {
   "cell_type": "code",
   "execution_count": null,
   "metadata": {
    "scrolled": true
   },
   "outputs": [],
   "source": [
    "table = pd.concat(table)\n",
    "table"
   ]
  },
  {
   "cell_type": "code",
   "execution_count": null,
   "metadata": {},
   "outputs": [],
   "source": [
    "table"
   ]
  },
  {
   "cell_type": "code",
   "execution_count": null,
   "metadata": {
    "scrolled": true
   },
   "outputs": [],
   "source": [
    "# Overal Patient Classification\n",
    "per_patient = table[['precision',\n",
    "                     'recall',\n",
    "                     'f1-score',\n",
    "                     'patient_nr',\n",
    "                     'Best Parameters',\n",
    "                     'Labels']].groupby(['patient_nr', 'Labels']).describe()\n",
    "\n",
    "per_patient.loc[:, (['precision', 'recall', 'f1-score'], ['mean', 'std'])]\n",
    "\n",
    "#print per_patient.columns.get_level_values(1)=='std'\n",
    "\n",
    "#per_patient = per_patient.iloc[:,\n",
    "                               #per_patient.columns.get_level_values(1)=='std']\n",
    "#per_patient"
   ]
  },
  {
   "cell_type": "code",
   "execution_count": null,
   "metadata": {
    "scrolled": false
   },
   "outputs": [],
   "source": [
    "# Overal Patient Classification\n",
    "per_patient = table[['precision',\n",
    "                     'recall',\n",
    "                     'f1-score',\n",
    "                     'patient_nr',\n",
    "                     'Best Parameters',\n",
    "                     'Labels']].groupby(['Best Parameters','patient_nr', 'Labels']).describe()\n",
    "\n",
    "per_patient.loc[:, (['precision', 'recall', 'f1-score'], ['mean', 'std'])]"
   ]
  },
  {
   "cell_type": "code",
   "execution_count": null,
   "metadata": {
    "scrolled": true
   },
   "outputs": [],
   "source": [
    "# \n",
    "\n",
    "per_patient = table[['precision',\n",
    "                     'recall',\n",
    "                     'f1-score',\n",
    "                     'patient_nr',\n",
    "                     'Labels',\n",
    "                     'types_of_seizure',\n",
    "                     'location']].groupby(['patient_nr',\n",
    "                                           'Labels',\n",
    "                                           'types_of_seizure',\n",
    "                                           'location']).describe()\n",
    "per_patient"
   ]
  },
  {
   "cell_type": "code",
   "execution_count": null,
   "metadata": {
    "scrolled": false
   },
   "outputs": [],
   "source": [
    "per_patient.loc[:, (['precision', 'recall', 'f1-score'], ['mean', 'std'])]\n",
    "\n"
   ]
  },
  {
   "cell_type": "code",
   "execution_count": null,
   "metadata": {
    "scrolled": true
   },
   "outputs": [],
   "source": [
    "from classification.hp_opt import heat_new\n",
    "\n",
    "\n",
    "\n",
    "\n",
    "map(heat_new.get_hp_opt_results_args, hp_opt_results)\n"
   ]
  },
  {
   "cell_type": "code",
   "execution_count": null,
   "metadata": {},
   "outputs": [],
   "source": [
    "hp_opt_results"
   ]
  }
 ],
 "metadata": {
  "kernelspec": {
   "display_name": "Python 2",
   "language": "python",
   "name": "python2"
  },
  "language_info": {
   "codemirror_mode": {
    "name": "ipython",
    "version": 2
   },
   "file_extension": ".py",
   "mimetype": "text/x-python",
   "name": "python",
   "nbconvert_exporter": "python",
   "pygments_lexer": "ipython2",
   "version": "2.7.12"
  }
 },
 "nbformat": 4,
 "nbformat_minor": 2
}
