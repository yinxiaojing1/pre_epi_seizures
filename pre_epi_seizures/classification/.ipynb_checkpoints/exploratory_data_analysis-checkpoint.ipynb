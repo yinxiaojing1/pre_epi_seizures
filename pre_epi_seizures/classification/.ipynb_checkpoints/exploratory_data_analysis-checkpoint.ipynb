{
 "cells": [
  {
   "cell_type": "code",
   "execution_count": 1,
   "metadata": {
    "collapsed": true
   },
   "outputs": [],
   "source": [
    "import pandas as pd\n",
    "import numpy as np\n",
    "import sklearn.preprocessing as pp\n",
    "#import plotting as pling\n",
    "\n"
   ]
  },
  {
   "cell_type": "code",
   "execution_count": 2,
   "metadata": {
    "collapsed": true,
    "scrolled": true
   },
   "outputs": [],
   "source": [
    "import plot.series as plt_ts\n",
    "import plot.hist as plt_hist"
   ]
  },
  {
   "cell_type": "code",
   "execution_count": 3,
   "metadata": {
    "collapsed": true
   },
   "outputs": [],
   "source": [
    "#set Data Ingestion fields\n",
    "path_to_load = '/Volumes/Seagate Bac/pre_epi_seizures/h5_files/processing_datasets/seizure_datasets_new.h5'\n",
    "path_to_map = '/Volumes/Seagate Bac/pre_epi_seizures/h5_files/processing_datasets/seizure_datasets_new_map.txt'\n",
    "\n",
    "\n",
    "label_struct = {\n",
    "                        'inter_ictal':{\n",
    "                            'label': 'Inter-Ictal Data Points',\n",
    "                            'color': 'blue',\n",
    "                            'intervals_samples': [(1000 * 0 * 60, 1000 * 10 * 60 )]\n",
    "                                     },\n",
    "                        \n",
    "                        'pre_ictal':{\n",
    "                            'label': 'Pre-Ictal data points',\n",
    "                            'color': 'yellow',\n",
    "                            'intervals_samples': [(1000 * 10 * 60, 1000 * 50 * 60 )]\n",
    "                                     },\n",
    "                        'ictal':{\n",
    "                            'label': 'Ictal data points',\n",
    "                            'color': 'red',\n",
    "                            'intervals_samples': [(1000 * 50 * 60, 1000 * 70 * 60 )]\n",
    "                                 },\n",
    "}\n",
    "\n",
    "# set Labeling structure\n",
    "path_to_load = '/Volumes/Seagate Bac/pre_epi_seizures/h5_files/processing_datasets/baseline_datasets_new.h5'\n",
    "path_to_map = '/Volumes/Seagate Bac/pre_epi_seizures/h5_files/processing_datasets/baseline_datasets_new_map.txt'\n",
    "\n",
    "\n",
    "baseline_label_struct = {\n",
    "                         'baseline':{\n",
    "                            'label': 'Baseine Data Points',\n",
    "                            'color': 'green',\n",
    "                            'intervals_samples': [(0, 1000 *  60 * 60 )]\n",
    "                                    },\n",
    "                        }\n"
   ]
  },
  {
   "cell_type": "code",
   "execution_count": 4,
   "metadata": {},
   "outputs": [
    {
     "data": {
      "text/plain": [
       "12"
      ]
     },
     "execution_count": 4,
     "metadata": {},
     "output_type": "execute_result"
    }
   ],
   "source": [
    "# Create Parametric structure\n",
    "\n",
    "12"
   ]
  },
  {
   "cell_type": "code",
   "execution_count": 5,
   "metadata": {
    "collapsed": true
   },
   "outputs": [],
   "source": [
    "# Set the hyperparameters of analysis\n",
    "\n",
    "feature_slot = 'rqa_computation'\n",
    "patient_list = [3, 5]\n",
    "lead_list = ['ECG-']\n",
    "scaler = pp.MinMaxScaler()\n"
   ]
  },
  {
   "cell_type": "code",
   "execution_count": 6,
   "metadata": {
    "collapsed": true,
    "scrolled": false
   },
   "outputs": [],
   "source": [
    "# Data Ingestion\n",
    "import convertpandas as cv_pd"
   ]
  },
  {
   "cell_type": "code",
   "execution_count": 7,
   "metadata": {
    "scrolled": false
   },
   "outputs": [
    {
     "ename": "IndexError",
     "evalue": "list index out of range",
     "output_type": "error",
     "traceback": [
      "\u001b[0;31m--------------------------------------------------------------------------\u001b[0m",
      "\u001b[0;31mIndexError\u001b[0m                               Traceback (most recent call last)",
      "\u001b[0;32m<ipython-input-7-8bb2629e1fc6>\u001b[0m in \u001b[0;36m<module>\u001b[0;34m()\u001b[0m\n\u001b[1;32m      1\u001b[0m seizure_data = cv_pd.convert_to_pandas(path_to_load, path_to_map,\n\u001b[1;32m      2\u001b[0m                         \u001b[0mpatient_list\u001b[0m\u001b[0;34m,\u001b[0m \u001b[0mfeature_slot\u001b[0m\u001b[0;34m,\u001b[0m\u001b[0;34m\u001b[0m\u001b[0m\n\u001b[0;32m----> 3\u001b[0;31m                         lead_list, label_struct)\n\u001b[0m",
      "\u001b[0;32m/Users/franciscosargo/Desktop/pre_epi_seizures/pre_epi_seizures/classification/convertpandas.pyc\u001b[0m in \u001b[0;36mconvert_to_pandas\u001b[0;34m(path_to_load, path_to_map, patient_list, feature_slot, lead_list, label_struct)\u001b[0m\n\u001b[1;32m    112\u001b[0m     data = load_records(path_to_load, path_to_map,\n\u001b[1;32m    113\u001b[0m                         \u001b[0mpatient_list\u001b[0m\u001b[0;34m,\u001b[0m \u001b[0mfeature_slot\u001b[0m\u001b[0;34m,\u001b[0m\u001b[0;34m\u001b[0m\u001b[0m\n\u001b[0;32m--> 114\u001b[0;31m                         lead_list)\n\u001b[0m\u001b[1;32m    115\u001b[0m \u001b[0;34m\u001b[0m\u001b[0m\n\u001b[1;32m    116\u001b[0m     \u001b[0;31m# Apply labeling strategy\u001b[0m\u001b[0;34m\u001b[0m\u001b[0;34m\u001b[0m\u001b[0m\n",
      "\u001b[0;32m/Users/franciscosargo/Desktop/pre_epi_seizures/pre_epi_seizures/classification/convertpandas.pyc\u001b[0m in \u001b[0;36mload_records\u001b[0;34m(path_to_load, path_to_map, patient_list, feature_slot, lead_list)\u001b[0m\n\u001b[1;32m     11\u001b[0m     \u001b[0;31m# Feature group to analyse -- point of entry\u001b[0m\u001b[0;34m\u001b[0m\u001b[0;34m\u001b[0m\u001b[0m\n\u001b[1;32m     12\u001b[0m     feature_name = get_feature_group_name_list(path_to_map,\n\u001b[0;32m---> 13\u001b[0;31m                                                feature_slot)[0]\n\u001b[0m\u001b[1;32m     14\u001b[0m \u001b[0;34m\u001b[0m\u001b[0m\n\u001b[1;32m     15\u001b[0m     \u001b[0;31m# Load records as lists, numpy storage method\u001b[0m\u001b[0;34m\u001b[0m\u001b[0;34m\u001b[0m\u001b[0m\n",
      "\u001b[0;31mIndexError\u001b[0m: list index out of range"
     ]
    }
   ],
   "source": [
    "seizure_data = cv_pd.convert_to_pandas(path_to_load, path_to_map,\n",
    "                        patient_list, feature_slot,\n",
    "                        lead_list, label_struct)"
   ]
  },
  {
   "cell_type": "code",
   "execution_count": null,
   "metadata": {
    "collapsed": true
   },
   "outputs": [],
   "source": [
    "seizure_data"
   ]
  },
  {
   "cell_type": "code",
   "execution_count": null,
   "metadata": {
    "collapsed": true,
    "scrolled": true
   },
   "outputs": [],
   "source": [
    "baseline_data = cv_pd.convert_to_pandas(path_to_load, path_to_map,\n",
    "                        patient_list, feature_slot,\n",
    "                        lead_list, baseline_label_struct)"
   ]
  },
  {
   "cell_type": "code",
   "execution_count": null,
   "metadata": {
    "collapsed": true,
    "scrolled": true
   },
   "outputs": [],
   "source": [
    "baseline_data"
   ]
  },
  {
   "cell_type": "code",
   "execution_count": null,
   "metadata": {
    "collapsed": true
   },
   "outputs": [],
   "source": [
    "# Aggregat the data --Only works if analysis is focused on the same feature slot\n",
    "data = pd.concat([seizure_data, baseline_data], ignore_index=True)\n",
    "\n"
   ]
  },
  {
   "cell_type": "code",
   "execution_count": null,
   "metadata": {
    "collapsed": true
   },
   "outputs": [],
   "source": [
    "# Drop missing values\n",
    "data = data.dropna(axis=0, how='any').reset_index(drop=True)"
   ]
  },
  {
   "cell_type": "code",
   "execution_count": null,
   "metadata": {
    "collapsed": true,
    "scrolled": false
   },
   "outputs": [],
   "source": [
    "data"
   ]
  },
  {
   "cell_type": "code",
   "execution_count": null,
   "metadata": {
    "collapsed": true
   },
   "outputs": [],
   "source": [
    "# state the Data metafeatures\n",
    "metafeatures = ['patient_nr', 'seizure_nr', 'time_sample', 'label', 'color']\n",
    "features = [column\n",
    "            for column in data.columns\n",
    "            if column not in metafeatures]\n",
    "colormap = data['color'].unique()\n",
    "\n",
    "# create pallete \n",
    "labels = data['label'].unique()\n",
    "color = {label:color\n",
    "           for label, color in zip(labels, colormap)}\n",
    "\n"
   ]
  },
  {
   "cell_type": "code",
   "execution_count": null,
   "metadata": {
    "collapsed": true
   },
   "outputs": [],
   "source": [
    "# Normalize data\n",
    "X = data.drop(metafeatures, axis=1)\n",
    "\n",
    "X_norm_np = scaler.fit_transform(X)\n",
    "\n",
    "X_norm = pd.DataFrame(X_norm_np, columns=X.columns)\n"
   ]
  },
  {
   "cell_type": "code",
   "execution_count": null,
   "metadata": {
    "collapsed": true
   },
   "outputs": [],
   "source": [
    "# Augment data\n",
    "X_y = X_norm\n",
    "X_y['label'] = data['label']"
   ]
  },
  {
   "cell_type": "code",
   "execution_count": null,
   "metadata": {
    "collapsed": true
   },
   "outputs": [],
   "source": [
    "patient_seizure_id = ['patient_nr', 'seizure_nr']"
   ]
  },
  {
   "cell_type": "code",
   "execution_count": null,
   "metadata": {
    "collapsed": true,
    "scrolled": true
   },
   "outputs": [],
   "source": [
    "path_to_save = '/Volumes/Seagate Bac/pre_epi_seizures/EDAnalysis/'\n",
    "plt_ts.time_series_plot(path_to_save, data,\n",
    "                        features,\n",
    "                        'time_sample',\n",
    "                        'patient_nr',\n",
    "                        'seizure_nr',\n",
    "                        'label',\n",
    "                        'color')"
   ]
  },
  {
   "cell_type": "code",
   "execution_count": null,
   "metadata": {
    "collapsed": true,
    "scrolled": false
   },
   "outputs": [],
   "source": [
    "path_to_save = '/Volumes/Seagate Bac/pre_epi_seizures/EDAnalysis/'\n",
    "\n",
    "data_patient_seizure_list = list(data.groupby(['seizure_nr', 'patient_nr']))\n",
    "import classification.plot.hist as plt_hist\n",
    "import matplotlib.pyplot as plt\n",
    "for data_patient_seizure in data_patient_seizure_list:\n",
    "    plt.figure(figsize=(20, 20))\n",
    "    plt_hist.histogram(path_to_save,\n",
    "                            data_patient_seizure[1],\n",
    "                            features,\n",
    "                            'time_sample',\n",
    "                            'patient_nr',\n",
    "                            'seizure_nr',\n",
    "                            'label',\n",
    "                            'color')\n",
    "    plt.show()"
   ]
  },
  {
   "cell_type": "code",
   "execution_count": null,
   "metadata": {
    "collapsed": true
   },
   "outputs": [],
   "source": []
  },
  {
   "cell_type": "code",
   "execution_count": null,
   "metadata": {
    "collapsed": true,
    "scrolled": false
   },
   "outputs": [],
   "source": [
    "#% run plotEDA.ipynb"
   ]
  },
  {
   "cell_type": "code",
   "execution_count": null,
   "metadata": {
    "collapsed": true,
    "scrolled": true
   },
   "outputs": [],
   "source": [
    "#% run plotPAIR.ipynb"
   ]
  },
  {
   "cell_type": "code",
   "execution_count": null,
   "metadata": {
    "collapsed": true,
    "scrolled": false
   },
   "outputs": [],
   "source": [
    "#%run plotBOX.ipynb\n"
   ]
  },
  {
   "cell_type": "code",
   "execution_count": null,
   "metadata": {
    "collapsed": true,
    "scrolled": false
   },
   "outputs": [],
   "source": [
    "#% run plotHIST.ipynb"
   ]
  },
  {
   "cell_type": "code",
   "execution_count": null,
   "metadata": {
    "collapsed": true
   },
   "outputs": [],
   "source": [
    "data_patient_seizure = list(data.groupby(['seizure_nr', 'patient_nr']))\n",
    "data_patient_seizure\n",
    "\n"
   ]
  },
  {
   "cell_type": "markdown",
   "metadata": {},
   "source": [
    "## print 'multiple strings %s' %1 "
   ]
  }
 ],
 "metadata": {
  "kernelspec": {
   "display_name": "Python 2",
   "language": "python",
   "name": "python2"
  },
  "language_info": {
   "codemirror_mode": {
    "name": "ipython",
    "version": 2
   },
   "file_extension": ".py",
   "mimetype": "text/x-python",
   "name": "python",
   "nbconvert_exporter": "python",
   "pygments_lexer": "ipython2",
   "version": "2.7.12"
  }
 },
 "nbformat": 4,
 "nbformat_minor": 2
}
