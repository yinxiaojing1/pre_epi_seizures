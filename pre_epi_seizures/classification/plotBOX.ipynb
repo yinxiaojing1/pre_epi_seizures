{
 "cells": [
  {
   "cell_type": "code",
   "execution_count": 1,
   "metadata": {
    "collapsed": true
   },
   "outputs": [],
   "source": [
    "import matplotlib.pyplot as plt\n",
    "import seaborn as sns"
   ]
  },
  {
   "cell_type": "code",
   "execution_count": null,
   "metadata": {
    "collapsed": true
   },
   "outputs": [],
   "source": [
    "print color\n",
    "\n",
    "\n",
    "for i, feature in enumerate(X_y.columns[:-1]):\n",
    "    print i\n",
    "    plt.figure(figsize=(15, 15))\n",
    "    sns.boxplot(x='label', y=feature, data=X_y,\n",
    "                 showfliers=False, order=labels, palette=list(colormap))\n",
    "    plt.show()\n",
    "    #sns.boxplot(data=X_y, y=feature, hue='label', hue_order=labels, palette=color)\n",
    "    "
   ]
  }
 ],
 "metadata": {
  "kernelspec": {
   "display_name": "Python 2",
   "language": "python",
   "name": "python2"
  },
  "language_info": {
   "codemirror_mode": {
    "name": "ipython",
    "version": 2
   },
   "file_extension": ".py",
   "mimetype": "text/x-python",
   "name": "python",
   "nbconvert_exporter": "python",
   "pygments_lexer": "ipython2",
   "version": "2.7.12"
  }
 },
 "nbformat": 4,
 "nbformat_minor": 2
}
