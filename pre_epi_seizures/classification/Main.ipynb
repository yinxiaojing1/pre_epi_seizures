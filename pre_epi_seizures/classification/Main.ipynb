{
 "cells": [
  {
   "cell_type": "code",
   "execution_count": 1,
   "metadata": {},
   "outputs": [
    {
     "data": {
      "application/javascript": [
       "IPython.OutputArea.prototype._should_scroll = function(lines) {\n",
       "    return false;\n",
       "}"
      ],
      "text/plain": [
       "<IPython.core.display.Javascript object>"
      ]
     },
     "metadata": {},
     "output_type": "display_data"
    }
   ],
   "source": [
    "%%javascript\n",
    "IPython.OutputArea.prototype._should_scroll = function(lines) {\n",
    "    return false;\n",
    "}"
   ]
  },
  {
   "cell_type": "code",
   "execution_count": 2,
   "metadata": {
    "scrolled": true
   },
   "outputs": [
    {
     "ename": "ImportError",
     "evalue": "No module named supervised_new",
     "output_type": "error",
     "traceback": [
      "\u001b[0;31m--------------------------------------------------------------------------\u001b[0m",
      "\u001b[0;31mImportError\u001b[0m                              Traceback (most recent call last)",
      "\u001b[0;32m<ipython-input-2-43fc5594b117>\u001b[0m in \u001b[0;36m<module>\u001b[0;34m()\u001b[0m\n\u001b[1;32m     19\u001b[0m \u001b[0;34m\u001b[0m\u001b[0m\n\u001b[1;32m     20\u001b[0m \u001b[0;31m# classification packages-------------\u001b[0m\u001b[0;34m\u001b[0m\u001b[0;34m\u001b[0m\u001b[0m\n\u001b[0;32m---> 21\u001b[0;31m \u001b[0;32mfrom\u001b[0m \u001b[0msupervised_new\u001b[0m \u001b[0;32mimport\u001b[0m \u001b[0;34m*\u001b[0m\u001b[0;34m\u001b[0m\u001b[0m\n\u001b[0m\u001b[1;32m     22\u001b[0m \u001b[0;32mfrom\u001b[0m \u001b[0mprep_input_supervised\u001b[0m \u001b[0;32mimport\u001b[0m \u001b[0;34m*\u001b[0m\u001b[0;34m\u001b[0m\u001b[0m\n\u001b[1;32m     23\u001b[0m \u001b[0;32mfrom\u001b[0m \u001b[0mplot_classification\u001b[0m \u001b[0;32mimport\u001b[0m \u001b[0;34m*\u001b[0m\u001b[0;34m\u001b[0m\u001b[0m\n",
      "\u001b[0;31mImportError\u001b[0m: No module named supervised_new"
     ]
    }
   ],
   "source": [
    "# 3party\n",
    "%config IPCompleter.greedy=True \n",
    "from sklearn.model_selection import cross_val_score\n",
    "from sklearn.pipeline import make_pipeline\n",
    "from sklearn import preprocessing\n",
    "from sklearn.model_selection import LeaveOneGroupOut\n",
    "from sklearn.model_selection import LeavePGroupsOut\n",
    "from sklearn.model_selection import GridSearchCV\n",
    "from sklearn.model_selection import KFold\n",
    "from sklearn.model_selection import StratifiedKFold\n",
    "from sklearn.model_selection import ParameterGrid\n",
    "from sklearn.externals import joblib\n",
    "import matplotlib.pyplot as plt\n",
    "import numpy as np\n",
    "\n",
    "# python\n",
    "import os\n",
    "from IPython.core.debugger import Tracer;\n",
    "\n",
    "# classification packages-------------\n",
    "from supervised_new import *\n",
    "from prep_input_supervised import *\n",
    "from plot_classification import *\n",
    "from plot_statistics import *\n",
    "from supervised_new import *\n",
    "#from parameter_search import *\n",
    "from cross_validation import *\n",
    "from save_for_class import *\n",
    "from pipelines import *\n",
    "from statistics import *\n",
    "# from plot_r_classification import *\n"
   ]
  },
  {
   "cell_type": "code",
   "execution_count": null,
   "metadata": {
    "collapsed": true
   },
   "outputs": [],
   "source": [
    "\n",
    "path_to_save = '/Volumes/ASSD/pre_epi_seizures/h5_files/classification_datasets'\n",
    "class_metadata = ['labels', 'group', 'sample_domain']"
   ]
  },
  {
   "cell_type": "code",
   "execution_count": null,
   "metadata": {
    "collapsed": true
   },
   "outputs": [],
   "source": [
    "def get_data_struct(pt_list):\n",
    "    # Select Patient to analyze\n",
    "    # pt = 3\n",
    "    global path_to_save\n",
    "    path_to_save += '/patient_' + str(pt_list)\n",
    "    \n",
    "    \n",
    "    data_struct = load_feature_groups_baseline_seizure_per_patient(\n",
    "                                                    pt_list,\n",
    "                                                    'hrv_time_features#'\n",
    "                                                    )\n",
    "    \n",
    "    return data_struct"
   ]
  },
  {
   "cell_type": "code",
   "execution_count": null,
   "metadata": {
    "collapsed": true
   },
   "outputs": [],
   "source": [
    "def make_dir(dir_):\n",
    "    if not os.path.exists(dir_):\n",
    "        print 'this '\n",
    "        print 'MAKING'\n",
    "        print dir_\n",
    "        os.makedirs(dir_)\n",
    "        print 'second this'\n"
   ]
  },
  {
   "cell_type": "code",
   "execution_count": null,
   "metadata": {
    "collapsed": true
   },
   "outputs": [],
   "source": [
    "def general(file_to_save, interval, data_struct, trial):\n",
    "    \n",
    "    # Prep data_struct for classification --conversion to pandas DataFrame\n",
    "    data_struct = prep_input_supervised_baseline_seizure(data_struct, interval).reset_index()\n",
    "    data_struct = data_struct.drop(['index'], axis=1)\n",
    "\n",
    "    # Get points per label\n",
    "    points_per_label = data_struct['labels'].reset_index().groupby(['labels']).count()\n",
    "    points_per_label = list(dict(points_per_label)['index'])\n",
    "\n",
    "    # Select features from the data_struct\n",
    "    feature_names = [name\n",
    "                     for name in data_struct.columns\n",
    "                     if name not in class_metadata]\n",
    "\n",
    "    \n",
    "    # **************************Dataset Exploratory Statistics**********\n",
    "    # Run relevant statistics\n",
    "    univariate_statistics(full_path,\n",
    "                           X,y, groups,\n",
    "                           pipe,\n",
    "                           param_grid, scoring,\n",
    "                           compute_all_new, cv_out, cv_in)\n",
    "    path_BOX = full_path + 'BOX/'\n",
    "    make_dir(path_BOX)\n",
    "    plot_box_univariate_per_label(path_BOX,\n",
    "                                  X, y)\n",
    "    \n",
    "    stop\n",
    "    #************************************************************************\n",
    "\n",
    "    # ***********************************Learning****************************\n",
    "    # Learn from data_struct using nested cross_validation\n",
    "    # learninig is an optimization and respective test results\n",
    "    # for each partition of the dataset according to cv_out\n",
    "    learning_results = nested_cross_validation(full_path,\n",
    "                                           X,y, groups,\n",
    "                                           pipe,\n",
    "                                           param_grid, scoring,\n",
    "                                           compute_all_new, cv_out, cv_in)\n",
    "    #************************************************************************\n",
    "       \n",
    "    # Plot reciever operator characteristics\n",
    "    #path_ROC = full_path + '/ROC/'\n",
    "    #make_dir(path_ROC)\n",
    "    #plot_roc_new(path_ROC, interval, points_per_label, learning_results, trial)\n",
    "   \n",
    "    # Plot Feature frequecy per label distribution histogram \n",
    "    path_HIST = full_path + '/hist/'\n",
    "    make_dir(path_HIST)\n",
    "    plot_hist(path_HIST, interval, points_per_label, data_struct, class_metadata)\n",
    "    \n",
    "    # Plot Scatter plot of each pair features"
   ]
  },
  {
   "cell_type": "code",
   "execution_count": null,
   "metadata": {
    "collapsed": true,
    "scrolled": true
   },
   "outputs": [],
   "source": [
    "def main():\n",
    "    ''' Main function'''\n",
    "    data_struct = get_data_struct(pt_list = [3, 5])\n",
    "\n",
    "    mode = 'patient_semi_specific'\n",
    "\n",
    "    file_to_save = '/mode_' + str(mode) \n",
    "\n",
    "    for step_min in xrange(5, 50, 5):\n",
    "\n",
    "         path_step = file_to_save + '/step_' + str(step_min) + '/'\n",
    "\n",
    "         for up, down in zip(xrange(step_min, 50, step_min), xrange(0, 50 - step_min, step_min)):\n",
    "            interval = [(down*60, up*60)]\n",
    "\n",
    "            full_path = path_step + 'parameter_optimization' + '_' + str(interval) + '/'\n",
    "\n",
    "            trial_list = xrange(0, 1)\n",
    "\n",
    "            for trial in trial_list:\n",
    "                general(full_path, interval, data_struct, trial)"
   ]
  },
  {
   "cell_type": "code",
   "execution_count": null,
   "metadata": {
    "scrolled": false
   },
   "outputs": [],
   "source": [
    "main()\n"
   ]
  },
  {
   "cell_type": "code",
   "execution_count": null,
   "metadata": {
    "collapsed": true
   },
   "outputs": [],
   "source": []
  }
 ],
 "metadata": {
  "kernelspec": {
   "display_name": "Python 2",
   "language": "python",
   "name": "python2"
  },
  "language_info": {
   "codemirror_mode": {
    "name": "ipython",
    "version": 2
   },
   "file_extension": ".py",
   "mimetype": "text/x-python",
   "name": "python",
   "nbconvert_exporter": "python",
   "pygments_lexer": "ipython2",
   "version": "2.7.12"
  }
 },
 "nbformat": 4,
 "nbformat_minor": 2
}
