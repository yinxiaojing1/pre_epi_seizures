{
 "cells": [
  {
   "cell_type": "code",
   "execution_count": 1,
   "metadata": {},
   "outputs": [
    {
     "data": {
      "application/javascript": [
       "IPython.OutputArea.prototype._should_scroll = function(lines) {\n",
       "    return false;\n",
       "}"
      ],
      "text/plain": [
       "<IPython.core.display.Javascript object>"
      ]
     },
     "metadata": {},
     "output_type": "display_data"
    }
   ],
   "source": [
    "%%javascript\n",
    "IPython.OutputArea.prototype._should_scroll = function(lines) {\n",
    "    return false;\n",
    "}"
   ]
  },
  {
   "cell_type": "code",
   "execution_count": 2,
   "metadata": {
    "collapsed": true,
    "scrolled": true
   },
   "outputs": [],
   "source": [
    "# 3party\n",
    "%config IPCompleter.greedy=True \n",
    "from sklearn.model_selection import cross_val_score\n",
    "from sklearn.pipeline import make_pipeline\n",
    "from sklearn import preprocessing\n",
    "from sklearn.model_selection import LeaveOneGroupOut\n",
    "from sklearn.model_selection import LeavePGroupsOut\n",
    "from sklearn.model_selection import GridSearchCV\n",
    "from sklearn.model_selection import KFold\n",
    "from sklearn.model_selection import StratifiedKFold\n",
    "from sklearn.model_selection import ParameterGrid\n",
    "from sklearn.externals import joblib\n",
    "import matplotlib.pyplot as plt\n",
    "import numpy as np\n",
    "\n",
    "# python\n",
    "import os\n",
    "from IPython.core.debugger import Tracer;\n",
    "\n",
    "# classification packages-------------\n",
    "from supervised_new import *\n",
    "from prep_input_supervised import *\n",
    "from plot_classification import *\n",
    "from plot_statistics import *\n",
    "from supervised_new import *\n",
    "#from parameter_search import *\n",
    "from cross_validation import *\n",
    "from save_for_class import *\n",
    "from pipelines import *\n",
    "from statistics import *\n",
    "# from plot_r_classification import *\n"
   ]
  },
  {
   "cell_type": "code",
   "execution_count": 3,
   "metadata": {
    "collapsed": true
   },
   "outputs": [],
   "source": [
    "\n",
    "path_to_save = '/Volumes/ASSD/pre_epi_seizures/h5_files/classification_datasets'\n",
    "class_metadata = ['labels', 'group', 'sample_domain']"
   ]
  },
  {
   "cell_type": "code",
   "execution_count": 4,
   "metadata": {
    "collapsed": true
   },
   "outputs": [],
   "source": [
    "def get_data_struct(pt_list):\n",
    "    # Select Patient to analyze\n",
    "    # pt = 3\n",
    "    global path_to_save\n",
    "    path_to_save += '/patient_' + str(pt_list)\n",
    "    \n",
    "    \n",
    "    data_struct = load_feature_groups_baseline_seizure_per_patient(\n",
    "                                                    pt_list,\n",
    "                                                    'hrv_time_features#'\n",
    "                                                    )\n",
    "    \n",
    "    return data_struct"
   ]
  },
  {
   "cell_type": "code",
   "execution_count": 5,
   "metadata": {
    "collapsed": true
   },
   "outputs": [],
   "source": [
    "def make_dir(dir_):\n",
    "    if not os.path.exists(dir_):\n",
    "        print 'this '\n",
    "        print 'MAKING'\n",
    "        print dir_\n",
    "        os.makedirs(dir_)\n",
    "        print 'second this'\n"
   ]
  },
  {
   "cell_type": "code",
   "execution_count": 6,
   "metadata": {
    "collapsed": true
   },
   "outputs": [],
   "source": [
    "def general(file_to_save, interval, data_struct, trial):\n",
    "    \n",
    "    # Prep data_struct for classification --conversion to pandas DataFrame\n",
    "    data_struct = prep_input_supervised_baseline_seizure(data_struct, interval).reset_index()\n",
    "    data_struct = data_struct.drop(['index'], axis=1)\n",
    "\n",
    "    # Get points per label\n",
    "    points_per_label = data_struct['labels'].reset_index().groupby(['labels']).count()\n",
    "    points_per_label = list(dict(points_per_label)['index'])\n",
    "\n",
    "    # Select features from the data_struct\n",
    "    feature_names = [name\n",
    "                     for name in data_struct.columns\n",
    "                     if name not in class_metadata]\n",
    "\n",
    "    \n",
    "    # **************************Dataset Exploratory Statistics**********\n",
    "    # Run relevant statistics\n",
    "    univariate_statistics(full_path,\n",
    "                           X,y, groups,\n",
    "                           pipe,\n",
    "                           param_grid, scoring,\n",
    "                           compute_all_new, cv_out, cv_in)\n",
    "    path_BOX = full_path + 'BOX/'\n",
    "    make_dir(path_BOX)\n",
    "    plot_box_univariate_per_label(path_BOX,\n",
    "                                  X, y)\n",
    "    \n",
    "    stop\n",
    "    #************************************************************************\n",
    "\n",
    "    # ***********************************Learning****************************\n",
    "    # Learn from data_struct using nested cross_validation\n",
    "    # learninig is an optimization and respective test results\n",
    "    # for each partition of the dataset according to cv_out\n",
    "    learning_results = nested_cross_validation(full_path,\n",
    "                                           X,y, groups,\n",
    "                                           pipe,\n",
    "                                           param_grid, scoring,\n",
    "                                           compute_all_new, cv_out, cv_in)\n",
    "    #************************************************************************\n",
    "       \n",
    "    # Plot reciever operator characteristics\n",
    "    #path_ROC = full_path + '/ROC/'\n",
    "    #make_dir(path_ROC)\n",
    "    #plot_roc_new(path_ROC, interval, points_per_label, learning_results, trial)\n",
    "   \n",
    "    # Plot Feature frequecy per label distribution histogram \n",
    "    path_HIST = full_path + '/hist/'\n",
    "    make_dir(path_HIST)\n",
    "    plot_hist(path_HIST, interval, points_per_label, data_struct, class_metadata)\n",
    "    \n",
    "    # Plot Scatter plot of each pair features"
   ]
  },
  {
   "cell_type": "code",
   "execution_count": 7,
   "metadata": {
    "collapsed": true,
    "scrolled": true
   },
   "outputs": [],
   "source": [
    "def main():\n",
    "    ''' Main function'''\n",
    "    data_struct = get_data_struct(pt_list = [3, 5])\n",
    "\n",
    "    mode = 'patient_semi_specific'\n",
    "\n",
    "    file_to_save = '/mode_' + str(mode) \n",
    "\n",
    "    for step_min in xrange(5, 50, 5):\n",
    "\n",
    "         path_step = file_to_save + '/step_' + str(step_min) + '/'\n",
    "\n",
    "         for up, down in zip(xrange(step_min, 50, step_min), xrange(0, 50 - step_min, step_min)):\n",
    "            interval = [(down*60, up*60)]\n",
    "\n",
    "            full_path = path_step + 'parameter_optimization' + '_' + str(interval) + '/'\n",
    "\n",
    "            trial_list = xrange(0, 1)\n",
    "\n",
    "            for trial in trial_list:\n",
    "                general(full_path, interval, data_struct, trial)"
   ]
  },
  {
   "cell_type": "code",
   "execution_count": 9,
   "metadata": {
    "scrolled": false
   },
   "outputs": [
    {
     "name": "stdout",
     "output_type": "stream",
     "text": [
      "/raw_$beginwin_samplerate:1000_win:0.001_init:0_finish:4200_endwin$__$beginparams_param:None_endparam$_/baseline_removal_$beginwin_win:0.001__init:0__finish:4200__samplerate:1000_endwin$__$beginparam_filt:MedianFIR_endparam$_/rpeak_detection_$beginwin_win:rpeaks__samplerate:1000_endwin$__$beginparam_method:hamilton_endparam$_/hrv_computation_$beginwin_win:0.001__init:rpeaks[0]__finish:rpeaks[-1]__samplerate:1000_endwin$__$beginparam_method:hamilton__resampling:spline_endparam$_/hrv_time_features_$beginwin_win:120__init:0__finish:4200__samplerate:1000_endwin$__$beginparam_method:hamilton__resampling:spline_endparam$_\n",
      "\n",
      "****LIST ALLLL !!! ******\n",
      "ReturnTuple(signals=[('/raw_$beginwin_samplerate:1000_win:0.001_init:0_finish:4200_endwin$__$beginparams_param:None_endparam$_/baseline_removal_$beginwin_win:0.001__init:0__finish:4200__samplerate:1000_endwin$__$beginparam_filt:MedianFIR_endparam$_/rpeak_detection_$beginwin_win:rpeaks__samplerate:1000_endwin$__$beginparam_method:hamilton_endparam$_/hrv_computation_$beginwin_win:0.001__init:rpeaks[0]__finish:rpeaks[-1]__samplerate:1000_endwin$__$beginparam_method:hamilton__resampling:spline_endparam$_/hrv_time_features_$beginwin_win:120__init:0__finish:4200__samplerate:1000_endwin$__$beginparam_method:hamilton__resampling:spline_endparam$_', u'3_FA7774DI_ECG-_2017-04-20 03:38:19.000000'), ('/raw_$beginwin_samplerate:1000_win:0.001_init:0_finish:4200_endwin$__$beginparams_param:None_endparam$_/baseline_removal_$beginwin_win:0.001__init:0__finish:4200__samplerate:1000_endwin$__$beginparam_filt:MedianFIR_endparam$_/rpeak_detection_$beginwin_win:rpeaks__samplerate:1000_endwin$__$beginparam_method:hamilton_endparam$_/hrv_computation_$beginwin_win:0.001__init:rpeaks[0]__finish:rpeaks[-1]__samplerate:1000_endwin$__$beginparam_method:hamilton__resampling:spline_endparam$_/hrv_time_features_$beginwin_win:120__init:0__finish:4200__samplerate:1000_endwin$__$beginparam_method:hamilton__resampling:spline_endparam$_', u'3_FA7774DI_Ecg_2017-04-20 03:38:19.000000'), ('/raw_$beginwin_samplerate:1000_win:0.001_init:0_finish:4200_endwin$__$beginparams_param:None_endparam$_/baseline_removal_$beginwin_win:0.001__init:0__finish:4200__samplerate:1000_endwin$__$beginparam_filt:MedianFIR_endparam$_/rpeak_detection_$beginwin_win:rpeaks__samplerate:1000_endwin$__$beginparam_method:hamilton_endparam$_/hrv_computation_$beginwin_win:0.001__init:rpeaks[0]__finish:rpeaks[-1]__samplerate:1000_endwin$__$beginparam_method:hamilton__resampling:spline_endparam$_/hrv_time_features_$beginwin_win:120__init:0__finish:4200__samplerate:1000_endwin$__$beginparam_method:hamilton__resampling:spline_endparam$_', u'5_FA7773TA_ECG-_2016-08-23 04:23:59.000000'), ('/raw_$beginwin_samplerate:1000_win:0.001_init:0_finish:4200_endwin$__$beginparams_param:None_endparam$_/baseline_removal_$beginwin_win:0.001__init:0__finish:4200__samplerate:1000_endwin$__$beginparam_filt:MedianFIR_endparam$_/rpeak_detection_$beginwin_win:rpeaks__samplerate:1000_endwin$__$beginparam_method:hamilton_endparam$_/hrv_computation_$beginwin_win:0.001__init:rpeaks[0]__finish:rpeaks[-1]__samplerate:1000_endwin$__$beginparam_method:hamilton__resampling:spline_endparam$_/hrv_time_features_$beginwin_win:120__init:0__finish:4200__samplerate:1000_endwin$__$beginparam_method:hamilton__resampling:spline_endparam$_', u'5_FA7773TA_Ecg_2016-08-23 04:23:59.000000'), ('/raw_$beginwin_samplerate:1000_win:0.001_init:0_finish:4200_endwin$__$beginparams_param:None_endparam$_/baseline_removal_$beginwin_win:0.001__init:0__finish:4200__samplerate:1000_endwin$__$beginparam_filt:MedianFIR_endparam$_/rpeak_detection_$beginwin_win:rpeaks__samplerate:1000_endwin$__$beginparam_method:hamilton_endparam$_/hrv_computation_$beginwin_win:0.001__init:rpeaks[0]__finish:rpeaks[-1]__samplerate:1000_endwin$__$beginparam_method:hamilton__resampling:spline_endparam$_/hrv_time_features_$beginwin_win:120__init:0__finish:4200__samplerate:1000_endwin$__$beginparam_method:hamilton__resampling:spline_endparam$_', u'window_3_FA7774DI_ECG-_2017-04-20 03:38:19.000000'), ('/raw_$beginwin_samplerate:1000_win:0.001_init:0_finish:4200_endwin$__$beginparams_param:None_endparam$_/baseline_removal_$beginwin_win:0.001__init:0__finish:4200__samplerate:1000_endwin$__$beginparam_filt:MedianFIR_endparam$_/rpeak_detection_$beginwin_win:rpeaks__samplerate:1000_endwin$__$beginparam_method:hamilton_endparam$_/hrv_computation_$beginwin_win:0.001__init:rpeaks[0]__finish:rpeaks[-1]__samplerate:1000_endwin$__$beginparam_method:hamilton__resampling:spline_endparam$_/hrv_time_features_$beginwin_win:120__init:0__finish:4200__samplerate:1000_endwin$__$beginparam_method:hamilton__resampling:spline_endparam$_', u'window_3_FA7774DI_Ecg_2017-04-20 03:38:19.000000'), ('/raw_$beginwin_samplerate:1000_win:0.001_init:0_finish:4200_endwin$__$beginparams_param:None_endparam$_/baseline_removal_$beginwin_win:0.001__init:0__finish:4200__samplerate:1000_endwin$__$beginparam_filt:MedianFIR_endparam$_/rpeak_detection_$beginwin_win:rpeaks__samplerate:1000_endwin$__$beginparam_method:hamilton_endparam$_/hrv_computation_$beginwin_win:0.001__init:rpeaks[0]__finish:rpeaks[-1]__samplerate:1000_endwin$__$beginparam_method:hamilton__resampling:spline_endparam$_/hrv_time_features_$beginwin_win:120__init:0__finish:4200__samplerate:1000_endwin$__$beginparam_method:hamilton__resampling:spline_endparam$_', u'window_5_FA7773TA_ECG-_2016-08-23 04:23:59.000000'), ('/raw_$beginwin_samplerate:1000_win:0.001_init:0_finish:4200_endwin$__$beginparams_param:None_endparam$_/baseline_removal_$beginwin_win:0.001__init:0__finish:4200__samplerate:1000_endwin$__$beginparam_filt:MedianFIR_endparam$_/rpeak_detection_$beginwin_win:rpeaks__samplerate:1000_endwin$__$beginparam_method:hamilton_endparam$_/hrv_computation_$beginwin_win:0.001__init:rpeaks[0]__finish:rpeaks[-1]__samplerate:1000_endwin$__$beginparam_method:hamilton__resampling:spline_endparam$_/hrv_time_features_$beginwin_win:120__init:0__finish:4200__samplerate:1000_endwin$__$beginparam_method:hamilton__resampling:spline_endparam$_', u'window_5_FA7773TA_Ecg_2016-08-23 04:23:59.000000')])\n",
      "\n",
      "****LIST Patient !!! ******\n",
      "[]\n"
     ]
    },
    {
     "ename": "NameError",
     "evalue": "global name 'stop' is not defined",
     "output_type": "error",
     "traceback": [
      "\u001b[0;31m---------------------------------------------------------------------------\u001b[0m",
      "\u001b[0;31mNameError\u001b[0m                                 Traceback (most recent call last)",
      "\u001b[0;32m<ipython-input-9-58ca95c5b364>\u001b[0m in \u001b[0;36m<module>\u001b[0;34m()\u001b[0m\n\u001b[0;32m----> 1\u001b[0;31m \u001b[0mmain\u001b[0m\u001b[0;34m(\u001b[0m\u001b[0;34m)\u001b[0m\u001b[0;34m\u001b[0m\u001b[0m\n\u001b[0m",
      "\u001b[0;32m<ipython-input-7-515aa305d3af>\u001b[0m in \u001b[0;36mmain\u001b[0;34m()\u001b[0m\n\u001b[1;32m      1\u001b[0m \u001b[0;32mdef\u001b[0m \u001b[0mmain\u001b[0m\u001b[0;34m(\u001b[0m\u001b[0;34m)\u001b[0m\u001b[0;34m:\u001b[0m\u001b[0;34m\u001b[0m\u001b[0m\n\u001b[1;32m      2\u001b[0m     \u001b[0;34m''' Main function'''\u001b[0m\u001b[0;34m\u001b[0m\u001b[0m\n\u001b[0;32m----> 3\u001b[0;31m     \u001b[0mdata_struct\u001b[0m \u001b[0;34m=\u001b[0m \u001b[0mget_data_struct\u001b[0m\u001b[0;34m(\u001b[0m\u001b[0mpt_list\u001b[0m \u001b[0;34m=\u001b[0m \u001b[0;34m[\u001b[0m\u001b[0;36m3\u001b[0m\u001b[0;34m,\u001b[0m \u001b[0;36m5\u001b[0m\u001b[0;34m]\u001b[0m\u001b[0;34m)\u001b[0m\u001b[0;34m\u001b[0m\u001b[0m\n\u001b[0m\u001b[1;32m      4\u001b[0m \u001b[0;34m\u001b[0m\u001b[0m\n\u001b[1;32m      5\u001b[0m     \u001b[0mmode\u001b[0m \u001b[0;34m=\u001b[0m \u001b[0;34m'patient_semi_specific'\u001b[0m\u001b[0;34m\u001b[0m\u001b[0m\n",
      "\u001b[0;32m<ipython-input-4-e0ac58992644>\u001b[0m in \u001b[0;36mget_data_struct\u001b[0;34m(pt_list)\u001b[0m\n\u001b[1;32m      8\u001b[0m     data_struct = load_feature_groups_baseline_seizure_per_patient(\n\u001b[1;32m      9\u001b[0m                                                     \u001b[0mpt_list\u001b[0m\u001b[0;34m,\u001b[0m\u001b[0;34m\u001b[0m\u001b[0m\n\u001b[0;32m---> 10\u001b[0;31m                                                     \u001b[0;34m'hrv_time_features#'\u001b[0m\u001b[0;34m\u001b[0m\u001b[0m\n\u001b[0m\u001b[1;32m     11\u001b[0m                                                     )\n\u001b[1;32m     12\u001b[0m \u001b[0;34m\u001b[0m\u001b[0m\n",
      "\u001b[0;32m/Users/franciscosargo/Desktop/pre_epi_seizures/pre_epi_seizures/classification/prep_input_supervised.pyc\u001b[0m in \u001b[0;36mload_feature_groups_baseline_seizure_per_patient\u001b[0;34m(patient_list, feature_slot)\u001b[0m\n\u001b[1;32m     41\u001b[0m                                                    \u001b[0mfeature_name\u001b[0m\u001b[0;34m,\u001b[0m\u001b[0;34m\u001b[0m\u001b[0m\n\u001b[1;32m     42\u001b[0m                                                    \u001b[0mpatient_list\u001b[0m\u001b[0;34m,\u001b[0m\u001b[0;34m\u001b[0m\u001b[0m\n\u001b[0;32m---> 43\u001b[0;31m                                                    'ECG-')\n\u001b[0m\u001b[1;32m     44\u001b[0m \u001b[0;34m\u001b[0m\u001b[0m\n\u001b[1;32m     45\u001b[0m     \u001b[0;32mprint\u001b[0m \u001b[0mbaseline_feature_name_list\u001b[0m\u001b[0;34m\u001b[0m\u001b[0m\n",
      "\u001b[0;32m/Users/franciscosargo/Desktop/pre_epi_seizures/pre_epi_seizures/classification/load_for_class.pyc\u001b[0m in \u001b[0;36mget_patient_feature_lead_records\u001b[0;34m(path_to_load, feature_name, patient_list, lead_name)\u001b[0m\n\u001b[1;32m    159\u001b[0m                     \u001b[0;32mif\u001b[0m \u001b[0mgroup_name\u001b[0m\u001b[0;34m[\u001b[0m\u001b[0;36m1\u001b[0m\u001b[0;34m]\u001b[0m\u001b[0;34m[\u001b[0m\u001b[0;36m0\u001b[0m\u001b[0;34m]\u001b[0m \u001b[0;34m==\u001b[0m \u001b[0mstr\u001b[0m\u001b[0;34m(\u001b[0m\u001b[0mpatient_nr\u001b[0m\u001b[0;34m)\u001b[0m\u001b[0;34m\u001b[0m\u001b[0m\n\u001b[1;32m    160\u001b[0m                     and lead_name in group_name[1]]\n\u001b[0;32m--> 161\u001b[0;31m \u001b[0;34m\u001b[0m\u001b[0m\n\u001b[0m\u001b[1;32m    162\u001b[0m     \u001b[0;32mprint\u001b[0m \u001b[0;34m''\u001b[0m\u001b[0;34m\u001b[0m\u001b[0m\n\u001b[1;32m    163\u001b[0m     \u001b[0;32mprint\u001b[0m \u001b[0;34m'****LIST Patient !!! ******'\u001b[0m\u001b[0;34m\u001b[0m\u001b[0m\n",
      "\u001b[0;31mNameError\u001b[0m: global name 'stop' is not defined"
     ]
    }
   ],
   "source": [
    "main()\n"
   ]
  },
  {
   "cell_type": "code",
   "execution_count": null,
   "metadata": {
    "collapsed": true
   },
   "outputs": [],
   "source": []
  }
 ],
 "metadata": {
  "kernelspec": {
   "display_name": "Python 2",
   "language": "python",
   "name": "python2"
  },
  "language_info": {
   "codemirror_mode": {
    "name": "ipython",
    "version": 2
   },
   "file_extension": ".py",
   "mimetype": "text/x-python",
   "name": "python",
   "nbconvert_exporter": "python",
   "pygments_lexer": "ipython2",
   "version": "2.7.12"
  }
 },
 "nbformat": 4,
 "nbformat_minor": 2
}
