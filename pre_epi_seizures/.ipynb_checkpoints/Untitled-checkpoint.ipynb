{
 "cells": [
  {
   "cell_type": "code",
   "execution_count": 1,
   "metadata": {
    "collapsed": true,
    "scrolled": false
   },
   "outputs": [],
   "source": [
    "# Import for I/O \n",
    "from storage_utils.storage_utils_nihon_khoden import *\n",
    "from storage_utils.create_datasets_nk import *\n",
    "from storage_utils.create_free_datasets_nk import *"
   ]
  },
  {
   "cell_type": "code",
   "execution_count": null,
   "metadata": {
    "collapsed": true
   },
   "outputs": [],
   "source": [
    "patient_nr = [3, 5]"
   ]
  },
  {
   "cell_type": "code",
   "execution_count": null,
   "metadata": {},
   "outputs": [
    {
     "name": "stderr",
     "output_type": "stream",
     "text": [
      "[2018-02-17 15:56:08.176163]:load_ecg_signal:10:Loading file /Volumes/ASSD/pre_epi_seizures/PATIENT8/FA7773JL_1-1.edf ...\n"
     ]
    },
    {
     "name": "stdout",
     "output_type": "stream",
     "text": [
      "['/Volumes/ASSD/pre_epi_seizures/PATIENT8/', '/Volumes/ASSD/pre_epi_seizures/PATIENT9/']\n",
      "\n",
      "['/Volumes/ASSD/pre_epi_seizures/PATIENT8/FA7773JL_1-1.edf', '/Volumes/ASSD/pre_epi_seizures/PATIENT8/FA7773JL_1-1+.edf', '/Volumes/ASSD/pre_epi_seizures/PATIENT8/FA7773JM_1-1.edf', '/Volumes/ASSD/pre_epi_seizures/PATIENT8/FA7773JM_1-1+.edf', '/Volumes/ASSD/pre_epi_seizures/PATIENT8/FA7773JN_1-1.edf', '/Volumes/ASSD/pre_epi_seizures/PATIENT8/FA7773JN_1-1+.edf', '/Volumes/ASSD/pre_epi_seizures/PATIENT8/FA7773JO_1-1.edf', '/Volumes/ASSD/pre_epi_seizures/PATIENT8/FA7773JO_1-1+.edf', '/Volumes/ASSD/pre_epi_seizures/PATIENT8/FA7773JP_1-1.edf', '/Volumes/ASSD/pre_epi_seizures/PATIENT8/FA7773JP_1-1+.edf', '/Volumes/ASSD/pre_epi_seizures/PATIENT8/FA7773JR_1-1.edf', '/Volumes/ASSD/pre_epi_seizures/PATIENT8/FA7773JR_1-1+.edf', '/Volumes/ASSD/pre_epi_seizures/PATIENT8/FA7773JS_1-1.edf', '/Volumes/ASSD/pre_epi_seizures/PATIENT8/FA7773JT_1-1.edf', '/Volumes/ASSD/pre_epi_seizures/PATIENT8/FA7773JW_1-1.edf', '/Volumes/ASSD/pre_epi_seizures/PATIENT8/FA7773KO_1-1.edf', '/Volumes/ASSD/pre_epi_seizures/PATIENT8/FA7773KP_1-1.edf', '/Volumes/ASSD/pre_epi_seizures/PATIENT8/FA7773KQ_1-1.edf', '/Volumes/ASSD/pre_epi_seizures/PATIENT8/FA7773KR_1-1.edf', '/Volumes/ASSD/pre_epi_seizures/PATIENT8/FA7773KS_1-1.edf', '/Volumes/ASSD/pre_epi_seizures/PATIENT8/FA7773KT_1-1.edf', '/Volumes/ASSD/pre_epi_seizures/PATIENT8/FA7773KU_1-1.edf', '/Volumes/ASSD/pre_epi_seizures/PATIENT8/FA7773KV_1-1.edf', '/Volumes/ASSD/pre_epi_seizures/PATIENT8/FA7773KX_1-1.edf', '/Volumes/ASSD/pre_epi_seizures/PATIENT8/FA7773KY_1-1.edf', '/Volumes/ASSD/pre_epi_seizures/PATIENT8/FA7773KZ_1-1.edf', '/Volumes/ASSD/pre_epi_seizures/PATIENT8/FA7773L0_1-1.edf', '/Volumes/ASSD/pre_epi_seizures/PATIENT8/FA7773L1_1-1.edf', '/Volumes/ASSD/pre_epi_seizures/PATIENT8/FA7773L4_1-1.edf', '/Volumes/ASSD/pre_epi_seizures/PATIENT8/FA7773L5_1-1.edf', '/Volumes/ASSD/pre_epi_seizures/PATIENT8/FA7773L6_1-1.edf', '/Volumes/ASSD/pre_epi_seizures/PATIENT8/FA7773L7_1-1.edf', '/Volumes/ASSD/pre_epi_seizures/PATIENT8/FA7773LA_1-1.edf', '/Volumes/ASSD/pre_epi_seizures/PATIENT8/FA7773LB_1-1.edf', '/Volumes/ASSD/pre_epi_seizures/PATIENT8/FA7773LC_1-1.edf', '/Volumes/ASSD/pre_epi_seizures/PATIENT8/FA7773LD_1-1.edf', '/Volumes/ASSD/pre_epi_seizures/PATIENT8/FA7773LE_1-1.edf']\n",
      "PATIENT8/\n",
      "\n",
      "FA7773JL\n",
      "[u'Fp1', u'Fp2', u'F3', u'F4', u'C3', u'C4', u'P3', u'P4', u'O1', u'O2', u'F7', u'F8', u'T7', u'T8', u'P7', u'P8', u'Fz', u'Cz', u'Pz', u'E', u'A1', u'A2', u'Ecg', u'EogL', u'EogR', u'Emg1', u'Emg2', u'ECG-', u'DC01', u'DC02', u'DC03', u'DC04', u'EEG Mark1', u'EEG Mark2', u'X+', u'X-', u'Y+', u'Y-', u'Z+', u'Z-', u'F1', u'F2', u'FC1', u'FC2', u'C1', u'C2', u'CP1', u'CP2', u'P1', u'P2', u'AF3', u'AF4', u'FC3', u'FC4', u'CP3', u'CP4', u'PO3', u'PO4', u'F5', u'F6', u'FC5', u'FC6', u'C5', u'C6', u'CP5', u'CP6', u'P5', u'P6', u'AF7', u'AF8', u'FT7', u'FT8', u'TP7', u'TP8', u'PO7', u'PO8', u'F9', u'F10', u'FT9', u'FT10', u'T9', u'T10', u'TP9', u'TP10', u'P9', u'P10', u'Nz', u'Fpz', u'AFz', u'FCz', u'CPz', u'POz', u'OZ', u'Events/Markers']\n",
      "Ecg\n",
      "ECG-\n"
     ]
    },
    {
     "name": "stderr",
     "output_type": "stream",
     "text": [
      "[2018-02-17 15:56:09.623095]:add_signal:20:Saving [signal: FA7773JL_Ecg_2016-05-09 15:04:43.000000][group: PATIENT8/]\n",
      "[2018-02-17 15:56:09.767754]:add_signal:10:Unable to create link (Name already exists)\n",
      "[2018-02-17 15:56:09.768791]:add_signal:20:Saving [signal: FA7773JL_ECG-_2016-05-09 15:04:43.000000][group: PATIENT8/]\n"
     ]
    },
    {
     "name": "stdout",
     "output_type": "stream",
     "text": [
      "ECG+\n",
      "'ECG+' is not in list\n",
      "['FA7773JL_Ecg_2016-05-09 15:04:43.000000', 'FA7773JL_ECG-_2016-05-09 15:04:43.000000']\n",
      "/Volumes/ASSD/pre_epi_seizures/h5_files/raw_fulldata/HSM_data.h5\n",
      "addd\n"
     ]
    },
    {
     "name": "stderr",
     "output_type": "stream",
     "text": [
      "[2018-02-17 15:56:09.891610]:add_signal:10:Unable to create link (Name already exists)\n"
     ]
    },
    {
     "name": "stdout",
     "output_type": "stream",
     "text": [
      "addd\n",
      "closinnngg\n",
      "CLOSEDDDDD\n"
     ]
    },
    {
     "ename": "KeyboardInterrupt",
     "evalue": "",
     "output_type": "error",
     "traceback": [
      "\u001b[0;31m---------------------------------------------------------------------------\u001b[0m",
      "\u001b[0;31mKeyboardInterrupt\u001b[0m                         Traceback (most recent call last)",
      "\u001b[0;32m<ipython-input-3-b3f12eb419e5>\u001b[0m in \u001b[0;36m<module>\u001b[0;34m()\u001b[0m\n\u001b[1;32m      1\u001b[0m \u001b[0;31m# Convert patients records from edf to hdf5\u001b[0m\u001b[0;34m\u001b[0m\u001b[0;34m\u001b[0m\u001b[0m\n\u001b[0;32m----> 2\u001b[0;31m \u001b[0mconverter\u001b[0m\u001b[0;34m(\u001b[0m\u001b[0;34m*\u001b[0m\u001b[0mpatient_nr\u001b[0m\u001b[0;34m)\u001b[0m\u001b[0;34m\u001b[0m\u001b[0m\n\u001b[0m",
      "\u001b[0;32m/Users/franciscosargo/Desktop/pre_epi_seizures/pre_epi_seizures/storage_utils/storage_utils_nihon_khoden.pyc\u001b[0m in \u001b[0;36mconverter\u001b[0;34m(*args)\u001b[0m\n\u001b[1;32m     58\u001b[0m         \u001b[0;31m# print 'Saving ...'\u001b[0m\u001b[0;34m\u001b[0m\u001b[0;34m\u001b[0m\u001b[0m\n\u001b[1;32m     59\u001b[0m         \u001b[0;31m# save_signal(path='/home/sargo/Desktop/HSM_data.h5', signal_list=[signal], mdata_list=[mdata], name_list=[name], group_list=[group])\u001b[0m\u001b[0;34m\u001b[0m\u001b[0;34m\u001b[0m\u001b[0m\n\u001b[0;32m---> 60\u001b[0;31m         \u001b[0medf_file\u001b[0m\u001b[0;34m.\u001b[0m\u001b[0m_close\u001b[0m\u001b[0;34m(\u001b[0m\u001b[0;34m)\u001b[0m\u001b[0;34m\u001b[0m\u001b[0m\n\u001b[0m\u001b[1;32m     61\u001b[0m \u001b[0;34m\u001b[0m\u001b[0m\n\u001b[1;32m     62\u001b[0m \u001b[0;32mdef\u001b[0m \u001b[0mcreate_mdata\u001b[0m\u001b[0;34m(\u001b[0m\u001b[0mheader\u001b[0m\u001b[0;34m,\u001b[0m \u001b[0mcrysis_time_seconds\u001b[0m\u001b[0;34m)\u001b[0m\u001b[0;34m:\u001b[0m\u001b[0;34m\u001b[0m\u001b[0m\n",
      "\u001b[0;31mKeyboardInterrupt\u001b[0m: "
     ]
    }
   ],
   "source": [
    "# Convert patients records from edf to hdf5\n",
    "converter(*patient_nr)"
   ]
  },
  {
   "cell_type": "code",
   "execution_count": null,
   "metadata": {
    "collapsed": true,
    "scrolled": true
   },
   "outputs": [],
   "source": [
    "# Create new datasets\n",
    "#patient_nr = [3, 5]\n",
    "for i in patient_nr:\n",
    "    create_datasets_nk(i)\n",
    "    create_free_datasets_nk(i)"
   ]
  },
  {
   "cell_type": "code",
   "execution_count": 2,
   "metadata": {
    "scrolled": false
   },
   "outputs": [
    {
     "name": "stdout",
     "output_type": "stream",
     "text": [
      "********PATH: /Volumes/ASSD/pre_epi_seizures/h5_files/processing_datasets/baseline_datasets_new.h5******************\n",
      "{'filt': 'MedianFIR'}\n",
      "beginwin_samplerate:1000_win:0.001_init:0_finish:4200_endwin\n",
      "beginparams_param:None_endpar\n",
      "could not convert string to float: None\n",
      "_$beginwin_win:0.001__init:0__finish:4200__samplerate:1000_endwin$_\n",
      "_$beginparam_filt:MedianFIR_endparam$_\n",
      "['/raw_$beginwin_samplerate:1000_win:0.001_init:0_finish:4200_endwin$__$beginparams_param:None_endparam$_/baseline_removal_$beginwin_win:0.001__init:0__finish:4200__samplerate:1000_endwin$__$beginparam_filt:MedianFIR_endparam$_']\n",
      "loading feature\n",
      "{'filt': 'MedianFIR'}\n",
      "{'win': 0.001, 'init': 0, 'finish': 4200, 'samplerate': 1000}\n",
      "here\n",
      "[('/raw_$beginwin_samplerate:1000_win:0.001_init:0_finish:4200_endwin$__$beginparams_param:None_endparam$_/baseline_removal_$beginwin_win:0.001__init:0__finish:4200__samplerate:1000_endwin$__$beginparam_filt:MedianFIR_endparam$_', u'3_FA7774DI_ECG-_2017-04-20 03:38:19.000000'), ('/raw_$beginwin_samplerate:1000_win:0.001_init:0_finish:4200_endwin$__$beginparams_param:None_endparam$_/baseline_removal_$beginwin_win:0.001__init:0__finish:4200__samplerate:1000_endwin$__$beginparam_filt:MedianFIR_endparam$_', u'3_FA7774DI_Ecg_2017-04-20 03:38:19.000000'), ('/raw_$beginwin_samplerate:1000_win:0.001_init:0_finish:4200_endwin$__$beginparams_param:None_endparam$_/baseline_removal_$beginwin_win:0.001__init:0__finish:4200__samplerate:1000_endwin$__$beginparam_filt:MedianFIR_endparam$_', u'5_FA7773TA_ECG-_2016-08-23 04:23:59.000000'), ('/raw_$beginwin_samplerate:1000_win:0.001_init:0_finish:4200_endwin$__$beginparams_param:None_endparam$_/baseline_removal_$beginwin_win:0.001__init:0__finish:4200__samplerate:1000_endwin$__$beginparam_filt:MedianFIR_endparam$_', u'5_FA7773TA_Ecg_2016-08-23 04:23:59.000000'), ('/raw_$beginwin_samplerate:1000_win:0.001_init:0_finish:4200_endwin$__$beginparams_param:None_endparam$_/baseline_removal_$beginwin_win:0.001__init:0__finish:4200__samplerate:1000_endwin$__$beginparam_filt:MedianFIR_endparam$_', u'window_3_FA7774DI_ECG-_2017-04-20 03:38:19.000000'), ('/raw_$beginwin_samplerate:1000_win:0.001_init:0_finish:4200_endwin$__$beginparams_param:None_endparam$_/baseline_removal_$beginwin_win:0.001__init:0__finish:4200__samplerate:1000_endwin$__$beginparam_filt:MedianFIR_endparam$_', u'window_3_FA7774DI_Ecg_2017-04-20 03:38:19.000000'), ('/raw_$beginwin_samplerate:1000_win:0.001_init:0_finish:4200_endwin$__$beginparams_param:None_endparam$_/baseline_removal_$beginwin_win:0.001__init:0__finish:4200__samplerate:1000_endwin$__$beginparam_filt:MedianFIR_endparam$_', u'window_5_FA7773TA_ECG-_2016-08-23 04:23:59.000000'), ('/raw_$beginwin_samplerate:1000_win:0.001_init:0_finish:4200_endwin$__$beginparams_param:None_endparam$_/baseline_removal_$beginwin_win:0.001__init:0__finish:4200__samplerate:1000_endwin$__$beginparam_filt:MedianFIR_endparam$_', u'window_5_FA7773TA_Ecg_2016-08-23 04:23:59.000000')]\n",
      "[('/raw_$beginwin_samplerate:1000_win:0.001_init:0_finish:4200_endwin$__$beginparams_param:None_endparam$_', u'3_FA7774DI_ECG-_2017-04-20 03:38:19.000000'), ('/raw_$beginwin_samplerate:1000_win:0.001_init:0_finish:4200_endwin$__$beginparams_param:None_endparam$_', u'3_FA7774DI_Ecg_2017-04-20 03:38:19.000000'), ('/raw_$beginwin_samplerate:1000_win:0.001_init:0_finish:4200_endwin$__$beginparams_param:None_endparam$_', u'5_FA7773TA_ECG-_2016-08-23 04:23:59.000000'), ('/raw_$beginwin_samplerate:1000_win:0.001_init:0_finish:4200_endwin$__$beginparams_param:None_endparam$_', u'5_FA7773TA_Ecg_2016-08-23 04:23:59.000000')]\n",
      "{'method': 'hamilton'}\n",
      "beginwin_samplerate:1000_win:0.001_init:0_finish:4200_endwin\n",
      "beginparams_param:None_endpar\n",
      "could not convert string to float: None\n",
      "_$beginwin_win:rpeaks__samplerate:1000_endwin$_\n",
      "_$beginparam_method:hamilton_endparam$_\n",
      "['/raw_$beginwin_samplerate:1000_win:0.001_init:0_finish:4200_endwin$__$beginparams_param:None_endparam$_/baseline_removal_$beginwin_win:0.001__init:0__finish:4200__samplerate:1000_endwin$__$beginparam_filt:MedianFIR_endparam$_/rpeak_detection_$beginwin_win:rpeaks__samplerate:1000_endwin$__$beginparam_method:hamilton_endparam$_']\n",
      "loading feature\n",
      "{'method': 'hamilton'}\n",
      "{'win': 'rpeaks', 'samplerate': 1000}\n",
      "here\n",
      "[('/raw_$beginwin_samplerate:1000_win:0.001_init:0_finish:4200_endwin$__$beginparams_param:None_endparam$_/baseline_removal_$beginwin_win:0.001__init:0__finish:4200__samplerate:1000_endwin$__$beginparam_filt:MedianFIR_endparam$_/rpeak_detection_$beginwin_win:rpeaks__samplerate:1000_endwin$__$beginparam_method:hamilton_endparam$_', u'3_FA7774DI_ECG-_2017-04-20 03:38:19.000000'), ('/raw_$beginwin_samplerate:1000_win:0.001_init:0_finish:4200_endwin$__$beginparams_param:None_endparam$_/baseline_removal_$beginwin_win:0.001__init:0__finish:4200__samplerate:1000_endwin$__$beginparam_filt:MedianFIR_endparam$_/rpeak_detection_$beginwin_win:rpeaks__samplerate:1000_endwin$__$beginparam_method:hamilton_endparam$_', u'3_FA7774DI_Ecg_2017-04-20 03:38:19.000000'), ('/raw_$beginwin_samplerate:1000_win:0.001_init:0_finish:4200_endwin$__$beginparams_param:None_endparam$_/baseline_removal_$beginwin_win:0.001__init:0__finish:4200__samplerate:1000_endwin$__$beginparam_filt:MedianFIR_endparam$_/rpeak_detection_$beginwin_win:rpeaks__samplerate:1000_endwin$__$beginparam_method:hamilton_endparam$_', u'5_FA7773TA_ECG-_2016-08-23 04:23:59.000000'), ('/raw_$beginwin_samplerate:1000_win:0.001_init:0_finish:4200_endwin$__$beginparams_param:None_endparam$_/baseline_removal_$beginwin_win:0.001__init:0__finish:4200__samplerate:1000_endwin$__$beginparam_filt:MedianFIR_endparam$_/rpeak_detection_$beginwin_win:rpeaks__samplerate:1000_endwin$__$beginparam_method:hamilton_endparam$_', u'5_FA7773TA_Ecg_2016-08-23 04:23:59.000000'), ('/raw_$beginwin_samplerate:1000_win:0.001_init:0_finish:4200_endwin$__$beginparams_param:None_endparam$_/baseline_removal_$beginwin_win:0.001__init:0__finish:4200__samplerate:1000_endwin$__$beginparam_filt:MedianFIR_endparam$_/rpeak_detection_$beginwin_win:rpeaks__samplerate:1000_endwin$__$beginparam_method:hamilton_endparam$_', u'window_3_FA7774DI_ECG-_2017-04-20 03:38:19.000000'), ('/raw_$beginwin_samplerate:1000_win:0.001_init:0_finish:4200_endwin$__$beginparams_param:None_endparam$_/baseline_removal_$beginwin_win:0.001__init:0__finish:4200__samplerate:1000_endwin$__$beginparam_filt:MedianFIR_endparam$_/rpeak_detection_$beginwin_win:rpeaks__samplerate:1000_endwin$__$beginparam_method:hamilton_endparam$_', u'window_3_FA7774DI_Ecg_2017-04-20 03:38:19.000000'), ('/raw_$beginwin_samplerate:1000_win:0.001_init:0_finish:4200_endwin$__$beginparams_param:None_endparam$_/baseline_removal_$beginwin_win:0.001__init:0__finish:4200__samplerate:1000_endwin$__$beginparam_filt:MedianFIR_endparam$_/rpeak_detection_$beginwin_win:rpeaks__samplerate:1000_endwin$__$beginparam_method:hamilton_endparam$_', u'window_5_FA7773TA_ECG-_2016-08-23 04:23:59.000000'), ('/raw_$beginwin_samplerate:1000_win:0.001_init:0_finish:4200_endwin$__$beginparams_param:None_endparam$_/baseline_removal_$beginwin_win:0.001__init:0__finish:4200__samplerate:1000_endwin$__$beginparam_filt:MedianFIR_endparam$_/rpeak_detection_$beginwin_win:rpeaks__samplerate:1000_endwin$__$beginparam_method:hamilton_endparam$_', u'window_5_FA7773TA_Ecg_2016-08-23 04:23:59.000000')]\n",
      "[('/raw_$beginwin_samplerate:1000_win:0.001_init:0_finish:4200_endwin$__$beginparams_param:None_endparam$_/baseline_removal_$beginwin_win:0.001__init:0__finish:4200__samplerate:1000_endwin$__$beginparam_filt:MedianFIR_endparam$_', u'3_FA7774DI_ECG-_2017-04-20 03:38:19.000000'), ('/raw_$beginwin_samplerate:1000_win:0.001_init:0_finish:4200_endwin$__$beginparams_param:None_endparam$_/baseline_removal_$beginwin_win:0.001__init:0__finish:4200__samplerate:1000_endwin$__$beginparam_filt:MedianFIR_endparam$_', u'3_FA7774DI_Ecg_2017-04-20 03:38:19.000000'), ('/raw_$beginwin_samplerate:1000_win:0.001_init:0_finish:4200_endwin$__$beginparams_param:None_endparam$_/baseline_removal_$beginwin_win:0.001__init:0__finish:4200__samplerate:1000_endwin$__$beginparam_filt:MedianFIR_endparam$_', u'5_FA7773TA_ECG-_2016-08-23 04:23:59.000000'), ('/raw_$beginwin_samplerate:1000_win:0.001_init:0_finish:4200_endwin$__$beginparams_param:None_endparam$_/baseline_removal_$beginwin_win:0.001__init:0__finish:4200__samplerate:1000_endwin$__$beginparam_filt:MedianFIR_endparam$_', u'5_FA7773TA_Ecg_2016-08-23 04:23:59.000000'), ('/raw_$beginwin_samplerate:1000_win:0.001_init:0_finish:4200_endwin$__$beginparams_param:None_endparam$_/baseline_removal_$beginwin_win:0.001__init:0__finish:4200__samplerate:1000_endwin$__$beginparam_filt:MedianFIR_endparam$_', u'window_3_FA7774DI_ECG-_2017-04-20 03:38:19.000000'), ('/raw_$beginwin_samplerate:1000_win:0.001_init:0_finish:4200_endwin$__$beginparams_param:None_endparam$_/baseline_removal_$beginwin_win:0.001__init:0__finish:4200__samplerate:1000_endwin$__$beginparam_filt:MedianFIR_endparam$_', u'window_3_FA7774DI_Ecg_2017-04-20 03:38:19.000000'), ('/raw_$beginwin_samplerate:1000_win:0.001_init:0_finish:4200_endwin$__$beginparams_param:None_endparam$_/baseline_removal_$beginwin_win:0.001__init:0__finish:4200__samplerate:1000_endwin$__$beginparam_filt:MedianFIR_endparam$_', u'window_5_FA7773TA_ECG-_2016-08-23 04:23:59.000000'), ('/raw_$beginwin_samplerate:1000_win:0.001_init:0_finish:4200_endwin$__$beginparams_param:None_endparam$_/baseline_removal_$beginwin_win:0.001__init:0__finish:4200__samplerate:1000_endwin$__$beginparam_filt:MedianFIR_endparam$_', u'window_5_FA7773TA_Ecg_2016-08-23 04:23:59.000000')]\n",
      "/raw_$beginwin_samplerate:1000_win:0.001_init:0_finish:4200_endwin$__$beginparams_param:None_endparam$_/baseline_removal_$beginwin_win:0.001__init:0__finish:4200__samplerate:1000_endwin$__$beginparam_filt:MedianFIR_endparam$_/rpeak_detection_$beginwin_win:rpeaks__samplerate:1000_endwin$__$beginparam_method:hamilton_endparam$_\n",
      "here\n",
      "{'method': 'hamilton', 'resampling': 'spline'}\n",
      "beginwin_samplerate:1000_win:0.001_init:0_finish:4200_endwin\n",
      "beginparams_param:None_endpar\n",
      "could not convert string to float: None\n",
      "_$beginwin_win:0.001__init:rpeaks[0]__finish:rpeaks[-1]__samplerate:1000_endwin$_\n",
      "_$beginparam_method:hamilton__resampling:spline_endparam$_\n",
      "['/raw_$beginwin_samplerate:1000_win:0.001_init:0_finish:4200_endwin$__$beginparams_param:None_endparam$_/baseline_removal_$beginwin_win:0.001__init:0__finish:4200__samplerate:1000_endwin$__$beginparam_filt:MedianFIR_endparam$_/rpeak_detection_$beginwin_win:rpeaks__samplerate:1000_endwin$__$beginparam_method:hamilton_endparam$_/hrv_computation_$beginwin_win:0.001__init:rpeaks[0]__finish:rpeaks[-1]__samplerate:1000_endwin$__$beginparam_method:hamilton__resampling:spline_endparam$_']\n",
      "loading feature\n",
      "{'method': 'hamilton', 'resampling': 'spline'}\n",
      "{'win': 0.001, 'init': 'rpeaks[0]', 'finish': 'rpeaks[-1]', 'samplerate': 1000}\n",
      "here\n",
      "[('/raw_$beginwin_samplerate:1000_win:0.001_init:0_finish:4200_endwin$__$beginparams_param:None_endparam$_/baseline_removal_$beginwin_win:0.001__init:0__finish:4200__samplerate:1000_endwin$__$beginparam_filt:MedianFIR_endparam$_/rpeak_detection_$beginwin_win:rpeaks__samplerate:1000_endwin$__$beginparam_method:hamilton_endparam$_/hrv_computation_$beginwin_win:0.001__init:rpeaks[0]__finish:rpeaks[-1]__samplerate:1000_endwin$__$beginparam_method:hamilton__resampling:spline_endparam$_', u'3_FA7774DI_ECG-_2017-04-20 03:38:19.000000'), ('/raw_$beginwin_samplerate:1000_win:0.001_init:0_finish:4200_endwin$__$beginparams_param:None_endparam$_/baseline_removal_$beginwin_win:0.001__init:0__finish:4200__samplerate:1000_endwin$__$beginparam_filt:MedianFIR_endparam$_/rpeak_detection_$beginwin_win:rpeaks__samplerate:1000_endwin$__$beginparam_method:hamilton_endparam$_/hrv_computation_$beginwin_win:0.001__init:rpeaks[0]__finish:rpeaks[-1]__samplerate:1000_endwin$__$beginparam_method:hamilton__resampling:spline_endparam$_', u'3_FA7774DI_Ecg_2017-04-20 03:38:19.000000'), ('/raw_$beginwin_samplerate:1000_win:0.001_init:0_finish:4200_endwin$__$beginparams_param:None_endparam$_/baseline_removal_$beginwin_win:0.001__init:0__finish:4200__samplerate:1000_endwin$__$beginparam_filt:MedianFIR_endparam$_/rpeak_detection_$beginwin_win:rpeaks__samplerate:1000_endwin$__$beginparam_method:hamilton_endparam$_/hrv_computation_$beginwin_win:0.001__init:rpeaks[0]__finish:rpeaks[-1]__samplerate:1000_endwin$__$beginparam_method:hamilton__resampling:spline_endparam$_', u'5_FA7773TA_ECG-_2016-08-23 04:23:59.000000'), ('/raw_$beginwin_samplerate:1000_win:0.001_init:0_finish:4200_endwin$__$beginparams_param:None_endparam$_/baseline_removal_$beginwin_win:0.001__init:0__finish:4200__samplerate:1000_endwin$__$beginparam_filt:MedianFIR_endparam$_/rpeak_detection_$beginwin_win:rpeaks__samplerate:1000_endwin$__$beginparam_method:hamilton_endparam$_/hrv_computation_$beginwin_win:0.001__init:rpeaks[0]__finish:rpeaks[-1]__samplerate:1000_endwin$__$beginparam_method:hamilton__resampling:spline_endparam$_', u'5_FA7773TA_Ecg_2016-08-23 04:23:59.000000'), ('/raw_$beginwin_samplerate:1000_win:0.001_init:0_finish:4200_endwin$__$beginparams_param:None_endparam$_/baseline_removal_$beginwin_win:0.001__init:0__finish:4200__samplerate:1000_endwin$__$beginparam_filt:MedianFIR_endparam$_/rpeak_detection_$beginwin_win:rpeaks__samplerate:1000_endwin$__$beginparam_method:hamilton_endparam$_/hrv_computation_$beginwin_win:0.001__init:rpeaks[0]__finish:rpeaks[-1]__samplerate:1000_endwin$__$beginparam_method:hamilton__resampling:spline_endparam$_', u'window_3_FA7774DI_ECG-_2017-04-20 03:38:19.000000'), ('/raw_$beginwin_samplerate:1000_win:0.001_init:0_finish:4200_endwin$__$beginparams_param:None_endparam$_/baseline_removal_$beginwin_win:0.001__init:0__finish:4200__samplerate:1000_endwin$__$beginparam_filt:MedianFIR_endparam$_/rpeak_detection_$beginwin_win:rpeaks__samplerate:1000_endwin$__$beginparam_method:hamilton_endparam$_/hrv_computation_$beginwin_win:0.001__init:rpeaks[0]__finish:rpeaks[-1]__samplerate:1000_endwin$__$beginparam_method:hamilton__resampling:spline_endparam$_', u'window_3_FA7774DI_Ecg_2017-04-20 03:38:19.000000'), ('/raw_$beginwin_samplerate:1000_win:0.001_init:0_finish:4200_endwin$__$beginparams_param:None_endparam$_/baseline_removal_$beginwin_win:0.001__init:0__finish:4200__samplerate:1000_endwin$__$beginparam_filt:MedianFIR_endparam$_/rpeak_detection_$beginwin_win:rpeaks__samplerate:1000_endwin$__$beginparam_method:hamilton_endparam$_/hrv_computation_$beginwin_win:0.001__init:rpeaks[0]__finish:rpeaks[-1]__samplerate:1000_endwin$__$beginparam_method:hamilton__resampling:spline_endparam$_', u'window_5_FA7773TA_ECG-_2016-08-23 04:23:59.000000'), ('/raw_$beginwin_samplerate:1000_win:0.001_init:0_finish:4200_endwin$__$beginparams_param:None_endparam$_/baseline_removal_$beginwin_win:0.001__init:0__finish:4200__samplerate:1000_endwin$__$beginparam_filt:MedianFIR_endparam$_/rpeak_detection_$beginwin_win:rpeaks__samplerate:1000_endwin$__$beginparam_method:hamilton_endparam$_/hrv_computation_$beginwin_win:0.001__init:rpeaks[0]__finish:rpeaks[-1]__samplerate:1000_endwin$__$beginparam_method:hamilton__resampling:spline_endparam$_', u'window_5_FA7773TA_Ecg_2016-08-23 04:23:59.000000')]\n",
      "[('/raw_$beginwin_samplerate:1000_win:0.001_init:0_finish:4200_endwin$__$beginparams_param:None_endparam$_/baseline_removal_$beginwin_win:0.001__init:0__finish:4200__samplerate:1000_endwin$__$beginparam_filt:MedianFIR_endparam$_/rpeak_detection_$beginwin_win:rpeaks__samplerate:1000_endwin$__$beginparam_method:hamilton_endparam$_', u'3_FA7774DI_ECG-_2017-04-20 03:38:19.000000'), ('/raw_$beginwin_samplerate:1000_win:0.001_init:0_finish:4200_endwin$__$beginparams_param:None_endparam$_/baseline_removal_$beginwin_win:0.001__init:0__finish:4200__samplerate:1000_endwin$__$beginparam_filt:MedianFIR_endparam$_/rpeak_detection_$beginwin_win:rpeaks__samplerate:1000_endwin$__$beginparam_method:hamilton_endparam$_', u'3_FA7774DI_Ecg_2017-04-20 03:38:19.000000'), ('/raw_$beginwin_samplerate:1000_win:0.001_init:0_finish:4200_endwin$__$beginparams_param:None_endparam$_/baseline_removal_$beginwin_win:0.001__init:0__finish:4200__samplerate:1000_endwin$__$beginparam_filt:MedianFIR_endparam$_/rpeak_detection_$beginwin_win:rpeaks__samplerate:1000_endwin$__$beginparam_method:hamilton_endparam$_', u'5_FA7773TA_ECG-_2016-08-23 04:23:59.000000'), ('/raw_$beginwin_samplerate:1000_win:0.001_init:0_finish:4200_endwin$__$beginparams_param:None_endparam$_/baseline_removal_$beginwin_win:0.001__init:0__finish:4200__samplerate:1000_endwin$__$beginparam_filt:MedianFIR_endparam$_/rpeak_detection_$beginwin_win:rpeaks__samplerate:1000_endwin$__$beginparam_method:hamilton_endparam$_', u'5_FA7773TA_Ecg_2016-08-23 04:23:59.000000'), ('/raw_$beginwin_samplerate:1000_win:0.001_init:0_finish:4200_endwin$__$beginparams_param:None_endparam$_/baseline_removal_$beginwin_win:0.001__init:0__finish:4200__samplerate:1000_endwin$__$beginparam_filt:MedianFIR_endparam$_/rpeak_detection_$beginwin_win:rpeaks__samplerate:1000_endwin$__$beginparam_method:hamilton_endparam$_', u'window_3_FA7774DI_ECG-_2017-04-20 03:38:19.000000'), ('/raw_$beginwin_samplerate:1000_win:0.001_init:0_finish:4200_endwin$__$beginparams_param:None_endparam$_/baseline_removal_$beginwin_win:0.001__init:0__finish:4200__samplerate:1000_endwin$__$beginparam_filt:MedianFIR_endparam$_/rpeak_detection_$beginwin_win:rpeaks__samplerate:1000_endwin$__$beginparam_method:hamilton_endparam$_', u'window_3_FA7774DI_Ecg_2017-04-20 03:38:19.000000'), ('/raw_$beginwin_samplerate:1000_win:0.001_init:0_finish:4200_endwin$__$beginparams_param:None_endparam$_/baseline_removal_$beginwin_win:0.001__init:0__finish:4200__samplerate:1000_endwin$__$beginparam_filt:MedianFIR_endparam$_/rpeak_detection_$beginwin_win:rpeaks__samplerate:1000_endwin$__$beginparam_method:hamilton_endparam$_', u'window_5_FA7773TA_ECG-_2016-08-23 04:23:59.000000'), ('/raw_$beginwin_samplerate:1000_win:0.001_init:0_finish:4200_endwin$__$beginparams_param:None_endparam$_/baseline_removal_$beginwin_win:0.001__init:0__finish:4200__samplerate:1000_endwin$__$beginparam_filt:MedianFIR_endparam$_/rpeak_detection_$beginwin_win:rpeaks__samplerate:1000_endwin$__$beginparam_method:hamilton_endparam$_', u'window_5_FA7773TA_Ecg_2016-08-23 04:23:59.000000')]\n",
      "hrv_features\n",
      "{'method': 'hamilton', 'resampling': 'spline'}\n",
      "beginwin_samplerate:1000_win:0.001_init:0_finish:4200_endwin\n",
      "beginparams_param:None_endpar\n",
      "could not convert string to float: None\n",
      "_$beginwin_win:120__init:0__finish:4200__samplerate:1000_endwin$_\n",
      "_$beginparam_method:hamilton__resampling:spline_endparam$_\n",
      "['/raw_$beginwin_samplerate:1000_win:0.001_init:0_finish:4200_endwin$__$beginparams_param:None_endparam$_/baseline_removal_$beginwin_win:0.001__init:0__finish:4200__samplerate:1000_endwin$__$beginparam_filt:MedianFIR_endparam$_/rpeak_detection_$beginwin_win:rpeaks__samplerate:1000_endwin$__$beginparam_method:hamilton_endparam$_/hrv_computation_$beginwin_win:0.001__init:rpeaks[0]__finish:rpeaks[-1]__samplerate:1000_endwin$__$beginparam_method:hamilton__resampling:spline_endparam$_/hrv_time_features_$beginwin_win:120__init:0__finish:4200__samplerate:1000_endwin$__$beginparam_method:hamilton__resampling:spline_endparam$_']\n",
      "loading feature\n",
      "{'method': 'hamilton', 'resampling': 'spline'}\n",
      "{'win': 120, 'init': 0, 'finish': 4200, 'samplerate': 1000}\n",
      "feature group to process\n",
      "/raw_$beginwin_samplerate:1000_win:0.001_init:0_finish:4200_endwin$__$beginparams_param:None_endparam$_/baseline_removal_$beginwin_win:0.001__init:0__finish:4200__samplerate:1000_endwin$__$beginparam_filt:MedianFIR_endparam$_/rpeak_detection_$beginwin_win:rpeaks__samplerate:1000_endwin$__$beginparam_method:hamilton_endparam$_/hrv_computation_$beginwin_win:0.001__init:rpeaks[0]__finish:rpeaks[-1]__samplerate:1000_endwin$__$beginparam_method:hamilton__resampling:spline_endparam$_\n",
      "list group to process\n",
      "[('/raw_$beginwin_samplerate:1000_win:0.001_init:0_finish:4200_endwin$__$beginparams_param:None_endparam$_/baseline_removal_$beginwin_win:0.001__init:0__finish:4200__samplerate:1000_endwin$__$beginparam_filt:MedianFIR_endparam$_/rpeak_detection_$beginwin_win:rpeaks__samplerate:1000_endwin$__$beginparam_method:hamilton_endparam$_/hrv_computation_$beginwin_win:0.001__init:rpeaks[0]__finish:rpeaks[-1]__samplerate:1000_endwin$__$beginparam_method:hamilton__resampling:spline_endparam$_', u'3_FA7774DI_ECG-_2017-04-20 03:38:19.000000'), ('/raw_$beginwin_samplerate:1000_win:0.001_init:0_finish:4200_endwin$__$beginparams_param:None_endparam$_/baseline_removal_$beginwin_win:0.001__init:0__finish:4200__samplerate:1000_endwin$__$beginparam_filt:MedianFIR_endparam$_/rpeak_detection_$beginwin_win:rpeaks__samplerate:1000_endwin$__$beginparam_method:hamilton_endparam$_/hrv_computation_$beginwin_win:0.001__init:rpeaks[0]__finish:rpeaks[-1]__samplerate:1000_endwin$__$beginparam_method:hamilton__resampling:spline_endparam$_', u'3_FA7774DI_Ecg_2017-04-20 03:38:19.000000'), ('/raw_$beginwin_samplerate:1000_win:0.001_init:0_finish:4200_endwin$__$beginparams_param:None_endparam$_/baseline_removal_$beginwin_win:0.001__init:0__finish:4200__samplerate:1000_endwin$__$beginparam_filt:MedianFIR_endparam$_/rpeak_detection_$beginwin_win:rpeaks__samplerate:1000_endwin$__$beginparam_method:hamilton_endparam$_/hrv_computation_$beginwin_win:0.001__init:rpeaks[0]__finish:rpeaks[-1]__samplerate:1000_endwin$__$beginparam_method:hamilton__resampling:spline_endparam$_', u'5_FA7773TA_ECG-_2016-08-23 04:23:59.000000'), ('/raw_$beginwin_samplerate:1000_win:0.001_init:0_finish:4200_endwin$__$beginparams_param:None_endparam$_/baseline_removal_$beginwin_win:0.001__init:0__finish:4200__samplerate:1000_endwin$__$beginparam_filt:MedianFIR_endparam$_/rpeak_detection_$beginwin_win:rpeaks__samplerate:1000_endwin$__$beginparam_method:hamilton_endparam$_/hrv_computation_$beginwin_win:0.001__init:rpeaks[0]__finish:rpeaks[-1]__samplerate:1000_endwin$__$beginparam_method:hamilton__resampling:spline_endparam$_', u'5_FA7773TA_Ecg_2016-08-23 04:23:59.000000'), ('/raw_$beginwin_samplerate:1000_win:0.001_init:0_finish:4200_endwin$__$beginparams_param:None_endparam$_/baseline_removal_$beginwin_win:0.001__init:0__finish:4200__samplerate:1000_endwin$__$beginparam_filt:MedianFIR_endparam$_/rpeak_detection_$beginwin_win:rpeaks__samplerate:1000_endwin$__$beginparam_method:hamilton_endparam$_/hrv_computation_$beginwin_win:0.001__init:rpeaks[0]__finish:rpeaks[-1]__samplerate:1000_endwin$__$beginparam_method:hamilton__resampling:spline_endparam$_', u'window_3_FA7774DI_ECG-_2017-04-20 03:38:19.000000'), ('/raw_$beginwin_samplerate:1000_win:0.001_init:0_finish:4200_endwin$__$beginparams_param:None_endparam$_/baseline_removal_$beginwin_win:0.001__init:0__finish:4200__samplerate:1000_endwin$__$beginparam_filt:MedianFIR_endparam$_/rpeak_detection_$beginwin_win:rpeaks__samplerate:1000_endwin$__$beginparam_method:hamilton_endparam$_/hrv_computation_$beginwin_win:0.001__init:rpeaks[0]__finish:rpeaks[-1]__samplerate:1000_endwin$__$beginparam_method:hamilton__resampling:spline_endparam$_', u'window_3_FA7774DI_Ecg_2017-04-20 03:38:19.000000'), ('/raw_$beginwin_samplerate:1000_win:0.001_init:0_finish:4200_endwin$__$beginparams_param:None_endparam$_/baseline_removal_$beginwin_win:0.001__init:0__finish:4200__samplerate:1000_endwin$__$beginparam_filt:MedianFIR_endparam$_/rpeak_detection_$beginwin_win:rpeaks__samplerate:1000_endwin$__$beginparam_method:hamilton_endparam$_/hrv_computation_$beginwin_win:0.001__init:rpeaks[0]__finish:rpeaks[-1]__samplerate:1000_endwin$__$beginparam_method:hamilton__resampling:spline_endparam$_', u'window_5_FA7773TA_ECG-_2016-08-23 04:23:59.000000'), ('/raw_$beginwin_samplerate:1000_win:0.001_init:0_finish:4200_endwin$__$beginparams_param:None_endparam$_/baseline_removal_$beginwin_win:0.001__init:0__finish:4200__samplerate:1000_endwin$__$beginparam_filt:MedianFIR_endparam$_/rpeak_detection_$beginwin_win:rpeaks__samplerate:1000_endwin$__$beginparam_method:hamilton_endparam$_/hrv_computation_$beginwin_win:0.001__init:rpeaks[0]__finish:rpeaks[-1]__samplerate:1000_endwin$__$beginparam_method:hamilton__resampling:spline_endparam$_', u'window_5_FA7773TA_Ecg_2016-08-23 04:23:59.000000')]\n"
     ]
    },
    {
     "ename": "NameError",
     "evalue": "global name 'stop' is not defined",
     "output_type": "error",
     "traceback": [
      "\u001b[0;31m---------------------------------------------------------------------------\u001b[0m",
      "\u001b[0;31mNameError\u001b[0m                                 Traceback (most recent call last)",
      "\u001b[0;32m<ipython-input-2-dee74b0a3a4c>\u001b[0m in \u001b[0;36m<module>\u001b[0;34m()\u001b[0m\n\u001b[1;32m      1\u001b[0m \u001b[0;32mfrom\u001b[0m \u001b[0mPreprocessing\u001b[0m\u001b[0;34m.\u001b[0m\u001b[0mpre_processing\u001b[0m \u001b[0;32mimport\u001b[0m \u001b[0;34m*\u001b[0m\u001b[0;34m\u001b[0m\u001b[0m\n\u001b[0;32m----> 2\u001b[0;31m \u001b[0mmain\u001b[0m\u001b[0;34m(\u001b[0m\u001b[0;34m)\u001b[0m\u001b[0;34m\u001b[0m\u001b[0m\n\u001b[0m",
      "\u001b[0;32m/Users/franciscosargo/Desktop/pre_epi_seizures/pre_epi_seizures/Preprocessing/pre_processing.pyc\u001b[0m in \u001b[0;36mmain\u001b[0;34m()\u001b[0m\n\u001b[1;32m    373\u001b[0m  \u001b[0;31m# General Feature Extraction pipeline\u001b[0m\u001b[0;34m\u001b[0m\u001b[0;34m\u001b[0m\u001b[0m\n\u001b[1;32m    374\u001b[0m \u001b[0;34m\u001b[0m\u001b[0m\n\u001b[0;32m--> 375\u001b[0;31m     \u001b[0;31m#signal\u001b[0m\u001b[0;34m\u001b[0m\u001b[0;34m\u001b[0m\u001b[0m\n\u001b[0m\u001b[1;32m    376\u001b[0m     \u001b[0msampling_rate\u001b[0m \u001b[0;34m=\u001b[0m \u001b[0;36m1000\u001b[0m\u001b[0;34m\u001b[0m\u001b[0m\n\u001b[1;32m    377\u001b[0m     \u001b[0mtime_before_seizure\u001b[0m \u001b[0;34m=\u001b[0m \u001b[0;36m50\u001b[0m \u001b[0;34m*\u001b[0m \u001b[0;36m60\u001b[0m\u001b[0;34m\u001b[0m\u001b[0m\n",
      "\u001b[0;32m/Users/franciscosargo/Desktop/pre_epi_seizures/pre_epi_seizures/Preprocessing/pre_processing.pyc\u001b[0m in \u001b[0;36m_main\u001b[0;34m(path_to_load, path_to_map)\u001b[0m\n\u001b[1;32m    459\u001b[0m     \u001b[0;32mprint\u001b[0m \u001b[0;34m'STOP!!!!!!'\u001b[0m\u001b[0;34m\u001b[0m\u001b[0m\n\u001b[1;32m    460\u001b[0m     \u001b[0;32mprint\u001b[0m \u001b[0;34m'Just hrv_time_features'\u001b[0m\u001b[0;34m\u001b[0m\u001b[0m\n\u001b[0;32m--> 461\u001b[0;31m \u001b[0;34m\u001b[0m\u001b[0m\n\u001b[0m\u001b[1;32m    462\u001b[0m     rpeaks_groups_to_process = get_feature_group_name_list(path_to_map,\n\u001b[1;32m    463\u001b[0m                                              'rpeak_detection#')\n",
      "\u001b[0;32m/Users/franciscosargo/Desktop/pre_epi_seizures/pre_epi_seizures/Preprocessing/pre_processing.pyc\u001b[0m in \u001b[0;36mload_feature\u001b[0;34m(path_to_load, path_to_map, feature_to_load, files, sampling_rate, **feature_groups_required)\u001b[0m\n\u001b[1;32m    291\u001b[0m         \u001b[0mnames_to_save\u001b[0m \u001b[0;34m=\u001b[0m \u001b[0mget_names\u001b[0m\u001b[0;34m(\u001b[0m\u001b[0mlist_group_signals\u001b[0m\u001b[0;34m(\u001b[0m\u001b[0mpath_to_load\u001b[0m\u001b[0;34m,\u001b[0m \u001b[0mfeature_group_to_process\u001b[0m\u001b[0;34m)\u001b[0m\u001b[0;34m[\u001b[0m\u001b[0;34m'signals'\u001b[0m\u001b[0;34m]\u001b[0m\u001b[0;34m)\u001b[0m\u001b[0;34m\u001b[0m\u001b[0m\n\u001b[1;32m    292\u001b[0m         \u001b[0;31m# print feature_groups_to_process\u001b[0m\u001b[0;34m\u001b[0m\u001b[0;34m\u001b[0m\u001b[0m\n\u001b[0;32m--> 293\u001b[0;31m \u001b[0;34m\u001b[0m\u001b[0m\n\u001b[0m\u001b[1;32m    294\u001b[0m         \u001b[0;31m#*****************IMPORTANT CHANGE***************************\u001b[0m\u001b[0;34m\u001b[0m\u001b[0;34m\u001b[0m\u001b[0m\n\u001b[1;32m    295\u001b[0m         \u001b[0;31m# names_to_save = get_names(list_group_signals(path_to_load, feature_group_to_process)['signals'])\u001b[0m\u001b[0;34m\u001b[0m\u001b[0;34m\u001b[0m\u001b[0m\n",
      "\u001b[0;31mNameError\u001b[0m: global name 'stop' is not defined"
     ]
    }
   ],
   "source": [
    "from Preprocessing.pre_processing import *\n",
    "main()"
   ]
  },
  {
   "cell_type": "code",
   "execution_count": null,
   "metadata": {
    "collapsed": true,
    "scrolled": true
   },
   "outputs": [],
   "source": [
    "#from storage_utils.create_datasets_nk import *"
   ]
  }
 ],
 "metadata": {
  "kernelspec": {
   "display_name": "Python 2",
   "language": "python",
   "name": "python2"
  },
  "language_info": {
   "codemirror_mode": {
    "name": "ipython",
    "version": 2
   },
   "file_extension": ".py",
   "mimetype": "text/x-python",
   "name": "python",
   "nbconvert_exporter": "python",
   "pygments_lexer": "ipython2",
   "version": "2.7.10"
  }
 },
 "nbformat": 4,
 "nbformat_minor": 2
}
