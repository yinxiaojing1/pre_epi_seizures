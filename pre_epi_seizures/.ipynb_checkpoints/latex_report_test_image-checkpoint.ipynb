{
 "cells": [
  {
   "cell_type": "code",
   "execution_count": 1,
   "metadata": {},
   "outputs": [
    {
     "name": "stderr",
     "output_type": "stream",
     "text": [
      "/home/franciscosargo/.virtualenvs/pre_epi_seizures/local/lib/python2.7/site-packages/h5py/__init__.py:34: FutureWarning: Conversion of the second argument of issubdtype from `float` to `np.floating` is deprecated. In future, it will be treated as `np.float64 == np.dtype(float).type`.\n",
      "  from ._conv import register_converters as _register_converters\n",
      "Using TensorFlow backend.\n"
     ]
    }
   ],
   "source": [
    "from learning_pipelines import get_learning_results, get_hyper_param_results\n",
    "import sklearn.svm as svm\n",
    "from sklearn.pipeline import Pipeline\n",
    "from sklearn.preprocessing import StandardScaler\n",
    "from sklearn.naive_bayes import GaussianNB\n",
    "from sklearn.neighbors import KNeighborsClassifier\n",
    "import pandas as pd\n",
    "\n",
    "from classification.keras_neural_nets import *\n",
    "\n",
    "import os"
   ]
  },
  {
   "cell_type": "code",
   "execution_count": 2,
   "metadata": {
    "collapsed": true
   },
   "outputs": [],
   "source": [
    "import pylatex"
   ]
  },
  {
   "cell_type": "code",
   "execution_count": 3,
   "metadata": {
    "collapsed": true
   },
   "outputs": [],
   "source": [
    "import glob\n",
    "import shutil\n",
    "import os"
   ]
  },
  {
   "cell_type": "code",
   "execution_count": 4,
   "metadata": {
    "collapsed": true
   },
   "outputs": [],
   "source": [
    "from evaluation_tables import *"
   ]
  },
  {
   "cell_type": "code",
   "execution_count": 5,
   "metadata": {
    "collapsed": true,
    "scrolled": true
   },
   "outputs": [],
   "source": [
    "from classification.hp_opt.single_param import *"
   ]
  },
  {
   "cell_type": "code",
   "execution_count": 6,
   "metadata": {
    "collapsed": true
   },
   "outputs": [],
   "source": [
    "from learning_pipelines import load_eda"
   ]
  },
  {
   "cell_type": "code",
   "execution_count": 7,
   "metadata": {
    "collapsed": true
   },
   "outputs": [],
   "source": [
    "def create_tables_patient_specific(table):\n",
    "        # Overal Patient Classification\n",
    "        per_patient = table[['precision',\n",
    "                             'recall',\n",
    "                             'f1-score',\n",
    "                             'patient_nr',\n",
    "                             'Best Parameters',\n",
    "                             'Labels']].groupby(['patient_nr', 'Labels']).describe()\n",
    "\n",
    "        per_patient.loc[:, (['precision', 'recall', 'f1-score'], ['mean', 'std'])]\n",
    "\n",
    "        # Overal Patient Classification\n",
    "        per_patient = table[['precision',\n",
    "                             'recall',\n",
    "                             'f1-score',\n",
    "                             'patient_nr',\n",
    "                             'Best Parameters',\n",
    "                             'Labels']].groupby(['Best Parameters','patient_nr', 'Labels']).describe()\n",
    "\n",
    "        per_patient.loc[:, (['precision', 'recall', 'f1-score'], ['mean', 'std'])]\n",
    "        \n",
    "        print table\n",
    "    "
   ]
  },
  {
   "cell_type": "code",
   "execution_count": 8,
   "metadata": {
    "collapsed": true
   },
   "outputs": [],
   "source": [
    "# Set the storage parameters \n",
    "disk = '/mnt/Seagate/pre_epi_seizures/'"
   ]
  },
  {
   "cell_type": "code",
   "execution_count": 9,
   "metadata": {
    "collapsed": true
   },
   "outputs": [],
   "source": [
    "# Set the latex report folder\n",
    "latex_dir = 'latex/'"
   ]
  },
  {
   "cell_type": "code",
   "execution_count": 10,
   "metadata": {
    "collapsed": true
   },
   "outputs": [],
   "source": [
    "patient_lists = [[3], [4], [5], [8]]"
   ]
  },
  {
   "cell_type": "code",
   "execution_count": 11,
   "metadata": {
    "collapsed": true,
    "scrolled": true
   },
   "outputs": [],
   "source": [
    "# Allocate the feature set\n",
    "feature_set = [('pca_beat_amp_computation', 0), ('hrv_time_features', 0)]"
   ]
  },
  {
   "cell_type": "code",
   "execution_count": 12,
   "metadata": {
    "collapsed": true
   },
   "outputs": [],
   "source": [
    "model_set = [\n",
    "             (Pipeline([('KNN', KNeighborsClassifier())]), [{'KNN__n_neighbors': [i for i in xrange(1, 15, 2)]}]),\n",
    "             (Pipeline([('GaussNB', GaussianNB())]), [{'GaussNB__priors': [None]}]),\n",
    "             (Pipeline([('SVC', svm.SVC())]), [{'SVC__C': [2**i for i in xrange(-5, 11)], \n",
    "                                                'SVC__gamma':[2**i for i in xrange(-15, 1)]}])]\n",
    "\n",
    "\n",
    "                                               "
   ]
  },
  {
   "cell_type": "code",
   "execution_count": 13,
   "metadata": {
    "collapsed": true
   },
   "outputs": [],
   "source": [
    "scaler_set = [StandardScaler()]"
   ]
  },
  {
   "cell_type": "code",
   "execution_count": 14,
   "metadata": {
    "collapsed": true
   },
   "outputs": [],
   "source": [
    "# Labeling structure\n",
    "label_struct = {\n",
    "                'inter_ictal':{\n",
    "                    'label': 'Inter-Ictal Data Points',\n",
    "                    'color': 'blue',\n",
    "                    'intervals_samples': [(1000 * 0 * 60, 1000 * 20 * 60 )]\n",
    "                             },\n",
    "                'pre_ictal':{\n",
    "                    'label': 'Pre-Ictal data points',\n",
    "                    'color': 'yellow',\n",
    "                    'intervals_samples': [(1000 * 20 * 60, 1000 * 49 * 60 )]\n",
    "                             },\n",
    "                'ictal':{\n",
    "                    'label': 'Ictal data points',\n",
    "                    'color': 'red',\n",
    "                    'intervals_samples': [(1000 * 50 * 60, 1000 * 55 * 60 )]\n",
    "                         },\n",
    "                        }\n",
    "baseline_label_struct = {\n",
    "                 'baseline':{\n",
    "                    'label': 'Baseline Data Points',\n",
    "                    'color': 'green',\n",
    "                    'intervals_samples': [(0, 1000 * 30 * 60 )]\n",
    "                            },\n",
    "                        }\n",
    "\n",
    "plot_eda = False\n",
    "learn_flag = False\n",
    "compute_all_new = False\n"
   ]
  },
  {
   "cell_type": "code",
   "execution_count": 15,
   "metadata": {
    "collapsed": true
   },
   "outputs": [],
   "source": [
    "# Open latex document\n",
    "eda_folder = 'EDanalysis_new/'\n",
    "results_doc = pylatex.Document(default_filepath='/home/franciscosargo/results')\n",
    "#results_doc = pylatex.Document(default_filepath=disk + eda_folder + 'results')\n"
   ]
  },
  {
   "cell_type": "code",
   "execution_count": 16,
   "metadata": {},
   "outputs": [
    {
     "data": {
      "text/plain": [
       "Document('/home/franciscosargo/results', [Command(u'normalsize', Arguments(), Options())])"
      ]
     },
     "execution_count": 16,
     "metadata": {},
     "output_type": "execute_result"
    }
   ],
   "source": [
    "results_doc"
   ]
  },
  {
   "cell_type": "code",
   "execution_count": 17,
   "metadata": {
    "scrolled": true
   },
   "outputs": [
    {
     "ename": "SyntaxError",
     "evalue": "invalid syntax (<ipython-input-17-79b82508d113>, line 36)",
     "output_type": "error",
     "traceback": [
      "\u001b[0;36m  File \u001b[0;32m\"<ipython-input-17-79b82508d113>\"\u001b[0;36m, line \u001b[0;32m36\u001b[0m\n\u001b[0;31m    results_doc.\u001b[0m\n\u001b[0m                ^\u001b[0m\n\u001b[0;31mSyntaxError\u001b[0m\u001b[0;31m:\u001b[0m invalid syntax\n"
     ]
    }
   ],
   "source": [
    "# Patient Specific results\n",
    "\n",
    "for feature_slot, hyper_param in feature_set:\n",
    "    \n",
    "    print feature_slot\n",
    "    print hyper_param\n",
    "    \n",
    "    # Entry text, needs to be mended and corrected\n",
    "    results_doc.append('The following results concern the feature set: ' + feature_slot)\n",
    "    \n",
    "    for patient_list in patient_lists:\n",
    "        \n",
    "        # Loop for scaler\n",
    "        #for scaler in scaler_set:\n",
    "            \n",
    "        # Do some text\n",
    "        #print 'Patient Number is' + str(patient_list)\n",
    "        #print 'The Scaler is' + str(scaler)\n",
    "        \n",
    "        #print 'Here is a visualization of the normalized data'\n",
    "        \n",
    "        #print patient_list\n",
    "        \n",
    "        # EDA plots\n",
    "        for scaler in scaler_set:\n",
    "            \n",
    "            # Get paths from the original EDA folder \n",
    "            image_paths = load_eda(label_struct, baseline_label_struct,\n",
    "                                 scaler,\n",
    "                                 patient_list,\n",
    "                                 feature_slot,\n",
    "                                 hyper_param)\n",
    "            \n",
    "            # \n",
    "            results_doc.append('After feature extraction and appropriate normalization, using: ' + feature_slot)\n",
    "            results_doc.generate_pdf('/home/franciscosargo/full', clean_tex=False)\n",
    "            \n",
    "\n",
    "    \n",
    "    \n"
   ]
  },
  {
   "cell_type": "code",
   "execution_count": null,
   "metadata": {
    "collapsed": true
   },
   "outputs": [],
   "source": []
  }
 ],
 "metadata": {
  "kernelspec": {
   "display_name": "Python 2",
   "language": "python",
   "name": "python2"
  },
  "language_info": {
   "codemirror_mode": {
    "name": "ipython",
    "version": 2
   },
   "file_extension": ".py",
   "mimetype": "text/x-python",
   "name": "python",
   "nbconvert_exporter": "python",
   "pygments_lexer": "ipython2",
   "version": "2.7.12"
  }
 },
 "nbformat": 4,
 "nbformat_minor": 2
}
