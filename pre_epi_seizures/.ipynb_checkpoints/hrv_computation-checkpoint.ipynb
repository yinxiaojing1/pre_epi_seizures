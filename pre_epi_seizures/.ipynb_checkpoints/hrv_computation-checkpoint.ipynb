{
 "cells": [
  {
   "cell_type": "code",
   "execution_count": 1,
   "metadata": {
    "scrolled": true
   },
   "outputs": [
    {
     "name": "stderr",
     "output_type": "stream",
     "text": [
      "/home/franciscosargo/.virtualenvs/pre-epi-seizures/local/lib/python2.7/site-packages/h5py/__init__.py:36: FutureWarning: Conversion of the second argument of issubdtype from `float` to `np.floating` is deprecated. In future, it will be treated as `np.float64 == np.dtype(float).type`.\n",
      "  from ._conv import register_converters as _register_converters\n"
     ]
    }
   ],
   "source": [
    "# python\n",
    "import sys\n",
    "import h5py\n",
    "import seaborn as sns\n",
    "import matplotlib.pyplot as plt\n",
    "import pandas as pd\n",
    "import numpy as np\n",
    "from storage_utils.patients_data_new import patients\n",
    "import os\n",
    "from biosppy.signals import ecg\n",
    "import matplotlylib as pltly"
   ]
  },
  {
   "cell_type": "code",
   "execution_count": 2,
   "metadata": {
    "slideshow": {
     "slide_type": "-"
    }
   },
   "outputs": [],
   "source": [
    "# matlab\n",
    "import matlab\n",
    "import matlab.engine\n",
    "\n",
    "# Start the matlab engine\n",
    "eng1 = matlab.engine.start_matlab()"
   ]
  },
  {
   "cell_type": "code",
   "execution_count": 3,
   "metadata": {},
   "outputs": [],
   "source": [
    "def uni_numpy2matlab(numpy_array):\n",
    "    return matlab.double(numpy_array.to_list())\n",
    "\n",
    "def uni_matlab2numpy(matlab_array):\n",
    "    return np.asarray(matlab_array)"
   ]
  },
  {
   "cell_type": "code",
   "execution_count": 4,
   "metadata": {},
   "outputs": [],
   "source": [
    "def detect_rpeaks(feature_signal, detector, sampling_rate):\n",
    "    # detect rpeaks\n",
    "    rpeaks = detector(signal=feature_signal,\n",
    "                      sampling_rate=sampling_rate)['rpeaks']\n",
    "    return rpeaks"
   ]
  },
  {
   "cell_type": "markdown",
   "metadata": {},
   "source": [
    "## 1) The first step is to Load the data ...\n",
    "\n",
    "### Loading .hdf5 files containing Raw and filtered Ecg Signals"
   ]
  },
  {
   "cell_type": "code",
   "execution_count": 5,
   "metadata": {},
   "outputs": [
    {
     "name": "stdout",
     "output_type": "stream",
     "text": [
      "/mnt/Seagate/h5_files_backup/processing_datasets/seizure_datasets_new.h5\n"
     ]
    }
   ],
   "source": [
    "# Open data file\n",
    "# load the file\n",
    "\n",
    "disk='/mnt/Seagate/'\n",
    "files_dir = 'h5_files_backup/processing_datasets/'\n",
    "file_name = 'seizure_datasets_new.h5'\n",
    "file_path = disk + files_dir + file_name\n",
    "print file_path\n",
    "f = h5py.File(file_path, 'r')\n"
   ]
  },
  {
   "cell_type": "code",
   "execution_count": 6,
   "metadata": {},
   "outputs": [],
   "source": [
    "# Get Filtered and Detrended signal\n",
    "\n",
    "# patient parameters\n",
    "patient_number=3\n",
    "patient_info = patients[str(patient_number)]\n",
    "patient_info\n",
    "\n",
    "# feature for analysis\n",
    "feature_name=('signals/3000_1200'\n",
    "              '/raw')\n",
    "\n",
    "seizures = f[feature_name].keys()\n",
    "\n",
    "# get seizures from patient\n",
    "seizures_from_patient = [seizure\n",
    "                         for seizure in seizures\n",
    "                         if seizure.split('_')[0] == str(patient_number)]\n",
    "\n",
    "\n",
    "# Example for one seizure  --careful for channel problem\n",
    "seizure_number=0\n",
    "seizure_name = seizures_from_patient[seizure_number]\n",
    "\n",
    "types_of_seizure = patient_info['types_of_seizure']\n",
    "type_of_seizure = types_of_seizure[seizure_number]\n",
    "\n",
    "# get the hdf5 dataset\n",
    "seizure_hdfdataset = f[feature_name + '/' + seizure_name]\n",
    "\n",
    "# load the array to memory\n",
    "seizure_array = seizure_hdfdataset[:]\n",
    "\n",
    "\n",
    "# Load the array into unidimensional signal, since it is unidimensional ECG\n",
    "raw_ecg = seizure_array\n",
    "\n",
    "# feature for analysis\n",
    "feature_name=('signals/3000_1200'\n",
    "              '/raw'\n",
    "              '/MedianFIR')\n",
    "\n",
    "# get the hdf5 dataset\n",
    "seizure_hdfdataset = f[feature_name + '/' + seizure_name]\n",
    "\n",
    "# load the array to memory\n",
    "seizure_array = seizure_hdfdataset[:]\n",
    "\n",
    "# Load the array into unidimensional signal\n",
    "# since it is unidimensional ECG, i.e index=0\n",
    "medianFIR_ecg = seizure_array[0]\n"
   ]
  },
  {
   "cell_type": "code",
   "execution_count": 7,
   "metadata": {},
   "outputs": [
    {
     "data": {
      "text/plain": [
       "'G-A-M'"
      ]
     },
     "execution_count": 7,
     "metadata": {},
     "output_type": "execute_result"
    }
   ],
   "source": [
    "type_of_seizure"
   ]
  },
  {
   "cell_type": "markdown",
   "metadata": {},
   "source": [
    "## 2) Fiducial points detection, comparing R-peak detectors, exploring outlier removal\n",
    "\n",
    "### 2.1) Comparison between the classical method by P.S.Hamilton and a modified version "
   ]
  },
  {
   "cell_type": "code",
   "execution_count": 8,
   "metadata": {
    "scrolled": false
   },
   "outputs": [
    {
     "name": "stdout",
     "output_type": "stream",
     "text": [
      "[ 5.75376776e-16 -1.04322556e+01 -2.07034026e+01 ... -4.71827042e+02\n",
      " -4.79080581e+02 -4.85449193e+02]\n"
     ]
    },
    {
     "data": {
      "text/plain": [
       "array([   1009,    2090,    3183, ..., 4198659, 4199075, 4199603])"
      ]
     },
     "execution_count": 8,
     "metadata": {},
     "output_type": "execute_result"
    }
   ],
   "source": [
    "# Detect rpeaks Classic Hamilton method\n",
    "print medianFIR_ecg\n",
    "\n",
    "rpeaks_hamilton = ecg.hamilton_segmenter(signal=medianFIR_ecg.T,\n",
    "                                         sampling_rate=1000)['rpeaks']\n",
    "\n",
    "rpeaks_hamilton\n"
   ]
  },
  {
   "cell_type": "code",
   "execution_count": 9,
   "metadata": {},
   "outputs": [
    {
     "name": "stdout",
     "output_type": "stream",
     "text": [
      "[ 5.75376776e-16 -1.04322556e+01 -2.07034026e+01 ... -4.71827042e+02\n",
      " -4.79080581e+02 -4.85449193e+02]\n"
     ]
    },
    {
     "data": {
      "text/plain": [
       "array([   1009,    2090,    3183, ..., 4198517, 4199136, 4199931])"
      ]
     },
     "execution_count": 9,
     "metadata": {},
     "output_type": "execute_result"
    }
   ],
   "source": [
    "import ecg.models_francis as francis\n",
    "print medianFIR_ecg\n",
    "# Detect rpeaks modified hamilton method, by aluno Francisco IT\n",
    "rpeaks_modhamilton = francis.hamilton(False,\n",
    "                                            medianFIR_ecg,\n",
    "                                            Filter=False)['R']\n",
    "rpeaks_modhamilton = np.array(rpeaks_modhamilton)\n",
    "rpeaks_modhamilton"
   ]
  },
  {
   "cell_type": "markdown",
   "metadata": {},
   "source": [
    "### 2.2) Compute time-domain (Load from disk) of ECG data, and compute RRi signal"
   ]
  },
  {
   "cell_type": "code",
   "execution_count": 10,
   "metadata": {
    "scrolled": true
   },
   "outputs": [],
   "source": [
    "# Get the time parameters of the signal\n",
    "Fs=1000\n",
    "sec_before_onset = 50 * 60\n",
    "sec_after_onset = 20 * 60\n",
    "relative_time_seconds = np.linspace(-sec_before_onset, sec_after_onset, \n",
    "                           (sec_before_onset + sec_after_onset) * Fs)   # relative time-frame to EEG onset\n",
    "time_sec = np.linspace(0, (sec_before_onset + sec_after_onset),\n",
    "                           (sec_before_onset + sec_after_onset) * Fs)   # time-frame relative\n",
    "                                                                        # to the beggining of acquisition\n",
    "# Get seizure id\n",
    "seizure_id = seizure_name.split('_')\n",
    "lead_name = seizure_id[2]\n",
    "seizure_nr = seizure_id[-1]\n",
    "patient_nr = seizure_id[0]"
   ]
  },
  {
   "cell_type": "markdown",
   "metadata": {},
   "source": [
    "### 2.3) Compute RRi signal and Peak amplitudes from ECG signal"
   ]
  },
  {
   "cell_type": "code",
   "execution_count": 11,
   "metadata": {},
   "outputs": [],
   "source": [
    "# compute rr-tachogram --make sure all time considerations are made right\n",
    "time_rpeaks_hamilton = time_sec[rpeaks_hamilton]\n",
    "rri_hamilton = np.diff(time_rpeaks_hamilton)\n",
    "time_sec_rri = time_rpeaks_hamilton[1:]\n",
    "relative_time_sec_rri = relative_time_seconds[rpeaks_hamilton][1:]\n",
    "\n",
    "time_rpeaks_modhamilton = time_sec[rpeaks_modhamilton]\n",
    "rri_modhamilton = np.diff(time_rpeaks_modhamilton)\n",
    "time_sec_rri_modhamilton = time_rpeaks_modhamilton[1:]\n",
    "relative_time_sec_modrri = relative_time_seconds[rpeaks_modhamilton][1:]\n",
    "\n",
    "ecg_rpeak_amps_hamilton = medianFIR_ecg[rpeaks_hamilton]\n",
    "ecg_rpeak_amps_modhamilton = medianFIR_ecg[rpeaks_modhamilton] \n",
    "\n",
    "# Check Dimensions. If alright proceed\n",
    "assert len(rri_hamilton) == len(time_rpeaks_hamilton) - 1\n",
    "assert len(rri_modhamilton) == len(time_rpeaks_modhamilton) - 1\n"
   ]
  },
  {
   "cell_type": "markdown",
   "metadata": {},
   "source": [
    "### 2.3) Compare Detection as proposed by P.S. Hamilton [1], and modified by Francisco IT [2]"
   ]
  },
  {
   "cell_type": "code",
   "execution_count": 12,
   "metadata": {},
   "outputs": [
    {
     "data": {
      "image/png": "[encoded data removed]",
      "text/plain": [
       "<Figure size 1440x720 with 4 Axes>"
      ]
     },
     "metadata": {},
     "output_type": "display_data"
    },
    {
     "name": "stdout",
     "output_type": "stream",
     "text": [
      "MedianFIRecg-rpeaks__hamilton-rri_stem-MedianFIRecg_rpeaks__modhamilton__t[460, 490]__y[-200, 400]\n"
     ]
    }
   ],
   "source": [
    "# Compare RRI computation between P.S. Hamilton and modified\n",
    "# (Test object-based plotting)\n",
    "\n",
    "window = [460, 490]\n",
    "\n",
    "ecg_y_window = [-200, 400]\n",
    "\n",
    "# Plot the signal\n",
    "fig = plt.figure(figsize=(20, 10))\n",
    "\n",
    "plt.subplot(2, 2, 1)\n",
    "plt.plot(time_sec, medianFIR_ecg.T,\n",
    "         label='Median filter 200ms -- 12-tap low-pass 40Hz flat-top')\n",
    "plt.plot(time_sec[rpeaks_hamilton], medianFIR_ecg.T[rpeaks_hamilton], 'yo', \n",
    "         label='R-peaks, P.S. Hamilton')\n",
    "plt.axvline(x=50*60, c='k', label='EEG Onset at {} sec'.format(50*60))\n",
    "plt.xlabel('Time  [s]')\n",
    "plt.ylabel('Digitation Units')\n",
    "plt.xlim(window)\n",
    "plt.ylim(ecg_y_window)\n",
    "plt.legend(loc=3)\n",
    "\n",
    "plt.subplot(2, 2, 2)\n",
    "plt.plot(time_sec, medianFIR_ecg.T,\n",
    "         label='Median filter 200ms -- 12-tap low-pass 40Hz flat-top')\n",
    "plt.plot(time_sec[rpeaks_modhamilton], medianFIR_ecg.T[rpeaks_modhamilton], 'yo', \n",
    "         label='R-peaks, models_francis.py P.S. Hamilton')\n",
    "plt.axvline(x=50*60, c='k', label='EEG Onset at {} sec'.format(50*60))\n",
    "plt.xlabel('Time  [s]')\n",
    "plt.ylabel('Digitation Units')\n",
    "plt.xlim(window)\n",
    "plt.ylim(ecg_y_window)\n",
    "plt.legend(loc=3)\n",
    "\n",
    "plt.subplot(2, 2, 3)\n",
    "plt.stem(time_sec_rri, rri_hamilton, 'y', markerfmt='yo', label='RRi P.S. Hamilton')\n",
    "plt.axvline(x=50*60, c='k', label='EEG Onset at {} sec'.format(50*60))\n",
    "plt.xlabel('Time  [s]')\n",
    "plt.ylabel('RRi [s]')\n",
    "plt.xlim(window)\n",
    "plt.legend()\n",
    "\n",
    "plt.subplot(2, 2, 4)\n",
    "#plt.stem(time_sec_rri_modhamilton, rri_modhamilton, 'y', markerfmt='yo')\n",
    "markerline, stemlines, baseline = plt.stem(time_sec_rri_modhamilton,\n",
    "                                           rri_modhamilton,\n",
    "                                           '-',\n",
    "                                           label='RRi models_francis.py')\n",
    "plt.setp(markerline, 'color', 'y')\n",
    "plt.setp(stemlines, 'color', plt.getp(markerline,'color'))\n",
    "#plt.setp(stemlines, 'linestyle', 'dotted')\n",
    "plt.setp(baseline, 'color','r', 'linewidth', 2)\n",
    "plt.axvline(x=50*60, c='k', label='EEG Onset at {} sec'.format(50*60))\n",
    "plt.legend()\n",
    "plt.xlabel('Time  [s]')\n",
    "plt.ylabel('RRi [s]')\n",
    "plt.xlim(window)\n",
    "\n",
    "plt.show() \n",
    "\n",
    "print 'MedianFIRecg-rpeaks__hamilton-rri_stem-MedianFIRecg_rpeaks__modhamilton__t{}__y{}'.format(window, ecg_y_window)"
   ]
  },
  {
   "cell_type": "code",
   "execution_count": 13,
   "metadata": {},
   "outputs": [
    {
     "data": {
      "image/png": "[encoded data removed]",
      "text/plain": [
       "<Figure size 1440x720 with 2 Axes>"
      ]
     },
     "metadata": {},
     "output_type": "display_data"
    }
   ],
   "source": [
    "# Compare R-peaks detection\n",
    "plt.figure(figsize=(20, 10))\n",
    "\n",
    "plt.subplot(211)\n",
    "plt.plot(relative_time_seconds, medianFIR_ecg.T)\n",
    "plt.plot(relative_time_seconds[rpeaks_hamilton], medianFIR_ecg.T[rpeaks_hamilton], 'yo')\n",
    "\n",
    "plt.axvline(x=0, c='k')\n",
    "plt.legend(['Median filter 200ms -- 12-tap low-pass 40Hz flat-top' ,\n",
    "            'R-peaks, P.S. Hamilton',\n",
    "            'EEG Onset'])\n",
    "plt.xlabel('Relative Time to onset [s]')\n",
    "plt.ylabel('Digitation Units')\n",
    "\n",
    "plt.subplot(212)\n",
    "plt.plot(relative_time_seconds, medianFIR_ecg.T)\n",
    "plt.plot(relative_time_seconds[rpeaks_modhamilton],\n",
    "         medianFIR_ecg.T[rpeaks_modhamilton], 'yo')\n",
    "\n",
    "plt.axvline(x=0, c='k')\n",
    "plt.legend(['Median filter 200ms -- 12-tap low-pass 40Hz flat-top' ,\n",
    "            'R-peaks, Modified P.S. Hamilton',\n",
    "            'EEG Onset'])\n",
    "plt.xlabel('Relative Time to onset [s]')\n",
    "plt.ylabel('Digitation Units')\n",
    "plt.show() "
   ]
  },
  {
   "cell_type": "markdown",
   "metadata": {},
   "source": [
    "### 2.4) Study Automatic artifact removal as proposed by Miguel Martinho IT [3]\n",
    "\n",
    "\n"
   ]
  },
  {
   "cell_type": "code",
   "execution_count": 14,
   "metadata": {},
   "outputs": [
    {
     "data": {
      "text/plain": [
       "array([ 142.42660144,  144.20228239,  142.69797256, ...,   90.61675234,\n",
       "       1201.22889661,  865.16605945])"
      ]
     },
     "execution_count": 14,
     "metadata": {},
     "output_type": "execute_result"
    }
   ],
   "source": [
    "bpm_range = [40, 170]  # physiological heart range, in bpm\n",
    "sampling_rate = 1e3  # in Hz\n",
    "weights_t = [0.7, 1.3]  # heart rate context weights\n",
    "max_diff = 4  # forgetting time interval\n",
    "memory_size = 5  # number of last accepted peaks considered\n",
    "weights_a = [200, 400]  # fiducial point amplitude context weights\n",
    "\n",
    "# Prepare inputs for r-peaks outlier removal\n",
    "peaks_amp_arr = ecg_rpeak_amps_modhamilton\n",
    "peaks_diff_arr = rri_modhamilton\n",
    "\n",
    "peaks_diff_arr\n",
    "peaks_amp_arr"
   ]
  },
  {
   "cell_type": "code",
   "execution_count": 15,
   "metadata": {},
   "outputs": [
    {
     "name": "stdout",
     "output_type": "stream",
     "text": [
      "--Init\n",
      "[1.08100026 1.09300026 1.06000025 ... 0.017      0.4160001  0.52800013]\n",
      "[ 142.42660144  144.20228239  142.69797256 ... -701.74902967 -337.37081696\n",
      "  111.93083633]\n",
      "__________\n",
      "\n",
      "--Init\n",
      "[1.08100026 1.09300026 1.06000025 ... 0.88900021 0.61900015 0.79500019]\n",
      "[ 142.42660144  144.20228239  142.69797256 ...   90.61675234 1201.22889661\n",
      "  865.16605945]\n",
      "__________\n",
      "\n"
     ]
    },
    {
     "name": "stderr",
     "output_type": "stream",
     "text": [
      "/home/franciscosargo/.virtualenvs/pre-epi-seizures/local/lib/python2.7/site-packages/numpy/core/fromnumeric.py:2957: RuntimeWarning: Mean of empty slice.\n",
      "  out=out, **kwargs)\n",
      "/home/franciscosargo/.virtualenvs/pre-epi-seizures/local/lib/python2.7/site-packages/numpy/core/_methods.py:80: RuntimeWarning: invalid value encountered in double_scalars\n",
      "  ret = ret.dtype.type(ret / rcount)\n"
     ]
    }
   ],
   "source": [
    "# Explore Miguel Martinho's r-peaks outlier removal\n",
    "import hr_amp_outlier_removal as mm_outlier\n",
    "\n",
    "\n",
    "outlier_dec = mm_outlier.AdaContextHRAmpWaveOutlier(bpm_range,\n",
    "                                                    sampling_rate,\n",
    "                                                    weights_t,\n",
    "                                                    max_diff,\n",
    "                                                    memory_size,\n",
    "                                                    weights_a)\n",
    "\n",
    "\n",
    "valid_peaks_hamilton = outlier_dec.run(peaks_amp_arr=ecg_rpeak_amps_hamilton,\n",
    "                                       peaks_diff_arr=rri_hamilton)\n",
    "\n",
    "valid_peaks_modhamilton = outlier_dec.run(peaks_amp_arr=ecg_rpeak_amps_modhamilton,\n",
    "                                          peaks_diff_arr=rri_modhamilton)\n",
    "\n",
    "#print valid_peaks\n",
    "\n",
    "\n"
   ]
  },
  {
   "cell_type": "code",
   "execution_count": 16,
   "metadata": {},
   "outputs": [],
   "source": [
    "time_sec_cleaned_rri_hamilton = time_sec_rri[valid_peaks_hamilton]\n",
    "cleaned_rri_hamilton = rri_hamilton[valid_peaks_hamilton]\n",
    "\n",
    "time_sec_cleaned_rri_modhamilton = time_sec_rri_modhamilton[valid_peaks_modhamilton]\n",
    "cleaned_rri_modhamilton = rri_modhamilton[valid_peaks_modhamilton]\n",
    "\n"
   ]
  },
  {
   "cell_type": "code",
   "execution_count": 39,
   "metadata": {},
   "outputs": [],
   "source": [
    "# Compute directly the RR peaks\n",
    "cleaned_rpeaks_hamilton = rpeaks_hamilton[1:][valid_peaks_hamilton]\n",
    "cleaned_rpeaks_modhamilton = rpeaks_modhamilton[1:][valid_peaks_modhamilton]\n",
    "\n",
    "\n",
    "# Get corresponding rpeaks, cast numpy arrays\n",
    "cleaned_time_rpeaks_hamilton = time_rpeaks_hamilton[1:][valid_peaks_hamilton]\n",
    "cleaned_time_rpeaks_modhamilton = time_rpeaks_modhamilton[1:][valid_peaks_modhamilton]\n",
    "\n",
    "\n",
    "# Get cl \n",
    "cleaned_ecg_rpeak_amps_hamilton = medianFIR_ecg[cleaned_rpeaks_hamilton]\n",
    "cleaned_ecg_rpeak_amps_modhamilton = medianFIR_ecg[cleaned_rpeaks_modhamilton]\n",
    "\n"
   ]
  },
  {
   "cell_type": "code",
   "execution_count": 41,
   "metadata": {},
   "outputs": [
    {
     "data": {
      "image/png": "[encoded data removed]",
      "text/plain": [
       "<Figure size 1440x720 with 4 Axes>"
      ]
     },
     "metadata": {},
     "output_type": "display_data"
    },
    {
     "name": "stdout",
     "output_type": "stream",
     "text": [
      "rri-stem__hamilton-rri-stem__modhamilton__dirty-cleaned__t[124, 128]__y[0, 2]\n"
     ]
    }
   ],
   "source": [
    "# Compare RRI computation between P.S. Hamilton and modified\n",
    "# (Test object-based plotting)\n",
    "\n",
    "window = [124, 128]\n",
    "\n",
    "ecg_y_window = [-500, 500]\n",
    "\n",
    "rri_y_window = [0, 2]\n",
    "\n",
    "# Plot the signal\n",
    "plt.figure(figsize=(20, 10))\n",
    "\n",
    "plt.subplot(2, 2, 1)\n",
    "plt.plot(time_sec, medianFIR_ecg.T,\n",
    "         label='Median filter 200ms -- 12-tap low-pass 40Hz flat-top')\n",
    "plt.plot(time_rpeaks_hamilton, ecg_rpeak_amps_hamilton, 'yo', \n",
    "         label='R-peaks, P.S. Hamilton')\n",
    "plt.axvline(x=50*60, c='k', label='EEG Onset at {} sec'.format(50*60))\n",
    "plt.xlabel('Time  [s]')\n",
    "plt.ylabel('Digitation Units')\n",
    "plt.xlim(window)\n",
    "plt.ylim(ecg_y_window)\n",
    "plt.legend(loc=3)\n",
    "\n",
    "plt.subplot(2, 2, 2)\n",
    "plt.plot(time_sec, medianFIR_ecg.T,\n",
    "         label='Median filter 200ms -- 12-tap low-pass 40Hz flat-top')\n",
    "plt.plot(time_rpeaks_modhamilton, ecg_rpeak_amps_modhamilton, 'yo', \n",
    "         label='R-peaks, models_francis.py P.S. Hamilton')\n",
    "plt.axvline(x=50*60, c='k', label='EEG Onset at {} sec'.format(50*60))\n",
    "plt.xlabel('Time  [s]')\n",
    "plt.ylabel('Digitation Units')\n",
    "plt.xlim(window)\n",
    "plt.ylim(ecg_y_window)\n",
    "plt.legend(loc=3)\n",
    "\n",
    "plt.subplot(2, 2, 3)\n",
    "plt.plot(time_sec, medianFIR_ecg.T,\n",
    "         label='Median filter 200ms -- 12-tap low-pass 40Hz flat-top')\n",
    "plt.plot(cleaned_time_rpeaks_hamilton, cleaned_ecg_rpeak_amps_hamilton, 'yo', \n",
    "         label='R-peaks, models_francis.py P.S. Hamilton')\n",
    "plt.axvline(x=50*60, c='k', label='EEG Onset at {} sec'.format(50*60))\n",
    "plt.xlabel('Time  [s]')\n",
    "plt.ylabel('Digitation Units')\n",
    "plt.xlim(window)\n",
    "plt.ylim(ecg_y_window)\n",
    "plt.legend(loc=3)\n",
    "\n",
    "\n",
    "plt.subplot(2, 2, 4)\n",
    "plt.plot(time_sec, medianFIR_ecg.T,\n",
    "         label='Median filter 200ms -- 12-tap low-pass 40Hz flat-top')\n",
    "plt.plot(cleaned_time_rpeaks_modhamilton, cleaned_ecg_rpeak_amps_modhamilton, 'yo', \n",
    "         label='R-peaks, models_francis.py P.S. Hamilton')\n",
    "plt.axvline(x=50*60, c='k', label='EEG Onset at {} sec'.format(50*60))\n",
    "plt.xlabel('Time  [s]')\n",
    "plt.ylabel('Digitation Units')\n",
    "plt.xlim(window)\n",
    "plt.ylim(ecg_y_window)\n",
    "plt.legend(loc=3)\n",
    "\n",
    "plt.show()\n",
    "\n",
    "print 'rri-stem__hamilton-rri-stem__modhamilton__dirty-cleaned__t{}__y{}'.format(window, rri_y_window)"
   ]
  },
  {
   "cell_type": "code",
   "execution_count": null,
   "metadata": {},
   "outputs": [],
   "source": [
    "# Compare RRI computation between P.S. Hamilton and modified\n",
    "# (Test object-based plotting)\n",
    "\n",
    "window = [0, 4200]\n",
    "\n",
    "ecg_y_window = [-200, 400]\n",
    "\n",
    "rri_y_window = [0, 2]\n",
    "\n",
    "# Plot the signal\n",
    "fig = plt.figure(figsize=(20, 20))\n",
    "\n",
    "plt.subplot(2, 2, 1)\n",
    "markerline, stemlines, baseline = plt.stem(time_sec_rri,\n",
    "                                           rri_hamilton,\n",
    "                                           '-',\n",
    "                                           label='RRi P.S. Hamilton')\n",
    "plt.setp(markerline, 'color', 'y')\n",
    "plt.setp(stemlines, 'color', plt.getp(markerline,'color'))\n",
    "plt.setp(baseline, 'color','r', 'linewidth', 2)\n",
    "plt.axvline(x=50*60, c='k', label='EEG Onset at {} sec'.format(50*60))\n",
    "plt.legend()\n",
    "plt.xlabel('Time  [s]')\n",
    "plt.ylabel('RRi [s]')\n",
    "plt.xlim(window)\n",
    "plt.ylim(rri_y_window)\n",
    "\n",
    "\n",
    "plt.subplot(2, 2, 2)\n",
    "markerline, stemlines, baseline = plt.stem(time_sec_rri_modhamilton,\n",
    "                                           rri_modhamilton,\n",
    "                                           '-',\n",
    "                                           label='RRi models_francis.py')\n",
    "plt.setp(markerline, 'color', 'y')\n",
    "plt.setp(stemlines, 'color', plt.getp(markerline,'color'))\n",
    "plt.setp(baseline, 'color','r', 'linewidth', 2)\n",
    "plt.axvline(x=50*60, c='k', label='EEG Onset at {} sec'.format(50*60))\n",
    "plt.legend()\n",
    "plt.xlabel('Time  [s]')\n",
    "plt.ylabel('RRi [s]')\n",
    "plt.xlim(window)\n",
    "plt.ylim(rri_y_window)\n",
    "\n",
    "\n",
    "plt.subplot(2, 2, 3)\n",
    "markerline, stemlines, baseline = plt.stem(time_sec_cleaned_rri_hamilton,\n",
    "                                           cleaned_rri_hamilton,\n",
    "                                           '-',\n",
    "                                           label='Cleaned RRi P.S. Hamilton')\n",
    "plt.setp(markerline, 'color', 'y')\n",
    "plt.setp(stemlines, 'color', plt.getp(markerline,'color'))\n",
    "plt.setp(baseline, 'color','r', 'linewidth', 2)\n",
    "plt.axvline(x=50*60, c='k', label='EEG Onset at {} sec'.format(50*60))\n",
    "plt.legend()\n",
    "plt.xlabel('Time  [s]')\n",
    "plt.ylabel('RRi [s]')\n",
    "plt.xlim(window)\n",
    "plt.ylim(rri_y_window)\n",
    "\n",
    "plt.subplot(2, 2, 4)\n",
    "markerline, stemlines, baseline = plt.stem(time_sec_cleaned_rri_modhamilton,\n",
    "                                           cleaned_rri_modhamilton, '-',\n",
    "                                           label='\"Cleaned\" RRi models_francis.py')\n",
    "plt.setp(markerline, 'color', 'y')\n",
    "plt.setp(stemlines, 'color', plt.getp(markerline,'color'))\n",
    "plt.setp(baseline, 'color', 'r', 'linewidth', 2)\n",
    "plt.axvline(x=50*60, c='k', label='EEG Onset at {} sec'.format(50*60))\n",
    "plt.legend()\n",
    "plt.xlabel('Time  [s]')\n",
    "plt.ylabel('RRi [s]')\n",
    "plt.xlim(window)\n",
    "plt.ylim(rri_y_window)\n",
    "\n",
    "plt.show() \n",
    "\n",
    "print 'rri-stem__hamilton-rri-stem__modhamilton__dirty-cleaned__t{}__y{}'.format(window, rri_y_window)"
   ]
  },
  {
   "cell_type": "code",
   "execution_count": null,
   "metadata": {},
   "outputs": [],
   "source": [
    "cleaned_rri_modhamilton"
   ]
  },
  {
   "cell_type": "code",
   "execution_count": null,
   "metadata": {},
   "outputs": [],
   "source": [
    "# Basic view RRi signal, lineplot\n",
    "\n",
    "window = [200, 300]\n",
    "\n",
    "# Plot the signal\n",
    "plt.figure(figsize=(20, 10))\n",
    "\n",
    "plt.subplot(211)\n",
    "plt.plot(time_sec, medianFIR_ecg.T)\n",
    "plt.plot(time_sec[rpeaks_hamilton], medianFIR_ecg.T[rpeaks_hamilton], 'go')\n",
    "plt.axvline(x=50*60, c='k')\n",
    "plt.legend(['Median filter 200ms -- 12-tap low-pass 40Hz flat-top' , 'R-peaks, P.S. Hamilton', 'EEG Onset'])\n",
    "plt.xlabel('Time  [s]')\n",
    "plt.ylabel('Digitation Units')\n",
    "plt.xlim(window)\n",
    "\n",
    "plt.subplot(212)\n",
    "plt.plot(time_sec_rri, rri_hamilton, 'g')\n",
    "plt.axvline(x=50*60, c='k')\n",
    "plt.legend(['R-Ri signal, P.S. Hamilton', 'EEG Onset'])\n",
    "plt.xlabel('Time  [s]')\n",
    "\n",
    "plt.xlim(window)\n",
    "\n",
    "plt.show() "
   ]
  },
  {
   "cell_type": "code",
   "execution_count": null,
   "metadata": {
    "scrolled": false
   },
   "outputs": [],
   "source": [
    "# Basic view RRi signal stemplot\n",
    "\n",
    "window = [400, 580]\n",
    "\n",
    "ecg_y_window = [-200, 400]\n",
    "\n",
    "# Plot the signal\n",
    "plt.figure(figsize=(20, 10))\n",
    "\n",
    "plt.subplot(211)\n",
    "plt.plot(time_sec, medianFIR_ecg.T)\n",
    "plt.plot(time_sec[rpeaks_hamilton], medianFIR_ecg.T[rpeaks_hamilton], 'go')\n",
    "plt.axvline(x=50*60, c='k')\n",
    "plt.legend(['ECG -- Median filter 200ms -- 12-tap low-pass 40Hz flat-top' , 'R-peaks -- P.S. Hamilton', 'EEG Onset'])\n",
    "plt.xlabel('Time  [s]')\n",
    "plt.ylabel('Digitization Units')\n",
    "plt.xlim(window)\n",
    "plt.ylim(ecg_y_window)\n",
    "\n",
    "plt.subplot(212)\n",
    "plt.stem(time_sec_rri, rri_hamilton, 'g', markerfmt='go')\n",
    "plt.legend(['RRi signal Raw'])\n",
    "plt.axvline(x=50*60, c='k')\n",
    "plt.xlabel('Time  [s]')\n",
    "plt.ylabel('RRi [s]')\n",
    "plt.xlim(window)\n",
    "\n",
    "plt.show()"
   ]
  },
  {
   "cell_type": "markdown",
   "metadata": {},
   "source": [
    "### 2.4) Statistical Features \n",
    " Statistical methods From a series of instantaneous heart rates or cycle intervals, particularly those recorded over longer periods, traditionally 24 h, more complex statistical time-domain measures can be calculated. These may be divided into two classes, (a) those derived from direct measurements of the NN intervals or instantaneous heart rate, and (b) those derived from the diﬀerences between NN intervals. These variables may be derived from analysis of the total electrocardiographic recording or may be calculated using smaller segments of the recording period. The latter method allows comparison of HRV to be made during varying activities, e.g. rest, sleep, etc.\n"
   ]
  },
  {
   "cell_type": "code",
   "execution_count": null,
   "metadata": {},
   "outputs": [],
   "source": [
    "# For P.S. hamilton detection\n",
    "\n",
    "# (a) those derived from direct measurements of the NN intervals or instantaneous heart rate\n",
    "meanNN = np.mean(window_rri)  # mean RRi \n",
    "stdNN = np.std(window_rri, ddof=1)  # Standard Deviation\n",
    "    \n",
    "# (b) those derived from the diﬀerences between NN intervals\n",
    "RMSSD = np.sqrt(np.mean(np.diff(window_rri)**2))  # Root Mean Squared Sucessive Differences\n",
    "NN50 = np.count_nonzero(np.where(np.diff(window_rri) > 0.05))  # the number of interval diﬀerences of successive NN intervals greater than 50 ms\n",
    "pNN50 = np.true_divide(NN50, len(window_rri))  # proportion of interval diﬀerences of successive NN intervals greater than 50 ms\n",
    "\n",
    "    \n",
    "meanNN\n",
    "stdNN\n",
    "RMSSD\n",
    "NN50\n",
    "print pNN50"
   ]
  },
  {
   "cell_type": "code",
   "execution_count": null,
   "metadata": {},
   "outputs": [],
   "source": [
    "# fixed time-window for analysis\n",
    "\n",
    "# Define a window for analysis, in seconds, right here. Make a list, it is simpler\n",
    "# --->\n",
    "window_interpolation = [400, 520]\n",
    "#-------------------------------------------------------\n",
    "\n",
    "# Get a window of the time samples, plus element for interpolation\n",
    "time_sec_bool = np.where(np.logical_and(time_sec_rri>=window_interpolation[0],\n",
    "                                        time_sec_rri<=window_interpolation[-1]))\n",
    "\n",
    "# Get RRi signal\n",
    "window_time_sec_rri = time_sec_rri[time_sec_bool]\n",
    "window_rri = rri_modhamilton[time_sec_bool]\n",
    "\n"
   ]
  },
  {
   "cell_type": "code",
   "execution_count": null,
   "metadata": {
    "scrolled": true
   },
   "outputs": [],
   "source": [
    "from scipy.signal import resample\n",
    "from scipy.interpolate import interp1d\n",
    "from scipy.signal import upfirdn\n",
    "\n",
    "# Simple increase in the number of samples\n",
    "# interpolation factor\n",
    "L=10\n",
    "n_samples=len(window_rri)\n",
    "\n",
    "# Compute new Sampling Frequency \n",
    "approx_fs = n_samples/(window_time_sec_rri[-1] - window_time_sec_rri[0])\n",
    "approx_new_fs = approx_fs*L\n",
    "\n",
    "# Fourrier methods\n",
    "# resample - fourier method (FFT) --no assumptions on the Fs\n",
    "resample_rri, resample_rri_time_sec = resample(x=window_rri,\n",
    "                                               num=L*n_samples,\n",
    "                                               t=window_time_sec_rri,\n",
    "                                               axis=0,\n",
    "                                               window=None)\n",
    "\n",
    "# Get zero-filled array \n",
    "window_rri_zero_fill = upfirdn([1], window_rri, L)\n",
    "\n",
    "# Approximation to 1 Hz\n",
    "approx_window_time_sec_rri = np.arange(window_time_sec_rri[0],\n",
    "                                       window_time_sec_rri[-1],\n",
    "                                       approx_fs)\n",
    "\n",
    "print len(approx_window_time_sec_rri)\n",
    "\n",
    "# resample - cubic \n",
    "# Cubic spline L upsampling\n",
    "f = interp1d(window_time_sec_rri,\n",
    "             window_rri,\n",
    "             kind='cubic')\n",
    "\n",
    "new_domain = np.linspace(window_time_sec_rri[0],\n",
    "                        window_time_sec_rri[-1],\n",
    "                        n_samples * L)\n",
    "resampled_rri_window_cubic = f(new_domain)\n",
    "\n",
    "\n",
    "# resample - cubic\n",
    "# Cubic spline 1 Hz\n",
    "fs = 1\n",
    "new_domain_onehz= np.arange(window_time_sec_rri[0],\n",
    "                       window_time_sec_rri[-1],\n",
    "                       1/fs)\n",
    "resampled_rri_window_cubic_onehz = f(new_domain_onehz)\n",
    "\n",
    "print new_domain_onehz\n",
    "\n",
    "\n",
    "print 'This is uneven spaced time'\n",
    "print len(window_time_sec_rri)\n",
    "print window_time_sec_rri[0]\n",
    "print window_time_sec_rri[-1]\n",
    "print ''\n",
    "print '-----------------------'\n",
    "\n",
    "print 'This is even spaced time'\n",
    "print len(window_time_sec_rri)\n",
    "print window_time_sec_rri[0]\n",
    "print window_time_sec_rri[-1]\n",
    "print np.diff(approx_window_time_sec_rri)\n",
    "print ''\n",
    "print '-----------------------'\n",
    "\n",
    "# -----------------------<<<<<<<<<<<<<\n",
    "#print 'Interpolated time'\n",
    "#print len(resample_rri_time_sec)\n",
    "#print resample_rri_time_sec[0]\n",
    "#print resample_rri_time_sec[-1]\n",
    "#print np.diff(resample_rri_time_sec)\n",
    "#print ''\n",
    "#print '-----------------------'\n",
    "# ------------------------<<<<<<<<<<<<\n",
    "\n",
    "print 'New Domain'\n",
    "print len(new_domain)\n",
    "print new_domain[0]\n",
    "print new_domain[-1]\n",
    "print np.diff(new_domain)\n",
    "\n",
    "print ''\n",
    "print '---------------'\n",
    "print 'New Domain, 1Hz'\n",
    "print len(new_domain_onehz)\n",
    "print new_domain_onehz[0]\n",
    "print new_domain_onehz[-1]\n",
    "print np.diff(new_domain_onehz)\n"
   ]
  },
  {
   "cell_type": "code",
   "execution_count": null,
   "metadata": {},
   "outputs": [],
   "source": [
    "# Matlab-based interpolation\n",
    "\n",
    "# Convert numpy to matab array\n",
    "\n",
    "matlab_window_rri = matlab.double(window_rri.tolist()) \n",
    "\n",
    "matlab_resampled_interp_rri_window = eng1.interp(matlab_window_rri, 10.0)\n",
    "\n",
    "resampled_interp_rri_window = np.asarray(matlab_resampled_interp_rri_window)[0]"
   ]
  },
  {
   "cell_type": "markdown",
   "metadata": {},
   "source": [
    "## Plot the results of interpolation"
   ]
  },
  {
   "cell_type": "code",
   "execution_count": null,
   "metadata": {},
   "outputs": [],
   "source": [
    "# Plot scipy.signal.resample Fixed time window, simple case\n",
    "\n",
    "ecg_y_window = [-200, 400]\n",
    "\n",
    "plot_flag = True\n",
    "if plot_flag:\n",
    "    windows_list = [[i, i + 30]\n",
    "                    for i in range(window_interpolation[0],\n",
    "                                    window_interpolation[-1], 30)]\n",
    "\n",
    "    print windows_list\n",
    "\n",
    "    windows_list.insert(0, window_interpolation)\n",
    "\n",
    "    for window in windows_list:\n",
    "        # Plot the signal\n",
    "        plt.figure(figsize=(20, 10))\n",
    "\n",
    "        plt.subplot(411)\n",
    "        plt.plot(time_sec, medianFIR_ecg.T)\n",
    "        plt.plot(time_sec[rpeaks_hamilton], medianFIR_ecg.T[rpeaks_hamilton], 'ro')\n",
    "        plt.axvline(x=50*60, c='k')\n",
    "        plt.legend(['Median filter 200ms -- 12-tap low-pass 40Hz flat-top' , 'R-peaks, P.S. Hamilton', 'EEG Onset'])\n",
    "        plt.xlabel('Time  [s]')\n",
    "        plt.ylabel('Digitation Units')\n",
    "        plt.xlim(window)\n",
    "        plt.ylim([-250, 250])\n",
    "\n",
    "        plt.subplot(412)\n",
    "        plt.stem(window_time_sec_rri, window_rri, 'r', markerfmt='ro')\n",
    "        plt.axvline(x=50*60, c='k')\n",
    "        plt.legend(['EEG Onset', 'RRi signal Raw'])\n",
    "        plt.xlabel('Time  [s]')\n",
    "        plt.ylabel('RRi [s]')\n",
    "        plt.xlim(window)\n",
    "        plt.ylim(0, 2)\n",
    "\n",
    "        plt.subplot(413)\n",
    "        plt.stem(new_domain, resample_rri, 'g', markerfmt='go')\n",
    "        plt.axvline(x=50*60, c='k')\n",
    "        plt.legend(['EEG Onset', 'RRi signal -- Fourrier Interpolation -- \\n'\n",
    "                    '-- scipy.signal.resample  L=10'])\n",
    "        plt.xlabel('Time  [s]')\n",
    "        plt.ylabel('RRi [s]')\n",
    "        plt.xlim(window)\n",
    "        plt.ylim(0, 2)\n",
    "\n",
    "        plt.subplot(414)\n",
    "        plt.stem(new_domain, resample_rri, 'g', markerfmt='go')\n",
    "        plt.stem(new_domain, window_rri_zero_fill, 'r', markerfmt='ro')\n",
    "\n",
    "        plt.axvline(x=50*60, c='k')\n",
    "        plt.legend(['EEG Onset', 'RRi signal -- Fourrier Interpolation -- \\n'\n",
    "                    '-- scipy.signal.resample  L=10', 'Raw RRi signal'])\n",
    "        plt.xlabel('Time  [s]')\n",
    "        plt.ylabel('RRi [s]')\n",
    "        plt.xlim(window)\n",
    "        plt.ylim(0, 2)\n",
    "\n",
    "        plt.show()"
   ]
  },
  {
   "cell_type": "code",
   "execution_count": null,
   "metadata": {},
   "outputs": [],
   "source": [
    "# Cubic Spline L=10\n",
    "if plot_flag:\n",
    "    windows_list = [[i, i + 30]\n",
    "                    for i in range(window_interpolation[0],\n",
    "                                    window_interpolation[-1], 30)]\n",
    "    windows_list.insert(0, window_interpolation)\n",
    "\n",
    "    for window in windows_list:\n",
    "        # Plot the signal\n",
    "        plt.figure(figsize=(20, 10))\n",
    "\n",
    "        plt.subplot(411)\n",
    "        plt.plot(time_sec, medianFIR_ecg.T)\n",
    "        plt.plot(time_sec[rpeaks_hamilton], medianFIR_ecg.T[rpeaks_hamilton], 'ro')\n",
    "        plt.axvline(x=50*60, c='k')\n",
    "        plt.legend(['Median filter 200ms -- 12-tap low-pass 40Hz flat-top' , 'R-peaks, P.S. Hamilton', 'EEG Onset'])\n",
    "        plt.xlabel('Time  [s]')\n",
    "        plt.ylabel('Digitation Units')\n",
    "        plt.xlim(window)\n",
    "        plt.ylim([-250, 250])\n",
    "\n",
    "        plt.subplot(412)\n",
    "        plt.stem(window_time_sec_rri, window_rri, 'r', markerfmt='ro')\n",
    "        plt.axvline(x=50*60, c='k')\n",
    "        plt.legend(['EEG Onset', 'RRi signal Raw'])\n",
    "        plt.xlabel('Time  [s]')\n",
    "        plt.ylabel('RRi [s]')\n",
    "        plt.xlim(window)\n",
    "        plt.ylim(0, 2)\n",
    "\n",
    "        plt.subplot(413)\n",
    "        plt.stem(new_domain, resampled_rri_window_cubic, 'y', markerfmt='yo')\n",
    "        plt.axvline(x=50*60, c='k')\n",
    "        plt.legend(['EEG Onset', 'RRi signal -- Cubic Spline L=10'])\n",
    "        plt.xlabel('Time  [s]')\n",
    "        plt.ylabel('RRi [s]')\n",
    "        plt.xlim(window)\n",
    "        plt.ylim(0, 2)\n",
    "\n",
    "        plt.subplot(414)\n",
    "        plt.stem(new_domain, resampled_rri_window_cubic, 'y', markerfmt='yo')\n",
    "        plt.stem(time_sec_rri, rri, 'r', markerfmt='ro')\n",
    "\n",
    "        plt.axvline(x=50*60, c='k')\n",
    "        plt.legend(['EEG Onset', 'RRi interpolated signal -- Cubic Spline L=10', 'Raw RRi signal'])\n",
    "        plt.xlabel('Time  [s]')\n",
    "        plt.ylabel('RRi [s]')\n",
    "        plt.xlim(window)\n",
    "        plt.ylim(0, 2)\n",
    "\n",
    "        plt.show()"
   ]
  },
  {
   "cell_type": "code",
   "execution_count": null,
   "metadata": {},
   "outputs": [],
   "source": [
    "# matlab.interp, r=10, n=4, alpha=1\n",
    "\n",
    "if plot_flag:\n",
    "\n",
    "    windows_list = [[i, i + 30]\n",
    "                    for i in range(window_interpolation[0],\n",
    "                                    window_interpolation[-1], 30)]\n",
    "    windows_list.insert(0, window_interpolation)\n",
    "\n",
    "    for window in windows_list:\n",
    "        # Plot the signal\n",
    "        plt.figure(figsize=(20, 10))\n",
    "\n",
    "        plt.subplot(411)\n",
    "        plt.plot(time_sec, medianFIR_ecg.T)\n",
    "        plt.plot(time_sec[rpeaks_hamilton], medianFIR_ecg.T[rpeaks_hamilton], 'ro')\n",
    "        plt.axvline(x=50*60, c='k')\n",
    "        plt.legend(['Median filter 200ms -- 12-tap low-pass 40Hz flat-top' , 'R-peaks, P.S. Hamilton', 'EEG Onset'])\n",
    "        plt.xlabel('Time  [s]')\n",
    "        plt.ylabel('Digitation Units')\n",
    "        plt.xlim(window)\n",
    "        plt.ylim([-250, 250])\n",
    "\n",
    "        plt.subplot(412)\n",
    "        plt.stem(window_time_sec_rri, window_rri, 'r', markerfmt='ro')\n",
    "        plt.axvline(x=50*60, c='k')\n",
    "        plt.legend(['EEG Onset', 'RRi signal Raw'])\n",
    "        plt.xlabel('Time  [s]')\n",
    "        plt.ylabel('RRi [s]')\n",
    "        plt.xlim(window)\n",
    "        plt.ylim(0, 2)\n",
    "\n",
    "        plt.subplot(413)\n",
    "        plt.stem(new_domain, resampled_interp_rri_window, 'b', markerfmt='bo')\n",
    "        plt.axvline(x=50*60, c='k')\n",
    "        plt.legend(['EEG Onset','RRi signal -- \"Ideal\" FIR Interpolation -- matlab.interp r=10 n=4 alpha1=1'])\n",
    "        plt.xlabel('Time  [s]')\n",
    "        plt.ylabel('RRi [s]')\n",
    "        plt.xlim(window)\n",
    "        plt.ylim(0, 2)\n",
    "\n",
    "        plt.subplot(414)\n",
    "        plt.stem(new_domain, resampled_interp_rri_window, 'b', markerfmt='bo')\n",
    "        plt.stem(new_domain, window_rri_zero_fill, 'r', markerfmt='ro')\n",
    "\n",
    "        plt.axvline(x=50*60, c='k')\n",
    "        plt.legend(['EEG Onset', 'RRi signal -- \"Ideal\" FIR Interpolation -- matlab.interp r=10 n=4 alpha=1', 'Raw RRi signal'])\n",
    "        plt.xlabel('Time  [s]')\n",
    "        plt.ylabel('RRi [s]')\n",
    "        plt.xlim(window)\n",
    "        plt.ylim(0, 2)\n",
    "\n",
    "        plt.show()\n",
    "\n",
    "    #    plt.savefig(path_to_save.format(window))"
   ]
  },
  {
   "cell_type": "code",
   "execution_count": null,
   "metadata": {},
   "outputs": [],
   "source": [
    "# Cubic Spline fs=1hz\n",
    "plot_flag = True\n",
    "\n",
    "if plot_flag:\n",
    "    windows_list = [[i, i + 30]\n",
    "                    for i in range(window_interpolation[0],\n",
    "                                    window_interpolation[-1], 30)]\n",
    "    windows_list.insert(0, window_interpolation)\n",
    "\n",
    "    for window in windows_list:\n",
    "        # Plot the signal\n",
    "        plt.figure(figsize=(20, 10))\n",
    "\n",
    "        plt.subplot(411)\n",
    "        plt.plot(time_sec, medianFIR_ecg.T)\n",
    "        plt.plot(time_sec[rpeaks_hamilton], medianFIR_ecg.T[rpeaks_hamilton], 'ro')\n",
    "        plt.axvline(x=50*60, c='k')\n",
    "        plt.legend(['Median filter 200ms -- 12-tap low-pass 40Hz flat-top' , 'R-peaks, P.S. Hamilton', 'EEG Onset'])\n",
    "        plt.xlabel('Time  [s]')\n",
    "        plt.ylabel('Digitation Units')\n",
    "        plt.xlim(window)\n",
    "        plt.ylim([-250, 250])\n",
    "\n",
    "        plt.subplot(412)\n",
    "        plt.stem(window_time_sec_rri, window_rri, 'r', markerfmt='ro')\n",
    "        plt.axvline(x=50*60, c='k')\n",
    "        plt.legend(['EEG Onset', 'RRi signal Raw'])\n",
    "        plt.xlabel('Time  [s]')\n",
    "        plt.ylabel('RRi [s]')\n",
    "        plt.xlim(window)\n",
    "        plt.ylim(0, 2)\n",
    "\n",
    "        plt.subplot(413)\n",
    "        plt.stem(new_domain_onehz, resampled_rri_window_cubic_onehz, 'm', markerfmt='mo')\n",
    "        plt.axvline(x=50*60, c='k')\n",
    "        plt.legend(['EEG Onset', 'RRi signal -- Cubic Spline fs=1Hz'])\n",
    "        plt.xlabel('Time  [s]')\n",
    "        plt.ylabel('RRi [s]')\n",
    "        plt.xlim(window)\n",
    "        plt.ylim(0, 2)\n",
    "\n",
    "        plt.subplot(414)\n",
    "        plt.stem(new_domain_onehz, resampled_rri_window_cubic_onehz, 'm', markerfmt='mo')\n",
    "        plt.stem(time_sec_rri, rri, 'r', markerfmt='ro')\n",
    "\n",
    "        plt.axvline(x=50*60, c='k')\n",
    "        plt.legend(['EEG Onset', 'RRi interpolated signal -- Cubic Spline fs=1Hz', 'Raw RRi signal'])\n",
    "        plt.xlabel('Time  [s]')\n",
    "        plt.ylabel('RRi [s]')\n",
    "        plt.xlim(window)\n",
    "        plt.ylim(0, 2)\n",
    "\n",
    "        plt.show()"
   ]
  },
  {
   "cell_type": "markdown",
   "metadata": {},
   "source": [
    "# Compute Spectral features"
   ]
  },
  {
   "cell_type": "markdown",
   "metadata": {},
   "source": [
    "## Estimation of power spectral density (PSD), using the classic Periodogram:\n",
    "\n",
    "Building on a relatively clean window of RRi signal, one possible alternative is to estimate the PSD based on the periodogram."
   ]
  },
  {
   "cell_type": "code",
   "execution_count": null,
   "metadata": {},
   "outputs": [],
   "source": [
    "from scipy.signal import periodogram\n",
    "\n",
    "# For resampled signal using scipy resample:\n",
    "rrwf_f, rrwf_psd_periodogram = periodogram(resample_rri,\n",
    "                                           fs=approx_new_fs,\n",
    "                                           scaling='density')\n",
    "\n",
    "# For resampled signal using cubic spline interpolation, scipy.interpolate.interp1d\n",
    "window_rri_cubic_f, window_rri_cubic_psd_periodogram = periodogram(resampled_rri_window_cubic,\n",
    "                                                                   fs=approx_new_fs,\n",
    "                                                                   scaling='density')\n",
    "\n",
    "# matlab interp, \n",
    "window_rri_interp_f, window_rri_interp_psd_periodogram = periodogram(resampled_interp_rri_window,\n",
    "                                                                     fs=approx_new_fs,\n",
    "                                                                     scaling='density')\n",
    "\n",
    "# For resampled signal using cubic spline interpolation, scipy.interpolate.interp1d\n",
    "window_rri_cubic_onehz_f, window_rri_cubic_onehz_psd_periodogram = periodogram(resampled_rri_window_cubic_onehz,\n",
    "                                                                               fs=fs,\n",
    "                                                                               scaling='density')\n",
    "\n"
   ]
  },
  {
   "cell_type": "code",
   "execution_count": null,
   "metadata": {},
   "outputs": [],
   "source": [
    "# Compare dimensions \n",
    "\n",
    "print len(window_rri_cubic_onehz_psd_periodogram)\n",
    "print len(resampled_rri_window_cubic_onehz)"
   ]
  },
  {
   "cell_type": "markdown",
   "metadata": {},
   "source": [
    "### Estimation of PSD based on the Lomb-Scargle periodogram"
   ]
  },
  {
   "cell_type": "code",
   "execution_count": null,
   "metadata": {},
   "outputs": [],
   "source": [
    "# Spectral analysis using Lomb-Scargle periodogram\n",
    "\n",
    "# Use scipy.signal function\n",
    "from scipy.signal import lombscargle\n",
    "from astropy.stats import LombScargle\n",
    "\n",
    "# Compute Lomb Scargle spectogram\n",
    "frequency, power = LombScargle(window_time_sec_rri, window_rri).autopower()\n",
    "\n",
    "# Allocate frequencies for analysis\n",
    "f = np.linspace(0.01, 1, 100)\n",
    "\n",
    "w =  np.pi/2 * f\n",
    "\n",
    "lombscargle = lombscargle(x=window_time_sec_rri,\n",
    "                         y=window_rri,\n",
    "                         freqs= w)\n",
    "\n"
   ]
  },
  {
   "cell_type": "markdown",
   "metadata": {},
   "source": [
    "## Estimation of PSD based on the Welch's method"
   ]
  },
  {
   "cell_type": "code",
   "execution_count": null,
   "metadata": {},
   "outputs": [],
   "source": [
    "# Spectral analysis using Welch's Method \n",
    "import scipy.signal as ss\n",
    "\n",
    "\n",
    "rrwf_f_fft, rrwf_psd_welch_fft = ss.welch(x=resample_rri,\n",
    "                                 fs=approx_new_fs,\n",
    "                                 window='boxcar',\n",
    "                                 nperseg=256,\n",
    "                                 noverlap=None,\n",
    "                                 nfft=None,\n",
    "                                 detrend='constant',\n",
    "                                 return_onesided=True,\n",
    "                                 scaling='density', axis=-1)\n",
    "\n",
    "rrwf_f_welch_cubic, rrwf_psd_welch_cubic = ss.welch(x=resampled_rri_window_cubic,\n",
    "                                 fs=approx_new_fs,\n",
    "                                 window='boxcar',\n",
    "                                 nperseg=256,\n",
    "                                 noverlap=None,\n",
    "                                 nfft=None,\n",
    "                                 detrend='constant',\n",
    "                                 return_onesided=True,\n",
    "                                 scaling='density', axis=-1)\n",
    "\n",
    "rrwf_f_welch_interp, rrwf_psd_welch_interp = ss.welch(x=resampled_interp_rri_window,\n",
    "                                 fs=approx_new_fs,\n",
    "                                 window='boxcar',\n",
    "                                 nperseg=256,\n",
    "                                 noverlap=None,\n",
    "                                 nfft=None,\n",
    "                                 detrend='constant',\n",
    "                                 return_onesided=True,\n",
    "                                 scaling='density', axis=-1)\n",
    "\n",
    "f_welch_pxx_cubic_onehz_fft, welch_pxx_cubic_onehz_fft = ss.welch(x=resampled_rri_window_cubic_onehz,\n",
    "                                                         fs=1.0, window='boxcar',\n",
    "                                                         nperseg=256,\n",
    "                                                         noverlap=None,\n",
    "                                                         nfft=None,\n",
    "                                                         detrend='constant',\n",
    "                                                         return_onesided=True,\n",
    "                                                         scaling='density', axis=-1)\n",
    "\n",
    "\n",
    "\n",
    "\n"
   ]
  },
  {
   "cell_type": "markdown",
   "metadata": {},
   "source": [
    "## 2. Estimation of PSD based on Yule-Walker equations"
   ]
  },
  {
   "cell_type": "code",
   "execution_count": null,
   "metadata": {},
   "outputs": [],
   "source": [
    "from spectrum import aryule, arma2psd\n",
    "from nitime import algorithms\n",
    "\n",
    "signal_to_estimate = resampled_rri_window_cubic_onehz\n",
    "order = 10\n",
    "\n",
    "spec_ar, variance, coeff_reflection=aryule(resampled_rri_window_cubic_onehz, order)\n",
    "spectrum_psd=arma2psd(spec_ar, NFFT=len(resampled_rri_window_cubic_onehz)/2)\n",
    "\n",
    "# Estimate AR model \n",
    "ar, sig_sq = algorithms.autoregressive.AR_est_YW(x=resampled_rri_window_cubic_onehz, order=order, rxx=None)\n",
    "nitime_f, nitime_psd = algorithms.autoregressive.AR_psd(ar, sig_sq, n_freqs=len(resampled_rri_window_cubic_onehz)/2, sides='onesided')"
   ]
  },
  {
   "cell_type": "code",
   "execution_count": null,
   "metadata": {},
   "outputs": [],
   "source": [
    "# yule-walker from matlab\n",
    "matlab_resampled_rri_window_cubic_onehz = matlab.double(resampled_rri_window_cubic_onehz.tolist()) \n",
    "\n",
    "pxx, f = eng1.pyulear(matlab_resampled_rri_window_cubic_onehz, 10.0, nargout=2)\n",
    "\n",
    "psd = uni_matlab2numpy(pxx)\n",
    "f = uni_matlab2numpy(f)"
   ]
  },
  {
   "cell_type": "code",
   "execution_count": null,
   "metadata": {},
   "outputs": [],
   "source": [
    "plt.figure()\n",
    "plt.plot(f, psd)\n",
    "plt.show()\n",
    "\n",
    "\n",
    "plt.figure()\n",
    "plt.plot(nitime_f, nitime_psd)\n",
    "plt.show()"
   ]
  },
  {
   "cell_type": "code",
   "execution_count": null,
   "metadata": {},
   "outputs": [],
   "source": [
    "plt.figure()\n",
    "plt.plot(f.T[0], psd.T[0])\n",
    "plt.show()"
   ]
  },
  {
   "cell_type": "code",
   "execution_count": null,
   "metadata": {},
   "outputs": [],
   "source": [
    "# plot PSD estimation based on the periodogram\n",
    "plt.figure(figsize=(15, 15))\n",
    "\n",
    "plt.subplot(411)\n",
    "plt.plot(rrwf_f_fft, rrwf_psd_welch_fft, 'g')\n",
    "plt.plot()\n",
    "plt.xlabel('frequency [Hz]')\n",
    "plt.ylabel('PSD [sec**2]')\n",
    "plt.legend(['scipy.signal.resample interpolation ~10hz -- Periodogram estimation'\n",
    "            ' -- \\n -- PSD nr of samples:{}'.format(len(rrwf_f))])\n",
    "plt.xlim(0, 1)\n",
    "\n",
    "plt.subplot(412)\n",
    "plt.plot(rrwf_f_welch_cubic, rrwf_psd_welch_cubic, 'y')\n",
    "plt.xlabel('frequency [Hz]')\n",
    "plt.ylabel('PSD [sec**2]')\n",
    "plt.legend(['Cubic Spline interpolation ~10hz -- Periodogram estimation'\n",
    "            ' -- \\n -- PSD nr of samples:{}'.format(len(window_rri_cubic_f))])\n",
    "plt.xlim(0, 1)\n",
    "\n",
    "plt.subplot(413)\n",
    "plt.plot(rrwf_f_welch_interp, rrwf_psd_welch_interp, 'b')\n",
    "plt.xlabel('frequency [Hz]')\n",
    "plt.ylabel('PSD [sec**2]')\n",
    "plt.legend(['matlab.interp interpolation ~10hz -- Periodogram estimation'\n",
    "            ' -- \\n -- PSD nr of samples:{}'.format(len(window_rri_interp_f))])\n",
    "plt.xlim(0, 1)\n",
    "\n",
    "plt.subplot(414)\n",
    "plt.plot(f_welch_pxx_cubic_onehz_fft, welch_pxx_cubic_onehz_fft, 'm')\n",
    "plt.xlabel('frequency [Hz]')\n",
    "plt.ylabel('PSD [sec**2]')\n",
    "plt.legend(['Cubic Spline interpolation 1hz -- Periodogram estimation'\n",
    "            ' -- \\n -- PSD nr of samples:{}'.format(len(window_rri_cubic_onehz_f))])\n",
    "plt.xlim(0, 1)"
   ]
  },
  {
   "cell_type": "code",
   "execution_count": null,
   "metadata": {},
   "outputs": [],
   "source": [
    "# plot PSD estimation based on the periodogram\n",
    "plt.figure(figsize=(15, 15))\n",
    "\n",
    "plt.subplot(411)\n",
    "plt.plot(rrwf_f, rrwf_psd_welch, 'g')\n",
    "plt.plot()\n",
    "plt.xlabel('frequency [Hz]')\n",
    "plt.ylabel('PSD [sec**2]')\n",
    "plt.legend(['scipy.signal.resample interpolation ~10hz -- Periodogram estimation'\n",
    "            ' -- \\n -- PSD nr of samples:{}'.format(len(rrwf_f))])\n",
    "plt.xlim(0, 1)\n",
    "\n",
    "plt.subplot(412)\n",
    "plt.plot(f, welch_pxx, 'y')\n",
    "plt.xlabel('frequency [Hz]')\n",
    "plt.ylabel('PSD [sec**2]')\n",
    "plt.legend(['Cubic Spline interpolation ~10hz -- Periodogram estimation'\n",
    "            ' -- \\n -- PSD nr of samples:{}'.format(len(window_rri_cubic_f))])\n",
    "plt.xlim(0, 1)\n",
    "\n",
    "plt.subplot(413)\n",
    "plt.plot(window_rri_interp_f, window_rri_interp_psd_periodogram, 'b')\n",
    "plt.xlabel('frequency [Hz]')\n",
    "plt.ylabel('PSD [sec**2]')\n",
    "plt.legend(['matlab.interp interpolation ~10hz -- Periodogram estimation'\n",
    "            ' -- \\n -- PSD nr of samples:{}'.format(len(window_rri_interp_f))])\n",
    "plt.xlim(0, 1)\n",
    "\n",
    "plt.subplot(414)\n",
    "plt.plot(f, welch_pxx, 'm')\n",
    "plt.xlabel('frequency [Hz]')\n",
    "plt.ylabel('PSD [sec**2]')\n",
    "plt.legend(['Cubic Spline interpolation 1hz -- Periodogram estimation'\n",
    "            ' -- \\n -- PSD nr of samples:{}'.format(len(window_rri_cubic_onehz_f))])\n",
    "plt.xlim(0, 1)"
   ]
  },
  {
   "cell_type": "code",
   "execution_count": null,
   "metadata": {},
   "outputs": [],
   "source": [
    "# plot lombscargle periodogram \n",
    "plt.figure(figsize=(15, 15))\n",
    "\n",
    "plt.subplot(411)\n",
    "plt.plot(rrwf_f, rrwf_psd_periodogram, 'g')\n",
    "plt.plot()\n",
    "plt.xlabel('frequency [Hz]')\n",
    "plt.ylabel('PSD [sec**2]')\n",
    "plt.legend(['scipy.signal.resample interpolation ~10hz -- Periodogram estimation'\n",
    "            ' -- \\n -- PSD nr of samples:{}'.format(len(rrwf_f))])\n",
    "plt.xlim(0, 1)\n",
    "\n",
    "plt.subplot(412)\n",
    "plt.plot(f, welch_pxx, 'y')\n",
    "plt.xlabel('frequency [Hz]')\n",
    "plt.ylabel('PSD [sec**2]')\n",
    "plt.legend(['Cubic Spline interpolation ~10hz -- Periodogram estimation'\n",
    "            ' -- \\n -- PSD nr of samples:{}'.format(len(window_rri_cubic_f))])\n",
    "plt.xlim(0, 1)\n",
    "\n",
    "plt.subplot(413)\n",
    "plt.plot(window_rri_interp_f, window_rri_interp_psd_periodogram, 'b')\n",
    "plt.xlabel('frequency [Hz]')\n",
    "plt.ylabel('PSD [sec**2]')\n",
    "plt.legend(['matlab.interp interpolation ~10hz -- Periodogram estimation'\n",
    "            ' -- \\n -- PSD nr of samples:{}'.format(len(window_rri_interp_f))])\n",
    "plt.xlim(0, 1)\n",
    "\n",
    "plt.subplot(414)\n",
    "plt.plot(f, welch_pxx, 'm')\n",
    "plt.xlabel('frequency [Hz]')\n",
    "plt.ylabel('PSD [sec**2]')\n",
    "plt.legend(['Cubic Spline interpolation 1hz -- Periodogram estimation'\n",
    "            ' -- \\n -- PSD nr of samples:{}'.format(len(window_rri_cubic_onehz_f))])\n",
    "\n"
   ]
  },
  {
   "cell_type": "code",
   "execution_count": null,
   "metadata": {},
   "outputs": [],
   "source": [
    "plt.figure(figsize=(15, 15))\n",
    "plt.subplot(221)\n",
    "plt.stem(coeff_reflection)\n",
    "plt.xlabel('Coefficient Number')\n",
    "plt.ylabel('Coefficient')\n",
    "\n"
   ]
  },
  {
   "cell_type": "code",
   "execution_count": null,
   "metadata": {},
   "outputs": [],
   "source": [
    "\n",
    "f_window = [0, 0.5]\n",
    "\n",
    "\n",
    "plt.figure(figsize=(15, 15))\n",
    "plt.subplot(221)\n",
    "plt.plot(rrwf_f, rrwf_psd_periodogram, 'g')\n",
    "plt.xlim(f_window)\n",
    "plt.xlabel('frequency [Hz]')\n",
    "plt.ylabel('PSD [V**2/Hz]')\n",
    "\n",
    "plt.subplot(222)\n",
    "plt.plot(rrwc_f, rrwc_psd_periodogram, 'y')\n",
    "plt.xlim(f_window)\n",
    "plt.xlabel('frequency [Hz]')\n",
    "plt.ylabel('PSD [V**2/Hz]')"
   ]
  },
  {
   "cell_type": "code",
   "execution_count": null,
   "metadata": {},
   "outputs": [],
   "source": [
    "window = [0, 70*60]\n",
    "\n",
    "# Compare detrending with raw\n",
    "plt.figure(figsize=(20, 15))\n",
    "\n",
    "# plot the original raw ecg\n",
    "plt.subplot(311)\n",
    "plt.plot(time_sec, raw_ecg)\n",
    "plt.axvline(x=50*60, c='k')\n",
    "plt.annotate('Discontinuity', xy=(200, 50),\n",
    "              xytext=(0.15, 0.80),    # fraction, fraction\n",
    "              textcoords='figure fraction',\n",
    "              arrowprops=dict(facecolor='black', shrink=0.05))\n",
    "plt.xlabel('Time[s]')\n",
    "plt.ylabel('Digitation Units')\n",
    "plt.legend(['Raw ECG', 'EEG Onset'])\n",
    "plt.xlim(window)\n",
    "\n",
    "# plot the detrended and denoised ecg\n",
    "plt.subplot(312)\n",
    "plt.plot(time_sec, medianFIR_ecg)\n",
    "plt.annotate('Poorly removed discontinuity', xy=(200, 50),\n",
    "              xytext=(0.15, 0.58),    # fraction, fraction\n",
    "              textcoords='figure fraction',\n",
    "              arrowprops=dict(facecolor='black', shrink=0.05))\n",
    "plt.axvline(x=50*60, c='k')\n",
    "plt.xlabel('Time [s]')\n",
    "plt.ylabel('Digitation Units')\n",
    "plt.legend(['Median filter 200ms -- 12-tap low-pass 40Hz flat-top' , 'EEG Onset'])\n",
    "plt.xlim(window)\n",
    "\n",
    "# plot differences (direct plot)\n",
    "plt.subplot(313)\n",
    "plt.plot(time_sec, raw_ecg, 'r')\n",
    "plt.plot(time_sec, medianFIR_ecg, 'b')\n",
    "plt.axvline(x=50*60, c='k')\n",
    "plt.xlabel('Time [s]')\n",
    "plt.ylabel('Digitation Units')\n",
    "plt.legend(['Raw ECG', 'Median filter 200ms -- 12-tap low-pass 40Hz flat-top' ,  'EEG Onset'])\n",
    "plt.xlim(window)\n",
    "plt.show()"
   ]
  },
  {
   "cell_type": "code",
   "execution_count": null,
   "metadata": {},
   "outputs": [],
   "source": [
    "# time analysis\n",
    "plt.figure(figsize=(20, 20))\n",
    "\n",
    "# plot the original ecg\n",
    "plt.subplot(311)\n",
    "plt.plot(time_sec, raw_ecg)\n",
    "\n",
    "# plot the original ecg\n",
    "plt.subplot(312)\n",
    "plt.plot(time_sec, medianFIR_ecg)\n",
    "#plt.plot(time_rpeaks, medianFIR_ecg[rpeaks], 'o')\n",
    "\n",
    "plt.subplot(313)\n",
    "plt.plot(time_sec_rri, rri, 'r')\n",
    "\n",
    "plt.show()\n"
   ]
  },
  {
   "cell_type": "code",
   "execution_count": null,
   "metadata": {},
   "outputs": [],
   "source": [
    "stop"
   ]
  },
  {
   "cell_type": "code",
   "execution_count": null,
   "metadata": {
    "scrolled": true
   },
   "outputs": [],
   "source": [
    "\n",
    "# Plot the signal\n",
    "plt.figure(figsize=(20, 20))\n",
    "plt.plot(relative_time_sec_rri, rri)\n",
    "\n",
    "plt.axvline(x=0, c='k')\n",
    "plt.legend(['RRi signal', 'EEG Onset'])\n",
    "plt.xlabel('Relative Time to onset [s]')\n",
    "plt.ylabel('RRi [seconds]')\n",
    "plt.title(seizure_name + ' ' + '|' + ' ' + type_of_seizure)\n",
    "plt.show() "
   ]
  },
  {
   "cell_type": "code",
   "execution_count": null,
   "metadata": {},
   "outputs": [],
   "source": [
    "# Get arrays for rri analysis\n",
    "\n",
    "# DO NOT FORGET RAW\n",
    "\n",
    "samples_window_flag = True\n",
    "\n",
    "if samples_window_flag==True:\n",
    "    \n",
    "    # get structure of window for rri signal \n",
    "    n_samples = 180\n",
    "    low = 0\n",
    "    up = low + n_samples\n",
    "    \n",
    "    # Get RRi signal\n",
    "    samples_window_time_sec_rri = time_sec_rri[low:up]\n",
    "    samples_window_rri = rri[low:up]\n",
    "    \n",
    "\n",
    "    \n",
    "assert len(samples_window_time_sec_rri) == 180\n",
    "assert len(samples_window_rri) == 180\n"
   ]
  },
  {
   "cell_type": "code",
   "execution_count": null,
   "metadata": {
    "scrolled": true
   },
   "outputs": [],
   "source": [
    "plt.figure(figsize=(20,20))\n",
    "\n",
    "plt.subplot(611)\n",
    "plt.plot(time_seconds, medianFIR_ecg.T)\n",
    "plt.axvline(x=0, c='k')\n",
    "plt.xlim([0, 10])\n",
    "plt.xlabel('Time[s]')\n",
    "plt.ylabel('Digitation Units')\n",
    "plt.legend(['Detrended and denoised ECG signal (medianFIR)'])\n",
    "\n",
    "plt.subplot(612)\n",
    "plt.plot(time_seconds, medianFIR_ecg.T)\n",
    "plt.plot(time_seconds[rpeaks], medianFIR_ecg.T[rpeaks], 'yo')\n",
    "plt.axvline(x=0, c='k')\n",
    "plt.xlim([0, 10])\n",
    "plt.xlabel('Time[s]')\n",
    "plt.ylabel('Digitation Units')\n",
    "plt.legend(['Detrended and denoised ECG signal (medianFIR)', 'rpeaks'])\n",
    "\n",
    "plt.subplot(613)\n",
    "plt.stem(samples_window_time_sec_rri, samples_window_rri, 'r',\n",
    "         markerfmt='go')\n",
    "plt.xlim([0, 10])\n",
    "plt.xlabel('Time[s]')\n",
    "plt.ylabel('RR interval [s]')\n",
    "plt.legend(['Raw RRi signal'])\n",
    "plt.show()\n",
    "\n"
   ]
  },
  {
   "cell_type": "code",
   "execution_count": null,
   "metadata": {},
   "outputs": [],
   "source": [
    "plt.subplot(614)\n",
    "plt.stem(resample_rri_time_sec,\n",
    "         resample_rri, 'r-')\n",
    "plt.xlim([0, 10])\n",
    "plt.xlabel('Time[s]')\n",
    "plt.ylabel('RR interval [s]')\n",
    "plt.legend(['scipy resample -- Fourrier method -- L={}'.format(L)])\n",
    "\n",
    "plt.subplot(615)\n",
    "plt.stem(resamp_poly_rri, 'g')\n",
    "plt.xlabel('Samples [n]')\n",
    "plt.ylabel('RR interval [s]')\n",
    "plt.legend(['Interpolated using upfirdn'])\n",
    "\n",
    "plt.subplot(616)\n",
    "plt.stem(upfirdn_rri, 'g')\n",
    "plt.legend(['Interpolated using upfirdn'])\n",
    "plt.xlabel('Samples [n]')\n",
    "plt.ylabel('RR interval [s]')\n",
    "plt.show()"
   ]
  },
  {
   "cell_type": "code",
   "execution_count": null,
   "metadata": {},
   "outputs": [],
   "source": [
    "# Plot the frequency response of the 'ls' interpolation filter \n",
    "\n",
    "plt.figure()\n",
    "mfreqz(b)\n",
    "plt.show()\n",
    "\n",
    "plt.figure()\n",
    "impz(b)\n",
    "plt.show()\n",
    "\n"
   ]
  },
  {
   "cell_type": "code",
   "execution_count": null,
   "metadata": {},
   "outputs": [],
   "source": [
    "from plotly import __version__\n",
    "from plotly.offline import download_plotlyjs, init_notebook_mode, plot, iplot\n",
    "from plotly.graph_objs import Scatter, Figure, Layout"
   ]
  },
  {
   "cell_type": "code",
   "execution_count": null,
   "metadata": {},
   "outputs": [],
   "source": [
    "init_notebook_mode(connected=True)"
   ]
  },
  {
   "cell_type": "code",
   "execution_count": null,
   "metadata": {},
   "outputs": [],
   "source": [
    "\n",
    "\n",
    "iplot([{\"x\": [1, 2, 3], \"y\": [3, 1, 6]}])"
   ]
  }
 ],
 "metadata": {
  "kernelspec": {
   "display_name": "Python 2",
   "language": "python",
   "name": "python2"
  },
  "language_info": {
   "codemirror_mode": {
    "name": "ipython",
    "version": 2
   },
   "file_extension": ".py",
   "mimetype": "text/x-python",
   "name": "python",
   "nbconvert_exporter": "python",
   "pygments_lexer": "ipython2",
   "version": "2.7.12"
  }
 },
 "nbformat": 4,
 "nbformat_minor": 2
}
