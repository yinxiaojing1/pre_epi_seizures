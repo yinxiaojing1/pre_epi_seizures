{
 "cells": [
  {
   "cell_type": "code",
   "execution_count": 1,
   "metadata": {},
   "outputs": [
    {
     "data": {
      "text/html": [
       "<table style=\"border: 2px solid white;\">\n",
       "<tr>\n",
       "<td style=\"vertical-align: top; border: 0px solid white\">\n",
       "<h3>Client</h3>\n",
       "<ul>\n",
       "  <li><b>Scheduler: </b>tcp://127.0.0.1:8786\n",
       "  <li><b>Dashboard: </b><a href='http://127.0.0.1:8787/status' target='_blank'>http://127.0.0.1:8787/status</a>\n",
       "</ul>\n",
       "</td>\n",
       "<td style=\"vertical-align: top; border: 0px solid white\">\n",
       "<h3>Cluster</h3>\n",
       "<ul>\n",
       "  <li><b>Workers: </b>9</li>\n",
       "  <li><b>Cores: </b>20</li>\n",
       "  <li><b>Memory: </b>33.86 GB</li>\n",
       "</ul>\n",
       "</td>\n",
       "</tr>\n",
       "</table>"
      ],
      "text/plain": [
       "<Client: scheduler='tcp://127.0.0.1:8786' processes=9 cores=20>"
      ]
     },
     "execution_count": 1,
     "metadata": {},
     "output_type": "execute_result"
    }
   ],
   "source": [
    "\n",
    "from dask import delayed\n",
    "from dask.distributed import Client\n",
    "client = Client('tcp://127.0.0.1:8786')\n",
    "client"
   ]
  },
  {
   "cell_type": "code",
   "execution_count": 13,
   "metadata": {
    "collapsed": true
   },
   "outputs": [],
   "source": [
    "import dask.array as da\n",
    "x = da.random.normal(0, 1,\n",
    "                     size=(10000,10000),\n",
    "                     chunks=(1000,1000))\n",
    "y = da.random.normal(0, 1,\n",
    "                     size=(10000,10000),\n",
    "                     chunks=(1000,1000))"
   ]
  },
  {
   "cell_type": "code",
   "execution_count": 14,
   "metadata": {
    "collapsed": true
   },
   "outputs": [],
   "source": [
    "fut = da.add(x, y)"
   ]
  },
  {
   "cell_type": "code",
   "execution_count": 15,
   "metadata": {
    "scrolled": true
   },
   "outputs": [
    {
     "name": "stdout",
     "output_type": "stream",
     "text": [
      "CPU times: user 3.92 s, sys: 473 ms, total: 4.39 s\n",
      "Wall time: 16.1 s\n"
     ]
    },
    {
     "data": {
      "text/plain": [
       "array([[ 2.94506724,  0.55293366,  2.24009748, ..., -0.65092664,\n",
       "         0.13888517, -2.48732847],\n",
       "       [-1.58165469,  0.92858242, -0.45942715, ..., -1.88988975,\n",
       "         0.24347023, -0.91622062],\n",
       "       [-0.2081718 ,  1.15824437,  0.39694586, ..., -0.09186442,\n",
       "        -2.35398077, -1.70268025],\n",
       "       ...,\n",
       "       [-1.32555359, -0.38220388, -0.53079881, ...,  0.08681291,\n",
       "         0.22017704, -1.16788347],\n",
       "       [-0.66862862, -0.74969107,  1.09547658, ..., -2.56034439,\n",
       "         0.28949696, -1.09013785],\n",
       "       [-1.17273664, -2.70004756, -1.2849942 , ..., -0.68927224,\n",
       "         0.9723553 ,  1.67687563]])"
      ]
     },
     "execution_count": 15,
     "metadata": {},
     "output_type": "execute_result"
    }
   ],
   "source": [
    "%%time\n",
    "\n",
    "fut.compute()"
   ]
  },
  {
   "cell_type": "code",
   "execution_count": 10,
   "metadata": {},
   "outputs": [
    {
     "data": {
      "text/plain": [
       "array([[-0.66193251, -1.51479627, -0.74445635, ..., -2.93225227,\n",
       "         0.71012575,  1.68719258],\n",
       "       [-0.46295668, -0.38586245,  0.89254703, ..., -1.00436781,\n",
       "        -2.09355964, -0.10001099],\n",
       "       [-0.89314028, -1.01695715,  1.25169945, ..., -0.45270547,\n",
       "         0.55991953, -0.04070415],\n",
       "       ...,\n",
       "       [ 1.09333268, -1.5866086 , -0.86687867, ...,  0.43908248,\n",
       "        -0.2754328 ,  0.54076939],\n",
       "       [ 1.60049933,  0.51630248, -1.22618608, ...,  1.19268607,\n",
       "        -2.86520145, -0.81808505],\n",
       "       [ 0.5488277 ,  1.05052556, -1.75686271, ...,  1.30043438,\n",
       "         0.05799452, -2.30961522]])"
      ]
     },
     "execution_count": 10,
     "metadata": {},
     "output_type": "execute_result"
    }
   ],
   "source": [
    "client.gather(a)\n",
    "\n"
   ]
  }
 ],
 "metadata": {
  "kernelspec": {
   "display_name": "Python 2",
   "language": "python",
   "name": "python2"
  },
  "language_info": {
   "codemirror_mode": {
    "name": "ipython",
    "version": 2
   },
   "file_extension": ".py",
   "mimetype": "text/x-python",
   "name": "python",
   "nbconvert_exporter": "python",
   "pygments_lexer": "ipython2",
   "version": "2.7.12"
  }
 },
 "nbformat": 4,
 "nbformat_minor": 2
}
