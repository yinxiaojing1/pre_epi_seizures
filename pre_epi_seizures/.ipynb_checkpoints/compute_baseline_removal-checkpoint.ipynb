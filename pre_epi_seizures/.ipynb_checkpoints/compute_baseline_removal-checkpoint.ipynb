{
 "cells": [
  {
   "cell_type": "code",
   "execution_count": 31,
   "metadata": {},
   "outputs": [],
   "source": [
    "# python\n",
    "import logging_utils.formatter_logging as log\n",
    "import h5py\n",
    "import seaborn as sns\n",
    "import matplotlib.pyplot as plt\n",
    "import pandas as pd\n",
    "import numpy as np\n",
    "from storage_utils.patients_data_new import patients\n",
    "import os\n",
    "from biosppy.signals import ecg\n",
    "import matplotlylib as pltly"
   ]
  },
  {
   "cell_type": "code",
   "execution_count": 32,
   "metadata": {},
   "outputs": [],
   "source": [
    "# import from filtering folder\n",
    "from Preprocessing import filtering as filt"
   ]
  },
  {
   "cell_type": "code",
   "execution_count": 33,
   "metadata": {},
   "outputs": [],
   "source": [
    "# File path and read mode, I/O cache specs\n",
    "\n",
    "# hdf5 file\n",
    "disk='/mnt/Seagate/'\n",
    "files_dir = 'h5_files_backup/processing_datasets/'\n",
    "file_name = 'seizure_datasets_new.h5'\n",
    "file_path = disk + files_dir + file_name\n",
    "\n",
    "f = h5py.File(file_path, 'a')"
   ]
  },
  {
   "cell_type": "code",
   "execution_count": 34,
   "metadata": {},
   "outputs": [
    {
     "data": {
      "text/plain": [
       "{'ECG leads': ['Ecg', 'ECG-'],\n",
       " 'age': 55,\n",
       " 'dates_of_seizure': [datetime.date(2017, 4, 20),\n",
       "  datetime.date(2017, 4, 20),\n",
       "  datetime.date(2017, 4, 20)],\n",
       " 'ictal_clinical_on_time': [datetime.time(8, 25, 44),\n",
       "  datetime.time(16, 42, 53),\n",
       "  datetime.time(21, 45, 12)],\n",
       " 'ictal_on_time': [datetime.time(8, 25, 41),\n",
       "  datetime.time(16, 41, 35),\n",
       "  datetime.time(21, 43, 55)],\n",
       " 'lateralization_onset': ['RL', 'L'],\n",
       " 'location': ['FTl,Tl-FTr,Tr', 'FTl,Tl', 'Fl,Tl'],\n",
       " 'post_ictal_time': [datetime.time(8, 26, 27),\n",
       "  datetime.time(16, 45, 14),\n",
       "  datetime.time(21, 46, 12)],\n",
       " 'sex': 'f',\n",
       " 'types_of_seizure': ['G-A-M', 'F-NA-M', 'F-A-M']}"
      ]
     },
     "execution_count": 34,
     "metadata": {},
     "output_type": "execute_result"
    }
   ],
   "source": [
    "# Get seizure dataset ID, Patient Number (Primary Key)\n",
    "# and seizure Number (Secondary)\n",
    "patient_number=3\n",
    "seizure_number=0\n",
    "\n",
    "# Get Hospital Info on seizure dataset\n",
    "patient_info = patients[str(patient_number)]\n",
    "patient_info"
   ]
  },
  {
   "cell_type": "code",
   "execution_count": 35,
   "metadata": {},
   "outputs": [],
   "source": [
    "# Get necessary input feature datasets\n",
    "\n",
    "# feature of analysis (INPUT)\n",
    "feature_name=('signals/3000_1200'\n",
    "              '/raw')\n",
    "\n",
    "seizures = f[feature_name].keys()\n",
    "\n",
    "# get seizures from patient\n",
    "seizure_from_patient = [seizure\n",
    "                         for seizure in seizures\n",
    "                         if seizure.split('_')[0] == str(patient_number)\n",
    "                         ]\n",
    "\n",
    "seizure_name = seizure_from_patient[seizure_number]\n",
    "\n",
    "# Get hdf dataset\n",
    "seizure_hdfdataset = f[feature_name + '/' + seizure_name]\n",
    "time_domain_hdfdataset = f[feature_name + '/' + 'time_domain_' + seizure_name]\n",
    "\n",
    "# load the datasets to memory\n",
    "seizure_dataset = seizure_hdfdataset[:]\n",
    "time_domain = time_domain_hdfdataset[:]\n",
    "\n",
    "# Load the array into unidimensional signal, since it is unidimensional ECG\n",
    "raw_ecg = seizure_dataset\n",
    "raw_time_sec = time_domain"
   ]
  },
  {
   "cell_type": "code",
   "execution_count": 6,
   "metadata": {},
   "outputs": [
    {
     "data": {
      "image/png": "[encoded data removed]",
      "text/plain": [
       "<Figure size 432x288 with 1 Axes>"
      ]
     },
     "metadata": {},
     "output_type": "display_data"
    }
   ],
   "source": [
    "# Test correct input by ploting\n",
    "plt.figure()\n",
    "plt.plot(raw_time_sec, raw_ecg)\n",
    "plt.show()"
   ]
  },
  {
   "cell_type": "code",
   "execution_count": 22,
   "metadata": {},
   "outputs": [],
   "source": [
    "# State Hyper Parameters of feature extraction (Transformation)\n",
    "sampling_rate=1000"
   ]
  },
  {
   "cell_type": "code",
   "execution_count": 23,
   "metadata": {},
   "outputs": [
    {
     "name": "stdout",
     "output_type": "stream",
     "text": [
      "Baseline_removal\n",
      "done\n"
     ]
    }
   ],
   "source": [
    "# Apply Median Filter and subsequent Low-pass FIR\n",
    "\n",
    "medianFIR_ecg = filt.create_filtered_dataset(raw_ecg, filtmethod='medianFIR',\n",
    "                                             sampling_rate=sampling_rate)\n",
    "medianFIR_ecg_time_sec = raw_time_sec"
   ]
  },
  {
   "cell_type": "code",
   "execution_count": 36,
   "metadata": {},
   "outputs": [
    {
     "name": "stdout",
     "output_type": "stream",
     "text": [
      "Deleting: signals/3000_1200/raw/MedianFIR/3_FA7774DK_2017-04-20 07:38:44.000000_0\n",
      "\"Couldn't delete link (component not found)\"\n",
      "name 'time_window_seizure_dataset_name' is not defined\n",
      "Could Not Delete! the time window\n"
     ]
    }
   ],
   "source": [
    "# Apply pre-defined structure for ETL pipeline (OUTPUT) \n",
    "\n",
    "# Allocate feature space name\n",
    "medianFIR_name = feature_name + '/' + 'MedianFIR'\n",
    "feature_name_for_struct = 'MedianFIR' \n",
    "\n",
    "# Allocate seizure dataset name\n",
    "seizure_dataset_name = medianFIR_name + '/' + seizure_name\n",
    "time_domain_seizure_dataset_name = medianFIR_name + '/' + 'time_window_' + seizure_name\n",
    "\n",
    "# Restructure the dataset\n",
    "median_FIR_feature_array = np.asarray([medianFIR_ecg])\n",
    "\n",
    "# Cache data to disk, in the same hdffile: Overwrites by default\n",
    "try:\n",
    "    print 'Deleting: {}'.format(seizure_dataset_name) \n",
    "    del f[seizure_dataset_name]\n",
    "\n",
    "except Exception as e:\n",
    "    print e\n",
    "    \n",
    "try:\n",
    "    print 'Deleting: {}'.format(time_window_seizure_dataset_name) \n",
    "    del f[time_domain_seizure_dataset_name]\n",
    "\n",
    "except Exception as e:\n",
    "    print e\n",
    "    print 'Could Not Delete! the time window'\n",
    "    \n",
    "# Save datasets to disk\n",
    "\n",
    "print 'Saving the datasets...'\n",
    "dset = f.create_dataset(seizure_dataset_name,\n",
    "                        data=median_FIR_feature_array)\n",
    "time_dset = f.create_dataset(time_domain_seizure_dataset_name, \n",
    "                             data=medianFIR_ecg_time_sec)\n",
    "print 'Done !'\n",
    "\n",
    "# add metadata\n",
    "dset.attrs['feature_legend'] = feature_name_for_struct\n",
    "time_dset.attrs['feature_legend'] = feature_name_for_struct"
   ]
  },
  {
   "cell_type": "code",
   "execution_count": 37,
   "metadata": {},
   "outputs": [],
   "source": [
    "f.close()"
   ]
  }
 ],
 "metadata": {
  "kernelspec": {
   "display_name": "Python 2",
   "language": "python",
   "name": "python2"
  },
  "language_info": {
   "codemirror_mode": {
    "name": "ipython",
    "version": 2
   },
   "file_extension": ".py",
   "mimetype": "text/x-python",
   "name": "python",
   "nbconvert_exporter": "python",
   "pygments_lexer": "ipython2",
   "version": "2.7.12"
  }
 },
 "nbformat": 4,
 "nbformat_minor": 2
}
