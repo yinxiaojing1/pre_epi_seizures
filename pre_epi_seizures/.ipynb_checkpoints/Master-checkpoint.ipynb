{
 "cells": [
  {
   "cell_type": "code",
   "execution_count": 1,
   "metadata": {},
   "outputs": [
    {
     "name": "stderr",
     "output_type": "stream",
     "text": [
      "/home/franciscosargo/.virtualenvs/pre_epi_seizures/local/lib/python2.7/site-packages/h5py/__init__.py:34: FutureWarning: Conversion of the second argument of issubdtype from `float` to `np.floating` is deprecated. In future, it will be treated as `np.float64 == np.dtype(float).type`.\n",
      "  from ._conv import register_converters as _register_converters\n"
     ]
    }
   ],
   "source": [
    "# Import for I/O \n",
    "from storage_utils_nihon_khoden import *\n",
    "from create_datasets_nk import *\n",
    "from create_free_datasets_nk import *"
   ]
  },
  {
   "cell_type": "code",
   "execution_count": 2,
   "metadata": {
    "collapsed": true
   },
   "outputs": [],
   "source": [
    "# State the parameters of the pipeline\n",
    "patient_list = [10]\n",
    "disk = '/mnt/pre_epi_seizures/'\n",
    "baseline_files = 'h5_files/processing_datasets/baseline_datasets_new'\n",
    "seizure_files = 'h5_files/processing_datasets/seizure_datasets_new'\n",
    "time_before_seizure = 50 * 60\n",
    "time_after_seizure = 20 * 60\n",
    "time_baseline = 4 * 60 * 60\n"
   ]
  },
  {
   "cell_type": "code",
   "execution_count": 3,
   "metadata": {
    "scrolled": true
   },
   "outputs": [
    {
     "name": "stderr",
     "output_type": "stream",
     "text": [
      "[2018-04-10 04:01:07.944303]:create_seizure_dataset_patient:10:searching all files\n",
      "[2018-04-10 04:01:08.580075]:create_seizure_dataset_patient:10:ReturnTuple(signals=[('PATIENT10', u'FA7773VJ_ECG-_2016-09-15 00:58:53.000000'), ('PATIENT10', u'FA7773VJ_Ecg_2016-09-15 00:58:53.000000'), ('PATIENT10', u'FA7773VK_ECG-_2016-09-15 02:59:06.000000'), ('PATIENT10', u'FA7773VK_Ecg_2016-09-15 02:59:06.000000'), ('PATIENT10', u'FA7773VL_ECG-_2016-09-15 04:59:20.000000'), ('PATIENT10', u'FA7773VL_Ecg_2016-09-15 04:59:20.000000'), ('PATIENT10', u'FA7773VM_ECG-_2016-09-15 06:59:32.000000'), ('PATIENT10', u'FA7773VM_Ecg_2016-09-15 06:59:32.000000'), ('PATIENT10', u'FA7773VO_ECG-_2016-09-15 10:59:58.000000'), ('PATIENT10', u'FA7773VO_Ecg_2016-09-15 10:59:58.000000'), ('PATIENT10', u'FA7773VP_ECG-_2016-09-15 13:00:11.000000'), ('PATIENT10', u'FA7773VP_Ecg_2016-09-15 13:00:11.000000'), ('PATIENT10', u'FA7773VQ_ECG-_2016-09-15 15:00:25.000000'), ('PATIENT10', u'FA7773VQ_Ecg_2016-09-15 15:00:25.000000'), ('PATIENT10', u'FA7773VR_ECG-_2016-09-15 17:00:38.000000'), ('PATIENT10', u'FA7773VR_Ecg_2016-09-15 17:00:38.000000'), ('PATIENT10', u'FA7773VS_ECG-_2016-09-15 19:00:50.000000'), ('PATIENT10', u'FA7773VS_Ecg_2016-09-15 19:00:50.000000'), ('PATIENT10', u'FA7773VT_ECG-_2016-09-15 21:01:04.000000'), ('PATIENT10', u'FA7773VT_Ecg_2016-09-15 21:01:04.000000')])\n",
      "[2018-04-10 04:01:08.587994]:create_seizure_dataset_patient:10:[(('PATIENT10', u'FA7773VL_ECG-_2016-09-15 04:59:20.000000'), 0), (('PATIENT10', u'FA7773VL_Ecg_2016-09-15 04:59:20.000000'), 0), (('PATIENT10', u'FA7773VM_ECG-_2016-09-15 06:59:32.000000'), 1), (('PATIENT10', u'FA7773VM_Ecg_2016-09-15 06:59:32.000000'), 1), (('PATIENT10', u'FA7773VO_ECG-_2016-09-15 10:59:58.000000'), 2), (('PATIENT10', u'FA7773VO_Ecg_2016-09-15 10:59:58.000000'), 2), (('PATIENT10', u'FA7773VR_ECG-_2016-09-15 17:00:38.000000'), 3), (('PATIENT10', u'FA7773VR_Ecg_2016-09-15 17:00:38.000000'), 3)]\n",
      "[2018-04-10 04:01:08.588640]:get_signal:20:Loading [signal: FA7773VL_ECG-_2016-09-15 04:59:20.000000][group: PATIENT10]\n"
     ]
    },
    {
     "name": "stdout",
     "output_type": "stream",
     "text": [
      "{'propagation': [], 'ictal_on_time': [datetime.time(6, 44), datetime.time(10, 2, 45), datetime.time(12, 4, 16), datetime.time(17, 24, 57)], 'post_ictal_time': [datetime.time(6, 46, 29), datetime.time(10, 4, 1), datetime.time(12, 7, 38), datetime.time(17, 25, 12)], 'location': [''], 'dates_of_seizure': [datetime.date(2016, 9, 15), datetime.date(2016, 9, 15), datetime.date(2016, 9, 15), datetime.date(2016, 9, 15)], 'age': 55, 'ictal_clinical_on_time': [datetime.time(6, 44, 7), datetime.time(10, 2, 46), datetime.time(12, 4, 6), datetime.time(17, 24, 58)], 'types_of_seizure': ['F', 'F', 'F', 'F'], 'sex': 'm'}\n",
      "ReturnTuple(signals=[('PATIENT10', u'FA7773VJ_ECG-_2016-09-15 00:58:53.000000'), ('PATIENT10', u'FA7773VJ_Ecg_2016-09-15 00:58:53.000000'), ('PATIENT10', u'FA7773VK_ECG-_2016-09-15 02:59:06.000000'), ('PATIENT10', u'FA7773VK_Ecg_2016-09-15 02:59:06.000000'), ('PATIENT10', u'FA7773VL_ECG-_2016-09-15 04:59:20.000000'), ('PATIENT10', u'FA7773VL_Ecg_2016-09-15 04:59:20.000000'), ('PATIENT10', u'FA7773VM_ECG-_2016-09-15 06:59:32.000000'), ('PATIENT10', u'FA7773VM_Ecg_2016-09-15 06:59:32.000000'), ('PATIENT10', u'FA7773VO_ECG-_2016-09-15 10:59:58.000000'), ('PATIENT10', u'FA7773VO_Ecg_2016-09-15 10:59:58.000000'), ('PATIENT10', u'FA7773VP_ECG-_2016-09-15 13:00:11.000000'), ('PATIENT10', u'FA7773VP_Ecg_2016-09-15 13:00:11.000000'), ('PATIENT10', u'FA7773VQ_ECG-_2016-09-15 15:00:25.000000'), ('PATIENT10', u'FA7773VQ_Ecg_2016-09-15 15:00:25.000000'), ('PATIENT10', u'FA7773VR_ECG-_2016-09-15 17:00:38.000000'), ('PATIENT10', u'FA7773VR_Ecg_2016-09-15 17:00:38.000000'), ('PATIENT10', u'FA7773VS_ECG-_2016-09-15 19:00:50.000000'), ('PATIENT10', u'FA7773VS_Ecg_2016-09-15 19:00:50.000000'), ('PATIENT10', u'FA7773VT_ECG-_2016-09-15 21:01:04.000000'), ('PATIENT10', u'FA7773VT_Ecg_2016-09-15 21:01:04.000000')])\n",
      "many files\n",
      "{'propagation': [], 'ictal_on_time': [datetime.time(6, 44), datetime.time(10, 2, 45), datetime.time(12, 4, 16), datetime.time(17, 24, 57)], 'post_ictal_time': [datetime.time(6, 46, 29), datetime.time(10, 4, 1), datetime.time(12, 7, 38), datetime.time(17, 25, 12)], 'location': [''], 'dates_of_seizure': [datetime.date(2016, 9, 15), datetime.date(2016, 9, 15), datetime.date(2016, 9, 15), datetime.date(2016, 9, 15)], 'age': 55, 'ictal_clinical_on_time': [datetime.time(6, 44, 7), datetime.time(10, 2, 46), datetime.time(12, 4, 6), datetime.time(17, 24, 58)], 'types_of_seizure': ['F', 'F', 'F', 'F'], 'sex': 'm'}\n",
      "\n",
      "------------\n",
      "creating raw dataset\n",
      "0\n",
      "('PATIENT10', u'FA7773VL_ECG-_2016-09-15 04:59:20.000000')\n",
      "-------------\n",
      "\n"
     ]
    },
    {
     "name": "stderr",
     "output_type": "stream",
     "text": [
      "[2018-04-10 04:01:09.261996]:get_signal:20:Loading [signal: FA7773VL_Ecg_2016-09-15 04:59:20.000000][group: PATIENT10]\n"
     ]
    },
    {
     "name": "stdout",
     "output_type": "stream",
     "text": [
      "('PATIENT10', u'FA7773VL_Ecg_2016-09-15 04:59:20.000000')\n"
     ]
    },
    {
     "name": "stderr",
     "output_type": "stream",
     "text": [
      "[2018-04-10 04:01:09.963474]:add_signal:20:Saving [signal: 10_FA7773VL_ECG-_2016-09-15 04:59:20.000000_0][group: /3000_1200/raw_$beginwin_samplerate:1000_win:0.001_init:0_finish:4200_endwin$__$beginparams_param:None_endparam$_]\n",
      "[2018-04-10 04:01:10.006136]:add_signal:10:Unable to create link (Name already exists)\n",
      "[2018-04-10 04:01:10.038556]:get_signal:20:Loading [signal: FA7773VL_Ecg_2016-09-15 04:59:20.000000][group: PATIENT10]\n",
      "[2018-04-10 04:01:10.056265]:get_signal:20:Loading [signal: FA7773VM_ECG-_2016-09-15 06:59:32.000000][group: PATIENT10]\n"
     ]
    },
    {
     "name": "stdout",
     "output_type": "stream",
     "text": [
      "[(u'FA7773VL_ECG-_2016-09-15 04:59:20.000000_0', array([ -4.88298412,  -2.14860926,   2.53889049, ..., 120.11700917,\n",
      "       116.60138436, 126.0740401 ]))]\n",
      "\n",
      "------------\n",
      "creating raw dataset\n",
      "0\n",
      "('PATIENT10', u'FA7773VL_Ecg_2016-09-15 04:59:20.000000')\n",
      "-------------\n",
      "\n",
      "('PATIENT10', u'FA7773VM_ECG-_2016-09-15 06:59:32.000000')\n"
     ]
    },
    {
     "name": "stderr",
     "output_type": "stream",
     "text": [
      "[2018-04-10 04:01:10.796189]:add_signal:20:Saving [signal: 10_FA7773VL_Ecg_2016-09-15 04:59:20.000000_0][group: /3000_1200/raw_$beginwin_samplerate:1000_win:0.001_init:0_finish:4200_endwin$__$beginparams_param:None_endparam$_]\n",
      "[2018-04-10 04:01:10.894334]:add_signal:10:Unable to create link (Name already exists)\n",
      "[2018-04-10 04:01:10.939165]:get_signal:20:Loading [signal: FA7773VM_ECG-_2016-09-15 06:59:32.000000][group: PATIENT10]\n",
      "[2018-04-10 04:01:10.960445]:get_signal:20:Loading [signal: FA7773VM_Ecg_2016-09-15 06:59:32.000000][group: PATIENT10]\n"
     ]
    },
    {
     "name": "stdout",
     "output_type": "stream",
     "text": [
      "[(u'FA7773VL_Ecg_2016-09-15 04:59:20.000000_0', array([-61.91423105, -60.35173114, -60.64469987, ..., -75.9767303 ,\n",
      "       -48.0470443 , -32.61735763]))]\n",
      "\n",
      "------------\n",
      "creating raw dataset\n",
      "1\n",
      "('PATIENT10', u'FA7773VM_ECG-_2016-09-15 06:59:32.000000')\n",
      "-------------\n",
      "\n",
      "('PATIENT10', u'FA7773VM_Ecg_2016-09-15 06:59:32.000000')\n"
     ]
    },
    {
     "name": "stderr",
     "output_type": "stream",
     "text": [
      "[2018-04-10 04:01:11.667602]:add_signal:20:Saving [signal: 10_FA7773VM_ECG-_2016-09-15 06:59:32.000000_1][group: /3000_1200/raw_$beginwin_samplerate:1000_win:0.001_init:0_finish:4200_endwin$__$beginparams_param:None_endparam$_]\n",
      "[2018-04-10 04:01:11.723648]:add_signal:10:Unable to create link (Name already exists)\n",
      "[2018-04-10 04:01:11.753084]:get_signal:20:Loading [signal: FA7773VM_Ecg_2016-09-15 06:59:32.000000][group: PATIENT10]\n",
      "[2018-04-10 04:01:11.770042]:get_signal:20:Loading [signal: FA7773VO_ECG-_2016-09-15 10:59:58.000000][group: PATIENT10]\n"
     ]
    },
    {
     "name": "stdout",
     "output_type": "stream",
     "text": [
      "[(u'FA7773VM_ECG-_2016-09-15 06:59:32.000000_1', array([ -5.0782966 ,  -2.92985922,  -6.25017154, ..., -18.55485838,\n",
      "       -19.62907707, -20.70329577]))]\n",
      "\n",
      "------------\n",
      "creating raw dataset\n",
      "1\n",
      "('PATIENT10', u'FA7773VM_Ecg_2016-09-15 06:59:32.000000')\n",
      "-------------\n",
      "\n",
      "('PATIENT10', u'FA7773VO_ECG-_2016-09-15 10:59:58.000000')\n"
     ]
    },
    {
     "name": "stderr",
     "output_type": "stream",
     "text": [
      "[2018-04-10 04:01:12.479378]:add_signal:20:Saving [signal: 10_FA7773VM_Ecg_2016-09-15 06:59:32.000000_1][group: /3000_1200/raw_$beginwin_samplerate:1000_win:0.001_init:0_finish:4200_endwin$__$beginparams_param:None_endparam$_]\n",
      "[2018-04-10 04:01:12.535505]:add_signal:10:Unable to create link (Name already exists)\n",
      "[2018-04-10 04:01:12.565000]:get_signal:20:Loading [signal: FA7773VO_ECG-_2016-09-15 10:59:58.000000][group: PATIENT10]\n",
      "[2018-04-10 04:01:12.593189]:add_signal:20:Saving [signal: 10_FA7773VO_ECG-_2016-09-15 10:59:58.000000_2][group: /3000_1200/raw_$beginwin_samplerate:1000_win:0.001_init:0_finish:4200_endwin$__$beginparams_param:None_endparam$_]\n",
      "[2018-04-10 04:01:12.649442]:add_signal:10:Unable to create link (Name already exists)\n"
     ]
    },
    {
     "name": "stdout",
     "output_type": "stream",
     "text": [
      "[(u'FA7773VM_Ecg_2016-09-15 06:59:32.000000_1', array([ 58.78888746,  45.80060691,  28.41779535, ..., 380.2732452 ,\n",
      "       604.29667066, 787.30447333]))]\n",
      "\n",
      "------------\n",
      "creating raw dataset\n",
      "2\n",
      "('PATIENT10', u'FA7773VO_ECG-_2016-09-15 10:59:58.000000')\n",
      "-------------\n",
      "\n",
      "[(u'FA7773VO_ECG-_2016-09-15 10:59:58.000000_2', array([-597.07045231, -639.74623127, -693.45716588, ..., -181.44547463,\n",
      "       -182.71500581, -183.30094328]))]\n"
     ]
    },
    {
     "name": "stderr",
     "output_type": "stream",
     "text": [
      "[2018-04-10 04:01:12.677290]:get_signal:20:Loading [signal: FA7773VO_Ecg_2016-09-15 10:59:58.000000][group: PATIENT10]\n"
     ]
    },
    {
     "name": "stdout",
     "output_type": "stream",
     "text": [
      "\n",
      "------------\n",
      "creating raw dataset\n",
      "2\n",
      "('PATIENT10', u'FA7773VO_Ecg_2016-09-15 10:59:58.000000')\n",
      "-------------\n",
      "\n"
     ]
    },
    {
     "name": "stderr",
     "output_type": "stream",
     "text": [
      "[2018-04-10 04:01:13.333982]:add_signal:20:Saving [signal: 10_FA7773VO_Ecg_2016-09-15 10:59:58.000000_2][group: /3000_1200/raw_$beginwin_samplerate:1000_win:0.001_init:0_finish:4200_endwin$__$beginparams_param:None_endparam$_]\n",
      "[2018-04-10 04:01:13.436555]:add_signal:10:Unable to create link (Name already exists)\n",
      "[2018-04-10 04:01:13.464356]:get_signal:20:Loading [signal: FA7773VR_ECG-_2016-09-15 17:00:38.000000][group: PATIENT10]\n"
     ]
    },
    {
     "name": "stdout",
     "output_type": "stream",
     "text": [
      "[(u'FA7773VO_Ecg_2016-09-15 10:59:58.000000_2', array([ -46.19157565,  -54.98063767,  -50.39079417, ..., -114.84391571,\n",
      "       -115.0392282 , -116.69938436]))]\n",
      "\n",
      "------------\n",
      "creating raw dataset\n",
      "3\n",
      "('PATIENT10', u'FA7773VR_ECG-_2016-09-15 17:00:38.000000')\n",
      "-------------\n",
      "\n"
     ]
    },
    {
     "name": "stderr",
     "output_type": "stream",
     "text": [
      "[2018-04-10 04:01:14.360574]:get_signal:20:Loading [signal: FA7773VQ_ECG-_2016-09-15 15:00:25.000000][group: PATIENT10]\n",
      "[2018-04-10 04:01:15.449370]:add_signal:20:Saving [signal: 10_FA7773VR_ECG-_2016-09-15 17:00:38.000000_3][group: /3000_1200/raw_$beginwin_samplerate:1000_win:0.001_init:0_finish:4200_endwin$__$beginparams_param:None_endparam$_]\n",
      "[2018-04-10 04:01:15.515109]:add_signal:10:Unable to create link (Name already exists)\n",
      "[2018-04-10 04:01:15.544332]:get_signal:20:Loading [signal: FA7773VR_Ecg_2016-09-15 17:00:38.000000][group: PATIENT10]\n"
     ]
    },
    {
     "name": "stdout",
     "output_type": "stream",
     "text": [
      "[(u'FA7773VR_ECG-_2016-09-15 17:00:38.000000_3', array([-572.36342238, -572.46107863, -571.28920369, ...,   49.90216919,\n",
      "         44.82404446,   38.47638856]))]\n",
      "\n",
      "------------\n",
      "creating raw dataset\n",
      "3\n",
      "('PATIENT10', u'FA7773VR_Ecg_2016-09-15 17:00:38.000000')\n",
      "-------------\n",
      "\n"
     ]
    },
    {
     "name": "stderr",
     "output_type": "stream",
     "text": [
      "[2018-04-10 04:01:16.346345]:get_signal:20:Loading [signal: FA7773VQ_Ecg_2016-09-15 15:00:25.000000][group: PATIENT10]\n",
      "[2018-04-10 04:01:17.089088]:add_signal:20:Saving [signal: 10_FA7773VR_Ecg_2016-09-15 17:00:38.000000_3][group: /3000_1200/raw_$beginwin_samplerate:1000_win:0.001_init:0_finish:4200_endwin$__$beginparams_param:None_endparam$_]\n",
      "[2018-04-10 04:01:17.154196]:add_signal:10:Unable to create link (Name already exists)\n",
      "[2018-04-10 04:01:17.200059]:get_signal:20:Loading [signal: FA7773VJ_ECG-_2016-09-15 00:58:53.000000][group: PATIENT10]\n"
     ]
    },
    {
     "name": "stdout",
     "output_type": "stream",
     "text": [
      "[(u'FA7773VR_Ecg_2016-09-15 17:00:38.000000_3', array([-418.75014939, -434.47280479, -438.08608585, ...,  -30.66423273,\n",
      "        -34.9611075 ,  -37.10954488]))]\n",
      "{'propagation': [], 'ictal_on_time': [datetime.time(6, 44), datetime.time(10, 2, 45), datetime.time(12, 4, 16), datetime.time(17, 24, 57)], 'post_ictal_time': [datetime.time(6, 46, 29), datetime.time(10, 4, 1), datetime.time(12, 7, 38), datetime.time(17, 25, 12)], 'location': [''], 'dates_of_seizure': [datetime.date(2016, 9, 15), datetime.date(2016, 9, 15), datetime.date(2016, 9, 15), datetime.date(2016, 9, 15)], 'age': 55, 'ictal_clinical_on_time': [datetime.time(6, 44, 7), datetime.time(10, 2, 46), datetime.time(12, 4, 6), datetime.time(17, 24, 58)], 'types_of_seizure': ['F', 'F', 'F', 'F'], 'sex': 'm'}\n"
     ]
    },
    {
     "name": "stderr",
     "output_type": "stream",
     "text": [
      "[2018-04-10 04:01:17.869722]:get_signal:20:Loading [signal: FA7773VJ_Ecg_2016-09-15 00:58:53.000000][group: PATIENT10]\n",
      "[2018-04-10 04:01:18.567796]:get_signal:20:Loading [signal: FA7773VK_ECG-_2016-09-15 02:59:06.000000][group: PATIENT10]\n",
      "[2018-04-10 04:01:19.228481]:get_signal:20:Loading [signal: FA7773VK_Ecg_2016-09-15 02:59:06.000000][group: PATIENT10]\n",
      "[2018-04-10 04:01:19.841482]:add_signal:20:Saving [signal: 10_FA7773VJ_ECG-_2016-09-15 00:58:53.000000][group: /raw_$beginwin_samplerate:1000_win:0.001_init:0_finish:7200_endwin$__$beginparams_param:None_endparam$_]\n",
      "[2018-04-10 04:01:20.012663]:add_signal:10:Unable to create link (Name already exists)\n",
      "[2018-04-10 04:01:20.015125]:add_signal:20:Saving [signal: 10_FA7773VJ_Ecg_2016-09-15 00:58:53.000000][group: /raw_$beginwin_samplerate:1000_win:0.001_init:0_finish:7200_endwin$__$beginparams_param:None_endparam$_]\n",
      "[2018-04-10 04:01:20.055835]:add_signal:10:Unable to create link (Name already exists)\n",
      "[2018-04-10 04:01:20.056348]:add_signal:20:Saving [signal: 10_FA7773VK_ECG-_2016-09-15 02:59:06.000000][group: /raw_$beginwin_samplerate:1000_win:0.001_init:0_finish:7200_endwin$__$beginparams_param:None_endparam$_]\n",
      "[2018-04-10 04:01:20.094085]:add_signal:10:Unable to create link (Name already exists)\n",
      "[2018-04-10 04:01:20.094593]:add_signal:20:Saving [signal: 10_FA7773VK_Ecg_2016-09-15 02:59:06.000000][group: /raw_$beginwin_samplerate:1000_win:0.001_init:0_finish:7200_endwin$__$beginparams_param:None_endparam$_]\n",
      "[2018-04-10 04:01:20.132366]:add_signal:10:Unable to create link (Name already exists)\n"
     ]
    }
   ],
   "source": [
    "# Create Raw ECG datasets\n",
    "\n",
    "\n",
    "create_raw=False\n",
    "if create_raw:\n",
    "    create_datasets_nk(disk, time_before_seizure, time_after_seizure,\n",
    "                       patient_list)\n",
    "\n",
    "    create_free_datasets_nk(disk, time_baseline, patient_list)\n",
    "\n"
   ]
  },
  {
   "cell_type": "code",
   "execution_count": 4,
   "metadata": {
    "scrolled": true
   },
   "outputs": [
    {
     "name": "stdout",
     "output_type": "stream",
     "text": [
      "Saving to txt\n"
     ]
    },
    {
     "ename": "KeyboardInterrupt",
     "evalue": "",
     "output_type": "error",
     "traceback": [
      "\u001b[0;31m---------------------------------------------------------------------------\u001b[0m",
      "\u001b[0;31mKeyboardInterrupt\u001b[0m                         Traceback (most recent call last)",
      "\u001b[0;32m<ipython-input-4-3ba16bd34a96>\u001b[0m in \u001b[0;36m<module>\u001b[0;34m()\u001b[0m\n\u001b[1;32m      1\u001b[0m \u001b[0;32mfrom\u001b[0m \u001b[0mpre_processing\u001b[0m \u001b[0;32mimport\u001b[0m \u001b[0m_main\u001b[0m\u001b[0;34m\u001b[0m\u001b[0m\n\u001b[0;32m----> 2\u001b[0;31m \u001b[0m_main\u001b[0m\u001b[0;34m(\u001b[0m\u001b[0mdisk\u001b[0m\u001b[0;34m,\u001b[0m \u001b[0mseizure_files\u001b[0m\u001b[0;34m)\u001b[0m\u001b[0;34m\u001b[0m\u001b[0m\n\u001b[0m\u001b[1;32m      3\u001b[0m \u001b[0m_main\u001b[0m\u001b[0;34m(\u001b[0m\u001b[0mdisk\u001b[0m\u001b[0;34m,\u001b[0m \u001b[0mbaseline_files\u001b[0m\u001b[0;34m)\u001b[0m\u001b[0;34m\u001b[0m\u001b[0m\n",
      "\u001b[0;32m/home/franciscosargo/pre_epi_seizures/pre_epi_seizures/pre_processing.py\u001b[0m in \u001b[0;36m_main\u001b[0;34m(disk, dataset_files_path, **kwargs)\u001b[0m\n\u001b[1;32m    380\u001b[0m                          \u001b[0mfiles\u001b[0m\u001b[0;34m=\u001b[0m\u001b[0mfiles\u001b[0m\u001b[0;34m,\u001b[0m\u001b[0;34m\u001b[0m\u001b[0m\n\u001b[1;32m    381\u001b[0m                          \u001b[0mfeature_group_to_process\u001b[0m\u001b[0;34m=\u001b[0m\u001b[0mraw_group\u001b[0m\u001b[0;34m,\u001b[0m\u001b[0;34m\u001b[0m\u001b[0m\n\u001b[0;32m--> 382\u001b[0;31m                          param_filt = param_filt)\n\u001b[0m\u001b[1;32m    383\u001b[0m \u001b[0;34m\u001b[0m\u001b[0m\n\u001b[1;32m    384\u001b[0m \u001b[0;34m\u001b[0m\u001b[0m\n",
      "\u001b[0;32m/home/franciscosargo/pre_epi_seizures/pre_epi_seizures/pre_processing.py\u001b[0m in \u001b[0;36mload_feature\u001b[0;34m(path_to_load, path_to_map, feature_to_load, files, sampling_rate, **feature_groups_required)\u001b[0m\n\u001b[1;32m    262\u001b[0m \u001b[0;34m\u001b[0m\u001b[0m\n\u001b[1;32m    263\u001b[0m     \u001b[0;32mif\u001b[0m \u001b[0mfiles\u001b[0m\u001b[0;34m==\u001b[0m\u001b[0;34m'just_new'\u001b[0m\u001b[0;34m:\u001b[0m\u001b[0;34m\u001b[0m\u001b[0m\n\u001b[0;32m--> 264\u001b[0;31m         \u001b[0mnames_already_processed\u001b[0m \u001b[0;34m=\u001b[0m \u001b[0mget_names\u001b[0m\u001b[0;34m(\u001b[0m\u001b[0mlist_group_signals\u001b[0m\u001b[0;34m(\u001b[0m\u001b[0mpath_to_load\u001b[0m\u001b[0;34m,\u001b[0m \u001b[0mfeature_group_to_save\u001b[0m\u001b[0;34m[\u001b[0m\u001b[0;36m0\u001b[0m\u001b[0;34m]\u001b[0m\u001b[0;34m)\u001b[0m\u001b[0;34m[\u001b[0m\u001b[0;34m'signals'\u001b[0m\u001b[0;34m]\u001b[0m\u001b[0;34m)\u001b[0m\u001b[0;34m\u001b[0m\u001b[0m\n\u001b[0m\u001b[1;32m    265\u001b[0m         \u001b[0mnames_to_save\u001b[0m \u001b[0;34m=\u001b[0m \u001b[0mget_names\u001b[0m\u001b[0;34m(\u001b[0m\u001b[0mlist_group_signals\u001b[0m\u001b[0;34m(\u001b[0m\u001b[0mpath_to_load\u001b[0m\u001b[0;34m,\u001b[0m \u001b[0mfeature_group_to_process\u001b[0m\u001b[0;34m)\u001b[0m\u001b[0;34m[\u001b[0m\u001b[0;34m'signals'\u001b[0m\u001b[0;34m]\u001b[0m\u001b[0;34m)\u001b[0m\u001b[0;34m\u001b[0m\u001b[0m\n\u001b[1;32m    266\u001b[0m         \u001b[0mnames_to_save\u001b[0m \u001b[0;34m=\u001b[0m \u001b[0;34m[\u001b[0m\u001b[0mname\u001b[0m \u001b[0;32mfor\u001b[0m \u001b[0mname\u001b[0m \u001b[0;32min\u001b[0m \u001b[0mnames_to_save\u001b[0m \u001b[0;32mif\u001b[0m \u001b[0mname\u001b[0m \u001b[0;32mnot\u001b[0m \u001b[0;32min\u001b[0m \u001b[0mnames_already_processed\u001b[0m\u001b[0;34m]\u001b[0m\u001b[0;34m\u001b[0m\u001b[0m\n",
      "\u001b[0;32m/home/franciscosargo/pre_epi_seizures/pre_epi_seizures/storage_utils/storage_utils_hdf5.pyc\u001b[0m in \u001b[0;36mlist_group_signals\u001b[0;34m(path, group)\u001b[0m\n\u001b[1;32m     76\u001b[0m     \u001b[0mopened_file\u001b[0m \u001b[0;34m=\u001b[0m \u001b[0mst_hdf5\u001b[0m\u001b[0;34m.\u001b[0m\u001b[0mHDF\u001b[0m\u001b[0;34m(\u001b[0m\u001b[0mpath\u001b[0m\u001b[0;34m,\u001b[0m \u001b[0;34m'r'\u001b[0m\u001b[0;34m)\u001b[0m\u001b[0;34m\u001b[0m\u001b[0m\n\u001b[1;32m     77\u001b[0m     \u001b[0;32mtry\u001b[0m\u001b[0;34m:\u001b[0m\u001b[0;34m\u001b[0m\u001b[0m\n\u001b[0;32m---> 78\u001b[0;31m         \u001b[0mlist_signals\u001b[0m \u001b[0;34m=\u001b[0m \u001b[0mopened_file\u001b[0m\u001b[0;34m.\u001b[0m\u001b[0mlist_signals\u001b[0m\u001b[0;34m(\u001b[0m\u001b[0mgroup\u001b[0m\u001b[0;34m=\u001b[0m\u001b[0mgroup\u001b[0m\u001b[0;34m,\u001b[0m \u001b[0mrecursive\u001b[0m\u001b[0;34m=\u001b[0m\u001b[0mFalse\u001b[0m\u001b[0;34m)\u001b[0m\u001b[0;34m\u001b[0m\u001b[0m\n\u001b[0m\u001b[1;32m     79\u001b[0m     \u001b[0;32mexcept\u001b[0m \u001b[0mException\u001b[0m \u001b[0;32mas\u001b[0m \u001b[0me\u001b[0m\u001b[0;34m:\u001b[0m\u001b[0;34m\u001b[0m\u001b[0m\n\u001b[1;32m     80\u001b[0m         \u001b[0;32mprint\u001b[0m \u001b[0me\u001b[0m\u001b[0;34m\u001b[0m\u001b[0m\n",
      "\u001b[0;32m/home/franciscosargo/.virtualenvs/pre_epi_seizures/local/lib/python2.7/site-packages/biosppy/storage.pyc\u001b[0m in \u001b[0;36mlist_signals\u001b[0;34m(self, group, recursive)\u001b[0m\n\u001b[1;32m    765\u001b[0m \u001b[0;34m\u001b[0m\u001b[0m\n\u001b[1;32m    766\u001b[0m         \u001b[0mout\u001b[0m \u001b[0;34m=\u001b[0m \u001b[0;34m[\u001b[0m\u001b[0;34m]\u001b[0m\u001b[0;34m\u001b[0m\u001b[0m\n\u001b[0;32m--> 767\u001b[0;31m         \u001b[0;32mfor\u001b[0m \u001b[0mname\u001b[0m\u001b[0;34m,\u001b[0m \u001b[0mitem\u001b[0m \u001b[0;32min\u001b[0m \u001b[0msix\u001b[0m\u001b[0;34m.\u001b[0m\u001b[0miteritems\u001b[0m\u001b[0;34m(\u001b[0m\u001b[0mnode\u001b[0m\u001b[0;34m)\u001b[0m\u001b[0;34m:\u001b[0m\u001b[0;34m\u001b[0m\u001b[0m\n\u001b[0m\u001b[1;32m    768\u001b[0m             \u001b[0;32mif\u001b[0m \u001b[0misinstance\u001b[0m\u001b[0;34m(\u001b[0m\u001b[0mitem\u001b[0m\u001b[0;34m,\u001b[0m \u001b[0mh5py\u001b[0m\u001b[0;34m.\u001b[0m\u001b[0mDataset\u001b[0m\u001b[0;34m)\u001b[0m\u001b[0;34m:\u001b[0m\u001b[0;34m\u001b[0m\u001b[0m\n\u001b[1;32m    769\u001b[0m                 \u001b[0mout\u001b[0m\u001b[0;34m.\u001b[0m\u001b[0mappend\u001b[0m\u001b[0;34m(\u001b[0m\u001b[0;34m(\u001b[0m\u001b[0mgroup\u001b[0m\u001b[0;34m,\u001b[0m \u001b[0mname\u001b[0m\u001b[0;34m)\u001b[0m\u001b[0;34m)\u001b[0m\u001b[0;34m\u001b[0m\u001b[0m\n",
      "\u001b[0;32m/home/franciscosargo/.virtualenvs/pre_epi_seizures/local/lib/python2.7/site-packages/h5py/_hl/base.pyc\u001b[0m in \u001b[0;36miteritems\u001b[0;34m(self)\u001b[0m\n\u001b[1;32m    377\u001b[0m             \u001b[0;34m\"\"\" Get an iterator over (name, object) pairs \"\"\"\u001b[0m\u001b[0;34m\u001b[0m\u001b[0m\n\u001b[1;32m    378\u001b[0m             \u001b[0;32mfor\u001b[0m \u001b[0mx\u001b[0m \u001b[0;32min\u001b[0m \u001b[0mself\u001b[0m\u001b[0;34m:\u001b[0m\u001b[0;34m\u001b[0m\u001b[0m\n\u001b[0;32m--> 379\u001b[0;31m                 \u001b[0;32myield\u001b[0m \u001b[0;34m(\u001b[0m\u001b[0mx\u001b[0m\u001b[0;34m,\u001b[0m \u001b[0mself\u001b[0m\u001b[0;34m.\u001b[0m\u001b[0mget\u001b[0m\u001b[0;34m(\u001b[0m\u001b[0mx\u001b[0m\u001b[0;34m)\u001b[0m\u001b[0;34m)\u001b[0m\u001b[0;34m\u001b[0m\u001b[0m\n\u001b[0m\u001b[1;32m    380\u001b[0m \u001b[0;34m\u001b[0m\u001b[0m\n\u001b[1;32m    381\u001b[0m     \u001b[0;32melse\u001b[0m\u001b[0;34m:\u001b[0m\u001b[0;34m\u001b[0m\u001b[0m\n",
      "\u001b[0;32m/home/franciscosargo/.virtualenvs/pre_epi_seizures/local/lib/python2.7/site-packages/h5py/_hl/group.pyc\u001b[0m in \u001b[0;36mget\u001b[0;34m(self, name, default, getclass, getlink)\u001b[0m\n\u001b[1;32m    208\u001b[0m             \u001b[0;32mif\u001b[0m \u001b[0;32mnot\u001b[0m \u001b[0;34m(\u001b[0m\u001b[0mgetclass\u001b[0m \u001b[0;32mor\u001b[0m \u001b[0mgetlink\u001b[0m\u001b[0;34m)\u001b[0m\u001b[0;34m:\u001b[0m\u001b[0;34m\u001b[0m\u001b[0m\n\u001b[1;32m    209\u001b[0m                 \u001b[0;32mtry\u001b[0m\u001b[0;34m:\u001b[0m\u001b[0;34m\u001b[0m\u001b[0m\n\u001b[0;32m--> 210\u001b[0;31m                     \u001b[0;32mreturn\u001b[0m \u001b[0mself\u001b[0m\u001b[0;34m[\u001b[0m\u001b[0mname\u001b[0m\u001b[0;34m]\u001b[0m\u001b[0;34m\u001b[0m\u001b[0m\n\u001b[0m\u001b[1;32m    211\u001b[0m                 \u001b[0;32mexcept\u001b[0m \u001b[0mKeyError\u001b[0m\u001b[0;34m:\u001b[0m\u001b[0;34m\u001b[0m\u001b[0m\n\u001b[1;32m    212\u001b[0m                     \u001b[0;32mreturn\u001b[0m \u001b[0mdefault\u001b[0m\u001b[0;34m\u001b[0m\u001b[0m\n",
      "\u001b[0;32mh5py/_objects.pyx\u001b[0m in \u001b[0;36mh5py._objects.with_phil.wrapper (/tmp/pip-nCYoKW-build/h5py/_objects.c:2840)\u001b[0;34m()\u001b[0m\n",
      "\u001b[0;32mh5py/_objects.pyx\u001b[0m in \u001b[0;36mh5py._objects.with_phil.wrapper (/tmp/pip-nCYoKW-build/h5py/_objects.c:2798)\u001b[0;34m()\u001b[0m\n",
      "\u001b[0;32m/home/franciscosargo/.virtualenvs/pre_epi_seizures/local/lib/python2.7/site-packages/h5py/_hl/group.pyc\u001b[0m in \u001b[0;36m__getitem__\u001b[0;34m(self, name)\u001b[0m\n\u001b[1;32m    167\u001b[0m                 \u001b[0;32mraise\u001b[0m \u001b[0mValueError\u001b[0m\u001b[0;34m(\u001b[0m\u001b[0;34m\"Invalid HDF5 object reference\"\u001b[0m\u001b[0;34m)\u001b[0m\u001b[0;34m\u001b[0m\u001b[0m\n\u001b[1;32m    168\u001b[0m         \u001b[0;32melse\u001b[0m\u001b[0;34m:\u001b[0m\u001b[0;34m\u001b[0m\u001b[0m\n\u001b[0;32m--> 169\u001b[0;31m             \u001b[0moid\u001b[0m \u001b[0;34m=\u001b[0m \u001b[0mh5o\u001b[0m\u001b[0;34m.\u001b[0m\u001b[0mopen\u001b[0m\u001b[0;34m(\u001b[0m\u001b[0mself\u001b[0m\u001b[0;34m.\u001b[0m\u001b[0mid\u001b[0m\u001b[0;34m,\u001b[0m \u001b[0mself\u001b[0m\u001b[0;34m.\u001b[0m\u001b[0m_e\u001b[0m\u001b[0;34m(\u001b[0m\u001b[0mname\u001b[0m\u001b[0;34m)\u001b[0m\u001b[0;34m,\u001b[0m \u001b[0mlapl\u001b[0m\u001b[0;34m=\u001b[0m\u001b[0mself\u001b[0m\u001b[0;34m.\u001b[0m\u001b[0m_lapl\u001b[0m\u001b[0;34m)\u001b[0m\u001b[0;34m\u001b[0m\u001b[0m\n\u001b[0m\u001b[1;32m    170\u001b[0m \u001b[0;34m\u001b[0m\u001b[0m\n\u001b[1;32m    171\u001b[0m         \u001b[0motype\u001b[0m \u001b[0;34m=\u001b[0m \u001b[0mh5i\u001b[0m\u001b[0;34m.\u001b[0m\u001b[0mget_type\u001b[0m\u001b[0;34m(\u001b[0m\u001b[0moid\u001b[0m\u001b[0;34m)\u001b[0m\u001b[0;34m\u001b[0m\u001b[0m\n",
      "\u001b[0;31mKeyboardInterrupt\u001b[0m: "
     ]
    }
   ],
   "source": [
    "from pre_processing import _main\n",
    "_main(disk, seizure_files)\n",
    "_main(disk, baseline_files)\n"
   ]
  },
  {
   "cell_type": "code",
   "execution_count": null,
   "metadata": {
    "collapsed": true
   },
   "outputs": [],
   "source": [
    "# Exploratory Data Analysis\n",
    "\n",
    "import convertpandas as cv_pd\n",
    "import pandas as pd\n",
    "import sklearn.preprocessing as pp\n",
    "from sklearn.kernel_approximation import RBFSampler\n",
    "\n",
    "# Set parameters of analyssis\n",
    "feature_slot = 'pca_beat_amp_computation'\n",
    "patient_list = [3, 5, 10]\n",
    "lead_list = ['ECG-']\n",
    "scaler = pp.MinMaxScaler()\n",
    "rbf_feature = RBFSampler(gamma=1, random_state=1)\n",
    "interim_processing = [scaler]\n",
    "hist_bins = None\n",
    "dist = 'norm'\n",
    "flag_hist = True\n",
    "flag_andrews = False\n",
    "flag_series = True\n",
    "flag_box = False\n",
    "\n"
   ]
  },
  {
   "cell_type": "code",
   "execution_count": null,
   "metadata": {
    "collapsed": true,
    "scrolled": false
   },
   "outputs": [],
   "source": [
    "# Ingest Data\n",
    "path_to_load = disk + seizure_files + '.h5'\n",
    "path_to_map = disk + seizure_files + '_map.txt'\n",
    "label_struct = {\n",
    "                        'inter_ictal':{\n",
    "                            'label': 'Inter-Ictal Data Points',\n",
    "                            'color': 'blue',\n",
    "                            'intervals_samples': [(1000 * 10 * 60, 1000 * 30 * 60 )]\n",
    "                                     },\n",
    "\n",
    "                        'pre_ictal':{\n",
    "                            'label': 'Pre-Ictal data points',\n",
    "                            'color': 'yellow',\n",
    "                            'intervals_samples': [(1000 * 30 * 60, 1000 * 50 * 60 )]\n",
    "                                     },\n",
    "                        'ictal':{\n",
    "                            'label': 'Ictal data points',\n",
    "                            'color': 'red',\n",
    "                            'intervals_samples': [(1000 * 50 * 60, 1000 * 70 * 60 )]\n",
    "                                 },\n",
    "                        }\n",
    "\n",
    "seizure_data = cv_pd.convert_to_pandas(path_to_load, path_to_map,\n",
    "                        patient_list, feature_slot,\n",
    "                        lead_list, label_struct)\n",
    "\n",
    "# set Labeling structure\n",
    "path_to_load = disk + baseline_files + '.h5'\n",
    "path_to_map = disk + baseline_files + '_map.txt'\n",
    "\n",
    "baseline_label_struct = {\n",
    "                         'baseline':{\n",
    "                            'label': 'Baseine Data Points',\n",
    "                            'color': 'green',\n",
    "                            'intervals_samples': [(0, 1000 *  60 * 60 )]\n",
    "                                    },\n",
    "                        }\n",
    "\n",
    "baseline_data = cv_pd.convert_to_pandas(path_to_load, path_to_map,\n",
    "                        patient_list, feature_slot,\n",
    "                        lead_list, baseline_label_struct)\n",
    "\n",
    "baseline_data"
   ]
  },
  {
   "cell_type": "code",
   "execution_count": null,
   "metadata": {
    "collapsed": true,
    "scrolled": true
   },
   "outputs": [],
   "source": [
    "baseline_data"
   ]
  },
  {
   "cell_type": "code",
   "execution_count": null,
   "metadata": {
    "collapsed": true,
    "scrolled": false
   },
   "outputs": [],
   "source": [
    "import interim_processing as i_p\n",
    "\n",
    "   \n",
    "baseline_data = i_p.assign_baseline_seizure_random(baseline_data,\n",
    "                                                seizure_data,\n",
    "                                                'seizure_nr')\n",
    "print 'Done'\n",
    " # Drop missing values\n",
    "baseline_data = baseline_data.dropna(axis=0, how='any').reset_index(drop=True)\n",
    "seizure_data = seizure_data.dropna(axis=0, how='any').reset_index(drop=True)\n",
    "\n",
    "data = pd.concat([seizure_data, baseline_data],\n",
    "          ignore_index=True)\n",
    "    \n",
    "#except Exception as e:\n",
    "#    print e\n",
    "#    data = seizure_data\n",
    "    \n",
    "    \n",
    "    "
   ]
  },
  {
   "cell_type": "code",
   "execution_count": null,
   "metadata": {
    "collapsed": true
   },
   "outputs": [],
   "source": [
    "# state the Data metafeatures\n",
    "metafeatures = ['patient_nr', 'seizure_nr', 'time_sample', 'label', 'color']\n",
    "features = [column\n",
    "            for column in data.columns\n",
    "            if column not in metafeatures]\n",
    "\n",
    "# Drop missing values\n",
    "data = data.dropna(axis=0, how='any').reset_index(drop=True)"
   ]
  },
  {
   "cell_type": "code",
   "execution_count": null,
   "metadata": {
    "collapsed": true
   },
   "outputs": [],
   "source": [
    "# Interim process the data\n",
    "for step in interim_processing:\n",
    "    X = data[features]\n",
    "\n",
    "    X_norm_np = step.fit_transform(X)\n",
    "\n",
    "    #X_norm = pd.DataFrame(X_norm_np, columns=X.columns)\n",
    "\n",
    "    data[features] = X_norm_np"
   ]
  },
  {
   "cell_type": "code",
   "execution_count": null,
   "metadata": {
    "collapsed": true,
    "scrolled": true
   },
   "outputs": [],
   "source": [
    "data"
   ]
  },
  {
   "cell_type": "code",
   "execution_count": null,
   "metadata": {
    "collapsed": true,
    "scrolled": false
   },
   "outputs": [],
   "source": [
    "path_to_save = disk + 'EDAnalysis/'\n",
    "\n",
    "data_patient_seizure_list = list(data.groupby(['seizure_nr', 'patient_nr']))\n",
    "import classification.eda.hist as plt_hist\n",
    "import classification.eda.andrews as plt_and\n",
    "import classification.eda.series as plt_ts\n",
    "import classification.eda.box as plt_box\n",
    "import matplotlib.pyplot as plt\n",
    "\n",
    "for data_patient_seizure in data_patient_seizure_list:\n",
    "\n",
    "    if flag_hist:\n",
    "        plt.figure(figsize=(20, 20))\n",
    "        plt_hist.histogram(path_to_save,\n",
    "                                data_patient_seizure[1],\n",
    "                                features,\n",
    "                                'time_sample',\n",
    "                                'patient_nr',\n",
    "                                'seizure_nr',\n",
    "                                'label',\n",
    "                                'color',\n",
    "                                 bins=hist_bins,\n",
    "                                 dist=dist)\n",
    "        plt.show()\n",
    "    \n",
    "    if flag_series:\n",
    "        plt_ts.time_series_plot(path_to_save, data_patient_seizure[1],\n",
    "                                features,\n",
    "                                'time_sample',\n",
    "                                'patient_nr',\n",
    "                                'seizure_nr',\n",
    "                                'label',\n",
    "                                'color')\n",
    "    if flag_andrews:\n",
    "\n",
    "        plt_and.andrews_curves(path_to_save,\n",
    "                                data_patient_seizure[1],\n",
    "                                data_patient_seizure[0],\n",
    "                                features,\n",
    "                                'time_sample',\n",
    "                                'patient_nr',\n",
    "                                'seizure_nr',\n",
    "                                'label',\n",
    "                                'color')\n",
    "    if flag_box:\n",
    "        plt.figure(figsize=(20, 20))\n",
    "        plt_box.box_plot(path_to_save,\n",
    "                        data_patient_seizure[1],\n",
    "                        data_patient_seizure[0],\n",
    "                        features,\n",
    "                        'time_sample',\n",
    "                        'patient_nr',\n",
    "                        'seizure_nr',\n",
    "                        'label',\n",
    "                        'color')\n",
    "        plt.show()\n",
    "        \n",
    "\n",
    "    \n",
    "    "
   ]
  },
  {
   "cell_type": "code",
   "execution_count": null,
   "metadata": {
    "collapsed": true,
    "scrolled": false
   },
   "outputs": [],
   "source": [
    "# Modelation\n",
    "import sklearn.svm as svm\n",
    "from sklearn.model_selection import *\n",
    "from sklearn.pipeline import *\n",
    "import sklearn.naive_bayes as nb\n",
    "\n",
    "# prepare data for classification - watch out for memory concerns\n",
    "X = data[features]\n",
    "y = data['label']\n",
    "groups = data['seizure_nr']\n",
    "\n",
    "# choose Pipeline **Details in pipelines.py \n",
    "pipe = Pipeline([('SVC', svm.SVC())])\n",
    "#pipe = Pipeline( [('GaussNB', nb.GaussianNB())])\n",
    "\n",
    "# choose parameter search method *coherent with Pipeline steps\n",
    "param_grid = [\n",
    "               {'SVC__C': [2**i for i in xrange(-5, 11)],\n",
    "                'SVC__gamma':[2**i for i in xrange(-15, 1)]},\n",
    "                  ]\n",
    "#param_grid = [\n",
    "               #{'GaussNB__priors': [None]},\n",
    "                  #]\n",
    "\n",
    "# define cross-validation strategy \n",
    "cv_out = LeavePGroupsOut(n_groups=1)\n",
    "cv_in = LeavePGroupsOut(n_groups=1)\n",
    "\n",
    "# choose scoring\n",
    "scoring = ['accuracy']\n",
    "\n",
    "# choose wether to perform new computation\n",
    "compute_all_new = True\n",
    "\n",
    "# Get path to save the results\n",
    "#full_path = get_full_pipeline_name(path_to_save,\n",
    "#                                   file_to_save,\n",
    "#                                   pipe, \n",
    "#                                   scoring,\n",
    "#                                   param_grid,\n",
    "#                                   feature_names,\n",
    "#                                   cv_out,\n",
    "#                                   cv_in,\n",
    "#                                   trial)\n",
    "\n",
    "\n",
    "\n",
    "# plot_scatter(path_to_save, data_struct, class_metadata)\n",
    "\n",
    "# plot_full(file_to_save, data_struct, class_metadata)\n",
    "\n",
    "# Create directory to save results\n",
    "#make_dir(full_path)\n",
    "\n"
   ]
  },
  {
   "cell_type": "code",
   "execution_count": null,
   "metadata": {
    "collapsed": true,
    "scrolled": false
   },
   "outputs": [],
   "source": [
    "import classification.cross_validation as cv\n",
    "\n",
    "# ***********************************Learning****************************\n",
    "# Learn from data_struct using nested cross_validation\n",
    "# learninig is an optimization and respective test results\n",
    "# for each partition of the dataset according to cv_out\n",
    "learning_results = cv.nested_cross_validation(path_to_save,\n",
    "                                       X,y, groups,\n",
    "                                       pipe,\n",
    "                                       param_grid, scoring,\n",
    "                                       compute_all_new, cv_out, cv_in)\n",
    "#************************************************************************"
   ]
  },
  {
   "cell_type": "code",
   "execution_count": null,
   "metadata": {
    "collapsed": true,
    "scrolled": false
   },
   "outputs": [],
   "source": [
    "learning_results"
   ]
  },
  {
   "cell_type": "code",
   "execution_count": null,
   "metadata": {
    "collapsed": true
   },
   "outputs": [],
   "source": [
    "clf = learning_results[0][0]\n",
    "test = learning_results[0][1]"
   ]
  },
  {
   "cell_type": "code",
   "execution_count": null,
   "metadata": {
    "collapsed": true,
    "scrolled": true
   },
   "outputs": [],
   "source": [
    "from sklearn.metrics import *\n",
    "\n",
    "for clf, test in learning_results:\n",
    "    X_test, y_test = X.iloc[test], y.iloc[test]\n",
    "\n",
    "\n",
    "    y_pred = clf.predict(X_test)\n",
    "\n",
    "    accuracy_score(y_test, y_pred)\n",
    " \n",
    "\n",
    "    print(classification_report(y_test, y_pred))\n",
    "    "
   ]
  }
 ],
 "metadata": {
  "kernelspec": {
   "display_name": "Python 2",
   "language": "python",
   "name": "python2"
  },
  "language_info": {
   "codemirror_mode": {
    "name": "ipython",
    "version": 2
   },
   "file_extension": ".py",
   "mimetype": "text/x-python",
   "name": "python",
   "nbconvert_exporter": "python",
   "pygments_lexer": "ipython2",
   "version": "2.7.12"
  }
 },
 "nbformat": 4,
 "nbformat_minor": 2
}
