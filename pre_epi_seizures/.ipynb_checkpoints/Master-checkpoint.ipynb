{
 "cells": [
  {
   "cell_type": "code",
   "execution_count": 1,
   "metadata": {
    "collapsed": true,
    "scrolled": false
   },
   "outputs": [],
   "source": [
    "# Import for I/O \n",
    "from storage_utils.storage_utils_nihon_khoden import *\n",
    "from storage_utils.create_datasets_nk import *\n",
    "from storage_utils.create_free_datasets_nk import *"
   ]
  },
  {
   "cell_type": "code",
   "execution_count": 2,
   "metadata": {
    "collapsed": true
   },
   "outputs": [],
   "source": [
    "# State the parameters of the pipeline\n",
    "patient_list = [3, 5]\n",
    "disk = '/Volumes/Seagate Bac/pre_epi_seizures/'\n",
    "baseline_files = 'h5_files/processing_datasets/baseline_datasets_new'\n",
    "seizure_files = 'h5_files/processing_datasets/seizure_datasets_new'\n",
    "time_before_seizure = 50 * 60\n",
    "time_after_seizure = 20 * 60\n",
    "time_baseline = 4 * 60 * 60\n"
   ]
  },
  {
   "cell_type": "code",
   "execution_count": 3,
   "metadata": {
    "collapsed": true,
    "scrolled": true
   },
   "outputs": [],
   "source": [
    "# Convert patients records from edf to hdf5\n",
    "#converter(patient_nr, disk)"
   ]
  },
  {
   "cell_type": "code",
   "execution_count": 4,
   "metadata": {
    "scrolled": false
   },
   "outputs": [
    {
     "name": "stderr",
     "output_type": "stream",
     "text": [
      "[2018-02-28 17:50:47.521178]:create_seizure_dataset_patient:10:searching all files\n",
      "[2018-02-28 17:50:47.550415]:create_seizure_dataset_patient:10:ReturnTuple(signals=[('PATIENT3', u'FA7774DI_ECG-_2017-04-20 03:38:19.000000'), ('PATIENT3', u'FA7774DI_Ecg_2017-04-20 03:38:19.000000'), ('PATIENT3', u'FA7774DJ_ECG-_2017-04-20 05:38:32.000000'), ('PATIENT3', u'FA7774DJ_Ecg_2017-04-20 05:38:32.000000'), ('PATIENT3', u'FA7774DK_ECG-_2017-04-20 07:38:44.000000'), ('PATIENT3', u'FA7774DK_Ecg_2017-04-20 07:38:44.000000'), ('PATIENT3', u'FA7774DL_ECG-_2017-04-20 09:38:57.000000'), ('PATIENT3', u'FA7774DL_Ecg_2017-04-20 09:38:57.000000'), ('PATIENT3', u'FA7774DM_ECG-_2017-04-20 11:39:09.000000'), ('PATIENT3', u'FA7774DM_Ecg_2017-04-20 11:39:09.000000'), ('PATIENT3', u'FA7774DP_ECG-_2017-04-20 12:09:18.000000'), ('PATIENT3', u'FA7774DP_Ecg_2017-04-20 12:09:18.000000'), ('PATIENT3', u'FA7774DQ_ECG-_2017-04-20 14:09:32.000000'), ('PATIENT3', u'FA7774DQ_Ecg_2017-04-20 14:09:32.000000'), ('PATIENT3', u'FA7774DR_ECG-_2017-04-20 16:09:45.000000'), ('PATIENT3', u'FA7774DR_Ecg_2017-04-20 16:09:45.000000'), ('PATIENT3', u'FA7774DS_ECG-_2017-04-20 18:09:58.000000'), ('PATIENT3', u'FA7774DS_Ecg_2017-04-20 18:09:58.000000'), ('PATIENT3', u'FA7774DT_ECG-_2017-04-20 20:10:11.000000'), ('PATIENT3', u'FA7774DT_Ecg_2017-04-20 20:10:11.000000'), ('PATIENT3', u'FA7774DU_ECG-_2017-04-20 22:10:24.000000'), ('PATIENT3', u'FA7774DU_Ecg_2017-04-20 22:10:24.000000')])\n",
      "[2018-02-28 17:50:47.581667]:create_seizure_dataset_patient:10:[(('PATIENT3', u'FA7774DK_ECG-_2017-04-20 07:38:44.000000'), 0), (('PATIENT3', u'FA7774DK_Ecg_2017-04-20 07:38:44.000000'), 0), (('PATIENT3', u'FA7774DR_ECG-_2017-04-20 16:09:45.000000'), 1), (('PATIENT3', u'FA7774DR_Ecg_2017-04-20 16:09:45.000000'), 1), (('PATIENT3', u'FA7774DT_ECG-_2017-04-20 20:10:11.000000'), 2), (('PATIENT3', u'FA7774DT_Ecg_2017-04-20 20:10:11.000000'), 2)]\n",
      "[2018-02-28 17:50:47.583355]:get_signal:20:Loading [signal: FA7774DK_ECG-_2017-04-20 07:38:44.000000][group: PATIENT3]\n",
      "[2018-02-28 17:50:48.597392]:get_signal:20:Loading [signal: FA7774DJ_ECG-_2017-04-20 05:38:32.000000][group: PATIENT3]\n"
     ]
    },
    {
     "name": "stdout",
     "output_type": "stream",
     "text": [
      "closed\n"
     ]
    },
    {
     "name": "stderr",
     "output_type": "stream",
     "text": [
      "[2018-02-28 17:50:49.310103]:add_signal:20:Saving [signal: 3_FA7774DK_ECG-_2017-04-20 07:38:44.000000_0][group: /3000_1200/raw_$beginwin_samplerate:1000_win:0.001_init:0_finish:4200_endwin$__$beginparams_param:None_endparam$_]\n"
     ]
    },
    {
     "name": "stdout",
     "output_type": "stream",
     "text": [
      "closed\n",
      "[(u'FA7774DK_ECG-_2017-04-20 07:38:44.000000_0', array([-163.57438184, -194.72672392, -220.41031629, ...,   70.11701186,\n",
      "       -334.17984143, -500.87905122]))]\n",
      "/Volumes/Seagate Bac/pre_epi_seizures/h5_files/processing_datasets/seizure_datasets_new.h5\n"
     ]
    },
    {
     "name": "stderr",
     "output_type": "stream",
     "text": [
      "[2018-02-28 17:50:50.059564]:add_signal:10:Unable to create link (Name already exists)\n",
      "[2018-02-28 17:50:50.146996]:get_signal:20:Loading [signal: FA7774DK_Ecg_2017-04-20 07:38:44.000000][group: PATIENT3]\n"
     ]
    },
    {
     "name": "stdout",
     "output_type": "stream",
     "text": [
      "addd\n",
      "closinnngg\n",
      "CLOSEDDDDD\n"
     ]
    },
    {
     "name": "stderr",
     "output_type": "stream",
     "text": [
      "[2018-02-28 17:50:50.809920]:get_signal:20:Loading [signal: FA7774DJ_Ecg_2017-04-20 05:38:32.000000][group: PATIENT3]\n",
      "[2018-02-28 17:50:51.547054]:add_signal:20:Saving [signal: 3_FA7774DK_Ecg_2017-04-20 07:38:44.000000_0][group: /3000_1200/raw_$beginwin_samplerate:1000_win:0.001_init:0_finish:4200_endwin$__$beginparams_param:None_endparam$_]\n"
     ]
    },
    {
     "name": "stdout",
     "output_type": "stream",
     "text": [
      "closed\n",
      "closed\n",
      "[(u'FA7774DK_Ecg_2017-04-20 07:38:44.000000_0', array([-123.63297774, -121.09391537, -112.69547832, ...,   -4.29704665,\n",
      "        -16.30876475,  -15.42985855]))]\n",
      "/Volumes/Seagate Bac/pre_epi_seizures/h5_files/processing_datasets/seizure_datasets_new.h5\n"
     ]
    },
    {
     "name": "stderr",
     "output_type": "stream",
     "text": [
      "[2018-02-28 17:50:51.827117]:add_signal:10:Unable to create link (Name already exists)\n",
      "[2018-02-28 17:50:51.997293]:get_signal:20:Loading [signal: FA7774DR_ECG-_2017-04-20 16:09:45.000000][group: PATIENT3]\n"
     ]
    },
    {
     "name": "stdout",
     "output_type": "stream",
     "text": [
      "addd\n",
      "closinnngg\n",
      "CLOSEDDDDD\n"
     ]
    },
    {
     "name": "stderr",
     "output_type": "stream",
     "text": [
      "[2018-02-28 17:50:52.665963]:get_signal:20:Loading [signal: FA7774DQ_ECG-_2017-04-20 14:09:32.000000][group: PATIENT3]\n",
      "[2018-02-28 17:50:53.423151]:add_signal:20:Saving [signal: 3_FA7774DR_ECG-_2017-04-20 16:09:45.000000_1][group: /3000_1200/raw_$beginwin_samplerate:1000_win:0.001_init:0_finish:4200_endwin$__$beginparams_param:None_endparam$_]\n"
     ]
    },
    {
     "name": "stdout",
     "output_type": "stream",
     "text": [
      "closed\n",
      "closed\n",
      "[(u'FA7774DR_ECG-_2017-04-20 16:09:45.000000_1', array([-70.41032435, -66.50407456, -77.24626148, ..., -34.57048252,\n",
      "       -31.64079518, -17.48063969]))]\n",
      "/Volumes/Seagate Bac/pre_epi_seizures/h5_files/processing_datasets/seizure_datasets_new.h5\n"
     ]
    },
    {
     "name": "stderr",
     "output_type": "stream",
     "text": [
      "[2018-02-28 17:50:53.599872]:add_signal:10:Unable to create link (Name already exists)\n",
      "[2018-02-28 17:50:53.753730]:get_signal:20:Loading [signal: FA7774DR_Ecg_2017-04-20 16:09:45.000000][group: PATIENT3]\n"
     ]
    },
    {
     "name": "stdout",
     "output_type": "stream",
     "text": [
      "addd\n",
      "closinnngg\n",
      "CLOSEDDDDD\n"
     ]
    },
    {
     "name": "stderr",
     "output_type": "stream",
     "text": [
      "[2018-02-28 17:50:54.409982]:get_signal:20:Loading [signal: FA7774DQ_Ecg_2017-04-20 14:09:32.000000][group: PATIENT3]\n",
      "[2018-02-28 17:50:55.143083]:add_signal:20:Saving [signal: 3_FA7774DR_Ecg_2017-04-20 16:09:45.000000_1][group: /3000_1200/raw_$beginwin_samplerate:1000_win:0.001_init:0_finish:4200_endwin$__$beginparams_param:None_endparam$_]\n"
     ]
    },
    {
     "name": "stdout",
     "output_type": "stream",
     "text": [
      "closed\n",
      "closed\n",
      "[(u'FA7774DR_Ecg_2017-04-20 16:09:45.000000_1', array([-22.94938939, -15.3322023 , -22.75407691, ..., -17.2853272 ,\n",
      "       -19.53142083,  -1.66032804]))]\n",
      "/Volumes/Seagate Bac/pre_epi_seizures/h5_files/processing_datasets/seizure_datasets_new.h5\n"
     ]
    },
    {
     "name": "stderr",
     "output_type": "stream",
     "text": [
      "[2018-02-28 17:50:55.319439]:add_signal:10:Unable to create link (Name already exists)\n",
      "[2018-02-28 17:50:55.474973]:get_signal:20:Loading [signal: FA7774DT_ECG-_2017-04-20 20:10:11.000000][group: PATIENT3]\n"
     ]
    },
    {
     "name": "stdout",
     "output_type": "stream",
     "text": [
      "addd\n",
      "closinnngg\n",
      "CLOSEDDDDD\n"
     ]
    },
    {
     "name": "stderr",
     "output_type": "stream",
     "text": [
      "[2018-02-28 17:50:56.141619]:add_signal:20:Saving [signal: 3_FA7774DT_ECG-_2017-04-20 20:10:11.000000_2][group: /3000_1200/raw_$beginwin_samplerate:1000_win:0.001_init:0_finish:4200_endwin$__$beginparams_param:None_endparam$_]\n"
     ]
    },
    {
     "name": "stdout",
     "output_type": "stream",
     "text": [
      "closed\n",
      "[(u'FA7774DT_ECG-_2017-04-20 20:10:11.000000_2', array([ -39.550951  ,  -39.64860725,  -35.25407623, ...,  304.49199927,\n",
      "        295.21465602,  300.29278074]))]\n",
      "/Volumes/Seagate Bac/pre_epi_seizures/h5_files/processing_datasets/seizure_datasets_new.h5\n",
      "addd"
     ]
    },
    {
     "name": "stderr",
     "output_type": "stream",
     "text": [
      "[2018-02-28 17:50:56.471773]:add_signal:10:Unable to create link (Name already exists)\n",
      "[2018-02-28 17:50:56.564013]:get_signal:20:Loading [signal: FA7774DT_Ecg_2017-04-20 20:10:11.000000][group: PATIENT3]\n"
     ]
    },
    {
     "name": "stdout",
     "output_type": "stream",
     "text": [
      "\n",
      "closinnngg\n",
      "CLOSEDDDDD\n"
     ]
    },
    {
     "name": "stderr",
     "output_type": "stream",
     "text": [
      "[2018-02-28 17:50:57.253867]:add_signal:20:Saving [signal: 3_FA7774DT_Ecg_2017-04-20 20:10:11.000000_2][group: /3000_1200/raw_$beginwin_samplerate:1000_win:0.001_init:0_finish:4200_endwin$__$beginparams_param:None_endparam$_]\n",
      "[2018-02-28 17:50:57.427320]:add_signal:10:Unable to create link (Name already exists)\n"
     ]
    },
    {
     "name": "stdout",
     "output_type": "stream",
     "text": [
      "closed\n",
      "[(u'FA7774DT_Ecg_2017-04-20 20:10:11.000000_2', array([  7.42170272,   7.61701521,  11.62092125, ..., -45.70329442,\n",
      "       -57.03141881, -52.24626282]))]\n",
      "/Volumes/Seagate Bac/pre_epi_seizures/h5_files/processing_datasets/seizure_datasets_new.h5\n",
      "addd\n"
     ]
    },
    {
     "name": "stderr",
     "output_type": "stream",
     "text": [
      "[2018-02-28 17:50:57.605761]:create_seizure_dataset_patient:10:searching all files\n"
     ]
    },
    {
     "name": "stdout",
     "output_type": "stream",
     "text": [
      "closinnngg\n",
      "CLOSEDDDDD\n"
     ]
    },
    {
     "name": "stderr",
     "output_type": "stream",
     "text": [
      "[2018-02-28 17:50:57.843338]:create_seizure_dataset_patient:10:ReturnTuple(signals=[('PATIENT5', u'FA7773TA_ECG-_2016-08-23 04:23:59.000000'), ('PATIENT5', u'FA7773TA_Ecg_2016-08-23 04:23:59.000000'), ('PATIENT5', u'FA7773TB_ECG-_2016-08-23 06:24:12.000000'), ('PATIENT5', u'FA7773TB_Ecg_2016-08-23 06:24:12.000000'), ('PATIENT5', u'FA7773TC_ECG-_2016-08-23 08:24:24.000000'), ('PATIENT5', u'FA7773TC_Ecg_2016-08-23 08:24:24.000000'), ('PATIENT5', u'FA7773TD_ECG-_2016-08-23 10:24:37.000000'), ('PATIENT5', u'FA7773TD_Ecg_2016-08-23 10:24:37.000000'), ('PATIENT5', u'FA7773TE_ECG-_2016-08-23 12:24:51.000000'), ('PATIENT5', u'FA7773TE_Ecg_2016-08-23 12:24:51.000000'), ('PATIENT5', u'FA7773TR_ECG-_2016-08-24 09:47:32.000000'), ('PATIENT5', u'FA7773TR_Ecg_2016-08-24 09:47:32.000000'), ('PATIENT5', u'FA7773TS_ECG-_2016-08-24 11:47:46.000000'), ('PATIENT5', u'FA7773TS_Ecg_2016-08-24 11:47:46.000000'), ('PATIENT5', u'FA7773TT_ECG-_2016-08-24 13:48:00.000000'), ('PATIENT5', u'FA7773TT_Ecg_2016-08-24 13:48:00.000000'), ('PATIENT5', u'FA7773TW_ECG-_2016-08-24 15:43:18.000000'), ('PATIENT5', u'FA7773TW_Ecg_2016-08-24 15:43:18.000000'), ('PATIENT5', u'FA7773TX_ECG-_2016-08-24 17:43:30.000000'), ('PATIENT5', u'FA7773TX_Ecg_2016-08-24 17:43:30.000000'), ('PATIENT5', u'FA7773TZ_ECG-_2016-08-24 21:43:55.000000'), ('PATIENT5', u'FA7773TZ_Ecg_2016-08-24 21:43:55.000000'), ('PATIENT5', u'FA7773U0_ECG-_2016-08-24 23:44:07.000000'), ('PATIENT5', u'FA7773U0_Ecg_2016-08-24 23:44:07.000000'), ('PATIENT5', u'FA7773U1_ECG-_2016-08-25 01:44:21.000000'), ('PATIENT5', u'FA7773U1_Ecg_2016-08-25 01:44:21.000000'), ('PATIENT5', u'FA7773U2_ECG-_2016-08-25 03:44:34.000000'), ('PATIENT5', u'FA7773U2_Ecg_2016-08-25 03:44:34.000000'), ('PATIENT5', u'FA7773U3_ECG-_2016-08-25 05:44:46.000000'), ('PATIENT5', u'FA7773U3_Ecg_2016-08-25 05:44:46.000000'), ('PATIENT5', u'FA7773U4_ECG-_2016-08-25 07:44:59.000000'), ('PATIENT5', u'FA7773U4_Ecg_2016-08-25 07:44:59.000000'), ('PATIENT5', u'FA7773U5_ECG-_2016-08-25 09:45:14.000000'), ('PATIENT5', u'FA7773U5_Ecg_2016-08-25 09:45:14.000000'), ('PATIENT5', u'FA7773U6_ECG-_2016-08-25 11:45:26.000000'), ('PATIENT5', u'FA7773U6_Ecg_2016-08-25 11:45:26.000000')])\n",
      "[2018-02-28 17:50:57.962355]:create_seizure_dataset_patient:10:[(('PATIENT5', u'FA7773TC_ECG-_2016-08-23 08:24:24.000000'), 0), (('PATIENT5', u'FA7773TC_Ecg_2016-08-23 08:24:24.000000'), 0), (('PATIENT5', u'FA7773TT_ECG-_2016-08-24 13:48:00.000000'), 1), (('PATIENT5', u'FA7773TT_Ecg_2016-08-24 13:48:00.000000'), 1), (('PATIENT5', u'FA7773U1_ECG-_2016-08-25 01:44:21.000000'), 2), (('PATIENT5', u'FA7773U1_Ecg_2016-08-25 01:44:21.000000'), 2), (('PATIENT5', u'FA7773U3_ECG-_2016-08-25 05:44:46.000000'), 3), (('PATIENT5', u'FA7773U3_Ecg_2016-08-25 05:44:46.000000'), 3), (('PATIENT5', u'FA7773U4_ECG-_2016-08-25 07:44:59.000000'), 4), (('PATIENT5', u'FA7773U4_Ecg_2016-08-25 07:44:59.000000'), 4), (('PATIENT5', u'FA7773U4_ECG-_2016-08-25 07:44:59.000000'), 5), (('PATIENT5', u'FA7773U4_Ecg_2016-08-25 07:44:59.000000'), 5), (('PATIENT5', u'FA7773U5_ECG-_2016-08-25 09:45:14.000000'), 6), (('PATIENT5', u'FA7773U5_Ecg_2016-08-25 09:45:14.000000'), 6), (('PATIENT5', u'FA7773U6_ECG-_2016-08-25 11:45:26.000000'), 7), (('PATIENT5', u'FA7773U6_Ecg_2016-08-25 11:45:26.000000'), 7)]\n",
      "[2018-02-28 17:50:57.964391]:get_signal:20:Loading [signal: FA7773TC_ECG-_2016-08-23 08:24:24.000000][group: PATIENT5]\n",
      "[2018-02-28 17:50:58.742820]:get_signal:20:Loading [signal: FA7773TB_ECG-_2016-08-23 06:24:12.000000][group: PATIENT5]\n"
     ]
    },
    {
     "name": "stdout",
     "output_type": "stream",
     "text": [
      "closed\n"
     ]
    },
    {
     "name": "stderr",
     "output_type": "stream",
     "text": [
      "[2018-02-28 17:50:59.457750]:add_signal:20:Saving [signal: 5_FA7773TC_ECG-_2016-08-23 08:24:24.000000_0][group: /3000_1200/raw_$beginwin_samplerate:1000_win:0.001_init:0_finish:4200_endwin$__$beginparams_param:None_endparam$_]\n"
     ]
    },
    {
     "name": "stdout",
     "output_type": "stream",
     "text": [
      "closed\n",
      "[(u'FA7773TC_ECG-_2016-08-23 08:24:24.000000_0', array([ -8.9845464 ,  -8.88689015,  -9.47282762, ..., -15.82048353,\n",
      "       -17.67595218, -30.46892024]))]\n",
      "/Volumes/Seagate Bac/pre_epi_seizures/h5_files/processing_datasets/seizure_datasets_new.h5\n"
     ]
    },
    {
     "name": "stderr",
     "output_type": "stream",
     "text": [
      "[2018-02-28 17:50:59.634623]:add_signal:10:Unable to create link (Name already exists)\n",
      "[2018-02-28 17:50:59.793389]:get_signal:20:Loading [signal: FA7773TC_Ecg_2016-08-23 08:24:24.000000][group: PATIENT5]\n"
     ]
    },
    {
     "name": "stdout",
     "output_type": "stream",
     "text": [
      "addd\n",
      "closinnngg\n",
      "CLOSEDDDDD\n"
     ]
    },
    {
     "name": "stderr",
     "output_type": "stream",
     "text": [
      "[2018-02-28 17:51:00.464900]:get_signal:20:Loading [signal: FA7773TB_Ecg_2016-08-23 06:24:12.000000][group: PATIENT5]\n"
     ]
    },
    {
     "name": "stdout",
     "output_type": "stream",
     "text": [
      "closed\n"
     ]
    },
    {
     "name": "stderr",
     "output_type": "stream",
     "text": [
      "[2018-02-28 17:51:01.142376]:add_signal:20:Saving [signal: 5_FA7773TC_Ecg_2016-08-23 08:24:24.000000_0][group: /3000_1200/raw_$beginwin_samplerate:1000_win:0.001_init:0_finish:4200_endwin$__$beginparams_param:None_endparam$_]\n",
      "[2018-02-28 17:51:01.321149]:add_signal:10:Unable to create link (Name already exists)\n"
     ]
    },
    {
     "name": "stdout",
     "output_type": "stream",
     "text": [
      "closed\n",
      "[(u'FA7773TC_Ecg_2016-08-23 08:24:24.000000_0', array([-46.48454438, -46.58220063, -47.16813809, ...,  37.59748235,\n",
      "        36.23029493,  22.46076442]))]\n",
      "/Volumes/Seagate Bac/pre_epi_seizures/h5_files/processing_datasets/seizure_datasets_new.h5\n",
      "addd\n"
     ]
    },
    {
     "name": "stderr",
     "output_type": "stream",
     "text": [
      "[2018-02-28 17:51:01.480966]:get_signal:20:Loading [signal: FA7773TT_ECG-_2016-08-24 13:48:00.000000][group: PATIENT5]\n"
     ]
    },
    {
     "name": "stdout",
     "output_type": "stream",
     "text": [
      "closinnngg\n",
      "CLOSEDDDDD\n"
     ]
    },
    {
     "name": "stderr",
     "output_type": "stream",
     "text": [
      "[2018-02-28 17:51:02.114614]:add_signal:20:Saving [signal: 5_FA7773TT_ECG-_2016-08-24 13:48:00.000000_1][group: /3000_1200/raw_$beginwin_samplerate:1000_win:0.001_init:0_finish:4200_endwin$__$beginparams_param:None_endparam$_]\n"
     ]
    },
    {
     "name": "stdout",
     "output_type": "stream",
     "text": [
      "closed\n",
      "[(u'FA7773TT_ECG-_2016-08-24 13:48:00.000000_1', array([  -8.9845464 ,  -69.04313692, -104.10172879, ..., -160.25406952,\n",
      "       -155.85953851, -148.4376639 ]))]\n",
      "/Volumes/Seagate Bac/pre_epi_seizures/h5_files/processing_datasets/seizure_datasets_new.h5\n"
     ]
    },
    {
     "name": "stderr",
     "output_type": "stream",
     "text": [
      "[2018-02-28 17:51:02.454403]:add_signal:10:Unable to create link (Name already exists)\n",
      "[2018-02-28 17:51:02.545291]:get_signal:20:Loading [signal: FA7773TT_Ecg_2016-08-24 13:48:00.000000][group: PATIENT5]\n"
     ]
    },
    {
     "name": "stdout",
     "output_type": "stream",
     "text": [
      "addd\n",
      "closinnngg\n",
      "CLOSEDDDDD\n"
     ]
    },
    {
     "name": "stderr",
     "output_type": "stream",
     "text": [
      "[2018-02-28 17:51:03.159995]:add_signal:20:Saving [signal: 5_FA7773TT_Ecg_2016-08-24 13:48:00.000000_1][group: /3000_1200/raw_$beginwin_samplerate:1000_win:0.001_init:0_finish:4200_endwin$__$beginparams_param:None_endparam$_]\n",
      "[2018-02-28 17:51:03.340206]:add_signal:10:Unable to create link (Name already exists)\n"
     ]
    },
    {
     "name": "stdout",
     "output_type": "stream",
     "text": [
      "closed\n",
      "[(u'FA7773TT_Ecg_2016-08-24 13:48:00.000000_1', array([-156.25016349, -260.35172039, -356.25015274, ..., -178.90641227,\n",
      "       -172.75406885, -166.30875669]))]\n",
      "/Volumes/Seagate Bac/pre_epi_seizures/h5_files/processing_datasets/seizure_datasets_new.h5\n",
      "addd\n"
     ]
    },
    {
     "name": "stderr",
     "output_type": "stream",
     "text": [
      "[2018-02-28 17:51:03.496234]:get_signal:20:Loading [signal: FA7773U1_ECG-_2016-08-25 01:44:21.000000][group: PATIENT5]\n"
     ]
    },
    {
     "name": "stdout",
     "output_type": "stream",
     "text": [
      "closinnngg\n",
      "CLOSEDDDDD\n"
     ]
    },
    {
     "name": "stderr",
     "output_type": "stream",
     "text": [
      "[2018-02-28 17:51:04.167042]:get_signal:20:Loading [signal: FA7773U1_Ecg_2016-08-25 01:44:21.000000][group: PATIENT5]\n",
      "[2018-02-28 17:51:04.883856]:add_signal:20:Saving [signal: 5_FA7773U1_ECG-_2016-08-25 01:44:21.000000_2][group: /3000_1200/raw_$beginwin_samplerate:1000_win:0.001_init:0_finish:4200_endwin$__$beginparams_param:None_endparam$_]\n"
     ]
    },
    {
     "name": "stdout",
     "output_type": "stream",
     "text": [
      "closed\n",
      "('PATIENT5', u'FA7773U1_Ecg_2016-08-25 01:44:21.000000')\n",
      "closed\n",
      "[(u'FA7773U1_ECG-_2016-08-25 01:44:21.000000_2', array([-29.00407657, -29.00407657, -30.66423273, ...,  27.34357665,\n",
      "        28.51545159,  26.17170172]))]\n",
      "/Volumes/Seagate Bac/pre_epi_seizures/h5_files/processing_datasets/seizure_datasets_new.h5\n"
     ]
    },
    {
     "name": "stderr",
     "output_type": "stream",
     "text": [
      "[2018-02-28 17:51:05.059638]:add_signal:10:Unable to create link (Name already exists)\n",
      "[2018-02-28 17:51:05.218966]:get_signal:20:Loading [signal: FA7773U1_Ecg_2016-08-25 01:44:21.000000][group: PATIENT5]\n",
      "[2018-02-28 17:51:05.352078]:get_signal:20:Loading [signal: FA7773U2_ECG-_2016-08-25 03:44:34.000000][group: PATIENT5]\n"
     ]
    },
    {
     "name": "stdout",
     "output_type": "stream",
     "text": [
      "addd\n",
      "closinnngg\n",
      "CLOSEDDDDD\n",
      "closed\n",
      "('PATIENT5', u'FA7773U2_ECG-_2016-08-25 03:44:34.000000')\n"
     ]
    },
    {
     "name": "stderr",
     "output_type": "stream",
     "text": [
      "[2018-02-28 17:51:06.073147]:add_signal:20:Saving [signal: 5_FA7773U1_Ecg_2016-08-25 01:44:21.000000_2][group: /3000_1200/raw_$beginwin_samplerate:1000_win:0.001_init:0_finish:4200_endwin$__$beginparams_param:None_endparam$_]\n",
      "[2018-02-28 17:51:06.248648]:add_signal:10:Unable to create link (Name already exists)\n"
     ]
    },
    {
     "name": "stdout",
     "output_type": "stream",
     "text": [
      "closed\n",
      "[(u'FA7773U1_Ecg_2016-08-25 01:44:21.000000_2', array([-45.31266944, -47.55876307, -47.94938805, ..., -36.91423239,\n",
      "       -46.77751312, -41.79704463]))]\n",
      "/Volumes/Seagate Bac/pre_epi_seizures/h5_files/processing_datasets/seizure_datasets_new.h5\n",
      "addd\n"
     ]
    },
    {
     "name": "stderr",
     "output_type": "stream",
     "text": [
      "[2018-02-28 17:51:06.417201]:get_signal:20:Loading [signal: FA7773U3_ECG-_2016-08-25 05:44:46.000000][group: PATIENT5]\n"
     ]
    },
    {
     "name": "stdout",
     "output_type": "stream",
     "text": [
      "closinnngg\n",
      "CLOSEDDDDD\n"
     ]
    },
    {
     "name": "stderr",
     "output_type": "stream",
     "text": [
      "[2018-02-28 17:51:07.085073]:get_signal:20:Loading [signal: FA7773U2_ECG-_2016-08-25 03:44:34.000000][group: PATIENT5]\n",
      "[2018-02-28 17:51:07.284070]:add_signal:20:Saving [signal: 5_FA7773U3_ECG-_2016-08-25 05:44:46.000000_3][group: /3000_1200/raw_$beginwin_samplerate:1000_win:0.001_init:0_finish:4200_endwin$__$beginparams_param:None_endparam$_]\n"
     ]
    },
    {
     "name": "stdout",
     "output_type": "stream",
     "text": [
      "closed\n",
      "closed\n",
      "[(u'FA7773U3_ECG-_2016-08-25 05:44:46.000000_3', array([ -8.69157766, -10.05876509, -10.54704631, ...,  67.57794949,\n",
      "        69.72638688,  64.25763717]))]\n",
      "/Volumes/Seagate Bac/pre_epi_seizures/h5_files/processing_datasets/seizure_datasets_new.h5\n"
     ]
    },
    {
     "name": "stderr",
     "output_type": "stream",
     "text": [
      "[2018-02-28 17:51:07.455622]:add_signal:10:Unable to create link (Name already exists)\n",
      "[2018-02-28 17:51:07.616194]:get_signal:20:Loading [signal: FA7773U3_Ecg_2016-08-25 05:44:46.000000][group: PATIENT5]\n"
     ]
    },
    {
     "name": "stdout",
     "output_type": "stream",
     "text": [
      "addd\n",
      "closinnngg\n",
      "CLOSEDDDDD\n"
     ]
    },
    {
     "name": "stderr",
     "output_type": "stream",
     "text": [
      "[2018-02-28 17:51:08.286605]:get_signal:20:Loading [signal: FA7773U2_Ecg_2016-08-25 03:44:34.000000][group: PATIENT5]\n",
      "[2018-02-28 17:51:09.022498]:add_signal:20:Saving [signal: 5_FA7773U3_Ecg_2016-08-25 05:44:46.000000_3][group: /3000_1200/raw_$beginwin_samplerate:1000_win:0.001_init:0_finish:4200_endwin$__$beginparams_param:None_endparam$_]\n"
     ]
    },
    {
     "name": "stdout",
     "output_type": "stream",
     "text": [
      "closed\n",
      "closed\n",
      "[(u'FA7773U3_Ecg_2016-08-25 05:44:46.000000_3', array([ -5.66423407,  -8.00798395,  -9.17985888, ...,  29.39435779,\n",
      "        38.96466978,  46.38654438]))]\n",
      "/Volumes/Seagate Bac/pre_epi_seizures/h5_files/processing_datasets/seizure_datasets_new.h5\n"
     ]
    },
    {
     "name": "stderr",
     "output_type": "stream",
     "text": [
      "[2018-02-28 17:51:09.343481]:add_signal:10:Unable to create link (Name already exists)\n",
      "[2018-02-28 17:51:09.439965]:get_signal:20:Loading [signal: FA7773U4_ECG-_2016-08-25 07:44:59.000000][group: PATIENT5]\n"
     ]
    },
    {
     "name": "stdout",
     "output_type": "stream",
     "text": [
      "addd\n",
      "closinnngg\n",
      "CLOSEDDDDD\n"
     ]
    },
    {
     "name": "stderr",
     "output_type": "stream",
     "text": [
      "[2018-02-28 17:51:10.113825]:get_signal:20:Loading [signal: FA7773U3_ECG-_2016-08-25 05:44:46.000000][group: PATIENT5]\n",
      "[2018-02-28 17:51:10.323434]:add_signal:20:Saving [signal: 5_FA7773U4_ECG-_2016-08-25 07:44:59.000000_4][group: /3000_1200/raw_$beginwin_samplerate:1000_win:0.001_init:0_finish:4200_endwin$__$beginparams_param:None_endparam$_]\n"
     ]
    },
    {
     "name": "stdout",
     "output_type": "stream",
     "text": [
      "closed\n",
      "closed\n",
      "[(u'FA7773U4_ECG-_2016-08-25 07:44:59.000000_4', array([  -2.34392175,   -3.22282795,   -4.1993904 , ...,  199.80450489,\n",
      "        203.51544219,  198.7302862 ]))]\n",
      "/Volumes/Seagate Bac/pre_epi_seizures/h5_files/processing_datasets/seizure_datasets_new.h5\n",
      "addd"
     ]
    },
    {
     "name": "stderr",
     "output_type": "stream",
     "text": [
      "[2018-02-28 17:51:10.506294]:add_signal:10:Unable to create link (Name already exists)\n",
      "[2018-02-28 17:51:10.666715]:get_signal:20:Loading [signal: FA7773U4_Ecg_2016-08-25 07:44:59.000000][group: PATIENT5]\n"
     ]
    },
    {
     "name": "stdout",
     "output_type": "stream",
     "text": [
      "\n",
      "closinnngg\n",
      "CLOSEDDDDD\n"
     ]
    },
    {
     "name": "stderr",
     "output_type": "stream",
     "text": [
      "[2018-02-28 17:51:11.337669]:get_signal:20:Loading [signal: FA7773U3_Ecg_2016-08-25 05:44:46.000000][group: PATIENT5]\n",
      "[2018-02-28 17:51:11.549310]:add_signal:20:Saving [signal: 5_FA7773U4_Ecg_2016-08-25 07:44:59.000000_4][group: /3000_1200/raw_$beginwin_samplerate:1000_win:0.001_init:0_finish:4200_endwin$__$beginparams_param:None_endparam$_]\n"
     ]
    },
    {
     "name": "stdout",
     "output_type": "stream",
     "text": [
      "closed\n",
      "closed\n",
      "[(u'FA7773U4_Ecg_2016-08-25 07:44:59.000000_4', array([ -25.19548302,  -27.83220163,  -29.78532653, ...,   99.31622904,\n",
      "        101.8552914 ,   94.72638553]))]\n",
      "/Volumes/Seagate Bac/pre_epi_seizures/h5_files/processing_datasets/seizure_datasets_new.h5\n"
     ]
    },
    {
     "name": "stderr",
     "output_type": "stream",
     "text": [
      "[2018-02-28 17:51:11.726944]:add_signal:10:Unable to create link (Name already exists)\n",
      "[2018-02-28 17:51:11.888334]:get_signal:20:Loading [signal: FA7773U4_ECG-_2016-08-25 07:44:59.000000][group: PATIENT5]\n",
      "[2018-02-28 17:51:12.043559]:add_signal:20:Saving [signal: 5_FA7773U4_ECG-_2016-08-25 07:44:59.000000_5][group: /3000_1200/raw_$beginwin_samplerate:1000_win:0.001_init:0_finish:4200_endwin$__$beginparams_param:None_endparam$_]\n"
     ]
    },
    {
     "name": "stdout",
     "output_type": "stream",
     "text": [
      "addd\n",
      "closinnngg\n",
      "CLOSEDDDDD\n",
      "closed\n",
      "[(u'FA7773U4_ECG-_2016-08-25 07:44:59.000000_5', array([-145.8009453 , -154.49235108, -155.17594479, ..., -539.16029917,\n",
      "       -515.2345192 , -506.15248844]))]\n",
      "/Volumes/Seagate Bac/pre_epi_seizures/h5_files/processing_datasets/seizure_datasets_new.h5\n",
      "addd"
     ]
    },
    {
     "name": "stderr",
     "output_type": "stream",
     "text": [
      "[2018-02-28 17:51:12.225838]:add_signal:10:Unable to create link (Name already exists)\n",
      "[2018-02-28 17:51:12.383335]:get_signal:20:Loading [signal: FA7773U4_Ecg_2016-08-25 07:44:59.000000][group: PATIENT5]\n",
      "[2018-02-28 17:51:12.536724]:add_signal:20:Saving [signal: 5_FA7773U4_Ecg_2016-08-25 07:44:59.000000_5][group: /3000_1200/raw_$beginwin_samplerate:1000_win:0.001_init:0_finish:4200_endwin$__$beginparams_param:None_endparam$_]\n"
     ]
    },
    {
     "name": "stdout",
     "output_type": "stream",
     "text": [
      "\n",
      "closinnngg\n",
      "CLOSEDDDDD\n",
      "closed\n",
      "[(u'FA7773U4_Ecg_2016-08-25 07:44:59.000000_5', array([-100.09782275, -111.13297841, -108.10563482, ...,  -67.57829325,\n",
      "        -69.04313692,  -82.81266743]))]\n",
      "/Volumes/Seagate Bac/pre_epi_seizures/h5_files/processing_datasets/seizure_datasets_new.h5\n"
     ]
    },
    {
     "name": "stderr",
     "output_type": "stream",
     "text": [
      "[2018-02-28 17:51:12.714305]:add_signal:10:Unable to create link (Name already exists)\n",
      "[2018-02-28 17:51:12.871510]:get_signal:20:Loading [signal: FA7773U5_ECG-_2016-08-25 09:45:14.000000][group: PATIENT5]\n"
     ]
    },
    {
     "name": "stdout",
     "output_type": "stream",
     "text": [
      "addd\n",
      "closinnngg\n",
      "CLOSEDDDDD\n"
     ]
    },
    {
     "name": "stderr",
     "output_type": "stream",
     "text": [
      "[2018-02-28 17:51:13.588129]:add_signal:20:Saving [signal: 5_FA7773U5_ECG-_2016-08-25 09:45:14.000000_6][group: /3000_1200/raw_$beginwin_samplerate:1000_win:0.001_init:0_finish:4200_endwin$__$beginparams_param:None_endparam$_]\n",
      "[2018-02-28 17:51:13.768205]:add_signal:10:Unable to create link (Name already exists)\n"
     ]
    },
    {
     "name": "stdout",
     "output_type": "stream",
     "text": [
      "closed\n",
      "[(u'FA7773U5_ECG-_2016-08-25 09:45:14.000000_6', array([ -17.77360842,  -16.99235846,  -18.26188965, ...,  -45.11735695,\n",
      "        -85.84001102, -119.92204044]))]\n",
      "/Volumes/Seagate Bac/pre_epi_seizures/h5_files/processing_datasets/seizure_datasets_new.h5\n",
      "addd\n",
      "closinnngg\n"
     ]
    },
    {
     "name": "stderr",
     "output_type": "stream",
     "text": [
      "[2018-02-28 17:51:13.925262]:get_signal:20:Loading [signal: FA7773U5_Ecg_2016-08-25 09:45:14.000000][group: PATIENT5]\n"
     ]
    },
    {
     "name": "stdout",
     "output_type": "stream",
     "text": [
      "CLOSEDDDDD\n"
     ]
    },
    {
     "name": "stderr",
     "output_type": "stream",
     "text": [
      "[2018-02-28 17:51:14.609191]:add_signal:20:Saving [signal: 5_FA7773U5_Ecg_2016-08-25 09:45:14.000000_6][group: /3000_1200/raw_$beginwin_samplerate:1000_win:0.001_init:0_finish:4200_endwin$__$beginparams_param:None_endparam$_]\n"
     ]
    },
    {
     "name": "stdout",
     "output_type": "stream",
     "text": [
      "closed\n",
      "[(u'FA7773U5_Ecg_2016-08-25 09:45:14.000000_6', array([ -58.49626249,  -55.07829392,  -49.02360674, ..., -114.74625946,\n",
      "       -102.53922887,  -91.50407321]))]\n",
      "/Volumes/Seagate Bac/pre_epi_seizures/h5_files/processing_datasets/seizure_datasets_new.h5\n",
      "addd\n"
     ]
    },
    {
     "name": "stderr",
     "output_type": "stream",
     "text": [
      "[2018-02-28 17:51:14.912508]:add_signal:10:Unable to create link (Name already exists)\n",
      "[2018-02-28 17:51:15.004616]:get_signal:20:Loading [signal: FA7773U6_ECG-_2016-08-25 11:45:26.000000][group: PATIENT5]\n"
     ]
    },
    {
     "name": "stdout",
     "output_type": "stream",
     "text": [
      "closinnngg\n",
      "CLOSEDDDDD\n"
     ]
    },
    {
     "name": "stderr",
     "output_type": "stream",
     "text": [
      "[2018-02-28 17:51:15.561275]:get_signal:20:Loading [signal: FA7773U6_Ecg_2016-08-25 11:45:26.000000][group: PATIENT5]\n",
      "[2018-02-28 17:51:16.160120]:add_signal:20:Saving [signal: 5_FA7773U6_ECG-_2016-08-25 11:45:26.000000_7][group: /3000_1200/raw_$beginwin_samplerate:1000_win:0.001_init:0_finish:4200_endwin$__$beginparams_param:None_endparam$_]\n",
      "[2018-02-28 17:51:16.161689]:add_signal:10:Unable to create link (Name already exists)\n",
      "[2018-02-28 17:51:16.248758]:get_signal:20:Loading [signal: FA7773U6_Ecg_2016-08-25 11:45:26.000000][group: PATIENT5]\n"
     ]
    },
    {
     "name": "stdout",
     "output_type": "stream",
     "text": [
      "closed\n",
      "('PATIENT5', u'FA7773U6_Ecg_2016-08-25 11:45:26.000000')\n",
      "closed\n",
      "[(u'FA7773U6_ECG-_2016-08-25 11:45:26.000000_7', array([], dtype=float64))]\n",
      "/Volumes/Seagate Bac/pre_epi_seizures/h5_files/processing_datasets/seizure_datasets_new.h5\n",
      "addd\n",
      "closinnngg\n",
      "CLOSEDDDDD\n",
      "closed\n"
     ]
    },
    {
     "ename": "IndexError",
     "evalue": "list index out of range",
     "output_type": "error",
     "traceback": [
      "\u001b[0;31m--------------------------------------------------------------------------\u001b[0m",
      "\u001b[0;31mIndexError\u001b[0m                               Traceback (most recent call last)",
      "\u001b[0;32m<ipython-input-4-7623ff2df077>\u001b[0m in \u001b[0;36m<module>\u001b[0;34m()\u001b[0m\n\u001b[1;32m      1\u001b[0m \u001b[0;31m# Create Raw ECG datasets\u001b[0m\u001b[0;34m\u001b[0m\u001b[0;34m\u001b[0m\u001b[0m\n\u001b[1;32m      2\u001b[0m create_datasets_nk(disk, time_before_seizure, time_after_seizure,\n\u001b[0;32m----> 3\u001b[0;31m                    patient_list)\n\u001b[0m\u001b[1;32m      4\u001b[0m \u001b[0mcreate_free_datasets_nk\u001b[0m\u001b[0;34m(\u001b[0m\u001b[0mdisk\u001b[0m\u001b[0;34m,\u001b[0m \u001b[0mtime_baseline\u001b[0m\u001b[0;34m,\u001b[0m \u001b[0mpatient_list\u001b[0m\u001b[0;34m)\u001b[0m\u001b[0;34m\u001b[0m\u001b[0m\n",
      "\u001b[0;32m/Users/franciscosargo/Desktop/pre_epi_seizures/pre_epi_seizures/storage_utils/create_datasets_nk.py\u001b[0m in \u001b[0;36mcreate_datasets_nk\u001b[0;34m(disk, time_before_seizure, time_after_seizure, patient_list)\u001b[0m\n\u001b[1;32m    364\u001b[0m                            \u001b[0mtime_before_seizure\u001b[0m\u001b[0;34m,\u001b[0m\u001b[0;34m\u001b[0m\u001b[0m\n\u001b[1;32m    365\u001b[0m                            \u001b[0mtime_after_seizure\u001b[0m\u001b[0;34m,\u001b[0m\u001b[0;34m\u001b[0m\u001b[0m\n\u001b[0;32m--> 366\u001b[0;31m                            patient_list)\n\u001b[0m",
      "\u001b[0;32m/Users/franciscosargo/Desktop/pre_epi_seizures/pre_epi_seizures/storage_utils/create_datasets_nk.py\u001b[0m in \u001b[0;36mcreate_seizure_dataset\u001b[0;34m(path_to_load, path_to_save, path_to_map, time_before_seizure, time_after_seizure, patient_list)\u001b[0m\n\u001b[1;32m    342\u001b[0m                                     \u001b[0mtime_after_seizure\u001b[0m\u001b[0;34m,\u001b[0m\u001b[0;34m\u001b[0m\u001b[0m\n\u001b[1;32m    343\u001b[0m                                     patient)\n\u001b[0;32m--> 344\u001b[0;31m      for patient in patient_list]\n\u001b[0m\u001b[1;32m    345\u001b[0m \u001b[0;34m\u001b[0m\u001b[0m\n\u001b[1;32m    346\u001b[0m \u001b[0;34m\u001b[0m\u001b[0m\n",
      "\u001b[0;32m/Users/franciscosargo/Desktop/pre_epi_seizures/pre_epi_seizures/storage_utils/create_datasets_nk.py\u001b[0m in \u001b[0;36mcreate_seizure_dataset_patient\u001b[0;34m(path_to_load, path_to_save, path_to_map, time_before_seizure, time_after_seizure, patient_number)\u001b[0m\n\u001b[1;32m    321\u001b[0m                     \u001b[0mpatient_nr\u001b[0m\u001b[0;34m=\u001b[0m\u001b[0mpatient_number\u001b[0m\u001b[0;34m,\u001b[0m\u001b[0;34m\u001b[0m\u001b[0m\n\u001b[1;32m    322\u001b[0m                     nr_leads=nr_leads)\n\u001b[0;32m--> 323\u001b[0;31m                     for group_name in group_name_seizure_list]\n\u001b[0m\u001b[1;32m    324\u001b[0m \u001b[0;34m\u001b[0m\u001b[0m\n\u001b[1;32m    325\u001b[0m \u001b[0;34m\u001b[0m\u001b[0m\n",
      "\u001b[0;32m/Users/franciscosargo/Desktop/pre_epi_seizures/pre_epi_seizures/storage_utils/create_datasets_nk.py\u001b[0m in \u001b[0;36mget_record_dataset_seizure_file\u001b[0;34m(path_to_load, path_to_save, path_to_map, time_before_seizure, time_after_seizure, group_name_all_list, group_name_file_seizure, patient_dict, patient_nr, nr_leads)\u001b[0m\n\u001b[1;32m    232\u001b[0m                 \u001b[0mgroup_name_seizure\u001b[0m\u001b[0;34m=\u001b[0m\u001b[0mgroup_name_file_seizure\u001b[0m\u001b[0;34m,\u001b[0m\u001b[0;34m\u001b[0m\u001b[0m\n\u001b[1;32m    233\u001b[0m                 \u001b[0mtotal_record\u001b[0m\u001b[0;34m=\u001b[0m\u001b[0mtotal_record\u001b[0m\u001b[0;34m,\u001b[0m\u001b[0;34m\u001b[0m\u001b[0m\n\u001b[0;32m--> 234\u001b[0;31m                 nr_leads=nr_leads)]\n\u001b[0m\u001b[1;32m    235\u001b[0m \u001b[0;34m\u001b[0m\u001b[0m\n\u001b[1;32m    236\u001b[0m     \u001b[0;31m# Output peocedures\u001b[0m\u001b[0;34m\u001b[0m\u001b[0;34m\u001b[0m\u001b[0m\n",
      "\u001b[0;32m/Users/franciscosargo/Desktop/pre_epi_seizures/pre_epi_seizures/storage_utils/create_datasets_nk.py\u001b[0m in \u001b[0;36mget_record_dataset_seizure\u001b[0;34m(path_to_load, samples_before_seizure, samples_after_seizure, sample_seizure, group_name_all_list, group_name_seizure, total_record, nr_leads)\u001b[0m\n\u001b[1;32m    160\u001b[0m     \u001b[0;32mif\u001b[0m \u001b[0mdiff_after_seizure\u001b[0m \u001b[0;34m>\u001b[0m \u001b[0msamples_record\u001b[0m\u001b[0;34m:\u001b[0m\u001b[0;34m\u001b[0m\u001b[0m\n\u001b[1;32m    161\u001b[0m         group_name_next_file = group_name_all_list[\n\u001b[0;32m--> 162\u001b[0;31m             group_name_all_list.index(group_name_seizure) + 1]\n\u001b[0m\u001b[1;32m    163\u001b[0m \u001b[0;34m\u001b[0m\u001b[0m\n\u001b[1;32m    164\u001b[0m         \u001b[0;32mprint\u001b[0m \u001b[0mgroup_name_next_file\u001b[0m\u001b[0;34m\u001b[0m\u001b[0m\n",
      "\u001b[0;31mIndexError\u001b[0m: list index out of range"
     ]
    }
   ],
   "source": [
    "# Create Raw ECG datasets\n",
    "try:\n",
    "    create_datasets_nk(disk, time_before_seizure, time_after_seizure,\n",
    "                       patient_list)\n",
    "except Exception as e:\n",
    "    print e\n",
    "    \n",
    "try:\n",
    "    create_free_datasets_nk(disk, time_baseline, patient_list)\n",
    "\n",
    "except Exception as e:\n",
    "    print e"
   ]
  },
  {
   "cell_type": "code",
   "execution_count": null,
   "metadata": {
    "scrolled": true
   },
   "outputs": [],
   "source": [
    "from Preprocessing.pre_processing import _main\n",
    "_main(disk, seizure_files)\n",
    "_main(disk, baseline_files)\n"
   ]
  },
  {
   "cell_type": "code",
   "execution_count": null,
   "metadata": {
    "collapsed": true,
    "scrolled": true
   },
   "outputs": [],
   "source": [
    "#from storage_utils.create_datasets_nk import *"
   ]
  }
 ],
 "metadata": {
  "kernelspec": {
   "display_name": "Python 2",
   "language": "python",
   "name": "python2"
  },
  "language_info": {
   "codemirror_mode": {
    "name": "ipython",
    "version": 2
   },
   "file_extension": ".py",
   "mimetype": "text/x-python",
   "name": "python",
   "nbconvert_exporter": "python",
   "pygments_lexer": "ipython2",
   "version": "2.7.10"
  }
 },
 "nbformat": 4,
 "nbformat_minor": 2
}
