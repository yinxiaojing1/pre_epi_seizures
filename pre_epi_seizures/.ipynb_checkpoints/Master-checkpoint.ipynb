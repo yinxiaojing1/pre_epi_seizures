{
 "cells": [
  {
   "cell_type": "code",
   "execution_count": 1,
   "metadata": {
    "scrolled": false
   },
   "outputs": [
    {
     "name": "stderr",
     "output_type": "stream",
     "text": [
      "/home/franciscosargo/.virtualenvs/pre_epi_seizures/local/lib/python2.7/site-packages/h5py/__init__.py:34: FutureWarning: Conversion of the second argument of issubdtype from `float` to `np.floating` is deprecated. In future, it will be treated as `np.float64 == np.dtype(float).type`.\n",
      "  from ._conv import register_converters as _register_converters\n"
     ]
    }
   ],
   "source": [
    "# Import for I/O \n",
    "from storage_utils_nihon_khoden import converter\n",
    "from create_datasets_nk import *\n",
    "from create_free_datasets_nk import *\n"
   ]
  },
  {
   "cell_type": "code",
   "execution_count": 2,
   "metadata": {
    "collapsed": true
   },
   "outputs": [],
   "source": [
    "# State the parameters of the pipeline\n",
    "patient_list = [13]\n",
    "disk = '/mnt/pre_epi_seizures/'\n",
    "baseline_files = 'h5_files/processing_datasets/baseline_datasets_new'\n",
    "seizure_files = 'h5_files/processing_datasets/seizure_datasets_new'\n",
    "time_before_seizure = 50 * 60\n",
    "time_after_seizure = 20 * 60\n",
    "time_baseline = 4 * 60 * 60\n",
    "\n",
    "# Create Raw ECG datasets"
   ]
  },
  {
   "cell_type": "code",
   "execution_count": 3,
   "metadata": {
    "collapsed": true,
    "scrolled": false
   },
   "outputs": [],
   "source": [
    "converter_flag = False\n",
    "if converter_flag:\n",
    "\n",
    "    converter(disk=disk, patient_list=patient_list)"
   ]
  },
  {
   "cell_type": "code",
   "execution_count": 4,
   "metadata": {
    "collapsed": true,
    "scrolled": true
   },
   "outputs": [],
   "source": [
    "create_raw=False\n",
    "if create_raw:\n",
    "    create_datasets_nk(disk, time_before_seizure, time_after_seizure,\n",
    "                       patient_list)\n",
    "\n",
    "    create_free_datasets_nk(disk, time_baseline, patient_list)\n",
    "\n",
    "\n"
   ]
  },
  {
   "cell_type": "code",
   "execution_count": 6,
   "metadata": {
    "scrolled": true
   },
   "outputs": [
    {
     "name": "stdout",
     "output_type": "stream",
     "text": [
      "Saving to txt\n"
     ]
    },
    {
     "name": "stderr",
     "output_type": "stream",
     "text": [
      "[2018-04-12 00:27:21.185129]:get_signal:20:Loading [signal: 13_FA777367_ECG+_2015-11-10 04:16:17.000000][group: /raw_$beginwin_samplerate:1000_win:0.001_init:0_finish:7200_endwin$__$beginparams_param:None_endparam$_]\n",
      "[2018-04-12 00:27:21.844606]:baseline_removal:20:Removing the baseline ...\n"
     ]
    },
    {
     "name": "stdout",
     "output_type": "stream",
     "text": [
      "closed\n",
      "Baseline_removal\n",
      "done\n"
     ]
    },
    {
     "name": "stderr",
     "output_type": "stream",
     "text": [
      "[2018-04-12 00:30:27.471472]:_delete_signal:20:deleting [signal: 13_FA777367_ECG+_2015-11-10 04:16:17.000000][group: /raw_$beginwin_samplerate:1000_win:0.001_init:0_finish:7200_endwin$__$beginparams_param:None_endparam$_/baseline_removal_$beginwin_win:0.001__init:0__finish:4200__samplerate:1000_endwin$__$beginparam_filt:MedianFIR_endparam$_]\n",
      "[2018-04-12 00:30:27.541478]:_delete_signal:10:'Inexistent signal dataset.'\n",
      "[2018-04-12 00:30:27.542536]:_delete_signal:20:deleting [signal: window_13_FA777367_ECG+_2015-11-10 04:16:17.000000][group: /raw_$beginwin_samplerate:1000_win:0.001_init:0_finish:7200_endwin$__$beginparams_param:None_endparam$_/baseline_removal_$beginwin_win:0.001__init:0__finish:4200__samplerate:1000_endwin$__$beginparam_filt:MedianFIR_endparam$_]\n",
      "[2018-04-12 00:30:27.603751]:add_signal:20:Saving [signal: 13_FA777367_ECG+_2015-11-10 04:16:17.000000][group: /raw_$beginwin_samplerate:1000_win:0.001_init:0_finish:7200_endwin$__$beginparams_param:None_endparam$_/baseline_removal_$beginwin_win:0.001__init:0__finish:4200__samplerate:1000_endwin$__$beginparam_filt:MedianFIR_endparam$_]\n",
      "[2018-04-12 00:30:27.731701]:add_signal:20:Saving [signal: window_13_FA777367_ECG+_2015-11-10 04:16:17.000000][group: /raw_$beginwin_samplerate:1000_win:0.001_init:0_finish:7200_endwin$__$beginparams_param:None_endparam$_/baseline_removal_$beginwin_win:0.001__init:0__finish:4200__samplerate:1000_endwin$__$beginparam_filt:MedianFIR_endparam$_]\n"
     ]
    },
    {
     "name": "stdout",
     "output_type": "stream",
     "text": [
      "/mnt/pre_epi_seizures/h5_files/processing_datasets/baseline_datasets_new.h5\n",
      "addd\n",
      "closinnngg\n",
      "CLOSEDDDDD\n",
      "/mnt/pre_epi_seizures/h5_files/processing_datasets/baseline_datasets_new.h5\n"
     ]
    },
    {
     "name": "stderr",
     "output_type": "stream",
     "text": [
      "[2018-04-12 00:30:28.137473]:get_signal:20:Loading [signal: 13_FA777367_ECG-_2015-11-10 04:16:17.000000][group: /raw_$beginwin_samplerate:1000_win:0.001_init:0_finish:7200_endwin$__$beginparams_param:None_endparam$_]\n",
      "[2018-04-12 00:30:29.180126]:baseline_removal:20:Removing the baseline ...\n"
     ]
    },
    {
     "name": "stdout",
     "output_type": "stream",
     "text": [
      "addd\n",
      "closinnngg\n",
      "CLOSEDDDDD\n",
      "closed\n",
      "Baseline_removal\n",
      "done\n"
     ]
    },
    {
     "name": "stderr",
     "output_type": "stream",
     "text": [
      "[2018-04-12 00:33:26.082425]:_delete_signal:20:deleting [signal: 13_FA777367_ECG-_2015-11-10 04:16:17.000000][group: /raw_$beginwin_samplerate:1000_win:0.001_init:0_finish:7200_endwin$__$beginparams_param:None_endparam$_/baseline_removal_$beginwin_win:0.001__init:0__finish:4200__samplerate:1000_endwin$__$beginparam_filt:MedianFIR_endparam$_]\n",
      "[2018-04-12 00:33:26.082967]:_delete_signal:10:'Inexistent signal dataset.'\n",
      "[2018-04-12 00:33:26.083849]:_delete_signal:20:deleting [signal: window_13_FA777367_ECG-_2015-11-10 04:16:17.000000][group: /raw_$beginwin_samplerate:1000_win:0.001_init:0_finish:7200_endwin$__$beginparams_param:None_endparam$_/baseline_removal_$beginwin_win:0.001__init:0__finish:4200__samplerate:1000_endwin$__$beginparam_filt:MedianFIR_endparam$_]\n",
      "[2018-04-12 00:33:26.495976]:add_signal:20:Saving [signal: 13_FA777367_ECG-_2015-11-10 04:16:17.000000][group: /raw_$beginwin_samplerate:1000_win:0.001_init:0_finish:7200_endwin$__$beginparams_param:None_endparam$_/baseline_removal_$beginwin_win:0.001__init:0__finish:4200__samplerate:1000_endwin$__$beginparam_filt:MedianFIR_endparam$_]\n",
      "[2018-04-12 00:33:26.651204]:add_signal:20:Saving [signal: window_13_FA777367_ECG-_2015-11-10 04:16:17.000000][group: /raw_$beginwin_samplerate:1000_win:0.001_init:0_finish:7200_endwin$__$beginparams_param:None_endparam$_/baseline_removal_$beginwin_win:0.001__init:0__finish:4200__samplerate:1000_endwin$__$beginparam_filt:MedianFIR_endparam$_]\n"
     ]
    },
    {
     "name": "stdout",
     "output_type": "stream",
     "text": [
      "/mnt/pre_epi_seizures/h5_files/processing_datasets/baseline_datasets_new.h5\n",
      "addd\n",
      "closinnngg\n",
      "CLOSEDDDDD\n",
      "/mnt/pre_epi_seizures/h5_files/processing_datasets/baseline_datasets_new.h5\n",
      "addd\n",
      "closinnngg\n",
      "CLOSEDDDDD\n",
      "Saving to txt\n",
      "'Inexistent signal group.'"
     ]
    },
    {
     "name": "stderr",
     "output_type": "stream",
     "text": [
      "[2018-04-12 00:33:27.356583]:get_signal:20:Loading [signal: 10_FA7773VJ_ECG-_2016-09-15 00:58:53.000000][group: /raw_$beginwin_samplerate:1000_win:0.001_init:0_finish:7200_endwin$__$beginparams_param:None_endparam$_]\n"
     ]
    },
    {
     "name": "stdout",
     "output_type": "stream",
     "text": [
      "\n",
      "closed\n"
     ]
    },
    {
     "name": "stderr",
     "output_type": "stream",
     "text": [
      "[2018-04-12 00:33:37.284270]:_delete_signal:20:deleting [signal: 10_FA7773VJ_ECG-_2016-09-15 00:58:53.000000][group: /raw_$beginwin_samplerate:1000_win:0.001_init:0_finish:7200_endwin$__$beginparams_param:None_endparam$_/rpeak_detection_$beginwin_win:rpeaks__samplerate:1000_endwin$__$beginparam_method:hamilton_endparam$_]\n",
      "[2018-04-12 00:33:37.284835]:_delete_signal:10:'Inexistent signal group.'\n",
      "[2018-04-12 00:33:37.285662]:_delete_signal:20:deleting [signal: window_10_FA7773VJ_ECG-_2016-09-15 00:58:53.000000][group: /raw_$beginwin_samplerate:1000_win:0.001_init:0_finish:7200_endwin$__$beginparams_param:None_endparam$_/rpeak_detection_$beginwin_win:rpeaks__samplerate:1000_endwin$__$beginparam_method:hamilton_endparam$_]\n",
      "[2018-04-12 00:33:37.286213]:_delete_signal:10:'Inexistent signal group.'\n",
      "[2018-04-12 00:33:37.287158]:add_signal:20:Saving [signal: 10_FA7773VJ_ECG-_2016-09-15 00:58:53.000000][group: /raw_$beginwin_samplerate:1000_win:0.001_init:0_finish:7200_endwin$__$beginparams_param:None_endparam$_/rpeak_detection_$beginwin_win:rpeaks__samplerate:1000_endwin$__$beginparam_method:hamilton_endparam$_]\n",
      "[2018-04-12 00:33:37.407248]:add_signal:20:Saving [signal: window_10_FA7773VJ_ECG-_2016-09-15 00:58:53.000000][group: /raw_$beginwin_samplerate:1000_win:0.001_init:0_finish:7200_endwin$__$beginparams_param:None_endparam$_/rpeak_detection_$beginwin_win:rpeaks__samplerate:1000_endwin$__$beginparam_method:hamilton_endparam$_]\n",
      "[2018-04-12 00:33:37.435081]:get_signal:20:Loading [signal: 10_FA7773VJ_Ecg_2016-09-15 00:58:53.000000][group: /raw_$beginwin_samplerate:1000_win:0.001_init:0_finish:7200_endwin$__$beginparams_param:None_endparam$_]\n"
     ]
    },
    {
     "name": "stdout",
     "output_type": "stream",
     "text": [
      "/mnt/pre_epi_seizures/h5_files/processing_datasets/baseline_datasets_new.h5\n",
      "addd\n",
      "closinnngg\n",
      "CLOSEDDDDD\n",
      "/mnt/pre_epi_seizures/h5_files/processing_datasets/baseline_datasets_new.h5\n",
      "addd\n",
      "closinnngg\n",
      "CLOSEDDDDD\n",
      "closed\n"
     ]
    },
    {
     "name": "stderr",
     "output_type": "stream",
     "text": [
      "[2018-04-12 00:33:45.775578]:_delete_signal:20:deleting [signal: 10_FA7773VJ_Ecg_2016-09-15 00:58:53.000000][group: /raw_$beginwin_samplerate:1000_win:0.001_init:0_finish:7200_endwin$__$beginparams_param:None_endparam$_/rpeak_detection_$beginwin_win:rpeaks__samplerate:1000_endwin$__$beginparam_method:hamilton_endparam$_]\n",
      "[2018-04-12 00:33:45.795478]:_delete_signal:10:'Inexistent signal dataset.'\n",
      "[2018-04-12 00:33:45.796562]:_delete_signal:20:deleting [signal: window_10_FA7773VJ_Ecg_2016-09-15 00:58:53.000000][group: /raw_$beginwin_samplerate:1000_win:0.001_init:0_finish:7200_endwin$__$beginparams_param:None_endparam$_/rpeak_detection_$beginwin_win:rpeaks__samplerate:1000_endwin$__$beginparam_method:hamilton_endparam$_]\n",
      "[2018-04-12 00:33:45.797163]:_delete_signal:10:'Inexistent signal dataset.'\n",
      "[2018-04-12 00:33:45.797996]:add_signal:20:Saving [signal: 10_FA7773VJ_Ecg_2016-09-15 00:58:53.000000][group: /raw_$beginwin_samplerate:1000_win:0.001_init:0_finish:7200_endwin$__$beginparams_param:None_endparam$_/rpeak_detection_$beginwin_win:rpeaks__samplerate:1000_endwin$__$beginparam_method:hamilton_endparam$_]\n",
      "[2018-04-12 00:33:45.889716]:add_signal:20:Saving [signal: window_10_FA7773VJ_Ecg_2016-09-15 00:58:53.000000][group: /raw_$beginwin_samplerate:1000_win:0.001_init:0_finish:7200_endwin$__$beginparams_param:None_endparam$_/rpeak_detection_$beginwin_win:rpeaks__samplerate:1000_endwin$__$beginparam_method:hamilton_endparam$_]\n",
      "[2018-04-12 00:33:45.917927]:get_signal:20:Loading [signal: 10_FA7773VK_ECG-_2016-09-15 02:59:06.000000][group: /raw_$beginwin_samplerate:1000_win:0.001_init:0_finish:7200_endwin$__$beginparams_param:None_endparam$_]\n"
     ]
    },
    {
     "name": "stdout",
     "output_type": "stream",
     "text": [
      "/mnt/pre_epi_seizures/h5_files/processing_datasets/baseline_datasets_new.h5\n",
      "addd\n",
      "closinnngg\n",
      "CLOSEDDDDD\n",
      "/mnt/pre_epi_seizures/h5_files/processing_datasets/baseline_datasets_new.h5\n",
      "addd\n",
      "closinnngg\n",
      "CLOSEDDDDD\n",
      "closed\n"
     ]
    },
    {
     "name": "stderr",
     "output_type": "stream",
     "text": [
      "[2018-04-12 00:33:55.338769]:_delete_signal:20:deleting [signal: 10_FA7773VK_ECG-_2016-09-15 02:59:06.000000][group: /raw_$beginwin_samplerate:1000_win:0.001_init:0_finish:7200_endwin$__$beginparams_param:None_endparam$_/rpeak_detection_$beginwin_win:rpeaks__samplerate:1000_endwin$__$beginparam_method:hamilton_endparam$_]\n",
      "[2018-04-12 00:33:55.449571]:_delete_signal:10:'Inexistent signal dataset.'\n",
      "[2018-04-12 00:33:55.450632]:_delete_signal:20:deleting [signal: window_10_FA7773VK_ECG-_2016-09-15 02:59:06.000000][group: /raw_$beginwin_samplerate:1000_win:0.001_init:0_finish:7200_endwin$__$beginparams_param:None_endparam$_/rpeak_detection_$beginwin_win:rpeaks__samplerate:1000_endwin$__$beginparam_method:hamilton_endparam$_]\n",
      "[2018-04-12 00:33:55.451235]:_delete_signal:10:'Inexistent signal dataset.'\n",
      "[2018-04-12 00:33:55.452017]:add_signal:20:Saving [signal: 10_FA7773VK_ECG-_2016-09-15 02:59:06.000000][group: /raw_$beginwin_samplerate:1000_win:0.001_init:0_finish:7200_endwin$__$beginparams_param:None_endparam$_/rpeak_detection_$beginwin_win:rpeaks__samplerate:1000_endwin$__$beginparam_method:hamilton_endparam$_]\n",
      "[2018-04-12 00:33:55.506423]:add_signal:20:Saving [signal: window_10_FA7773VK_ECG-_2016-09-15 02:59:06.000000][group: /raw_$beginwin_samplerate:1000_win:0.001_init:0_finish:7200_endwin$__$beginparams_param:None_endparam$_/rpeak_detection_$beginwin_win:rpeaks__samplerate:1000_endwin$__$beginparam_method:hamilton_endparam$_]\n",
      "[2018-04-12 00:33:55.534334]:get_signal:20:Loading [signal: 10_FA7773VK_Ecg_2016-09-15 02:59:06.000000][group: /raw_$beginwin_samplerate:1000_win:0.001_init:0_finish:7200_endwin$__$beginparams_param:None_endparam$_]\n"
     ]
    },
    {
     "name": "stdout",
     "output_type": "stream",
     "text": [
      "/mnt/pre_epi_seizures/h5_files/processing_datasets/baseline_datasets_new.h5\n",
      "addd\n",
      "closinnngg\n",
      "CLOSEDDDDD\n",
      "/mnt/pre_epi_seizures/h5_files/processing_datasets/baseline_datasets_new.h5\n",
      "addd\n",
      "closinnngg\n",
      "CLOSEDDDDD\n"
     ]
    },
    {
     "name": "stderr",
     "output_type": "stream",
     "text": [
      "[2018-04-12 00:34:04.601835]:_delete_signal:20:deleting [signal: 10_FA7773VK_Ecg_2016-09-15 02:59:06.000000][group: /raw_$beginwin_samplerate:1000_win:0.001_init:0_finish:7200_endwin$__$beginparams_param:None_endparam$_/rpeak_detection_$beginwin_win:rpeaks__samplerate:1000_endwin$__$beginparam_method:hamilton_endparam$_]\n",
      "[2018-04-12 00:34:04.710807]:_delete_signal:10:'Inexistent signal dataset.'\n",
      "[2018-04-12 00:34:04.711917]:_delete_signal:20:deleting [signal: window_10_FA7773VK_Ecg_2016-09-15 02:59:06.000000][group: /raw_$beginwin_samplerate:1000_win:0.001_init:0_finish:7200_endwin$__$beginparams_param:None_endparam$_/rpeak_detection_$beginwin_win:rpeaks__samplerate:1000_endwin$__$beginparam_method:hamilton_endparam$_]\n",
      "[2018-04-12 00:34:04.712533]:_delete_signal:10:'Inexistent signal dataset.'\n",
      "[2018-04-12 00:34:04.713357]:add_signal:20:Saving [signal: 10_FA7773VK_Ecg_2016-09-15 02:59:06.000000][group: /raw_$beginwin_samplerate:1000_win:0.001_init:0_finish:7200_endwin$__$beginparams_param:None_endparam$_/rpeak_detection_$beginwin_win:rpeaks__samplerate:1000_endwin$__$beginparam_method:hamilton_endparam$_]\n",
      "[2018-04-12 00:34:04.778186]:add_signal:20:Saving [signal: window_10_FA7773VK_Ecg_2016-09-15 02:59:06.000000][group: /raw_$beginwin_samplerate:1000_win:0.001_init:0_finish:7200_endwin$__$beginparams_param:None_endparam$_/rpeak_detection_$beginwin_win:rpeaks__samplerate:1000_endwin$__$beginparam_method:hamilton_endparam$_]\n",
      "[2018-04-12 00:34:04.805543]:get_signal:20:Loading [signal: 13_FA777367_ECG+_2015-11-10 04:16:17.000000][group: /raw_$beginwin_samplerate:1000_win:0.001_init:0_finish:7200_endwin$__$beginparams_param:None_endparam$_]\n"
     ]
    },
    {
     "name": "stdout",
     "output_type": "stream",
     "text": [
      "closed\n",
      "/mnt/pre_epi_seizures/h5_files/processing_datasets/baseline_datasets_new.h5\n",
      "addd\n",
      "closinnngg\n",
      "CLOSEDDDDD\n",
      "/mnt/pre_epi_seizures/h5_files/processing_datasets/baseline_datasets_new.h5\n",
      "addd\n",
      "closinnngg\n",
      "CLOSEDDDDD\n"
     ]
    },
    {
     "name": "stderr",
     "output_type": "stream",
     "text": [
      "[2018-04-12 00:34:12.903244]:_delete_signal:20:deleting [signal: 13_FA777367_ECG+_2015-11-10 04:16:17.000000][group: /raw_$beginwin_samplerate:1000_win:0.001_init:0_finish:7200_endwin$__$beginparams_param:None_endparam$_/rpeak_detection_$beginwin_win:rpeaks__samplerate:1000_endwin$__$beginparam_method:hamilton_endparam$_]\n",
      "[2018-04-12 00:34:12.953459]:_delete_signal:10:'Inexistent signal dataset.'\n",
      "[2018-04-12 00:34:12.954504]:_delete_signal:20:deleting [signal: window_13_FA777367_ECG+_2015-11-10 04:16:17.000000][group: /raw_$beginwin_samplerate:1000_win:0.001_init:0_finish:7200_endwin$__$beginparams_param:None_endparam$_/rpeak_detection_$beginwin_win:rpeaks__samplerate:1000_endwin$__$beginparam_method:hamilton_endparam$_]\n",
      "[2018-04-12 00:34:12.955070]:_delete_signal:10:'Inexistent signal dataset.'\n",
      "[2018-04-12 00:34:12.955864]:add_signal:20:Saving [signal: 13_FA777367_ECG+_2015-11-10 04:16:17.000000][group: /raw_$beginwin_samplerate:1000_win:0.001_init:0_finish:7200_endwin$__$beginparams_param:None_endparam$_/rpeak_detection_$beginwin_win:rpeaks__samplerate:1000_endwin$__$beginparam_method:hamilton_endparam$_]\n",
      "[2018-04-12 00:34:13.043207]:add_signal:20:Saving [signal: window_13_FA777367_ECG+_2015-11-10 04:16:17.000000][group: /raw_$beginwin_samplerate:1000_win:0.001_init:0_finish:7200_endwin$__$beginparams_param:None_endparam$_/rpeak_detection_$beginwin_win:rpeaks__samplerate:1000_endwin$__$beginparam_method:hamilton_endparam$_]\n",
      "[2018-04-12 00:34:13.096708]:get_signal:20:Loading [signal: 13_FA777367_ECG-_2015-11-10 04:16:17.000000][group: /raw_$beginwin_samplerate:1000_win:0.001_init:0_finish:7200_endwin$__$beginparams_param:None_endparam$_]\n"
     ]
    },
    {
     "name": "stdout",
     "output_type": "stream",
     "text": [
      "closed\n",
      "/mnt/pre_epi_seizures/h5_files/processing_datasets/baseline_datasets_new.h5\n",
      "addd\n",
      "closinnngg\n",
      "CLOSEDDDDD\n",
      "/mnt/pre_epi_seizures/h5_files/processing_datasets/baseline_datasets_new.h5\n",
      "addd\n",
      "closinnngg\n",
      "CLOSEDDDDD\n"
     ]
    },
    {
     "name": "stderr",
     "output_type": "stream",
     "text": [
      "[2018-04-12 00:34:21.539337]:_delete_signal:20:deleting [signal: 13_FA777367_ECG-_2015-11-10 04:16:17.000000][group: /raw_$beginwin_samplerate:1000_win:0.001_init:0_finish:7200_endwin$__$beginparams_param:None_endparam$_/rpeak_detection_$beginwin_win:rpeaks__samplerate:1000_endwin$__$beginparam_method:hamilton_endparam$_]\n",
      "[2018-04-12 00:34:21.622500]:_delete_signal:10:'Inexistent signal dataset.'\n",
      "[2018-04-12 00:34:21.623501]:_delete_signal:20:deleting [signal: window_13_FA777367_ECG-_2015-11-10 04:16:17.000000][group: /raw_$beginwin_samplerate:1000_win:0.001_init:0_finish:7200_endwin$__$beginparams_param:None_endparam$_/rpeak_detection_$beginwin_win:rpeaks__samplerate:1000_endwin$__$beginparam_method:hamilton_endparam$_]\n",
      "[2018-04-12 00:34:21.624047]:_delete_signal:10:'Inexistent signal dataset.'\n",
      "[2018-04-12 00:34:21.624787]:add_signal:20:Saving [signal: 13_FA777367_ECG-_2015-11-10 04:16:17.000000][group: /raw_$beginwin_samplerate:1000_win:0.001_init:0_finish:7200_endwin$__$beginparams_param:None_endparam$_/rpeak_detection_$beginwin_win:rpeaks__samplerate:1000_endwin$__$beginparam_method:hamilton_endparam$_]\n",
      "[2018-04-12 00:34:21.652804]:add_signal:20:Saving [signal: window_13_FA777367_ECG-_2015-11-10 04:16:17.000000][group: /raw_$beginwin_samplerate:1000_win:0.001_init:0_finish:7200_endwin$__$beginparams_param:None_endparam$_/rpeak_detection_$beginwin_win:rpeaks__samplerate:1000_endwin$__$beginparam_method:hamilton_endparam$_]\n",
      "[2018-04-12 00:34:21.706614]:get_signal:20:Loading [signal: 3_FA7774DI_ECG-_2017-04-20 03:38:19.000000][group: /raw_$beginwin_samplerate:1000_win:0.001_init:0_finish:7200_endwin$__$beginparams_param:None_endparam$_]\n"
     ]
    },
    {
     "name": "stdout",
     "output_type": "stream",
     "text": [
      "closed\n",
      "/mnt/pre_epi_seizures/h5_files/processing_datasets/baseline_datasets_new.h5\n",
      "addd\n",
      "closinnngg\n",
      "CLOSEDDDDD\n",
      "/mnt/pre_epi_seizures/h5_files/processing_datasets/baseline_datasets_new.h5\n",
      "addd\n",
      "closinnngg\n",
      "CLOSEDDDDD\n"
     ]
    },
    {
     "name": "stderr",
     "output_type": "stream",
     "text": [
      "[2018-04-12 00:34:30.377060]:_delete_signal:20:deleting [signal: 3_FA7774DI_ECG-_2017-04-20 03:38:19.000000][group: /raw_$beginwin_samplerate:1000_win:0.001_init:0_finish:7200_endwin$__$beginparams_param:None_endparam$_/rpeak_detection_$beginwin_win:rpeaks__samplerate:1000_endwin$__$beginparam_method:hamilton_endparam$_]\n",
      "[2018-04-12 00:34:30.430093]:_delete_signal:10:'Inexistent signal dataset.'\n",
      "[2018-04-12 00:34:30.430972]:_delete_signal:20:deleting [signal: window_3_FA7774DI_ECG-_2017-04-20 03:38:19.000000][group: /raw_$beginwin_samplerate:1000_win:0.001_init:0_finish:7200_endwin$__$beginparams_param:None_endparam$_/rpeak_detection_$beginwin_win:rpeaks__samplerate:1000_endwin$__$beginparam_method:hamilton_endparam$_]\n",
      "[2018-04-12 00:34:30.431428]:_delete_signal:10:'Inexistent signal dataset.'\n",
      "[2018-04-12 00:34:30.432133]:add_signal:20:Saving [signal: 3_FA7774DI_ECG-_2017-04-20 03:38:19.000000][group: /raw_$beginwin_samplerate:1000_win:0.001_init:0_finish:7200_endwin$__$beginparams_param:None_endparam$_/rpeak_detection_$beginwin_win:rpeaks__samplerate:1000_endwin$__$beginparam_method:hamilton_endparam$_]\n"
     ]
    },
    {
     "name": "stdout",
     "output_type": "stream",
     "text": [
      "closed\n",
      "/mnt/pre_epi_seizures/h5_files/processing_datasets/baseline_datasets_new.h5\n"
     ]
    },
    {
     "name": "stderr",
     "output_type": "stream",
     "text": [
      "[2018-04-12 00:34:31.092615]:add_signal:20:Saving [signal: window_3_FA7774DI_ECG-_2017-04-20 03:38:19.000000][group: /raw_$beginwin_samplerate:1000_win:0.001_init:0_finish:7200_endwin$__$beginparams_param:None_endparam$_/rpeak_detection_$beginwin_win:rpeaks__samplerate:1000_endwin$__$beginparam_method:hamilton_endparam$_]\n",
      "[2018-04-12 00:34:31.149008]:get_signal:20:Loading [signal: 3_FA7774DI_Ecg_2017-04-20 03:38:19.000000][group: /raw_$beginwin_samplerate:1000_win:0.001_init:0_finish:7200_endwin$__$beginparams_param:None_endparam$_]\n"
     ]
    },
    {
     "name": "stdout",
     "output_type": "stream",
     "text": [
      "addd\n",
      "closinnngg\n",
      "CLOSEDDDDD\n",
      "/mnt/pre_epi_seizures/h5_files/processing_datasets/baseline_datasets_new.h5\n",
      "addd\n",
      "closinnngg\n",
      "CLOSEDDDDD\n"
     ]
    },
    {
     "name": "stderr",
     "output_type": "stream",
     "text": [
      "[2018-04-12 00:34:39.284634]:_delete_signal:20:deleting [signal: 3_FA7774DI_Ecg_2017-04-20 03:38:19.000000][group: /raw_$beginwin_samplerate:1000_win:0.001_init:0_finish:7200_endwin$__$beginparams_param:None_endparam$_/rpeak_detection_$beginwin_win:rpeaks__samplerate:1000_endwin$__$beginparam_method:hamilton_endparam$_]\n",
      "[2018-04-12 00:34:39.366277]:_delete_signal:10:'Inexistent signal dataset.'\n",
      "[2018-04-12 00:34:39.367278]:_delete_signal:20:deleting [signal: window_3_FA7774DI_Ecg_2017-04-20 03:38:19.000000][group: /raw_$beginwin_samplerate:1000_win:0.001_init:0_finish:7200_endwin$__$beginparams_param:None_endparam$_/rpeak_detection_$beginwin_win:rpeaks__samplerate:1000_endwin$__$beginparam_method:hamilton_endparam$_]\n",
      "[2018-04-12 00:34:39.367801]:_delete_signal:10:'Inexistent signal dataset.'\n",
      "[2018-04-12 00:34:39.368588]:add_signal:20:Saving [signal: 3_FA7774DI_Ecg_2017-04-20 03:38:19.000000][group: /raw_$beginwin_samplerate:1000_win:0.001_init:0_finish:7200_endwin$__$beginparams_param:None_endparam$_/rpeak_detection_$beginwin_win:rpeaks__samplerate:1000_endwin$__$beginparam_method:hamilton_endparam$_]\n"
     ]
    },
    {
     "name": "stdout",
     "output_type": "stream",
     "text": [
      "closed\n",
      "/mnt/pre_epi_seizures/h5_files/processing_datasets/baseline_datasets_new.h5\n"
     ]
    },
    {
     "name": "stderr",
     "output_type": "stream",
     "text": [
      "[2018-04-12 00:34:40.023816]:add_signal:20:Saving [signal: window_3_FA7774DI_Ecg_2017-04-20 03:38:19.000000][group: /raw_$beginwin_samplerate:1000_win:0.001_init:0_finish:7200_endwin$__$beginparams_param:None_endparam$_/rpeak_detection_$beginwin_win:rpeaks__samplerate:1000_endwin$__$beginparam_method:hamilton_endparam$_]\n",
      "[2018-04-12 00:34:40.103238]:get_signal:20:Loading [signal: 3_FA7774DJ_ECG-_2017-04-20 05:38:32.000000][group: /raw_$beginwin_samplerate:1000_win:0.001_init:0_finish:7200_endwin$__$beginparams_param:None_endparam$_]\n"
     ]
    },
    {
     "name": "stdout",
     "output_type": "stream",
     "text": [
      "addd\n",
      "closinnngg\n",
      "CLOSEDDDDD\n",
      "/mnt/pre_epi_seizures/h5_files/processing_datasets/baseline_datasets_new.h5\n",
      "addd\n",
      "closinnngg\n",
      "CLOSEDDDDD\n"
     ]
    },
    {
     "name": "stderr",
     "output_type": "stream",
     "text": [
      "[2018-04-12 00:34:48.743059]:_delete_signal:20:deleting [signal: 3_FA7774DJ_ECG-_2017-04-20 05:38:32.000000][group: /raw_$beginwin_samplerate:1000_win:0.001_init:0_finish:7200_endwin$__$beginparams_param:None_endparam$_/rpeak_detection_$beginwin_win:rpeaks__samplerate:1000_endwin$__$beginparam_method:hamilton_endparam$_]\n",
      "[2018-04-12 00:34:48.949360]:_delete_signal:10:'Inexistent signal dataset.'\n",
      "[2018-04-12 00:34:48.950357]:_delete_signal:20:deleting [signal: window_3_FA7774DJ_ECG-_2017-04-20 05:38:32.000000][group: /raw_$beginwin_samplerate:1000_win:0.001_init:0_finish:7200_endwin$__$beginparams_param:None_endparam$_/rpeak_detection_$beginwin_win:rpeaks__samplerate:1000_endwin$__$beginparam_method:hamilton_endparam$_]\n",
      "[2018-04-12 00:34:48.950837]:_delete_signal:10:'Inexistent signal dataset.'\n",
      "[2018-04-12 00:34:48.951655]:add_signal:20:Saving [signal: 3_FA7774DJ_ECG-_2017-04-20 05:38:32.000000][group: /raw_$beginwin_samplerate:1000_win:0.001_init:0_finish:7200_endwin$__$beginparams_param:None_endparam$_/rpeak_detection_$beginwin_win:rpeaks__samplerate:1000_endwin$__$beginparam_method:hamilton_endparam$_]\n",
      "[2018-04-12 00:34:48.997263]:add_signal:20:Saving [signal: window_3_FA7774DJ_ECG-_2017-04-20 05:38:32.000000][group: /raw_$beginwin_samplerate:1000_win:0.001_init:0_finish:7200_endwin$__$beginparams_param:None_endparam$_/rpeak_detection_$beginwin_win:rpeaks__samplerate:1000_endwin$__$beginparam_method:hamilton_endparam$_]\n",
      "[2018-04-12 00:34:49.086079]:get_signal:20:Loading [signal: 3_FA7774DJ_Ecg_2017-04-20 05:38:32.000000][group: /raw_$beginwin_samplerate:1000_win:0.001_init:0_finish:7200_endwin$__$beginparams_param:None_endparam$_]\n"
     ]
    },
    {
     "name": "stdout",
     "output_type": "stream",
     "text": [
      "closed\n",
      "/mnt/pre_epi_seizures/h5_files/processing_datasets/baseline_datasets_new.h5\n",
      "addd\n",
      "closinnngg\n",
      "CLOSEDDDDD\n",
      "/mnt/pre_epi_seizures/h5_files/processing_datasets/baseline_datasets_new.h5\n",
      "addd\n",
      "closinnngg\n",
      "CLOSEDDDDD\n",
      "closed\n"
     ]
    },
    {
     "name": "stderr",
     "output_type": "stream",
     "text": [
      "[2018-04-12 00:34:57.550902]:_delete_signal:20:deleting [signal: 3_FA7774DJ_Ecg_2017-04-20 05:38:32.000000][group: /raw_$beginwin_samplerate:1000_win:0.001_init:0_finish:7200_endwin$__$beginparams_param:None_endparam$_/rpeak_detection_$beginwin_win:rpeaks__samplerate:1000_endwin$__$beginparam_method:hamilton_endparam$_]\n",
      "[2018-04-12 00:34:58.107397]:_delete_signal:10:'Inexistent signal dataset.'\n",
      "[2018-04-12 00:34:58.108681]:_delete_signal:20:deleting [signal: window_3_FA7774DJ_Ecg_2017-04-20 05:38:32.000000][group: /raw_$beginwin_samplerate:1000_win:0.001_init:0_finish:7200_endwin$__$beginparams_param:None_endparam$_/rpeak_detection_$beginwin_win:rpeaks__samplerate:1000_endwin$__$beginparam_method:hamilton_endparam$_]\n",
      "[2018-04-12 00:34:58.109319]:_delete_signal:10:'Inexistent signal dataset.'\n",
      "[2018-04-12 00:34:58.110155]:add_signal:20:Saving [signal: 3_FA7774DJ_Ecg_2017-04-20 05:38:32.000000][group: /raw_$beginwin_samplerate:1000_win:0.001_init:0_finish:7200_endwin$__$beginparams_param:None_endparam$_/rpeak_detection_$beginwin_win:rpeaks__samplerate:1000_endwin$__$beginparam_method:hamilton_endparam$_]\n",
      "[2018-04-12 00:34:58.145222]:add_signal:20:Saving [signal: window_3_FA7774DJ_Ecg_2017-04-20 05:38:32.000000][group: /raw_$beginwin_samplerate:1000_win:0.001_init:0_finish:7200_endwin$__$beginparams_param:None_endparam$_/rpeak_detection_$beginwin_win:rpeaks__samplerate:1000_endwin$__$beginparam_method:hamilton_endparam$_]\n",
      "[2018-04-12 00:34:58.225353]:get_signal:20:Loading [signal: 4_FA77745O_ECG-_2017-01-10 09:42:32.000000][group: /raw_$beginwin_samplerate:1000_win:0.001_init:0_finish:7200_endwin$__$beginparams_param:None_endparam$_]\n"
     ]
    },
    {
     "name": "stdout",
     "output_type": "stream",
     "text": [
      "/mnt/pre_epi_seizures/h5_files/processing_datasets/baseline_datasets_new.h5\n",
      "addd\n",
      "closinnngg\n",
      "CLOSEDDDDD\n",
      "/mnt/pre_epi_seizures/h5_files/processing_datasets/baseline_datasets_new.h5\n",
      "addd\n",
      "closinnngg\n",
      "CLOSEDDDDD\n"
     ]
    },
    {
     "name": "stderr",
     "output_type": "stream",
     "text": [
      "[2018-04-12 00:35:06.360482]:_delete_signal:20:deleting [signal: 4_FA77745O_ECG-_2017-01-10 09:42:32.000000][group: /raw_$beginwin_samplerate:1000_win:0.001_init:0_finish:7200_endwin$__$beginparams_param:None_endparam$_/rpeak_detection_$beginwin_win:rpeaks__samplerate:1000_endwin$__$beginparam_method:hamilton_endparam$_]\n",
      "[2018-04-12 00:35:06.551533]:_delete_signal:10:'Inexistent signal dataset.'\n",
      "[2018-04-12 00:35:06.552857]:_delete_signal:20:deleting [signal: window_4_FA77745O_ECG-_2017-01-10 09:42:32.000000][group: /raw_$beginwin_samplerate:1000_win:0.001_init:0_finish:7200_endwin$__$beginparams_param:None_endparam$_/rpeak_detection_$beginwin_win:rpeaks__samplerate:1000_endwin$__$beginparam_method:hamilton_endparam$_]\n",
      "[2018-04-12 00:35:06.553635]:_delete_signal:10:'Inexistent signal dataset.'\n",
      "[2018-04-12 00:35:06.554791]:add_signal:20:Saving [signal: 4_FA77745O_ECG-_2017-01-10 09:42:32.000000][group: /raw_$beginwin_samplerate:1000_win:0.001_init:0_finish:7200_endwin$__$beginparams_param:None_endparam$_/rpeak_detection_$beginwin_win:rpeaks__samplerate:1000_endwin$__$beginparam_method:hamilton_endparam$_]\n",
      "[2018-04-12 00:35:06.620654]:add_signal:20:Saving [signal: window_4_FA77745O_ECG-_2017-01-10 09:42:32.000000][group: /raw_$beginwin_samplerate:1000_win:0.001_init:0_finish:7200_endwin$__$beginparams_param:None_endparam$_/rpeak_detection_$beginwin_win:rpeaks__samplerate:1000_endwin$__$beginparam_method:hamilton_endparam$_]\n",
      "[2018-04-12 00:35:06.706859]:get_signal:20:Loading [signal: 4_FA77745O_Ecg_2017-01-10 09:42:32.000000][group: /raw_$beginwin_samplerate:1000_win:0.001_init:0_finish:7200_endwin$__$beginparams_param:None_endparam$_]\n"
     ]
    },
    {
     "name": "stdout",
     "output_type": "stream",
     "text": [
      "closed\n",
      "/mnt/pre_epi_seizures/h5_files/processing_datasets/baseline_datasets_new.h5\n",
      "addd\n",
      "closinnngg\n",
      "CLOSEDDDDD\n",
      "/mnt/pre_epi_seizures/h5_files/processing_datasets/baseline_datasets_new.h5\n",
      "addd\n",
      "closinnngg\n",
      "CLOSEDDDDD\n"
     ]
    },
    {
     "name": "stderr",
     "output_type": "stream",
     "text": [
      "[2018-04-12 00:35:15.859654]:_delete_signal:20:deleting [signal: 4_FA77745O_Ecg_2017-01-10 09:42:32.000000][group: /raw_$beginwin_samplerate:1000_win:0.001_init:0_finish:7200_endwin$__$beginparams_param:None_endparam$_/rpeak_detection_$beginwin_win:rpeaks__samplerate:1000_endwin$__$beginparam_method:hamilton_endparam$_]\n",
      "[2018-04-12 00:35:16.059125]:_delete_signal:10:'Inexistent signal dataset.'\n",
      "[2018-04-12 00:35:16.061390]:_delete_signal:20:deleting [signal: window_4_FA77745O_Ecg_2017-01-10 09:42:32.000000][group: /raw_$beginwin_samplerate:1000_win:0.001_init:0_finish:7200_endwin$__$beginparams_param:None_endparam$_/rpeak_detection_$beginwin_win:rpeaks__samplerate:1000_endwin$__$beginparam_method:hamilton_endparam$_]\n",
      "[2018-04-12 00:35:16.062009]:_delete_signal:10:'Inexistent signal dataset.'\n",
      "[2018-04-12 00:35:16.062967]:add_signal:20:Saving [signal: 4_FA77745O_Ecg_2017-01-10 09:42:32.000000][group: /raw_$beginwin_samplerate:1000_win:0.001_init:0_finish:7200_endwin$__$beginparams_param:None_endparam$_/rpeak_detection_$beginwin_win:rpeaks__samplerate:1000_endwin$__$beginparam_method:hamilton_endparam$_]\n",
      "[2018-04-12 00:35:16.132446]:add_signal:20:Saving [signal: window_4_FA77745O_Ecg_2017-01-10 09:42:32.000000][group: /raw_$beginwin_samplerate:1000_win:0.001_init:0_finish:7200_endwin$__$beginparams_param:None_endparam$_/rpeak_detection_$beginwin_win:rpeaks__samplerate:1000_endwin$__$beginparam_method:hamilton_endparam$_]\n",
      "[2018-04-12 00:35:16.237869]:get_signal:20:Loading [signal: 4_FA77745P_ECG-_2017-01-10 11:42:46.000000][group: /raw_$beginwin_samplerate:1000_win:0.001_init:0_finish:7200_endwin$__$beginparams_param:None_endparam$_]\n"
     ]
    },
    {
     "name": "stdout",
     "output_type": "stream",
     "text": [
      "closed\n",
      "/mnt/pre_epi_seizures/h5_files/processing_datasets/baseline_datasets_new.h5\n",
      "addd\n",
      "closinnngg\n",
      "CLOSEDDDDD\n",
      "/mnt/pre_epi_seizures/h5_files/processing_datasets/baseline_datasets_new.h5\n",
      "addd\n",
      "closinnngg\n",
      "CLOSEDDDDD\n"
     ]
    },
    {
     "name": "stderr",
     "output_type": "stream",
     "text": [
      "[2018-04-12 00:35:24.948145]:_delete_signal:20:deleting [signal: 4_FA77745P_ECG-_2017-01-10 11:42:46.000000][group: /raw_$beginwin_samplerate:1000_win:0.001_init:0_finish:7200_endwin$__$beginparams_param:None_endparam$_/rpeak_detection_$beginwin_win:rpeaks__samplerate:1000_endwin$__$beginparam_method:hamilton_endparam$_]\n",
      "[2018-04-12 00:35:24.965034]:_delete_signal:10:'Inexistent signal dataset.'\n",
      "[2018-04-12 00:35:24.966138]:_delete_signal:20:deleting [signal: window_4_FA77745P_ECG-_2017-01-10 11:42:46.000000][group: /raw_$beginwin_samplerate:1000_win:0.001_init:0_finish:7200_endwin$__$beginparams_param:None_endparam$_/rpeak_detection_$beginwin_win:rpeaks__samplerate:1000_endwin$__$beginparam_method:hamilton_endparam$_]\n",
      "[2018-04-12 00:35:24.966731]:_delete_signal:10:'Inexistent signal dataset.'\n",
      "[2018-04-12 00:35:24.967595]:add_signal:20:Saving [signal: 4_FA77745P_ECG-_2017-01-10 11:42:46.000000][group: /raw_$beginwin_samplerate:1000_win:0.001_init:0_finish:7200_endwin$__$beginparams_param:None_endparam$_/rpeak_detection_$beginwin_win:rpeaks__samplerate:1000_endwin$__$beginparam_method:hamilton_endparam$_]\n"
     ]
    },
    {
     "name": "stdout",
     "output_type": "stream",
     "text": [
      "closed\n",
      "/mnt/pre_epi_seizures/h5_files/processing_datasets/baseline_datasets_new.h5\n"
     ]
    },
    {
     "name": "stderr",
     "output_type": "stream",
     "text": [
      "[2018-04-12 00:35:25.382251]:add_signal:20:Saving [signal: window_4_FA77745P_ECG-_2017-01-10 11:42:46.000000][group: /raw_$beginwin_samplerate:1000_win:0.001_init:0_finish:7200_endwin$__$beginparams_param:None_endparam$_/rpeak_detection_$beginwin_win:rpeaks__samplerate:1000_endwin$__$beginparam_method:hamilton_endparam$_]\n",
      "[2018-04-12 00:35:25.436973]:get_signal:20:Loading [signal: 4_FA77745P_Ecg_2017-01-10 11:42:46.000000][group: /raw_$beginwin_samplerate:1000_win:0.001_init:0_finish:7200_endwin$__$beginparams_param:None_endparam$_]\n"
     ]
    },
    {
     "name": "stdout",
     "output_type": "stream",
     "text": [
      "addd\n",
      "closinnngg\n",
      "CLOSEDDDDD\n",
      "/mnt/pre_epi_seizures/h5_files/processing_datasets/baseline_datasets_new.h5\n",
      "addd\n",
      "closinnngg\n",
      "CLOSEDDDDD\n"
     ]
    },
    {
     "name": "stderr",
     "output_type": "stream",
     "text": [
      "[2018-04-12 00:35:34.209673]:_delete_signal:20:deleting [signal: 4_FA77745P_Ecg_2017-01-10 11:42:46.000000][group: /raw_$beginwin_samplerate:1000_win:0.001_init:0_finish:7200_endwin$__$beginparams_param:None_endparam$_/rpeak_detection_$beginwin_win:rpeaks__samplerate:1000_endwin$__$beginparam_method:hamilton_endparam$_]\n",
      "[2018-04-12 00:35:34.674137]:_delete_signal:10:'Inexistent signal dataset.'\n",
      "[2018-04-12 00:35:34.675154]:_delete_signal:20:deleting [signal: window_4_FA77745P_Ecg_2017-01-10 11:42:46.000000][group: /raw_$beginwin_samplerate:1000_win:0.001_init:0_finish:7200_endwin$__$beginparams_param:None_endparam$_/rpeak_detection_$beginwin_win:rpeaks__samplerate:1000_endwin$__$beginparam_method:hamilton_endparam$_]\n",
      "[2018-04-12 00:35:34.675659]:_delete_signal:10:'Inexistent signal dataset.'\n",
      "[2018-04-12 00:35:34.676378]:add_signal:20:Saving [signal: 4_FA77745P_Ecg_2017-01-10 11:42:46.000000][group: /raw_$beginwin_samplerate:1000_win:0.001_init:0_finish:7200_endwin$__$beginparams_param:None_endparam$_/rpeak_detection_$beginwin_win:rpeaks__samplerate:1000_endwin$__$beginparam_method:hamilton_endparam$_]\n",
      "[2018-04-12 00:35:34.714464]:add_signal:20:Saving [signal: window_4_FA77745P_Ecg_2017-01-10 11:42:46.000000][group: /raw_$beginwin_samplerate:1000_win:0.001_init:0_finish:7200_endwin$__$beginparams_param:None_endparam$_/rpeak_detection_$beginwin_win:rpeaks__samplerate:1000_endwin$__$beginparam_method:hamilton_endparam$_]\n",
      "[2018-04-12 00:35:34.791448]:get_signal:20:Loading [signal: 4_FA77745Q_ECG-_2017-01-10 13:42:58.000000][group: /raw_$beginwin_samplerate:1000_win:0.001_init:0_finish:7200_endwin$__$beginparams_param:None_endparam$_]\n"
     ]
    },
    {
     "name": "stdout",
     "output_type": "stream",
     "text": [
      "closed\n",
      "/mnt/pre_epi_seizures/h5_files/processing_datasets/baseline_datasets_new.h5\n",
      "addd\n",
      "closinnngg\n",
      "CLOSEDDDDD\n",
      "/mnt/pre_epi_seizures/h5_files/processing_datasets/baseline_datasets_new.h5\n",
      "addd\n",
      "closinnngg\n",
      "CLOSEDDDDD\n"
     ]
    },
    {
     "name": "stderr",
     "output_type": "stream",
     "text": [
      "[2018-04-12 00:35:43.612007]:_delete_signal:20:deleting [signal: 4_FA77745Q_ECG-_2017-01-10 13:42:58.000000][group: /raw_$beginwin_samplerate:1000_win:0.001_init:0_finish:7200_endwin$__$beginparams_param:None_endparam$_/rpeak_detection_$beginwin_win:rpeaks__samplerate:1000_endwin$__$beginparam_method:hamilton_endparam$_]\n",
      "[2018-04-12 00:35:43.688205]:_delete_signal:10:'Inexistent signal dataset.'\n",
      "[2018-04-12 00:35:43.689434]:_delete_signal:20:deleting [signal: window_4_FA77745Q_ECG-_2017-01-10 13:42:58.000000][group: /raw_$beginwin_samplerate:1000_win:0.001_init:0_finish:7200_endwin$__$beginparams_param:None_endparam$_/rpeak_detection_$beginwin_win:rpeaks__samplerate:1000_endwin$__$beginparam_method:hamilton_endparam$_]\n",
      "[2018-04-12 00:35:43.690211]:_delete_signal:10:'Inexistent signal dataset.'\n",
      "[2018-04-12 00:35:43.691429]:add_signal:20:Saving [signal: 4_FA77745Q_ECG-_2017-01-10 13:42:58.000000][group: /raw_$beginwin_samplerate:1000_win:0.001_init:0_finish:7200_endwin$__$beginparams_param:None_endparam$_/rpeak_detection_$beginwin_win:rpeaks__samplerate:1000_endwin$__$beginparam_method:hamilton_endparam$_]\n",
      "[2018-04-12 00:35:43.765480]:add_signal:20:Saving [signal: window_4_FA77745Q_ECG-_2017-01-10 13:42:58.000000][group: /raw_$beginwin_samplerate:1000_win:0.001_init:0_finish:7200_endwin$__$beginparams_param:None_endparam$_/rpeak_detection_$beginwin_win:rpeaks__samplerate:1000_endwin$__$beginparam_method:hamilton_endparam$_]\n",
      "[2018-04-12 00:35:43.818807]:get_signal:20:Loading [signal: 4_FA77745Q_Ecg_2017-01-10 13:42:58.000000][group: /raw_$beginwin_samplerate:1000_win:0.001_init:0_finish:7200_endwin$__$beginparams_param:None_endparam$_]\n"
     ]
    },
    {
     "name": "stdout",
     "output_type": "stream",
     "text": [
      "closed\n",
      "/mnt/pre_epi_seizures/h5_files/processing_datasets/baseline_datasets_new.h5\n",
      "addd\n",
      "closinnngg\n",
      "CLOSEDDDDD\n",
      "/mnt/pre_epi_seizures/h5_files/processing_datasets/baseline_datasets_new.h5\n",
      "addd\n",
      "closinnngg\n",
      "CLOSEDDDDD\n"
     ]
    },
    {
     "name": "stderr",
     "output_type": "stream",
     "text": [
      "[2018-04-12 00:35:52.088177]:_delete_signal:20:deleting [signal: 4_FA77745Q_Ecg_2017-01-10 13:42:58.000000][group: /raw_$beginwin_samplerate:1000_win:0.001_init:0_finish:7200_endwin$__$beginparams_param:None_endparam$_/rpeak_detection_$beginwin_win:rpeaks__samplerate:1000_endwin$__$beginparam_method:hamilton_endparam$_]\n",
      "[2018-04-12 00:35:52.207589]:_delete_signal:10:'Inexistent signal dataset.'\n",
      "[2018-04-12 00:35:52.208697]:_delete_signal:20:deleting [signal: window_4_FA77745Q_Ecg_2017-01-10 13:42:58.000000][group: /raw_$beginwin_samplerate:1000_win:0.001_init:0_finish:7200_endwin$__$beginparams_param:None_endparam$_/rpeak_detection_$beginwin_win:rpeaks__samplerate:1000_endwin$__$beginparam_method:hamilton_endparam$_]\n",
      "[2018-04-12 00:35:52.209282]:_delete_signal:10:'Inexistent signal dataset.'\n",
      "[2018-04-12 00:35:52.210149]:add_signal:20:Saving [signal: 4_FA77745Q_Ecg_2017-01-10 13:42:58.000000][group: /raw_$beginwin_samplerate:1000_win:0.001_init:0_finish:7200_endwin$__$beginparams_param:None_endparam$_/rpeak_detection_$beginwin_win:rpeaks__samplerate:1000_endwin$__$beginparam_method:hamilton_endparam$_]\n",
      "[2018-04-12 00:35:52.264001]:add_signal:20:Saving [signal: window_4_FA77745Q_Ecg_2017-01-10 13:42:58.000000][group: /raw_$beginwin_samplerate:1000_win:0.001_init:0_finish:7200_endwin$__$beginparams_param:None_endparam$_/rpeak_detection_$beginwin_win:rpeaks__samplerate:1000_endwin$__$beginparam_method:hamilton_endparam$_]\n",
      "[2018-04-12 00:35:52.325659]:get_signal:20:Loading [signal: 5_FA7773TA_ECG-_2016-08-23 04:23:59.000000][group: /raw_$beginwin_samplerate:1000_win:0.001_init:0_finish:7200_endwin$__$beginparams_param:None_endparam$_]\n"
     ]
    },
    {
     "name": "stdout",
     "output_type": "stream",
     "text": [
      "closed\n",
      "/mnt/pre_epi_seizures/h5_files/processing_datasets/baseline_datasets_new.h5\n",
      "addd\n",
      "closinnngg\n",
      "CLOSEDDDDD\n",
      "/mnt/pre_epi_seizures/h5_files/processing_datasets/baseline_datasets_new.h5\n",
      "addd\n",
      "closinnngg\n",
      "CLOSEDDDDD\n"
     ]
    },
    {
     "name": "stderr",
     "output_type": "stream",
     "text": [
      "[2018-04-12 00:36:01.295304]:_delete_signal:20:deleting [signal: 5_FA7773TA_ECG-_2016-08-23 04:23:59.000000][group: /raw_$beginwin_samplerate:1000_win:0.001_init:0_finish:7200_endwin$__$beginparams_param:None_endparam$_/rpeak_detection_$beginwin_win:rpeaks__samplerate:1000_endwin$__$beginparam_method:hamilton_endparam$_]\n",
      "[2018-04-12 00:36:01.380019]:_delete_signal:10:'Inexistent signal dataset.'\n",
      "[2018-04-12 00:36:01.381234]:_delete_signal:20:deleting [signal: window_5_FA7773TA_ECG-_2016-08-23 04:23:59.000000][group: /raw_$beginwin_samplerate:1000_win:0.001_init:0_finish:7200_endwin$__$beginparams_param:None_endparam$_/rpeak_detection_$beginwin_win:rpeaks__samplerate:1000_endwin$__$beginparam_method:hamilton_endparam$_]\n",
      "[2018-04-12 00:36:01.381833]:_delete_signal:10:'Inexistent signal dataset.'\n",
      "[2018-04-12 00:36:01.382634]:add_signal:20:Saving [signal: 5_FA7773TA_ECG-_2016-08-23 04:23:59.000000][group: /raw_$beginwin_samplerate:1000_win:0.001_init:0_finish:7200_endwin$__$beginparams_param:None_endparam$_/rpeak_detection_$beginwin_win:rpeaks__samplerate:1000_endwin$__$beginparam_method:hamilton_endparam$_]\n",
      "[2018-04-12 00:36:01.436837]:add_signal:20:Saving [signal: window_5_FA7773TA_ECG-_2016-08-23 04:23:59.000000][group: /raw_$beginwin_samplerate:1000_win:0.001_init:0_finish:7200_endwin$__$beginparams_param:None_endparam$_/rpeak_detection_$beginwin_win:rpeaks__samplerate:1000_endwin$__$beginparam_method:hamilton_endparam$_]\n",
      "[2018-04-12 00:36:01.491389]:get_signal:20:Loading [signal: 5_FA7773TA_Ecg_2016-08-23 04:23:59.000000][group: /raw_$beginwin_samplerate:1000_win:0.001_init:0_finish:7200_endwin$__$beginparams_param:None_endparam$_]\n"
     ]
    },
    {
     "name": "stdout",
     "output_type": "stream",
     "text": [
      "closed\n",
      "/mnt/pre_epi_seizures/h5_files/processing_datasets/baseline_datasets_new.h5\n",
      "addd\n",
      "closinnngg\n",
      "CLOSEDDDDD\n",
      "/mnt/pre_epi_seizures/h5_files/processing_datasets/baseline_datasets_new.h5\n",
      "addd\n",
      "closinnngg\n",
      "CLOSEDDDDD\n"
     ]
    },
    {
     "name": "stderr",
     "output_type": "stream",
     "text": [
      "[2018-04-12 00:36:10.600148]:_delete_signal:20:deleting [signal: 5_FA7773TA_Ecg_2016-08-23 04:23:59.000000][group: /raw_$beginwin_samplerate:1000_win:0.001_init:0_finish:7200_endwin$__$beginparams_param:None_endparam$_/rpeak_detection_$beginwin_win:rpeaks__samplerate:1000_endwin$__$beginparam_method:hamilton_endparam$_]\n",
      "[2018-04-12 00:36:10.600739]:_delete_signal:10:'Inexistent signal dataset.'\n",
      "[2018-04-12 00:36:10.601597]:_delete_signal:20:deleting [signal: window_5_FA7773TA_Ecg_2016-08-23 04:23:59.000000][group: /raw_$beginwin_samplerate:1000_win:0.001_init:0_finish:7200_endwin$__$beginparams_param:None_endparam$_/rpeak_detection_$beginwin_win:rpeaks__samplerate:1000_endwin$__$beginparam_method:hamilton_endparam$_]\n",
      "[2018-04-12 00:36:10.602311]:_delete_signal:10:'Inexistent signal dataset.'\n",
      "[2018-04-12 00:36:10.603267]:add_signal:20:Saving [signal: 5_FA7773TA_Ecg_2016-08-23 04:23:59.000000][group: /raw_$beginwin_samplerate:1000_win:0.001_init:0_finish:7200_endwin$__$beginparams_param:None_endparam$_/rpeak_detection_$beginwin_win:rpeaks__samplerate:1000_endwin$__$beginparam_method:hamilton_endparam$_]\n"
     ]
    },
    {
     "name": "stdout",
     "output_type": "stream",
     "text": [
      "closed\n",
      "/mnt/pre_epi_seizures/h5_files/processing_datasets/baseline_datasets_new.h5\n"
     ]
    },
    {
     "name": "stderr",
     "output_type": "stream",
     "text": [
      "[2018-04-12 00:36:11.087171]:add_signal:20:Saving [signal: window_5_FA7773TA_Ecg_2016-08-23 04:23:59.000000][group: /raw_$beginwin_samplerate:1000_win:0.001_init:0_finish:7200_endwin$__$beginparams_param:None_endparam$_/rpeak_detection_$beginwin_win:rpeaks__samplerate:1000_endwin$__$beginparam_method:hamilton_endparam$_]\n",
      "[2018-04-12 00:36:11.120536]:get_signal:20:Loading [signal: 5_FA7773TB_ECG-_2016-08-23 06:24:12.000000][group: /raw_$beginwin_samplerate:1000_win:0.001_init:0_finish:7200_endwin$__$beginparams_param:None_endparam$_]\n"
     ]
    },
    {
     "name": "stdout",
     "output_type": "stream",
     "text": [
      "addd\n",
      "closinnngg\n",
      "CLOSEDDDDD\n",
      "/mnt/pre_epi_seizures/h5_files/processing_datasets/baseline_datasets_new.h5\n",
      "addd\n",
      "closinnngg\n",
      "CLOSEDDDDD\n"
     ]
    },
    {
     "name": "stderr",
     "output_type": "stream",
     "text": [
      "[2018-04-12 00:36:20.054762]:_delete_signal:20:deleting [signal: 5_FA7773TB_ECG-_2016-08-23 06:24:12.000000][group: /raw_$beginwin_samplerate:1000_win:0.001_init:0_finish:7200_endwin$__$beginparams_param:None_endparam$_/rpeak_detection_$beginwin_win:rpeaks__samplerate:1000_endwin$__$beginparam_method:hamilton_endparam$_]\n",
      "[2018-04-12 00:36:20.518203]:_delete_signal:10:'Inexistent signal dataset.'\n",
      "[2018-04-12 00:36:20.519259]:_delete_signal:20:deleting [signal: window_5_FA7773TB_ECG-_2016-08-23 06:24:12.000000][group: /raw_$beginwin_samplerate:1000_win:0.001_init:0_finish:7200_endwin$__$beginparams_param:None_endparam$_/rpeak_detection_$beginwin_win:rpeaks__samplerate:1000_endwin$__$beginparam_method:hamilton_endparam$_]\n",
      "[2018-04-12 00:36:20.519803]:_delete_signal:10:'Inexistent signal dataset.'\n",
      "[2018-04-12 00:36:20.520617]:add_signal:20:Saving [signal: 5_FA7773TB_ECG-_2016-08-23 06:24:12.000000][group: /raw_$beginwin_samplerate:1000_win:0.001_init:0_finish:7200_endwin$__$beginparams_param:None_endparam$_/rpeak_detection_$beginwin_win:rpeaks__samplerate:1000_endwin$__$beginparam_method:hamilton_endparam$_]\n",
      "[2018-04-12 00:36:20.584884]:add_signal:20:Saving [signal: window_5_FA7773TB_ECG-_2016-08-23 06:24:12.000000][group: /raw_$beginwin_samplerate:1000_win:0.001_init:0_finish:7200_endwin$__$beginparams_param:None_endparam$_/rpeak_detection_$beginwin_win:rpeaks__samplerate:1000_endwin$__$beginparam_method:hamilton_endparam$_]\n",
      "[2018-04-12 00:36:20.637957]:get_signal:20:Loading [signal: 5_FA7773TB_Ecg_2016-08-23 06:24:12.000000][group: /raw_$beginwin_samplerate:1000_win:0.001_init:0_finish:7200_endwin$__$beginparams_param:None_endparam$_]\n"
     ]
    },
    {
     "name": "stdout",
     "output_type": "stream",
     "text": [
      "closed\n",
      "/mnt/pre_epi_seizures/h5_files/processing_datasets/baseline_datasets_new.h5\n",
      "addd\n",
      "closinnngg\n",
      "CLOSEDDDDD\n",
      "/mnt/pre_epi_seizures/h5_files/processing_datasets/baseline_datasets_new.h5\n",
      "addd\n",
      "closinnngg\n",
      "CLOSEDDDDD\n"
     ]
    },
    {
     "name": "stderr",
     "output_type": "stream",
     "text": [
      "[2018-04-12 00:36:30.088761]:_delete_signal:20:deleting [signal: 5_FA7773TB_Ecg_2016-08-23 06:24:12.000000][group: /raw_$beginwin_samplerate:1000_win:0.001_init:0_finish:7200_endwin$__$beginparams_param:None_endparam$_/rpeak_detection_$beginwin_win:rpeaks__samplerate:1000_endwin$__$beginparam_method:hamilton_endparam$_]\n",
      "[2018-04-12 00:36:30.146076]:_delete_signal:10:'Inexistent signal dataset.'\n",
      "[2018-04-12 00:36:30.147224]:_delete_signal:20:deleting [signal: window_5_FA7773TB_Ecg_2016-08-23 06:24:12.000000][group: /raw_$beginwin_samplerate:1000_win:0.001_init:0_finish:7200_endwin$__$beginparams_param:None_endparam$_/rpeak_detection_$beginwin_win:rpeaks__samplerate:1000_endwin$__$beginparam_method:hamilton_endparam$_]\n",
      "[2018-04-12 00:36:30.147876]:_delete_signal:10:'Inexistent signal dataset.'\n",
      "[2018-04-12 00:36:30.148927]:add_signal:20:Saving [signal: 5_FA7773TB_Ecg_2016-08-23 06:24:12.000000][group: /raw_$beginwin_samplerate:1000_win:0.001_init:0_finish:7200_endwin$__$beginparams_param:None_endparam$_/rpeak_detection_$beginwin_win:rpeaks__samplerate:1000_endwin$__$beginparam_method:hamilton_endparam$_]\n"
     ]
    },
    {
     "name": "stdout",
     "output_type": "stream",
     "text": [
      "closed\n",
      "/mnt/pre_epi_seizures/h5_files/processing_datasets/baseline_datasets_new.h5\n",
      "addd\n"
     ]
    },
    {
     "name": "stderr",
     "output_type": "stream",
     "text": [
      "[2018-04-12 00:36:30.571627]:add_signal:20:Saving [signal: window_5_FA7773TB_Ecg_2016-08-23 06:24:12.000000][group: /raw_$beginwin_samplerate:1000_win:0.001_init:0_finish:7200_endwin$__$beginparams_param:None_endparam$_/rpeak_detection_$beginwin_win:rpeaks__samplerate:1000_endwin$__$beginparam_method:hamilton_endparam$_]\n",
      "[2018-04-12 00:36:30.651643]:get_signal:20:Loading [signal: 7_FA7773OO_ECG-_2016-07-06 00:12:22.000000][group: /raw_$beginwin_samplerate:1000_win:0.001_init:0_finish:7200_endwin$__$beginparams_param:None_endparam$_]\n"
     ]
    },
    {
     "name": "stdout",
     "output_type": "stream",
     "text": [
      "closinnngg\n",
      "CLOSEDDDDD\n",
      "/mnt/pre_epi_seizures/h5_files/processing_datasets/baseline_datasets_new.h5\n",
      "addd\n",
      "closinnngg\n",
      "CLOSEDDDDD\n"
     ]
    },
    {
     "name": "stderr",
     "output_type": "stream",
     "text": [
      "[2018-04-12 00:36:40.090674]:_delete_signal:20:deleting [signal: 7_FA7773OO_ECG-_2016-07-06 00:12:22.000000][group: /raw_$beginwin_samplerate:1000_win:0.001_init:0_finish:7200_endwin$__$beginparams_param:None_endparam$_/rpeak_detection_$beginwin_win:rpeaks__samplerate:1000_endwin$__$beginparam_method:hamilton_endparam$_]\n",
      "[2018-04-12 00:36:40.141335]:_delete_signal:10:'Inexistent signal dataset.'\n",
      "[2018-04-12 00:36:40.142337]:_delete_signal:20:deleting [signal: window_7_FA7773OO_ECG-_2016-07-06 00:12:22.000000][group: /raw_$beginwin_samplerate:1000_win:0.001_init:0_finish:7200_endwin$__$beginparams_param:None_endparam$_/rpeak_detection_$beginwin_win:rpeaks__samplerate:1000_endwin$__$beginparam_method:hamilton_endparam$_]\n",
      "[2018-04-12 00:36:40.142851]:_delete_signal:10:'Inexistent signal dataset.'\n",
      "[2018-04-12 00:36:40.143580]:add_signal:20:Saving [signal: 7_FA7773OO_ECG-_2016-07-06 00:12:22.000000][group: /raw_$beginwin_samplerate:1000_win:0.001_init:0_finish:7200_endwin$__$beginparams_param:None_endparam$_/rpeak_detection_$beginwin_win:rpeaks__samplerate:1000_endwin$__$beginparam_method:hamilton_endparam$_]\n"
     ]
    },
    {
     "name": "stdout",
     "output_type": "stream",
     "text": [
      "closed\n",
      "/mnt/pre_epi_seizures/h5_files/processing_datasets/baseline_datasets_new.h5\n"
     ]
    },
    {
     "name": "stderr",
     "output_type": "stream",
     "text": [
      "[2018-04-12 00:36:40.554626]:add_signal:20:Saving [signal: window_7_FA7773OO_ECG-_2016-07-06 00:12:22.000000][group: /raw_$beginwin_samplerate:1000_win:0.001_init:0_finish:7200_endwin$__$beginparams_param:None_endparam$_/rpeak_detection_$beginwin_win:rpeaks__samplerate:1000_endwin$__$beginparam_method:hamilton_endparam$_]\n",
      "[2018-04-12 00:36:40.609503]:get_signal:20:Loading [signal: 7_FA7773OO_Ecg_2016-07-06 00:12:22.000000][group: /raw_$beginwin_samplerate:1000_win:0.001_init:0_finish:7200_endwin$__$beginparams_param:None_endparam$_]\n"
     ]
    },
    {
     "name": "stdout",
     "output_type": "stream",
     "text": [
      "addd\n",
      "closinnngg\n",
      "CLOSEDDDDD\n",
      "/mnt/pre_epi_seizures/h5_files/processing_datasets/baseline_datasets_new.h5\n",
      "addd\n",
      "closinnngg\n",
      "CLOSEDDDDD\n"
     ]
    },
    {
     "name": "stderr",
     "output_type": "stream",
     "text": [
      "[2018-04-12 00:36:49.265738]:_delete_signal:20:deleting [signal: 7_FA7773OO_Ecg_2016-07-06 00:12:22.000000][group: /raw_$beginwin_samplerate:1000_win:0.001_init:0_finish:7200_endwin$__$beginparams_param:None_endparam$_/rpeak_detection_$beginwin_win:rpeaks__samplerate:1000_endwin$__$beginparam_method:hamilton_endparam$_]\n",
      "[2018-04-12 00:36:49.317235]:_delete_signal:10:'Inexistent signal dataset.'\n",
      "[2018-04-12 00:36:49.318259]:_delete_signal:20:deleting [signal: window_7_FA7773OO_Ecg_2016-07-06 00:12:22.000000][group: /raw_$beginwin_samplerate:1000_win:0.001_init:0_finish:7200_endwin$__$beginparams_param:None_endparam$_/rpeak_detection_$beginwin_win:rpeaks__samplerate:1000_endwin$__$beginparam_method:hamilton_endparam$_]\n",
      "[2018-04-12 00:36:49.318781]:_delete_signal:10:'Inexistent signal dataset.'\n",
      "[2018-04-12 00:36:49.319512]:add_signal:20:Saving [signal: 7_FA7773OO_Ecg_2016-07-06 00:12:22.000000][group: /raw_$beginwin_samplerate:1000_win:0.001_init:0_finish:7200_endwin$__$beginparams_param:None_endparam$_/rpeak_detection_$beginwin_win:rpeaks__samplerate:1000_endwin$__$beginparam_method:hamilton_endparam$_]\n",
      "[2018-04-12 00:36:49.372767]:add_signal:20:Saving [signal: window_7_FA7773OO_Ecg_2016-07-06 00:12:22.000000][group: /raw_$beginwin_samplerate:1000_win:0.001_init:0_finish:7200_endwin$__$beginparams_param:None_endparam$_/rpeak_detection_$beginwin_win:rpeaks__samplerate:1000_endwin$__$beginparam_method:hamilton_endparam$_]\n",
      "[2018-04-12 00:36:49.426121]:get_signal:20:Loading [signal: 7_FA7773OP_ECG-_2016-07-06 02:12:35.000000][group: /raw_$beginwin_samplerate:1000_win:0.001_init:0_finish:7200_endwin$__$beginparams_param:None_endparam$_]\n"
     ]
    },
    {
     "name": "stdout",
     "output_type": "stream",
     "text": [
      "closed\n",
      "/mnt/pre_epi_seizures/h5_files/processing_datasets/baseline_datasets_new.h5\n",
      "addd\n",
      "closinnngg\n",
      "CLOSEDDDDD\n",
      "/mnt/pre_epi_seizures/h5_files/processing_datasets/baseline_datasets_new.h5\n",
      "addd\n",
      "closinnngg\n",
      "CLOSEDDDDD\n"
     ]
    },
    {
     "name": "stderr",
     "output_type": "stream",
     "text": [
      "[2018-04-12 00:36:58.071729]:_delete_signal:20:deleting [signal: 7_FA7773OP_ECG-_2016-07-06 02:12:35.000000][group: /raw_$beginwin_samplerate:1000_win:0.001_init:0_finish:7200_endwin$__$beginparams_param:None_endparam$_/rpeak_detection_$beginwin_win:rpeaks__samplerate:1000_endwin$__$beginparam_method:hamilton_endparam$_]\n",
      "[2018-04-12 00:36:58.122278]:_delete_signal:10:'Inexistent signal dataset.'\n",
      "[2018-04-12 00:36:58.123199]:_delete_signal:20:deleting [signal: window_7_FA7773OP_ECG-_2016-07-06 02:12:35.000000][group: /raw_$beginwin_samplerate:1000_win:0.001_init:0_finish:7200_endwin$__$beginparams_param:None_endparam$_/rpeak_detection_$beginwin_win:rpeaks__samplerate:1000_endwin$__$beginparam_method:hamilton_endparam$_]\n",
      "[2018-04-12 00:36:58.123800]:_delete_signal:10:'Inexistent signal dataset.'\n",
      "[2018-04-12 00:36:58.124672]:add_signal:20:Saving [signal: 7_FA7773OP_ECG-_2016-07-06 02:12:35.000000][group: /raw_$beginwin_samplerate:1000_win:0.001_init:0_finish:7200_endwin$__$beginparams_param:None_endparam$_/rpeak_detection_$beginwin_win:rpeaks__samplerate:1000_endwin$__$beginparam_method:hamilton_endparam$_]\n",
      "[2018-04-12 00:36:58.198435]:add_signal:20:Saving [signal: window_7_FA7773OP_ECG-_2016-07-06 02:12:35.000000][group: /raw_$beginwin_samplerate:1000_win:0.001_init:0_finish:7200_endwin$__$beginparams_param:None_endparam$_/rpeak_detection_$beginwin_win:rpeaks__samplerate:1000_endwin$__$beginparam_method:hamilton_endparam$_]\n",
      "[2018-04-12 00:36:58.251425]:get_signal:20:Loading [signal: 7_FA7773OP_Ecg_2016-07-06 02:12:35.000000][group: /raw_$beginwin_samplerate:1000_win:0.001_init:0_finish:7200_endwin$__$beginparams_param:None_endparam$_]\n"
     ]
    },
    {
     "name": "stdout",
     "output_type": "stream",
     "text": [
      "closed\n",
      "/mnt/pre_epi_seizures/h5_files/processing_datasets/baseline_datasets_new.h5\n",
      "addd\n",
      "closinnngg\n",
      "CLOSEDDDDD\n",
      "/mnt/pre_epi_seizures/h5_files/processing_datasets/baseline_datasets_new.h5\n",
      "addd\n",
      "closinnngg\n",
      "CLOSEDDDDD\n"
     ]
    },
    {
     "name": "stderr",
     "output_type": "stream",
     "text": [
      "[2018-04-12 00:37:07.100963]:_delete_signal:20:deleting [signal: 7_FA7773OP_Ecg_2016-07-06 02:12:35.000000][group: /raw_$beginwin_samplerate:1000_win:0.001_init:0_finish:7200_endwin$__$beginparams_param:None_endparam$_/rpeak_detection_$beginwin_win:rpeaks__samplerate:1000_endwin$__$beginparam_method:hamilton_endparam$_]\n",
      "[2018-04-12 00:37:07.151221]:_delete_signal:10:'Inexistent signal dataset.'\n",
      "[2018-04-12 00:37:07.152238]:_delete_signal:20:deleting [signal: window_7_FA7773OP_Ecg_2016-07-06 02:12:35.000000][group: /raw_$beginwin_samplerate:1000_win:0.001_init:0_finish:7200_endwin$__$beginparams_param:None_endparam$_/rpeak_detection_$beginwin_win:rpeaks__samplerate:1000_endwin$__$beginparam_method:hamilton_endparam$_]\n",
      "[2018-04-12 00:37:07.152791]:_delete_signal:10:'Inexistent signal dataset.'\n",
      "[2018-04-12 00:37:07.153645]:add_signal:20:Saving [signal: 7_FA7773OP_Ecg_2016-07-06 02:12:35.000000][group: /raw_$beginwin_samplerate:1000_win:0.001_init:0_finish:7200_endwin$__$beginparams_param:None_endparam$_/rpeak_detection_$beginwin_win:rpeaks__samplerate:1000_endwin$__$beginparam_method:hamilton_endparam$_]\n",
      "[2018-04-12 00:37:07.229510]:add_signal:20:Saving [signal: window_7_FA7773OP_Ecg_2016-07-06 02:12:35.000000][group: /raw_$beginwin_samplerate:1000_win:0.001_init:0_finish:7200_endwin$__$beginparams_param:None_endparam$_/rpeak_detection_$beginwin_win:rpeaks__samplerate:1000_endwin$__$beginparam_method:hamilton_endparam$_]\n",
      "[2018-04-12 00:37:07.257320]:get_signal:20:Loading [signal: 8_FA7773JL_ECG-_2016-05-09 15:04:43.000000][group: /raw_$beginwin_samplerate:1000_win:0.001_init:0_finish:7200_endwin$__$beginparams_param:None_endparam$_]\n"
     ]
    },
    {
     "name": "stdout",
     "output_type": "stream",
     "text": [
      "closed\n",
      "/mnt/pre_epi_seizures/h5_files/processing_datasets/baseline_datasets_new.h5\n",
      "addd\n",
      "closinnngg\n",
      "CLOSEDDDDD\n",
      "/mnt/pre_epi_seizures/h5_files/processing_datasets/baseline_datasets_new.h5\n",
      "addd\n",
      "closinnngg\n",
      "CLOSEDDDDD\n"
     ]
    },
    {
     "name": "stderr",
     "output_type": "stream",
     "text": [
      "[2018-04-12 00:37:15.553427]:_delete_signal:20:deleting [signal: 8_FA7773JL_ECG-_2016-05-09 15:04:43.000000][group: /raw_$beginwin_samplerate:1000_win:0.001_init:0_finish:7200_endwin$__$beginparams_param:None_endparam$_/rpeak_detection_$beginwin_win:rpeaks__samplerate:1000_endwin$__$beginparam_method:hamilton_endparam$_]\n",
      "[2018-04-12 00:37:15.604401]:_delete_signal:10:'Inexistent signal dataset.'\n",
      "[2018-04-12 00:37:15.605367]:_delete_signal:20:deleting [signal: window_8_FA7773JL_ECG-_2016-05-09 15:04:43.000000][group: /raw_$beginwin_samplerate:1000_win:0.001_init:0_finish:7200_endwin$__$beginparams_param:None_endparam$_/rpeak_detection_$beginwin_win:rpeaks__samplerate:1000_endwin$__$beginparam_method:hamilton_endparam$_]\n",
      "[2018-04-12 00:37:15.605928]:_delete_signal:10:'Inexistent signal dataset.'\n",
      "[2018-04-12 00:37:15.606709]:add_signal:20:Saving [signal: 8_FA7773JL_ECG-_2016-05-09 15:04:43.000000][group: /raw_$beginwin_samplerate:1000_win:0.001_init:0_finish:7200_endwin$__$beginparams_param:None_endparam$_/rpeak_detection_$beginwin_win:rpeaks__samplerate:1000_endwin$__$beginparam_method:hamilton_endparam$_]\n"
     ]
    },
    {
     "name": "stdout",
     "output_type": "stream",
     "text": [
      "closed\n",
      "/mnt/pre_epi_seizures/h5_files/processing_datasets/baseline_datasets_new.h5\n"
     ]
    },
    {
     "name": "stderr",
     "output_type": "stream",
     "text": [
      "[2018-04-12 00:37:16.616452]:add_signal:20:Saving [signal: window_8_FA7773JL_ECG-_2016-05-09 15:04:43.000000][group: /raw_$beginwin_samplerate:1000_win:0.001_init:0_finish:7200_endwin$__$beginparams_param:None_endparam$_/rpeak_detection_$beginwin_win:rpeaks__samplerate:1000_endwin$__$beginparam_method:hamilton_endparam$_]\n",
      "[2018-04-12 00:37:16.693681]:get_signal:20:Loading [signal: 8_FA7773JL_Ecg_2016-05-09 15:04:43.000000][group: /raw_$beginwin_samplerate:1000_win:0.001_init:0_finish:7200_endwin$__$beginparams_param:None_endparam$_]\n"
     ]
    },
    {
     "name": "stdout",
     "output_type": "stream",
     "text": [
      "addd\n",
      "closinnngg\n",
      "CLOSEDDDDD\n",
      "/mnt/pre_epi_seizures/h5_files/processing_datasets/baseline_datasets_new.h5\n",
      "addd\n",
      "closinnngg\n",
      "CLOSEDDDDD\n"
     ]
    },
    {
     "name": "stderr",
     "output_type": "stream",
     "text": [
      "[2018-04-12 00:37:25.627997]:_delete_signal:20:deleting [signal: 8_FA7773JL_Ecg_2016-05-09 15:04:43.000000][group: /raw_$beginwin_samplerate:1000_win:0.001_init:0_finish:7200_endwin$__$beginparams_param:None_endparam$_/rpeak_detection_$beginwin_win:rpeaks__samplerate:1000_endwin$__$beginparam_method:hamilton_endparam$_]\n",
      "[2018-04-12 00:37:25.714791]:_delete_signal:10:'Inexistent signal dataset.'\n",
      "[2018-04-12 00:37:25.715973]:_delete_signal:20:deleting [signal: window_8_FA7773JL_Ecg_2016-05-09 15:04:43.000000][group: /raw_$beginwin_samplerate:1000_win:0.001_init:0_finish:7200_endwin$__$beginparams_param:None_endparam$_/rpeak_detection_$beginwin_win:rpeaks__samplerate:1000_endwin$__$beginparam_method:hamilton_endparam$_]\n",
      "[2018-04-12 00:37:25.716598]:_delete_signal:10:'Inexistent signal dataset.'\n",
      "[2018-04-12 00:37:25.717624]:add_signal:20:Saving [signal: 8_FA7773JL_Ecg_2016-05-09 15:04:43.000000][group: /raw_$beginwin_samplerate:1000_win:0.001_init:0_finish:7200_endwin$__$beginparams_param:None_endparam$_/rpeak_detection_$beginwin_win:rpeaks__samplerate:1000_endwin$__$beginparam_method:hamilton_endparam$_]\n",
      "[2018-04-12 00:37:25.771857]:add_signal:20:Saving [signal: window_8_FA7773JL_Ecg_2016-05-09 15:04:43.000000][group: /raw_$beginwin_samplerate:1000_win:0.001_init:0_finish:7200_endwin$__$beginparams_param:None_endparam$_/rpeak_detection_$beginwin_win:rpeaks__samplerate:1000_endwin$__$beginparam_method:hamilton_endparam$_]\n",
      "[2018-04-12 00:37:25.850679]:get_signal:20:Loading [signal: 8_FA7773JM_ECG-_2016-05-09 17:04:57.000000][group: /raw_$beginwin_samplerate:1000_win:0.001_init:0_finish:7200_endwin$__$beginparams_param:None_endparam$_]\n"
     ]
    },
    {
     "name": "stdout",
     "output_type": "stream",
     "text": [
      "closed\n",
      "/mnt/pre_epi_seizures/h5_files/processing_datasets/baseline_datasets_new.h5\n",
      "addd\n",
      "closinnngg\n",
      "CLOSEDDDDD\n",
      "/mnt/pre_epi_seizures/h5_files/processing_datasets/baseline_datasets_new.h5\n",
      "addd\n",
      "closinnngg\n",
      "CLOSEDDDDD\n"
     ]
    },
    {
     "name": "stderr",
     "output_type": "stream",
     "text": [
      "[2018-04-12 00:37:34.546938]:_delete_signal:20:deleting [signal: 8_FA7773JM_ECG-_2016-05-09 17:04:57.000000][group: /raw_$beginwin_samplerate:1000_win:0.001_init:0_finish:7200_endwin$__$beginparams_param:None_endparam$_/rpeak_detection_$beginwin_win:rpeaks__samplerate:1000_endwin$__$beginparam_method:hamilton_endparam$_]\n",
      "[2018-04-12 00:37:34.547559]:_delete_signal:10:'Inexistent signal dataset.'\n",
      "[2018-04-12 00:37:34.548364]:_delete_signal:20:deleting [signal: window_8_FA7773JM_ECG-_2016-05-09 17:04:57.000000][group: /raw_$beginwin_samplerate:1000_win:0.001_init:0_finish:7200_endwin$__$beginparams_param:None_endparam$_/rpeak_detection_$beginwin_win:rpeaks__samplerate:1000_endwin$__$beginparam_method:hamilton_endparam$_]\n",
      "[2018-04-12 00:37:34.548825]:_delete_signal:10:'Inexistent signal dataset.'\n",
      "[2018-04-12 00:37:34.549622]:add_signal:20:Saving [signal: 8_FA7773JM_ECG-_2016-05-09 17:04:57.000000][group: /raw_$beginwin_samplerate:1000_win:0.001_init:0_finish:7200_endwin$__$beginparams_param:None_endparam$_/rpeak_detection_$beginwin_win:rpeaks__samplerate:1000_endwin$__$beginparam_method:hamilton_endparam$_]\n"
     ]
    },
    {
     "name": "stdout",
     "output_type": "stream",
     "text": [
      "closed\n",
      "/mnt/pre_epi_seizures/h5_files/processing_datasets/baseline_datasets_new.h5\n"
     ]
    },
    {
     "name": "stderr",
     "output_type": "stream",
     "text": [
      "[2018-04-12 00:37:34.964398]:add_signal:20:Saving [signal: window_8_FA7773JM_ECG-_2016-05-09 17:04:57.000000][group: /raw_$beginwin_samplerate:1000_win:0.001_init:0_finish:7200_endwin$__$beginparams_param:None_endparam$_/rpeak_detection_$beginwin_win:rpeaks__samplerate:1000_endwin$__$beginparam_method:hamilton_endparam$_]\n",
      "[2018-04-12 00:37:35.017936]:get_signal:20:Loading [signal: 8_FA7773JM_Ecg_2016-05-09 17:04:57.000000][group: /raw_$beginwin_samplerate:1000_win:0.001_init:0_finish:7200_endwin$__$beginparams_param:None_endparam$_]\n"
     ]
    },
    {
     "name": "stdout",
     "output_type": "stream",
     "text": [
      "addd\n",
      "closinnngg\n",
      "CLOSEDDDDD\n",
      "/mnt/pre_epi_seizures/h5_files/processing_datasets/baseline_datasets_new.h5\n",
      "addd\n",
      "closinnngg\n",
      "CLOSEDDDDD\n"
     ]
    },
    {
     "name": "stderr",
     "output_type": "stream",
     "text": [
      "[2018-04-12 00:37:43.867761]:_delete_signal:20:deleting [signal: 8_FA7773JM_Ecg_2016-05-09 17:04:57.000000][group: /raw_$beginwin_samplerate:1000_win:0.001_init:0_finish:7200_endwin$__$beginparams_param:None_endparam$_/rpeak_detection_$beginwin_win:rpeaks__samplerate:1000_endwin$__$beginparam_method:hamilton_endparam$_]\n",
      "[2018-04-12 00:37:43.918915]:_delete_signal:10:'Inexistent signal dataset.'\n",
      "[2018-04-12 00:37:43.919966]:_delete_signal:20:deleting [signal: window_8_FA7773JM_Ecg_2016-05-09 17:04:57.000000][group: /raw_$beginwin_samplerate:1000_win:0.001_init:0_finish:7200_endwin$__$beginparams_param:None_endparam$_/rpeak_detection_$beginwin_win:rpeaks__samplerate:1000_endwin$__$beginparam_method:hamilton_endparam$_]\n",
      "[2018-04-12 00:37:43.920610]:_delete_signal:10:'Inexistent signal dataset.'\n",
      "[2018-04-12 00:37:43.921414]:add_signal:20:Saving [signal: 8_FA7773JM_Ecg_2016-05-09 17:04:57.000000][group: /raw_$beginwin_samplerate:1000_win:0.001_init:0_finish:7200_endwin$__$beginparams_param:None_endparam$_/rpeak_detection_$beginwin_win:rpeaks__samplerate:1000_endwin$__$beginparam_method:hamilton_endparam$_]\n"
     ]
    },
    {
     "name": "stdout",
     "output_type": "stream",
     "text": [
      "closed\n",
      "/mnt/pre_epi_seizures/h5_files/processing_datasets/baseline_datasets_new.h5\n"
     ]
    },
    {
     "name": "stderr",
     "output_type": "stream",
     "text": [
      "[2018-04-12 00:37:44.330489]:add_signal:20:Saving [signal: window_8_FA7773JM_Ecg_2016-05-09 17:04:57.000000][group: /raw_$beginwin_samplerate:1000_win:0.001_init:0_finish:7200_endwin$__$beginparams_param:None_endparam$_/rpeak_detection_$beginwin_win:rpeaks__samplerate:1000_endwin$__$beginparam_method:hamilton_endparam$_]\n"
     ]
    },
    {
     "name": "stdout",
     "output_type": "stream",
     "text": [
      "addd\n",
      "closinnngg\n",
      "CLOSEDDDDD\n",
      "/mnt/pre_epi_seizures/h5_files/processing_datasets/baseline_datasets_new.h5\n",
      "addd\n",
      "closinnngg\n",
      "CLOSEDDDDD\n",
      "here\n",
      "hrv_features\n",
      "Saving to txt\n",
      "hrv_features\n"
     ]
    },
    {
     "name": "stderr",
     "output_type": "stream",
     "text": [
      "[2018-04-12 00:37:46.753255]:get_signal:20:Loading [signal: 10_FA7773VJ_ECG-_2016-09-15 00:58:53.000000][group: /raw_$beginwin_samplerate:1000_win:0.001_init:0_finish:7200_endwin$__$beginparams_param:None_endparam$_]\n"
     ]
    },
    {
     "name": "stdout",
     "output_type": "stream",
     "text": [
      "Saving to txt\n",
      "'Inexistent signal group.'\n"
     ]
    },
    {
     "name": "stderr",
     "output_type": "stream",
     "text": [
      "[2018-04-12 00:37:47.328332]:get_signal:20:Loading [signal: 10_FA7773VJ_ECG-_2016-09-15 00:58:53.000000][group: /raw_$beginwin_samplerate:1000_win:0.001_init:0_finish:7200_endwin$__$beginparams_param:None_endparam$_/baseline_removal_$beginwin_win:0.001__init:0__finish:4200__samplerate:1000_endwin$__$beginparam_filt:MedianFIR_endparam$_/rpeak_detection_$beginwin_win:rpeaks__samplerate:1000_endwin$__$beginparam_method:hamilton_endparam$_]\n"
     ]
    },
    {
     "name": "stdout",
     "output_type": "stream",
     "text": [
      "closed\n",
      "closed\n"
     ]
    }
   ],
   "source": [
    "pre_processing = True\n",
    "if pre_processing:\n",
    "    from pre_processing import _main\n",
    "    _main(disk, seizure_files)\n",
    "    _main(disk, baseline_files)"
   ]
  }
 ],
 "metadata": {
  "kernelspec": {
   "display_name": "Python 2",
   "language": "python",
   "name": "python2"
  },
  "language_info": {
   "codemirror_mode": {
    "name": "ipython",
    "version": 2
   },
   "file_extension": ".py",
   "mimetype": "text/x-python",
   "name": "python",
   "nbconvert_exporter": "python",
   "pygments_lexer": "ipython2",
   "version": "2.7.12"
  }
 },
 "nbformat": 4,
 "nbformat_minor": 2
}
