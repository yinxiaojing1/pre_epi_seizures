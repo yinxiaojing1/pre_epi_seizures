{
 "cells": [
  {
   "cell_type": "code",
   "execution_count": 1,
   "metadata": {
    "collapsed": true
   },
   "outputs": [],
   "source": [
    "from pylatex import Document, Section, Subsection, Command\n",
    "from pylatex.utils import italic, NoEscape\n",
    "\n",
    "\n",
    "def fill_document(doc):\n",
    "    \"\"\"Add a section, a subsection and some text to the document.\n",
    "\n",
    "    :param doc: the document\n",
    "    :type doc: :class:`pylatex.document.Document` instance\n",
    "    \"\"\"\n",
    "    with doc.create(Section('A section')):\n",
    "        doc.append('Some regular text and some ')\n",
    "        doc.append(italic('italic text. '))\n",
    "\n",
    "        with doc.create(Subsection('A subsection')):\n",
    "            doc.append('Also some crazy characters: $&#{}')\n",
    "\n",
    "\n",
    "if __name__ == '__main__':\n",
    "    # Basic document\n",
    "    doc = Document('mnTbasic')\n",
    "    fill_document(doc)\n",
    "\n",
    "    doc.generate_pdf(clean_tex=False)\n",
    "    doc.generate_tex()\n",
    "\n",
    "    fill_document(doc)\n",
    "\n",
    "    doc.generate_pdf('/home/franciscosargo/basic_maketitle', clean_tex=False)\n",
    "\n",
    "    tex = doc.dumps()  # The document as string in LaTeX syntax"
   ]
  },
  {
   "cell_type": "code",
   "execution_count": 2,
   "metadata": {},
   "outputs": [
    {
     "name": "stderr",
     "output_type": "stream",
     "text": [
      "/home/franciscosargo/.virtualenvs/pre_epi_seizures/local/lib/python2.7/site-packages/h5py/__init__.py:34: FutureWarning: Conversion of the second argument of issubdtype from `float` to `np.floating` is deprecated. In future, it will be treated as `np.float64 == np.dtype(float).type`.\n",
      "  from ._conv import register_converters as _register_converters\n",
      "Using TensorFlow backend.\n"
     ]
    }
   ],
   "source": [
    "from learning_pipelines import get_learning_results, get_hyper_param_results\n",
    "import sklearn.svm as svm\n",
    "from sklearn.pipeline import Pipeline\n",
    "from sklearn.preprocessing import StandardScaler\n",
    "from sklearn.naive_bayes import GaussianNB\n",
    "from sklearn.neighbors import KNeighborsClassifier\n",
    "import pandas as pd\n",
    "\n",
    "from classification.keras_neural_nets import *\n",
    "\n",
    "import os"
   ]
  },
  {
   "cell_type": "code",
   "execution_count": 3,
   "metadata": {
    "collapsed": true
   },
   "outputs": [],
   "source": [
    "import pylatex"
   ]
  },
  {
   "cell_type": "code",
   "execution_count": 4,
   "metadata": {
    "collapsed": true
   },
   "outputs": [],
   "source": [
    "import glob\n",
    "import shutil\n",
    "import os"
   ]
  },
  {
   "cell_type": "code",
   "execution_count": 5,
   "metadata": {
    "collapsed": true
   },
   "outputs": [],
   "source": [
    "from evaluation_tables import *"
   ]
  },
  {
   "cell_type": "code",
   "execution_count": 6,
   "metadata": {
    "collapsed": true,
    "scrolled": true
   },
   "outputs": [],
   "source": [
    "from classification.hp_opt.single_param import *"
   ]
  },
  {
   "cell_type": "code",
   "execution_count": 7,
   "metadata": {
    "collapsed": true
   },
   "outputs": [],
   "source": [
    "from learning_pipelines import load_eda"
   ]
  },
  {
   "cell_type": "code",
   "execution_count": 8,
   "metadata": {
    "collapsed": true
   },
   "outputs": [],
   "source": [
    "def create_tables_patient_specific(table):\n",
    "        # Overal Patient Classification\n",
    "        per_patient = table[['precision',\n",
    "                             'recall',\n",
    "                             'f1-score',\n",
    "                             'patient_nr',\n",
    "                             'Best Parameters',\n",
    "                             'Labels']].groupby(['patient_nr', 'Labels']).describe()\n",
    "\n",
    "        per_patient.loc[:, (['precision', 'recall', 'f1-score'], ['mean', 'std'])]\n",
    "\n",
    "        # Overal Patient Classification\n",
    "        per_patient = table[['precision',\n",
    "                             'recall',\n",
    "                             'f1-score',\n",
    "                             'patient_nr',\n",
    "                             'Best Parameters',\n",
    "                             'Labels']].groupby(['Best Parameters','patient_nr', 'Labels']).describe()\n",
    "\n",
    "        per_patient.loc[:, (['precision', 'recall', 'f1-score'], ['mean', 'std'])]\n",
    "        \n",
    "        print table\n",
    "    "
   ]
  },
  {
   "cell_type": "code",
   "execution_count": 9,
   "metadata": {
    "collapsed": true
   },
   "outputs": [],
   "source": [
    "# Set the storage parameters \n",
    "disk = '/mnt/Seagate/pre_epi_seizures/'"
   ]
  },
  {
   "cell_type": "code",
   "execution_count": 10,
   "metadata": {
    "collapsed": true
   },
   "outputs": [],
   "source": [
    "# Set the latex report folder\n",
    "latex_dir = 'latex/'"
   ]
  },
  {
   "cell_type": "code",
   "execution_count": 11,
   "metadata": {
    "collapsed": true
   },
   "outputs": [],
   "source": [
    "patient_lists = [[3], [4], [5], [8]]"
   ]
  },
  {
   "cell_type": "code",
   "execution_count": 12,
   "metadata": {
    "collapsed": true,
    "scrolled": true
   },
   "outputs": [],
   "source": [
    "# Allocate the feature set\n",
    "feature_set = [('pca_beat_amp_computation', 0), ('hrv_time_features', 0)]"
   ]
  },
  {
   "cell_type": "code",
   "execution_count": 13,
   "metadata": {
    "collapsed": true
   },
   "outputs": [],
   "source": [
    "model_set = [\n",
    "             (Pipeline([('KNN', KNeighborsClassifier())]), [{'KNN__n_neighbors': [i for i in xrange(1, 15, 2)]}]),\n",
    "             (Pipeline([('GaussNB', GaussianNB())]), [{'GaussNB__priors': [None]}]),\n",
    "             (Pipeline([('SVC', svm.SVC())]), [{'SVC__C': [2**i for i in xrange(-5, 11)], \n",
    "                                                'SVC__gamma':[2**i for i in xrange(-15, 1)]}])]\n",
    "\n",
    "\n",
    "                                               "
   ]
  },
  {
   "cell_type": "code",
   "execution_count": 14,
   "metadata": {
    "collapsed": true
   },
   "outputs": [],
   "source": [
    "scaler_set = [StandardScaler()]"
   ]
  },
  {
   "cell_type": "code",
   "execution_count": 15,
   "metadata": {
    "collapsed": true
   },
   "outputs": [],
   "source": [
    "# Labeling structure\n",
    "label_struct = {\n",
    "                'inter_ictal':{\n",
    "                    'label': 'Inter-Ictal Data Points',\n",
    "                    'color': 'blue',\n",
    "                    'intervals_samples': [(1000 * 0 * 60, 1000 * 20 * 60 )]\n",
    "                             },\n",
    "                'pre_ictal':{\n",
    "                    'label': 'Pre-Ictal data points',\n",
    "                    'color': 'yellow',\n",
    "                    'intervals_samples': [(1000 * 20 * 60, 1000 * 49 * 60 )]\n",
    "                             },\n",
    "                'ictal':{\n",
    "                    'label': 'Ictal data points',\n",
    "                    'color': 'red',\n",
    "                    'intervals_samples': [(1000 * 50 * 60, 1000 * 55 * 60 )]\n",
    "                         },\n",
    "                        }\n",
    "baseline_label_struct = {\n",
    "                 'baseline':{\n",
    "                    'label': 'Baseline Data Points',\n",
    "                    'color': 'green',\n",
    "                    'intervals_samples': [(0, 1000 * 30 * 60 )]\n",
    "                            },\n",
    "                        }\n",
    "\n",
    "plot_eda = False\n",
    "learn_flag = False\n",
    "compute_all_new = False\n"
   ]
  },
  {
   "cell_type": "code",
   "execution_count": 16,
   "metadata": {
    "collapsed": true
   },
   "outputs": [],
   "source": [
    "# Open latex document\n",
    "# Basic document\n",
    "doc = Document('mnTbasic')\n",
    "fill_document(doc)\n",
    "\n",
    "doc.generate_pdf(clean_tex=False)\n",
    "doc.generate_tex()\n",
    "\n",
    "fill_document(doc)\n",
    "\n"
   ]
  },
  {
   "cell_type": "code",
   "execution_count": 17,
   "metadata": {
    "scrolled": true
   },
   "outputs": [
    {
     "name": "stdout",
     "output_type": "stream",
     "text": [
      "pca_beat_amp_computation\n",
      "0\n",
      "('scaler', StandardScaler(copy=True, with_mean=True, with_std=True))('lead_list', ['ECG-'])('feature_slot', 'pca_beat_amp_computation')('interim_processing', [StandardScaler(copy=True, with_mean=True, with_std=True)])('assign_baseline', 'assign_equal_baseline_seizure')('label_struct', {'pre_ictal': {'color': 'yellow', 'intervals_samples': [(1200000, 2940000)], 'label': 'Pre-Ictal data points'}, 'inter_ictal': {'color': 'blue', 'intervals_samples': [(0, 1200000)], 'label': 'Inter-Ictal Data Points'}, 'ictal': {'color': 'red', 'intervals_samples': [(3000000, 3300000)], 'label': 'Ictal data points'}})('baseline_label_struct', {'baseline': {'color': 'green', 'intervals_samples': [(0, 1800000)], 'label': 'Baseline Data Points'}})('patient_list', [3])('hyper_param', 0)('group_id', 'seizure_nr')\n",
      "\n",
      "This is a list of the parameters\n",
      "[\"('scaler', StandardScaler(copy=True, with_mean=True, with_std=True))('lead_list', ['ECG-'])('feature_slot', 'pca_beat_amp_computation')('interim_processing', [StandardScaler(copy=True, with_mean=True, with_std=True)])('assign_baseline', 'assign_equal_baseline_seizure')('label_struct', {'pre_ictal': {'color': 'yellow', 'intervals_samples': [(1200000, 2940000)], 'label': 'Pre-Ictal data points'}, 'inter_ictal': {'color': 'blue', 'intervals_samples': [(0, 1200000)], 'label': 'Inter-Ictal Data Points'}, 'ictal': {'color': 'red', 'intervals_samples': [(3000000, 3300000)], 'label': 'Ictal data points'}})('baseline_label_struct', {'baseline': {'color': 'green', 'intervals_samples': [(0, 1800000)], 'label': 'Baseline Data Points'}})('patient_list', [3])('hyper_param', 0)('group_id', 'seizure_nr')\", \"('scaler', StandardScaler(copy=True, with_mean=True, with_std=True))('lead_list', ['ECG-'])('feature_slot', 'pca_beat_amp_computation')('interim_processing', [StandardScaler(copy=True, with_mean=True, with_std=True)])('assign_baseline', 'assign_equal_baseline_seizure')('label_struct', {'pre_ictal': {'color': 'yellow', 'intervals_samples': [(1200000, 2940000)], 'label': 'Pre-Ictal data points'}, 'inter_ictal': {'color': 'blue', 'intervals_samples': [(0, 1200000)], 'label': 'Inter-Ictal Data Points'}, 'ictal': {'color': 'red', 'intervals_samples': [(3000000, 3300000)], 'label': 'Ictal data points'}})('baseline_label_struct', {'baseline': {'color': 'green', 'intervals_samples': [(0, 1800000)], 'label': 'Baseline Data Points'}})('patient_list', [4])('hyper_param', 0)('group_id', 'seizure_nr')\", \"('scaler', StandardScaler(copy=True, with_mean=True, with_std=True))('lead_list', ['ECG-'])('feature_slot', 'pca_beat_amp_computation')('interim_processing', [StandardScaler(copy=True, with_mean=True, with_std=True)])('assign_baseline', 'assign_equal_baseline_seizure')('label_struct', {'pre_ictal': {'color': 'yellow', 'intervals_samples': [(1200000, 2940000)], 'label': 'Pre-Ictal data points'}, 'inter_ictal': {'color': 'blue', 'intervals_samples': [(0, 1200000)], 'label': 'Inter-Ictal Data Points'}, 'ictal': {'color': 'red', 'intervals_samples': [(3000000, 3300000)], 'label': 'Ictal data points'}})('baseline_label_struct', {'baseline': {'color': 'green', 'intervals_samples': [(0, 1800000)], 'label': 'Baseline Data Points'}})('patient_list', [5])('hyper_param', 0)('group_id', 'seizure_nr')\", \"('scaler', StandardScaler(copy=True, with_mean=True, with_std=True))('lead_list', ['ECG-'])('feature_slot', 'pca_beat_amp_computation')('interim_processing', [StandardScaler(copy=True, with_mean=True, with_std=True)])('assign_baseline', 'assign_equal_baseline_seizure')('label_struct', {'pre_ictal': {'color': 'yellow', 'intervals_samples': [(1200000, 2940000)], 'label': 'Pre-Ictal data points'}, 'inter_ictal': {'color': 'blue', 'intervals_samples': [(0, 1200000)], 'label': 'Inter-Ictal Data Points'}, 'ictal': {'color': 'red', 'intervals_samples': [(3000000, 3300000)], 'label': 'Ictal data points'}})('baseline_label_struct', {'baseline': {'color': 'green', 'intervals_samples': [(0, 1800000)], 'label': 'Baseline Data Points'}})('patient_list', [8])('hyper_param', 0)('group_id', 'seizure_nr')\"]\n",
      "\n",
      "This is the new one\n",
      "('scaler', StandardScaler(copy=True, with_mean=True, with_std=True))('lead_list', ['ECG-'])('feature_slot', 'pca_beat_amp_computation')('interim_processing', [StandardScaler(copy=True, with_mean=True, with_std=True)])('assign_baseline', 'assign_equal_baseline_seizure')('label_struct', {'pre_ictal': {'color': 'yellow', 'intervals_samples': [(1200000, 2940000)], 'label': 'Pre-Ictal data points'}, 'inter_ictal': {'color': 'blue', 'intervals_samples': [(0, 1200000)], 'label': 'Inter-Ictal Data Points'}, 'ictal': {'color': 'red', 'intervals_samples': [(3000000, 3300000)], 'label': 'Ictal data points'}})('baseline_label_struct', {'baseline': {'color': 'green', 'intervals_samples': [(0, 1800000)], 'label': 'Baseline Data Points'}})('patient_list', [3])('hyper_param', 0)('group_id', 'seizure_nr')\n",
      "\n",
      "id params in disk\n",
      "                                              params  \\\n",
      "0  ('scaler', StandardScaler(copy=True, with_mean...   \n",
      "\n",
      "                                     id  \n",
      "0  5d9f23b0-4640-11e8-894a-b06ebfc25cc2  \n",
      "\n",
      "Check if they are the same\n",
      "\n",
      "   params     id\n",
      "0    True  False\n",
      "\n",
      "final id -- check disk\n",
      "5d9f23b0-4640-11e8-894a-b06ebfc25cc2\n",
      "\n",
      "Check for this path on disk .. should be there\n",
      "5d9f23b0-4640-11e8-894a-b06ebfc25cc2\n",
      "[\"/mnt/Seagate/pre_epi_seizures/EDanalysis_new/5d9f23b0-4640-11e8-894a-b06ebfc25cc2/('3', '2', 'F-A-M', 'Fl,Tl')__PAIR.png\", \"/mnt/Seagate/pre_epi_seizures/EDanalysis_new/5d9f23b0-4640-11e8-894a-b06ebfc25cc2/('3', '2', 'F-A-M', 'Fl,Tl')__box.png\", \"/mnt/Seagate/pre_epi_seizures/EDanalysis_new/5d9f23b0-4640-11e8-894a-b06ebfc25cc2/('3', '2', 'F-A-M', 'Fl,Tl')__andrews.png\", \"/mnt/Seagate/pre_epi_seizures/EDanalysis_new/5d9f23b0-4640-11e8-894a-b06ebfc25cc2/('3', '2', 'F-A-M', 'Fl,Tl')__HIST.png\", \"/mnt/Seagate/pre_epi_seizures/EDanalysis_new/5d9f23b0-4640-11e8-894a-b06ebfc25cc2/('3', '1', 'F-NA-M', 'FTl,Tl')__PAIR.png\", \"/mnt/Seagate/pre_epi_seizures/EDanalysis_new/5d9f23b0-4640-11e8-894a-b06ebfc25cc2/('3', '1', 'F-NA-M', 'FTl,Tl')__box.png\", \"/mnt/Seagate/pre_epi_seizures/EDanalysis_new/5d9f23b0-4640-11e8-894a-b06ebfc25cc2/('3', '1', 'F-NA-M', 'FTl,Tl')__andrews.png\", \"/mnt/Seagate/pre_epi_seizures/EDanalysis_new/5d9f23b0-4640-11e8-894a-b06ebfc25cc2/('3', '1', 'F-NA-M', 'FTl,Tl')__HIST.png\", \"/mnt/Seagate/pre_epi_seizures/EDanalysis_new/5d9f23b0-4640-11e8-894a-b06ebfc25cc2/('3', '0', 'G-A-M', 'FTl,Tl-FTr,Tr')__PAIR.png\", \"/mnt/Seagate/pre_epi_seizures/EDanalysis_new/5d9f23b0-4640-11e8-894a-b06ebfc25cc2/('3', '0', 'G-A-M', 'FTl,Tl-FTr,Tr')__box.png\", \"/mnt/Seagate/pre_epi_seizures/EDanalysis_new/5d9f23b0-4640-11e8-894a-b06ebfc25cc2/('3', '0', 'G-A-M', 'FTl,Tl-FTr,Tr')__andrews.png\", '/mnt/Seagate/pre_epi_seizures/EDanalysis_new/5d9f23b0-4640-11e8-894a-b06ebfc25cc2/eig_value_5.png', '/mnt/Seagate/pre_epi_seizures/EDanalysis_new/5d9f23b0-4640-11e8-894a-b06ebfc25cc2/eig_value_4.png', '/mnt/Seagate/pre_epi_seizures/EDanalysis_new/5d9f23b0-4640-11e8-894a-b06ebfc25cc2/eig_value_3.png', '/mnt/Seagate/pre_epi_seizures/EDanalysis_new/5d9f23b0-4640-11e8-894a-b06ebfc25cc2/eig_value_2.png', '/mnt/Seagate/pre_epi_seizures/EDanalysis_new/5d9f23b0-4640-11e8-894a-b06ebfc25cc2/eig_value_1.png', \"/mnt/Seagate/pre_epi_seizures/EDanalysis_new/5d9f23b0-4640-11e8-894a-b06ebfc25cc2/('3', '0', 'G-A-M', 'FTl,Tl-FTr,Tr')__HIST.png\"]\n",
      "The Hyper-Parameter Grid for optimization is:[{'KNN__n_neighbors': [1, 3, 5, 7, 9, 11, 13]}]\n",
      "('scaler', StandardScaler(copy=True, with_mean=True, with_std=True))('lead_list', ['ECG-'])('feature_slot', 'pca_beat_amp_computation')('interim_processing', [StandardScaler(copy=True, with_mean=True, with_std=True)])('assign_baseline', 'assign_equal_baseline_seizure')('label_struct', {'pre_ictal': {'color': 'yellow', 'intervals_samples': [(1200000, 2940000)], 'label': 'Pre-Ictal data points'}, 'inter_ictal': {'color': 'blue', 'intervals_samples': [(0, 1200000)], 'label': 'Inter-Ictal Data Points'}, 'ictal': {'color': 'red', 'intervals_samples': [(3000000, 3300000)], 'label': 'Ictal data points'}})('baseline_label_struct', {'baseline': {'color': 'green', 'intervals_samples': [(0, 1800000)], 'label': 'Baseline Data Points'}})('patient_list', [3])('hyper_param', 0)('group_id', 'seizure_nr')\n",
      "\n",
      "This is a list of the parameters\n",
      "[\"('scaler', StandardScaler(copy=True, with_mean=True, with_std=True))('lead_list', ['ECG-'])('feature_slot', 'pca_beat_amp_computation')('interim_processing', [StandardScaler(copy=True, with_mean=True, with_std=True)])('assign_baseline', 'assign_equal_baseline_seizure')('label_struct', {'pre_ictal': {'color': 'yellow', 'intervals_samples': [(1200000, 2940000)], 'label': 'Pre-Ictal data points'}, 'inter_ictal': {'color': 'blue', 'intervals_samples': [(0, 1200000)], 'label': 'Inter-Ictal Data Points'}, 'ictal': {'color': 'red', 'intervals_samples': [(3000000, 3300000)], 'label': 'Ictal data points'}})('baseline_label_struct', {'baseline': {'color': 'green', 'intervals_samples': [(0, 1800000)], 'label': 'Baseline Data Points'}})('patient_list', [3])('hyper_param', 0)('group_id', 'seizure_nr')\", \"('scaler', StandardScaler(copy=True, with_mean=True, with_std=True))('lead_list', ['ECG-'])('feature_slot', 'pca_beat_amp_computation')('interim_processing', [StandardScaler(copy=True, with_mean=True, with_std=True)])('assign_baseline', 'assign_equal_baseline_seizure')('label_struct', {'pre_ictal': {'color': 'yellow', 'intervals_samples': [(1200000, 2940000)], 'label': 'Pre-Ictal data points'}, 'inter_ictal': {'color': 'blue', 'intervals_samples': [(0, 1200000)], 'label': 'Inter-Ictal Data Points'}, 'ictal': {'color': 'red', 'intervals_samples': [(3000000, 3300000)], 'label': 'Ictal data points'}})('baseline_label_struct', {'baseline': {'color': 'green', 'intervals_samples': [(0, 1800000)], 'label': 'Baseline Data Points'}})('patient_list', [4])('hyper_param', 0)('group_id', 'seizure_nr')\", \"('scaler', StandardScaler(copy=True, with_mean=True, with_std=True))('lead_list', ['ECG-'])('feature_slot', 'pca_beat_amp_computation')('interim_processing', [StandardScaler(copy=True, with_mean=True, with_std=True)])('assign_baseline', 'assign_equal_baseline_seizure')('label_struct', {'pre_ictal': {'color': 'yellow', 'intervals_samples': [(1200000, 2940000)], 'label': 'Pre-Ictal data points'}, 'inter_ictal': {'color': 'blue', 'intervals_samples': [(0, 1200000)], 'label': 'Inter-Ictal Data Points'}, 'ictal': {'color': 'red', 'intervals_samples': [(3000000, 3300000)], 'label': 'Ictal data points'}})('baseline_label_struct', {'baseline': {'color': 'green', 'intervals_samples': [(0, 1800000)], 'label': 'Baseline Data Points'}})('patient_list', [5])('hyper_param', 0)('group_id', 'seizure_nr')\", \"('scaler', StandardScaler(copy=True, with_mean=True, with_std=True))('lead_list', ['ECG-'])('feature_slot', 'pca_beat_amp_computation')('interim_processing', [StandardScaler(copy=True, with_mean=True, with_std=True)])('assign_baseline', 'assign_equal_baseline_seizure')('label_struct', {'pre_ictal': {'color': 'yellow', 'intervals_samples': [(1200000, 2940000)], 'label': 'Pre-Ictal data points'}, 'inter_ictal': {'color': 'blue', 'intervals_samples': [(0, 1200000)], 'label': 'Inter-Ictal Data Points'}, 'ictal': {'color': 'red', 'intervals_samples': [(3000000, 3300000)], 'label': 'Ictal data points'}})('baseline_label_struct', {'baseline': {'color': 'green', 'intervals_samples': [(0, 1800000)], 'label': 'Baseline Data Points'}})('patient_list', [8])('hyper_param', 0)('group_id', 'seizure_nr')\"]\n",
      "\n",
      "This is the new one\n",
      "('scaler', StandardScaler(copy=True, with_mean=True, with_std=True))('lead_list', ['ECG-'])('feature_slot', 'pca_beat_amp_computation')('interim_processing', [StandardScaler(copy=True, with_mean=True, with_std=True)])('assign_baseline', 'assign_equal_baseline_seizure')('label_struct', {'pre_ictal': {'color': 'yellow', 'intervals_samples': [(1200000, 2940000)], 'label': 'Pre-Ictal data points'}, 'inter_ictal': {'color': 'blue', 'intervals_samples': [(0, 1200000)], 'label': 'Inter-Ictal Data Points'}, 'ictal': {'color': 'red', 'intervals_samples': [(3000000, 3300000)], 'label': 'Ictal data points'}})('baseline_label_struct', {'baseline': {'color': 'green', 'intervals_samples': [(0, 1800000)], 'label': 'Baseline Data Points'}})('patient_list', [3])('hyper_param', 0)('group_id', 'seizure_nr')\n",
      "\n",
      "id params in disk\n",
      "                                              params  \\\n",
      "0  ('scaler', StandardScaler(copy=True, with_mean...   \n",
      "\n",
      "                                     id  \n",
      "0  5d9f23b0-4640-11e8-894a-b06ebfc25cc2  \n",
      "\n",
      "Check if they are the same\n",
      "\n",
      "   params     id\n",
      "0    True  False\n",
      "\n",
      "final id -- check disk\n",
      "5d9f23b0-4640-11e8-894a-b06ebfc25cc2\n",
      "\n",
      "Check for this path on disk .. should be there\n",
      "5d9f23b0-4640-11e8-894a-b06ebfc25cc2\n",
      "('search_function', <class 'sklearn.model_selection._search.GridSearchCV'>)('scoring', ['f1_micro'])('cv_in', LeavePGroupsOut(n_groups=1))('label', 'label')('pipe', \"['KNN']\")('cv_out', LeavePGroupsOut(n_groups=1))('param_grid', [{'KNN__n_neighbors': [1, 3, 5, 7, 9, 11, 13]}])\n",
      "\n",
      "This is a list of the parameters\n",
      "['(\\'search_function\\', <class \\'sklearn.model_selection._search.GridSearchCV\\'>)(\\'scoring\\', [\\'f1_micro\\'])(\\'cv_in\\', LeavePGroupsOut(n_groups=1))(\\'label\\', \\'label\\')(\\'pipe\\', \"[\\'KNN\\']\")(\\'cv_out\\', LeavePGroupsOut(n_groups=1))(\\'param_grid\\', [{\\'KNN__n_neighbors\\': [1, 3, 5, 7, 9, 11, 13]}])', '(\\'search_function\\', <class \\'sklearn.model_selection._search.GridSearchCV\\'>)(\\'scoring\\', [\\'f1_micro\\'])(\\'cv_in\\', LeavePGroupsOut(n_groups=1))(\\'label\\', \\'label\\')(\\'pipe\\', \"[\\'GaussNB\\']\")(\\'cv_out\\', LeavePGroupsOut(n_groups=1))(\\'param_grid\\', [{\\'GaussNB__priors\\': [None]}])', '(\\'search_function\\', <class \\'sklearn.model_selection._search.GridSearchCV\\'>)(\\'scoring\\', [\\'f1_micro\\'])(\\'cv_in\\', LeavePGroupsOut(n_groups=1))(\\'label\\', \\'label\\')(\\'pipe\\', \"[\\'SVC\\']\")(\\'cv_out\\', LeavePGroupsOut(n_groups=1))(\\'param_grid\\', [{\\'SVC__gamma\\': [3.0517578125e-05, 6.103515625e-05, 0.0001220703125, 0.000244140625, 0.00048828125, 0.0009765625, 0.001953125, 0.00390625, 0.0078125, 0.015625, 0.03125, 0.0625, 0.125, 0.25, 0.5, 1], \\'SVC__C\\': [0.03125, 0.0625, 0.125, 0.25, 0.5, 1, 2, 4, 8, 16, 32, 64, 128, 256, 512, 1024]}])']\n",
      "\n",
      "This is the new one\n",
      "('search_function', <class 'sklearn.model_selection._search.GridSearchCV'>)('scoring', ['f1_micro'])('cv_in', LeavePGroupsOut(n_groups=1))('label', 'label')('pipe', \"['KNN']\")('cv_out', LeavePGroupsOut(n_groups=1))('param_grid', [{'KNN__n_neighbors': [1, 3, 5, 7, 9, 11, 13]}])\n",
      "\n",
      "id params in disk\n",
      "                                              params  \\\n",
      "0  ('search_function', <class 'sklearn.model_sele...   \n",
      "\n",
      "                                     id  \n",
      "0  5d9f23b1-4640-11e8-894a-b06ebfc25cc2  \n",
      "\n",
      "Check if they are the same\n",
      "\n",
      "   params     id\n",
      "0    True  False\n",
      "\n",
      "final id -- check disk\n",
      "5d9f23b1-4640-11e8-894a-b06ebfc25cc2\n",
      "\n",
      "Check for this path on disk .. should be there\n",
      "5d9f23b1-4640-11e8-894a-b06ebfc25cc2\n",
      "                                                                  f1-score  \\\n",
      "                                                                      mean   \n",
      "patient_nr Labels                  types_of_seizure location                 \n",
      "3          Baseline Data Points    F-A-M            Fl,Tl           0.1781   \n",
      "                                   F-NA-M           FTl,Tl          0.4583   \n",
      "                                   G-A-M            FTl,Tl-FTr,Tr   0.9533   \n",
      "           Ictal data points       F-A-M            Fl,Tl           0.0850   \n",
      "                                   F-NA-M           FTl,Tl          0.3735   \n",
      "                                   G-A-M            FTl,Tl-FTr,Tr   0.2936   \n",
      "           Inter-Ictal Data Points F-A-M            Fl,Tl           0.0573   \n",
      "                                   F-NA-M           FTl,Tl          0.0142   \n",
      "                                   G-A-M            FTl,Tl-FTr,Tr   0.1996   \n",
      "           Pre-Ictal data points   F-A-M            Fl,Tl           0.6235   \n",
      "                                   F-NA-M           FTl,Tl          0.0204   \n",
      "                                   G-A-M            FTl,Tl-FTr,Tr   0.4136   \n",
      "           avg / total             F-A-M            Fl,Tl           0.3169   \n",
      "                                   F-NA-M           FTl,Tl          0.1730   \n",
      "                                   G-A-M            FTl,Tl-FTr,Tr   0.4985   \n",
      "\n",
      "                                                                       \\\n",
      "                                                                  std   \n",
      "patient_nr Labels                  types_of_seizure location            \n",
      "3          Baseline Data Points    F-A-M            Fl,Tl         NaN   \n",
      "                                   F-NA-M           FTl,Tl        NaN   \n",
      "                                   G-A-M            FTl,Tl-FTr,Tr NaN   \n",
      "           Ictal data points       F-A-M            Fl,Tl         NaN   \n",
      "                                   F-NA-M           FTl,Tl        NaN   \n",
      "                                   G-A-M            FTl,Tl-FTr,Tr NaN   \n",
      "           Inter-Ictal Data Points F-A-M            Fl,Tl         NaN   \n",
      "                                   F-NA-M           FTl,Tl        NaN   \n",
      "                                   G-A-M            FTl,Tl-FTr,Tr NaN   \n",
      "           Pre-Ictal data points   F-A-M            Fl,Tl         NaN   \n",
      "                                   F-NA-M           FTl,Tl        NaN   \n",
      "                                   G-A-M            FTl,Tl-FTr,Tr NaN   \n",
      "           avg / total             F-A-M            Fl,Tl         NaN   \n",
      "                                   F-NA-M           FTl,Tl        NaN   \n",
      "                                   G-A-M            FTl,Tl-FTr,Tr NaN   \n",
      "\n",
      "                                                                  precision  \\\n",
      "                                                                       mean   \n",
      "patient_nr Labels                  types_of_seizure location                  \n",
      "3          Baseline Data Points    F-A-M            Fl,Tl            0.9840   \n",
      "                                   F-NA-M           FTl,Tl           0.2973   \n",
      "                                   G-A-M            FTl,Tl-FTr,Tr    1.0000   \n",
      "           Ictal data points       F-A-M            Fl,Tl            0.0831   \n",
      "                                   F-NA-M           FTl,Tl           0.7857   \n",
      "                                   G-A-M            FTl,Tl-FTr,Tr    0.2648   \n",
      "           Inter-Ictal Data Points F-A-M            Fl,Tl            0.0967   \n",
      "                                   F-NA-M           FTl,Tl           0.0738   \n",
      "                                   G-A-M            FTl,Tl-FTr,Tr    0.1785   \n",
      "           Pre-Ictal data points   F-A-M            Fl,Tl            0.4727   \n",
      "                                   F-NA-M           FTl,Tl           0.1681   \n",
      "                                   G-A-M            FTl,Tl-FTr,Tr    0.4494   \n",
      "           avg / total             F-A-M            Fl,Tl            0.4602   \n",
      "                                   F-NA-M           FTl,Tl           0.2401   \n",
      "                                   G-A-M            FTl,Tl-FTr,Tr    0.5181   \n",
      "\n",
      "                                                                       recall  \\\n",
      "                                                                  std    mean   \n",
      "patient_nr Labels                  types_of_seizure location                    \n",
      "3          Baseline Data Points    F-A-M            Fl,Tl         NaN  0.0979   \n",
      "                                   F-NA-M           FTl,Tl        NaN  0.9992   \n",
      "                                   G-A-M            FTl,Tl-FTr,Tr NaN  0.9108   \n",
      "           Ictal data points       F-A-M            Fl,Tl         NaN  0.0870   \n",
      "                                   F-NA-M           FTl,Tl        NaN  0.2450   \n",
      "                                   G-A-M            FTl,Tl-FTr,Tr NaN  0.3295   \n",
      "           Inter-Ictal Data Points F-A-M            Fl,Tl         NaN  0.0407   \n",
      "                                   F-NA-M           FTl,Tl        NaN  0.0078   \n",
      "                                   G-A-M            FTl,Tl-FTr,Tr NaN  0.2263   \n",
      "           Pre-Ictal data points   F-A-M            Fl,Tl         NaN  0.9154   \n",
      "                                   F-NA-M           FTl,Tl        NaN  0.0109   \n",
      "                                   G-A-M            FTl,Tl-FTr,Tr NaN  0.3831   \n",
      "           avg / total             F-A-M            Fl,Tl         NaN  0.4110   \n",
      "                                   F-NA-M           FTl,Tl        NaN  0.3031   \n",
      "                                   G-A-M            FTl,Tl-FTr,Tr NaN  0.4840   \n",
      "\n",
      "                                                                       \n",
      "                                                                  std  \n",
      "patient_nr Labels                  types_of_seizure location           \n",
      "3          Baseline Data Points    F-A-M            Fl,Tl         NaN  \n",
      "                                   F-NA-M           FTl,Tl        NaN  \n",
      "                                   G-A-M            FTl,Tl-FTr,Tr NaN  \n",
      "           Ictal data points       F-A-M            Fl,Tl         NaN  \n",
      "                                   F-NA-M           FTl,Tl        NaN  \n",
      "                                   G-A-M            FTl,Tl-FTr,Tr NaN  \n",
      "           Inter-Ictal Data Points F-A-M            Fl,Tl         NaN  \n",
      "                                   F-NA-M           FTl,Tl        NaN  \n",
      "                                   G-A-M            FTl,Tl-FTr,Tr NaN  \n",
      "           Pre-Ictal data points   F-A-M            Fl,Tl         NaN  \n",
      "                                   F-NA-M           FTl,Tl        NaN  \n",
      "                                   G-A-M            FTl,Tl-FTr,Tr NaN  \n",
      "           avg / total             F-A-M            Fl,Tl         NaN  \n",
      "                                   F-NA-M           FTl,Tl        NaN  \n",
      "                                   G-A-M            FTl,Tl-FTr,Tr NaN  \n",
      "Saving !\n"
     ]
    },
    {
     "name": "stdout",
     "output_type": "stream",
     "text": [
      "Done!\n"
     ]
    },
    {
     "ename": "NameError",
     "evalue": "name 'stop' is not defined",
     "output_type": "error",
     "traceback": [
      "\u001b[0;31m--------------------------------------------------------------------------\u001b[0m",
      "\u001b[0;31mNameError\u001b[0m                                Traceback (most recent call last)",
      "\u001b[0;32m<ipython-input-17-585c10fe9ef9>\u001b[0m in \u001b[0;36m<module>\u001b[0;34m()\u001b[0m\n\u001b[1;32m     77\u001b[0m                     \u001b[0mtex\u001b[0m \u001b[0;34m=\u001b[0m \u001b[0mdoc\u001b[0m\u001b[0;34m.\u001b[0m\u001b[0mdumps\u001b[0m\u001b[0;34m(\u001b[0m\u001b[0;34m)\u001b[0m\u001b[0;34m\u001b[0m\u001b[0m\n\u001b[1;32m     78\u001b[0m                     \u001b[0;32mprint\u001b[0m \u001b[0;34m'Done!'\u001b[0m\u001b[0;34m\u001b[0m\u001b[0m\n\u001b[0;32m---> 79\u001b[0;31m                     \u001b[0mstop\u001b[0m\u001b[0;34m\u001b[0m\u001b[0m\n\u001b[0m\u001b[1;32m     80\u001b[0m \u001b[0;34m\u001b[0m\u001b[0m\n\u001b[1;32m     81\u001b[0m                     \u001b[0;31m# Get model name\u001b[0m\u001b[0;34m\u001b[0m\u001b[0;34m\u001b[0m\u001b[0m\n",
      "\u001b[0;31mNameError\u001b[0m: name 'stop' is not defined"
     ]
    }
   ],
   "source": [
    "# Patient Specific results\n",
    "\n",
    "for feature_slot, hyper_param in feature_set:\n",
    "    \n",
    "    print feature_slot\n",
    "    print hyper_param\n",
    "    \n",
    "    # Entry text, needs to be mended and corrected\n",
    "    \n",
    "    for patient_list in patient_lists:\n",
    "\n",
    "        # Loop for scaler\n",
    "        #for scaler in scaler_set:\n",
    "\n",
    "        # Do some text\n",
    "        #print 'Patient Number is' + str(patient_list)\n",
    "        #print 'The Scaler is' + str(scaler)\n",
    "\n",
    "        #print 'Here is a visualization of the normalized data'\n",
    "\n",
    "        #print patient_list\n",
    "\n",
    "        # EDA plots\n",
    "\n",
    "    \n",
    "        for scaler in scaler_set:\n",
    "\n",
    "            # Get paths from the original EDA folder \n",
    "            image_paths = load_eda(label_struct, baseline_label_struct,\n",
    "                                 scaler,\n",
    "                                 patient_list,\n",
    "                                 feature_slot,\n",
    "                                 hyper_param)\n",
    "\n",
    "\n",
    "            # Add EDA images -- not yet working\n",
    "            #for image_path in image_paths:\n",
    "                \n",
    "\n",
    "                #with doc.create(pylatex.Figure(position='ht!')) as eda_image:\n",
    "                    #eda_image.add_image(image_path)\n",
    "                    #eda_image.add_caption('Look it\\'s on its back')\n",
    "                \n",
    "\n",
    "\n",
    "            # Loop for model\n",
    "            for model in model_set:\n",
    "\n",
    "                    # Unpack the variables of analysis\n",
    "                    pipe = model[0]\n",
    "                    param_grid = model[1]\n",
    "\n",
    "\n",
    "                    print 'The Hyper-Parameter Grid for optimization is:' + str(param_grid)\n",
    "\n",
    "                    # Get table from original analysis\n",
    "                    table = get_learning_results(label_struct, baseline_label_struct,\n",
    "                                                  pipe, scaler, param_grid,\n",
    "                                                  patient_list,\n",
    "                                                  feature_slot,\n",
    "                                                  hyper_param,\n",
    "                                                  plot_eda,\n",
    "                                                  learn_flag,\n",
    "                                                  compute_all_new)\n",
    "\n",
    "                    # Compute the statistics from the overall labels\n",
    "                    per_label = evaluate_overall_labels(table)\n",
    "\n",
    "                    # Compute the statistics for seizure type\n",
    "                    per_type_of_seizure = evaluate_per_types_of_seizure(table)\n",
    "                    \n",
    "                    print per_type_of_seizure\n",
    "                    \n",
    "                    \n",
    "                    print 'Saving !'\n",
    "                    \n",
    "                    doc.append(per_type_of_seizure)\n",
    "                    doc.generate_pdf('/home/franciscosargo/LOOKHERE', clean_tex=False)\n",
    "                    tex = doc.dumps()\n",
    "                    print 'Done!'\n",
    "                    stop\n",
    "\n",
    "                    # Get model name\n",
    "                    model_name = pipe.steps[0][0]\n",
    "\n",
    "                    # Get Hyper-parameterization results\n",
    "                    print 'These are the CV results'\n",
    "                    cv_results=get_hyper_param_results(label_struct, baseline_label_struct,\n",
    "                                              pipe, scaler, param_grid,\n",
    "                                              patient_list,\n",
    "                                              feature_slot,\n",
    "                                              hyper_param,\n",
    "                                              plot_eda,\n",
    "                                              learn_flag,\n",
    "                                              compute_all_new)\n",
    "\n",
    "                    print cv_results\n",
    "                    print param_grid\n",
    "\n",
    "                    param_name = param_grid[0].keys()[0]\n",
    "                    single_param_var = param_grid[0][param_name]\n",
    "\n",
    "                    single_mean_std_param_plot('fgjasljgf', \n",
    "                                               cv_results, \n",
    "                                               param_name, \n",
    "                                               single_param_var,\n",
    "                                               feature_slot)\n",
    "\n",
    "                    stop\n",
    "\n",
    "                    # Plot and save EDA\n",
    "\n",
    "\n",
    "\n",
    "                    # Plot hyper-parameters function\n",
    "\n",
    "                    single_mean_std_param_plot('fgjasljgf', \n",
    "                                   cv_results, \n",
    "                                   param_name, \n",
    "                                   single_param_var,\n",
    "                                   feature_slot)\n",
    "\n",
    "                    # \n",
    "\n",
    "\n",
    "                    # Get param\n",
    "\n",
    "                    print per_label\n",
    "                    print per_type_of_seizure\n",
    "\n",
    "\n",
    "\n",
    "\n",
    "\n",
    "\n"
   ]
  },
  {
   "cell_type": "code",
   "execution_count": null,
   "metadata": {
    "collapsed": true
   },
   "outputs": [],
   "source": []
  }
 ],
 "metadata": {
  "kernelspec": {
   "display_name": "Python 2",
   "language": "python",
   "name": "python2"
  },
  "language_info": {
   "codemirror_mode": {
    "name": "ipython",
    "version": 2
   },
   "file_extension": ".py",
   "mimetype": "text/x-python",
   "name": "python",
   "nbconvert_exporter": "python",
   "pygments_lexer": "ipython2",
   "version": "2.7.12"
  }
 },
 "nbformat": 4,
 "nbformat_minor": 2
}
