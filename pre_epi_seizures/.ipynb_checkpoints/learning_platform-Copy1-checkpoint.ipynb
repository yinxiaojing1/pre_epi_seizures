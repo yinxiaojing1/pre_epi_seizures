{
 "cells": [
  {
   "cell_type": "code",
   "execution_count": 1,
   "metadata": {
    "scrolled": true
   },
   "outputs": [
    {
     "name": "stderr",
     "output_type": "stream",
     "text": [
      "/home/franciscosargo/.virtualenvs/pre_epi_seizures/local/lib/python2.7/site-packages/h5py/__init__.py:34: FutureWarning: Conversion of the second argument of issubdtype from `float` to `np.floating` is deprecated. In future, it will be treated as `np.float64 == np.dtype(float).type`.\n",
      "  from ._conv import register_converters as _register_converters\n",
      "Using TensorFlow backend.\n"
     ]
    }
   ],
   "source": [
    "# Imports\n",
    "# Modelation\n",
    "import sklearn.svm as svm\n",
    "from sklearn.pipeline import Pipeline\n",
    "from sklearn.preprocessing import MinMaxScaler\n",
    "from sklearn.naive_bayes import GaussianNB\n",
    "\n",
    "from classification.keras_neural_nets import *\n",
    "\n",
    "import os"
   ]
  },
  {
   "cell_type": "code",
   "execution_count": 2,
   "metadata": {
    "collapsed": true,
    "scrolled": true
   },
   "outputs": [],
   "source": [
    "client_flag = False\n",
    "if client_flag:\n",
    "    # be sure to shut down other kernels running distributed clients\n",
    "    from dask import delayed\n",
    "    from dask.distributed import Client\n",
    "    c = Client('tcp://127.0.0.1:8786')\n",
    "    c\n"
   ]
  },
  {
   "cell_type": "code",
   "execution_count": 3,
   "metadata": {
    "collapsed": true,
    "scrolled": true
   },
   "outputs": [],
   "source": [
    "from learning_pipelines import supervised_pipeline"
   ]
  },
  {
   "cell_type": "code",
   "execution_count": 4,
   "metadata": {
    "collapsed": true
   },
   "outputs": [],
   "source": [
    "# arguments\n",
    "label_struct = {\n",
    "                        'inter_ictal':{\n",
    "                            'label': 'Inter-Ictal Data Points',\n",
    "                            'color': 'blue',\n",
    "                            'intervals_samples': [(1000 * 0 * 60, 1000 * 0 * 60 )]\n",
    "                                     },\n",
    "                        'pre_ictal':{\n",
    "                            'label': 'Pre-Ictal data points',\n",
    "                            'color': 'yellow',\n",
    "                            'intervals_samples': [(1000 * 20 * 60, 1000 * 49 * 60 )]\n",
    "                                     },\n",
    "                        'ictal':{\n",
    "                            'label': 'Ictal data points',\n",
    "                            'color': 'red',\n",
    "                            'intervals_samples': [(1000 * 50 * 60, 1000 * 55 * 60 )]\n",
    "                                 },\n",
    "                        }\n",
    "baseline_label_struct = {\n",
    "                         'baseline':{\n",
    "                            'label': 'Baseline Data Points',\n",
    "                            'color': 'green',\n",
    "                            'intervals_samples': [(0, 1000 * 60 * 60 )]\n",
    "                                    },\n",
    "                        }\n",
    "\n",
    "\n",
    "\n",
    "#param_grid = [\n",
    "#              {'ANN__epochs': [800],\n",
    "#               'ANN__batch_size': [10**4],\n",
    "#               'ANN__hidden_layers_nr': [1],\n",
    "#               'ANN__hidden_nodes_per_layer': [i for i in xrange(3, 13)],\n",
    "#               'ANN__hidden_nodes_activation': ['relu']\n",
    "#              }\n",
    "#]\n",
    "\n",
    "#pipe = Pipeline( [('ANN', KerasClassifier(build_fn=dense_network,\n",
    " #                                       input_dim = 5,\n",
    " #                                         output_dim = 3,\n",
    " #                                         verbose=0))])\n",
    "\n",
    "param_grid = [\n",
    "               {'GaussNB__priors': [None]},\n",
    "                  ]\n",
    "pipe = Pipeline([('GaussNB', GaussianNB())])\n",
    "\n",
    "\n",
    "feature_slot = 'raw'\n",
    "hyper_param=0\n",
    "\n",
    "\n",
    "scaler = MinMaxScaler()\n",
    "\n",
    "plot_eda=False\n",
    "learn_flag=True\n",
    "compute_all_new=True\n"
   ]
  },
  {
   "cell_type": "code",
   "execution_count": 5,
   "metadata": {
    "scrolled": false
   },
   "outputs": [
    {
     "name": "stderr",
     "output_type": "stream",
     "text": [
      "[2018-04-19 03:45:45.381709]:get_signal:20:Loading [signal: 4_FA77745R_ECG-_2017-01-10 15:43:11.000000_0][group: /3000_1200/raw_$beginwin_samplerate:1000_win:0.001_init:0_finish:4200_endwin$__$beginparams_param:None_endparam$_]\n"
     ]
    },
    {
     "name": "stdout",
     "output_type": "stream",
     "text": [
      "('dist', None)('scaler', MinMaxScaler(copy=True, feature_range=(0, 1)))('lead_list', ['ECG-'])('feature_slot', 'raw')('interim_processing', [MinMaxScaler(copy=True, feature_range=(0, 1))])('assign_baseline', 'assign_equal_baseline_seizure')('label_struct', {'pre_ictal': {'color': 'yellow', 'intervals_samples': [(1200000, 2940000)], 'label': 'Pre-Ictal data points'}, 'inter_ictal': {'color': 'blue', 'intervals_samples': [(0, 0)], 'label': 'Inter-Ictal Data Points'}, 'ictal': {'color': 'red', 'intervals_samples': [(3000000, 3300000)], 'label': 'Ictal data points'}})('baseline_label_struct', {'baseline': {'color': 'green', 'intervals_samples': [(0, 3600000)], 'label': 'Baseline Data Points'}})('patient_list', [4])('hyper_param', 0)('hist_bins', None)\n",
      "\n",
      "This is a list of the parameters\n",
      "[\"('dist', None)('scaler', MinMaxScaler(copy=True, feature_range=(0, 1)))('lead_list', ['ECG-'])('feature_slot', 'pca_beat_amp_computation')('interim_processing', [MinMaxScaler(copy=True, feature_range=(0, 1))])('assign_baseline', 'assign_equal_baseline_seizure')('label_struct', {'pre_ictal': {'color': 'yellow', 'intervals_samples': [(1200000, 2940000)], 'label': 'Pre-Ictal data points'}, 'inter_ictal': {'color': 'blue', 'intervals_samples': [(0, 0)], 'label': 'Inter-Ictal Data Points'}, 'ictal': {'color': 'red', 'intervals_samples': [(3000000, 3300000)], 'label': 'Ictal data points'}})('baseline_label_struct', {'baseline': {'color': 'green', 'intervals_samples': [(0, 7200000)], 'label': 'Baseline Data Points'}})('patient_list', [4])('hyper_param', 0)('hist_bins', None)\", \"('dist', None)('scaler', MinMaxScaler(copy=True, feature_range=(0, 1)))('lead_list', ['ECG-'])('feature_slot', 'pca_beat_amp_computation')('interim_processing', [MinMaxScaler(copy=True, feature_range=(0, 1))])('assign_baseline', 'assign_equal_baseline_seizure')('label_struct', {'pre_ictal': {'color': 'yellow', 'intervals_samples': [(1200000, 2940000)], 'label': 'Pre-Ictal data points'}, 'inter_ictal': {'color': 'blue', 'intervals_samples': [(0, 0)], 'label': 'Inter-Ictal Data Points'}, 'ictal': {'color': 'red', 'intervals_samples': [(3000000, 3300000)], 'label': 'Ictal data points'}})('baseline_label_struct', {'baseline': {'color': 'green', 'intervals_samples': [(0, 7200000)], 'label': 'Baseline Data Points'}})('patient_list', [5])('hyper_param', 0)('hist_bins', None)\", \"('dist', None)('scaler', MinMaxScaler(copy=True, feature_range=(0, 1)))('lead_list', ['ECG-'])('feature_slot', 'pca_beat_amp_computation')('interim_processing', [MinMaxScaler(copy=True, feature_range=(0, 1))])('assign_baseline', 'assign_equal_baseline_seizure')('label_struct', {'pre_ictal': {'color': 'yellow', 'intervals_samples': [(1200000, 2940000)], 'label': 'Pre-Ictal data points'}, 'inter_ictal': {'color': 'blue', 'intervals_samples': [(0, 0)], 'label': 'Inter-Ictal Data Points'}, 'ictal': {'color': 'red', 'intervals_samples': [(3000000, 3300000)], 'label': 'Ictal data points'}})('baseline_label_struct', {'baseline': {'color': 'green', 'intervals_samples': [(0, 7200000)], 'label': 'Baseline Data Points'}})('patient_list', [8])('hyper_param', 0)('hist_bins', None)\", \"('dist', None)('scaler', MinMaxScaler(copy=True, feature_range=(0, 1)))('lead_list', ['ECG-'])('feature_slot', 'pca_beat_amp_computation')('interim_processing', [MinMaxScaler(copy=True, feature_range=(0, 1))])('assign_baseline', 'assign_equal_baseline_seizure')('label_struct', {'pre_ictal': {'color': 'yellow', 'intervals_samples': [(1200000, 2940000)], 'label': 'Pre-Ictal data points'}, 'inter_ictal': {'color': 'blue', 'intervals_samples': [(0, 0)], 'label': 'Inter-Ictal Data Points'}, 'ictal': {'color': 'red', 'intervals_samples': [(3000000, 3300000)], 'label': 'Ictal data points'}})('baseline_label_struct', {'baseline': {'color': 'green', 'intervals_samples': [(0, 7200000)], 'label': 'Baseline Data Points'}})('patient_list', [4, 5, 8])('hyper_param', 0)('hist_bins', None)\", \"('dist', None)('scaler', MinMaxScaler(copy=True, feature_range=(0, 1)))('lead_list', ['ECG-'])('feature_slot', 'pca_beat_amp_computation')('interim_processing', [MinMaxScaler(copy=True, feature_range=(0, 1))])('assign_baseline', 'assign_equal_baseline_seizure')('label_struct', {'pre_ictal': {'color': 'yellow', 'intervals_samples': [(1200000, 2940000)], 'label': 'Pre-Ictal data points'}, 'inter_ictal': {'color': 'blue', 'intervals_samples': [(0, 0)], 'label': 'Inter-Ictal Data Points'}, 'ictal': {'color': 'red', 'intervals_samples': [(3000000, 3300000)], 'label': 'Ictal data points'}})('baseline_label_struct', {'baseline': {'color': 'green', 'intervals_samples': [(0, 7200000)], 'label': 'Baseline Data Points'}})('patient_list', 8)('hyper_param', 0)('hist_bins', None)\", \"('dist', None)('scaler', MinMaxScaler(copy=True, feature_range=(0, 1)))('lead_list', ['ECG-'])('feature_slot', 'pca_beat_amp_computation')('interim_processing', [MinMaxScaler(copy=True, feature_range=(0, 1))])('assign_baseline', 'assign_equal_baseline_seizure')('label_struct', {'pre_ictal': {'color': 'yellow', 'intervals_samples': [(1200000, 2940000)], 'label': 'Pre-Ictal data points'}, 'inter_ictal': {'color': 'blue', 'intervals_samples': [(0, 0)], 'label': 'Inter-Ictal Data Points'}, 'ictal': {'color': 'red', 'intervals_samples': [(3000000, 3300000)], 'label': 'Ictal data points'}})('baseline_label_struct', {'baseline': {'color': 'green', 'intervals_samples': [(0, 7200000)], 'label': 'Baseline Data Points'}})('patient_list', [13])('hyper_param', 0)('hist_bins', None)\", \"('dist', None)('scaler', MinMaxScaler(copy=True, feature_range=(0, 1)))('lead_list', ['ECG-'])('feature_slot', 'hrv_time_features')('interim_processing', [MinMaxScaler(copy=True, feature_range=(0, 1))])('assign_baseline', 'assign_equal_baseline_seizure')('label_struct', {'pre_ictal': {'color': 'yellow', 'intervals_samples': [(1200000, 2940000)], 'label': 'Pre-Ictal data points'}, 'inter_ictal': {'color': 'blue', 'intervals_samples': [(0, 0)], 'label': 'Inter-Ictal Data Points'}, 'ictal': {'color': 'red', 'intervals_samples': [(3000000, 3300000)], 'label': 'Ictal data points'}})('baseline_label_struct', {'baseline': {'color': 'green', 'intervals_samples': [(0, 7200000)], 'label': 'Baseline Data Points'}})('patient_list', [13])('hyper_param', 0)('hist_bins', None)\", \"('dist', None)('scaler', MinMaxScaler(copy=True, feature_range=(0, 1)))('lead_list', ['ECG-'])('feature_slot', 'hrv_time_features')('interim_processing', [MinMaxScaler(copy=True, feature_range=(0, 1))])('assign_baseline', 'assign_equal_baseline_seizure')('label_struct', {'pre_ictal': {'color': 'yellow', 'intervals_samples': [(1200000, 2940000)], 'label': 'Pre-Ictal data points'}, 'inter_ictal': {'color': 'blue', 'intervals_samples': [(0, 0)], 'label': 'Inter-Ictal Data Points'}, 'ictal': {'color': 'red', 'intervals_samples': [(3000000, 3300000)], 'label': 'Ictal data points'}})('baseline_label_struct', {'baseline': {'color': 'green', 'intervals_samples': [(0, 7200000)], 'label': 'Baseline Data Points'}})('patient_list', [3])('hyper_param', 0)('hist_bins', None)\", \"('dist', None)('scaler', MinMaxScaler(copy=True, feature_range=(0, 1)))('lead_list', ['ECG-'])('feature_slot', 'hrv_time_features')('interim_processing', [MinMaxScaler(copy=True, feature_range=(0, 1))])('assign_baseline', 'assign_equal_baseline_seizure')('label_struct', {'pre_ictal': {'color': 'yellow', 'intervals_samples': [(1200000, 2940000)], 'label': 'Pre-Ictal data points'}, 'inter_ictal': {'color': 'blue', 'intervals_samples': [(0, 0)], 'label': 'Inter-Ictal Data Points'}, 'ictal': {'color': 'red', 'intervals_samples': [(3000000, 3300000)], 'label': 'Ictal data points'}})('baseline_label_struct', {'baseline': {'color': 'green', 'intervals_samples': [(0, 3600000)], 'label': 'Baseline Data Points'}})('patient_list', [3])('hyper_param', 0)('hist_bins', None)\", \"('dist', None)('scaler', MinMaxScaler(copy=True, feature_range=(0, 1)))('lead_list', ['ECG-'])('feature_slot', 'hrv_time_features')('interim_processing', [MinMaxScaler(copy=True, feature_range=(0, 1))])('assign_baseline', 'assign_equal_baseline_seizure')('label_struct', {'pre_ictal': {'color': 'yellow', 'intervals_samples': [(1200000, 2940000)], 'label': 'Pre-Ictal data points'}, 'inter_ictal': {'color': 'blue', 'intervals_samples': [(0, 0)], 'label': 'Inter-Ictal Data Points'}, 'ictal': {'color': 'red', 'intervals_samples': [(3000000, 3300000)], 'label': 'Ictal data points'}})('baseline_label_struct', {'baseline': {'color': 'green', 'intervals_samples': [(0, 3600000)], 'label': 'Baseline Data Points'}})('patient_list', [4])('hyper_param', 0)('hist_bins', None)\", \"('dist', None)('scaler', MinMaxScaler(copy=True, feature_range=(0, 1)))('lead_list', ['ECG-'])('feature_slot', 'pca_beat_amp')('interim_processing', [MinMaxScaler(copy=True, feature_range=(0, 1))])('assign_baseline', 'assign_equal_baseline_seizure')('label_struct', {'pre_ictal': {'color': 'yellow', 'intervals_samples': [(1200000, 2940000)], 'label': 'Pre-Ictal data points'}, 'inter_ictal': {'color': 'blue', 'intervals_samples': [(0, 0)], 'label': 'Inter-Ictal Data Points'}, 'ictal': {'color': 'red', 'intervals_samples': [(3000000, 3300000)], 'label': 'Ictal data points'}})('baseline_label_struct', {'baseline': {'color': 'green', 'intervals_samples': [(0, 3600000)], 'label': 'Baseline Data Points'}})('patient_list', [3])('hyper_param', 0)('hist_bins', None)\", \"('dist', None)('scaler', MinMaxScaler(copy=True, feature_range=(0, 1)))('lead_list', ['ECG-'])('feature_slot', 'pca_beat_amp')('interim_processing', [MinMaxScaler(copy=True, feature_range=(0, 1))])('assign_baseline', 'assign_equal_baseline_seizure')('label_struct', {'pre_ictal': {'color': 'yellow', 'intervals_samples': [(1200000, 2940000)], 'label': 'Pre-Ictal data points'}, 'inter_ictal': {'color': 'blue', 'intervals_samples': [(0, 0)], 'label': 'Inter-Ictal Data Points'}, 'ictal': {'color': 'red', 'intervals_samples': [(3000000, 3300000)], 'label': 'Ictal data points'}})('baseline_label_struct', {'baseline': {'color': 'green', 'intervals_samples': [(0, 3600000)], 'label': 'Baseline Data Points'}})('patient_list', [4])('hyper_param', 0)('hist_bins', None)\", \"('dist', None)('scaler', MinMaxScaler(copy=True, feature_range=(0, 1)))('lead_list', ['ECG-'])('feature_slot', 'pca_beat_amp')('interim_processing', [MinMaxScaler(copy=True, feature_range=(0, 1))])('assign_baseline', 'assign_equal_baseline_seizure')('label_struct', {'pre_ictal': {'color': 'yellow', 'intervals_samples': [(1200000, 2940000)], 'label': 'Pre-Ictal data points'}, 'inter_ictal': {'color': 'blue', 'intervals_samples': [(0, 0)], 'label': 'Inter-Ictal Data Points'}, 'ictal': {'color': 'red', 'intervals_samples': [(3000000, 3300000)], 'label': 'Ictal data points'}})('baseline_label_struct', {'baseline': {'color': 'green', 'intervals_samples': [(0, 3600000)], 'label': 'Baseline Data Points'}})('patient_list', [5])('hyper_param', 0)('hist_bins', None)\", \"('dist', None)('scaler', MinMaxScaler(copy=True, feature_range=(0, 1)))('lead_list', ['ECG-'])('feature_slot', 'pca_beat_amp')('interim_processing', [MinMaxScaler(copy=True, feature_range=(0, 1))])('assign_baseline', 'assign_equal_baseline_seizure')('label_struct', {'pre_ictal': {'color': 'yellow', 'intervals_samples': [(1200000, 2940000)], 'label': 'Pre-Ictal data points'}, 'inter_ictal': {'color': 'blue', 'intervals_samples': [(0, 0)], 'label': 'Inter-Ictal Data Points'}, 'ictal': {'color': 'red', 'intervals_samples': [(3000000, 3300000)], 'label': 'Ictal data points'}})('baseline_label_struct', {'baseline': {'color': 'green', 'intervals_samples': [(0, 3600000)], 'label': 'Baseline Data Points'}})('patient_list', [3, 4, 5])('hyper_param', 0)('hist_bins', None)\", \"('dist', None)('scaler', MinMaxScaler(copy=True, feature_range=(0, 1)))('lead_list', ['ECG-'])('feature_slot', 'pca_beat_amp_computation')('interim_processing', [MinMaxScaler(copy=True, feature_range=(0, 1))])('assign_baseline', 'assign_equal_baseline_seizure')('label_struct', {'pre_ictal': {'color': 'yellow', 'intervals_samples': [(1200000, 2940000)], 'label': 'Pre-Ictal data points'}, 'inter_ictal': {'color': 'blue', 'intervals_samples': [(0, 0)], 'label': 'Inter-Ictal Data Points'}, 'ictal': {'color': 'red', 'intervals_samples': [(3000000, 3300000)], 'label': 'Ictal data points'}})('baseline_label_struct', {'baseline': {'color': 'green', 'intervals_samples': [(0, 3600000)], 'label': 'Baseline Data Points'}})('patient_list', [7])('hyper_param', 0)('hist_bins', None)\", \"('dist', None)('scaler', MinMaxScaler(copy=True, feature_range=(0, 1)))('lead_list', ['ECG-'])('feature_slot', 'pca_beat_amp_computation')('interim_processing', [MinMaxScaler(copy=True, feature_range=(0, 1))])('assign_baseline', 'assign_equal_baseline_seizure')('label_struct', {'pre_ictal': {'color': 'yellow', 'intervals_samples': [(1200000, 2940000)], 'label': 'Pre-Ictal data points'}, 'inter_ictal': {'color': 'blue', 'intervals_samples': [(0, 0)], 'label': 'Inter-Ictal Data Points'}, 'ictal': {'color': 'red', 'intervals_samples': [(3000000, 3300000)], 'label': 'Ictal data points'}})('baseline_label_struct', {'baseline': {'color': 'green', 'intervals_samples': [(0, 3600000)], 'label': 'Baseline Data Points'}})('patient_list', [8])('hyper_param', 0)('hist_bins', None)\", \"('dist', None)('scaler', MinMaxScaler(copy=True, feature_range=(0, 1)))('lead_list', ['ECG-'])('feature_slot', 'pca_beat_amp_computation')('interim_processing', [MinMaxScaler(copy=True, feature_range=(0, 1))])('assign_baseline', 'assign_equal_baseline_seizure')('label_struct', {'pre_ictal': {'color': 'yellow', 'intervals_samples': [(1200000, 2940000)], 'label': 'Pre-Ictal data points'}, 'inter_ictal': {'color': 'blue', 'intervals_samples': [(0, 0)], 'label': 'Inter-Ictal Data Points'}, 'ictal': {'color': 'red', 'intervals_samples': [(3000000, 3300000)], 'label': 'Ictal data points'}})('baseline_label_struct', {'baseline': {'color': 'green', 'intervals_samples': [(0, 3600000)], 'label': 'Baseline Data Points'}})('patient_list', [13])('hyper_param', 0)('hist_bins', None)\", \"('dist', None)('scaler', MinMaxScaler(copy=True, feature_range=(0, 1)))('lead_list', ['ECG-'])('feature_slot', 'pca_beat_amp_computation')('interim_processing', [MinMaxScaler(copy=True, feature_range=(0, 1))])('assign_baseline', 'assign_equal_baseline_seizure')('label_struct', {'pre_ictal': {'color': 'yellow', 'intervals_samples': [(1200000, 2940000)], 'label': 'Pre-Ictal data points'}, 'inter_ictal': {'color': 'blue', 'intervals_samples': [(0, 0)], 'label': 'Inter-Ictal Data Points'}, 'ictal': {'color': 'red', 'intervals_samples': [(3000000, 3300000)], 'label': 'Ictal data points'}})('baseline_label_struct', {'baseline': {'color': 'green', 'intervals_samples': [(0, 3600000)], 'label': 'Baseline Data Points'}})('patient_list', [10])('hyper_param', 0)('hist_bins', None)\", \"('dist', None)('scaler', MinMaxScaler(copy=True, feature_range=(0, 1)))('lead_list', ['ECG-'])('feature_slot', 'baseline_removal')('interim_processing', [MinMaxScaler(copy=True, feature_range=(0, 1))])('assign_baseline', 'assign_equal_baseline_seizure')('label_struct', {'pre_ictal': {'color': 'yellow', 'intervals_samples': [(1200000, 2940000)], 'label': 'Pre-Ictal data points'}, 'inter_ictal': {'color': 'blue', 'intervals_samples': [(0, 0)], 'label': 'Inter-Ictal Data Points'}, 'ictal': {'color': 'red', 'intervals_samples': [(3000000, 3300000)], 'label': 'Ictal data points'}})('baseline_label_struct', {'baseline': {'color': 'green', 'intervals_samples': [(0, 3600000)], 'label': 'Baseline Data Points'}})('patient_list', [10])('hyper_param', 0)('hist_bins', None)\", \"('dist', None)('scaler', MinMaxScaler(copy=True, feature_range=(0, 1)))('lead_list', ['ECG-'])('feature_slot', 'baseline_removal')('interim_processing', [MinMaxScaler(copy=True, feature_range=(0, 1))])('assign_baseline', 'assign_equal_baseline_seizure')('label_struct', {'pre_ictal': {'color': 'yellow', 'intervals_samples': [(1200000, 2940000)], 'label': 'Pre-Ictal data points'}, 'inter_ictal': {'color': 'blue', 'intervals_samples': [(0, 0)], 'label': 'Inter-Ictal Data Points'}, 'ictal': {'color': 'red', 'intervals_samples': [(3000000, 3300000)], 'label': 'Ictal data points'}})('baseline_label_struct', {'baseline': {'color': 'green', 'intervals_samples': [(0, 3600000)], 'label': 'Baseline Data Points'}})('patient_list', [13])('hyper_param', 0)('hist_bins', None)\", \"('dist', None)('scaler', MinMaxScaler(copy=True, feature_range=(0, 1)))('lead_list', ['ECG-'])('feature_slot', 'raw')('interim_processing', [MinMaxScaler(copy=True, feature_range=(0, 1))])('assign_baseline', 'assign_equal_baseline_seizure')('label_struct', {'pre_ictal': {'color': 'yellow', 'intervals_samples': [(1200000, 2940000)], 'label': 'Pre-Ictal data points'}, 'inter_ictal': {'color': 'blue', 'intervals_samples': [(0, 0)], 'label': 'Inter-Ictal Data Points'}, 'ictal': {'color': 'red', 'intervals_samples': [(3000000, 3300000)], 'label': 'Ictal data points'}})('baseline_label_struct', {'baseline': {'color': 'green', 'intervals_samples': [(0, 3600000)], 'label': 'Baseline Data Points'}})('patient_list', [13])('hyper_param', 0)('hist_bins', None)\", \"('dist', None)('scaler', MinMaxScaler(copy=True, feature_range=(0, 1)))('lead_list', ['ECG-'])('feature_slot', 'raw')('interim_processing', [MinMaxScaler(copy=True, feature_range=(0, 1))])('assign_baseline', 'assign_equal_baseline_seizure')('label_struct', {'pre_ictal': {'color': 'yellow', 'intervals_samples': [(1200000, 2940000)], 'label': 'Pre-Ictal data points'}, 'inter_ictal': {'color': 'blue', 'intervals_samples': [(0, 0)], 'label': 'Inter-Ictal Data Points'}, 'ictal': {'color': 'red', 'intervals_samples': [(3000000, 3300000)], 'label': 'Ictal data points'}})('baseline_label_struct', {'baseline': {'color': 'green', 'intervals_samples': [(0, 3600000)], 'label': 'Baseline Data Points'}})('patient_list', [6])('hyper_param', 0)('hist_bins', None)\", \"('dist', None)('scaler', MinMaxScaler(copy=True, feature_range=(0, 1)))('lead_list', ['ECG-'])('feature_slot', 'raw')('interim_processing', [MinMaxScaler(copy=True, feature_range=(0, 1))])('assign_baseline', 'assign_equal_baseline_seizure')('label_struct', {'pre_ictal': {'color': 'yellow', 'intervals_samples': [(1200000, 2940000)], 'label': 'Pre-Ictal data points'}, 'inter_ictal': {'color': 'blue', 'intervals_samples': [(0, 0)], 'label': 'Inter-Ictal Data Points'}, 'ictal': {'color': 'red', 'intervals_samples': [(3000000, 3300000)], 'label': 'Ictal data points'}})('baseline_label_struct', {'baseline': {'color': 'green', 'intervals_samples': [(0, 3600000)], 'label': 'Baseline Data Points'}})('patient_list', [4])('hyper_param', 0)('hist_bins', None)\", \"('dist', None)('scaler', MinMaxScaler(copy=True, feature_range=(0, 1)))('lead_list', ['ECG-'])('feature_slot', 'raw')('interim_processing', [MinMaxScaler(copy=True, feature_range=(0, 1))])('assign_baseline', 'assign_equal_baseline_seizure')('label_struct', {'pre_ictal': {'color': 'yellow', 'intervals_samples': [(1200000, 2940000)], 'label': 'Pre-Ictal data points'}, 'inter_ictal': {'color': 'blue', 'intervals_samples': [(0, 0)], 'label': 'Inter-Ictal Data Points'}, 'ictal': {'color': 'red', 'intervals_samples': [(3000000, 3300000)], 'label': 'Ictal data points'}})('baseline_label_struct', {'baseline': {'color': 'green', 'intervals_samples': [(0, 3600000)], 'label': 'Baseline Data Points'}})('patient_list', [3])('hyper_param', 0)('hist_bins', None)\"]\n",
      "\n",
      "This is the new one\n",
      "('dist', None)('scaler', MinMaxScaler(copy=True, feature_range=(0, 1)))('lead_list', ['ECG-'])('feature_slot', 'raw')('interim_processing', [MinMaxScaler(copy=True, feature_range=(0, 1))])('assign_baseline', 'assign_equal_baseline_seizure')('label_struct', {'pre_ictal': {'color': 'yellow', 'intervals_samples': [(1200000, 2940000)], 'label': 'Pre-Ictal data points'}, 'inter_ictal': {'color': 'blue', 'intervals_samples': [(0, 0)], 'label': 'Inter-Ictal Data Points'}, 'ictal': {'color': 'red', 'intervals_samples': [(3000000, 3300000)], 'label': 'Ictal data points'}})('baseline_label_struct', {'baseline': {'color': 'green', 'intervals_samples': [(0, 3600000)], 'label': 'Baseline Data Points'}})('patient_list', [4])('hyper_param', 0)('hist_bins', None)\n",
      "\n",
      "id params in disk\n",
      "                                              params  \\\n",
      "0  ('dist', None)('scaler', MinMaxScaler(copy=Tru...   \n",
      "\n",
      "                                     id  \n",
      "0  785b8620-437b-11e8-894a-b06ebfc25cc2  \n",
      "\n",
      "Check if they are the same\n",
      "\n",
      "   params     id\n",
      "0    True  False\n",
      "\n",
      "final id -- check disk\n",
      "785b8620-437b-11e8-894a-b06ebfc25cc2\n",
      "\n",
      "Check for this path on disk .. should be there\n",
      "785b8620-437b-11e8-894a-b06ebfc25cc2\n",
      "/3000_1200/raw_$beginwin_samplerate:1000_win:0.001_init:0_finish:4200_endwin$__$beginparams_param:None_endparam$_\n"
     ]
    },
    {
     "name": "stderr",
     "output_type": "stream",
     "text": [
      "[2018-04-19 03:45:46.129896]:get_signal:20:Loading [signal: 4_FA77745S_ECG-_2017-01-10 17:43:24.000000_1][group: /3000_1200/raw_$beginwin_samplerate:1000_win:0.001_init:0_finish:4200_endwin$__$beginparams_param:None_endparam$_]\n",
      "[2018-04-19 03:45:46.486212]:get_signal:20:Loading [signal: 4_FA77746C_ECG-_2017-01-12 06:06:23.000000_2][group: /3000_1200/raw_$beginwin_samplerate:1000_win:0.001_init:0_finish:4200_endwin$__$beginparams_param:None_endparam$_]\n",
      "[2018-04-19 03:45:46.664819]:get_signal:20:Loading [signal: 4_FA77745R_ECG-_2017-01-10 15:43:11.000000_0][group: /3000_1200/raw_$beginwin_samplerate:1000_win:0.001_init:0_finish:4200_endwin$__$beginparams_param:None_endparam$_]\n",
      "[2018-04-19 03:45:46.674815]:get_signal:20:Loading [signal: 4_FA77745S_ECG-_2017-01-10 17:43:24.000000_1][group: /3000_1200/raw_$beginwin_samplerate:1000_win:0.001_init:0_finish:4200_endwin$__$beginparams_param:None_endparam$_]\n",
      "[2018-04-19 03:45:46.684959]:get_signal:20:Loading [signal: 4_FA77746C_ECG-_2017-01-12 06:06:23.000000_2][group: /3000_1200/raw_$beginwin_samplerate:1000_win:0.001_init:0_finish:4200_endwin$__$beginparams_param:None_endparam$_]\n",
      "[2018-04-19 03:45:46.692988]:get_signal:20:Loading [signal: window_4_FA77745R_ECG-_2017-01-10 15:43:11.000000_0][group: /3000_1200/raw_$beginwin_samplerate:1000_win:0.001_init:0_finish:4200_endwin$__$beginparams_param:None_endparam$_]\n",
      "[2018-04-19 03:45:46.693650]:get_signal:10:'Inexistent signal dataset.'\n"
     ]
    },
    {
     "name": "stdout",
     "output_type": "stream",
     "text": [
      "closed\n",
      "closed\n",
      "'Inexistent signal dataset.'\n",
      "local variable 'signal' referenced before assignment\n"
     ]
    },
    {
     "ename": "TypeError",
     "evalue": "'NoneType' object has no attribute '__getitem__'",
     "output_type": "error",
     "traceback": [
      "\u001b[0;31m--------------------------------------------------------------------------\u001b[0m",
      "\u001b[0;31mTypeError\u001b[0m                                Traceback (most recent call last)",
      "\u001b[0;32m<ipython-input-5-43ff55df7ab8>\u001b[0m in \u001b[0;36m<module>\u001b[0;34m()\u001b[0m\n\u001b[1;32m     13\u001b[0m                                                   \u001b[0mplot_eda\u001b[0m\u001b[0;34m,\u001b[0m\u001b[0;34m\u001b[0m\u001b[0m\n\u001b[1;32m     14\u001b[0m                                                   \u001b[0mlearn_flag\u001b[0m\u001b[0;34m,\u001b[0m\u001b[0;34m\u001b[0m\u001b[0m\n\u001b[0;32m---> 15\u001b[0;31m                                                   compute_all_new)\n\u001b[0m\u001b[1;32m     16\u001b[0m \u001b[0;34m\u001b[0m\u001b[0m\n\u001b[1;32m     17\u001b[0m \u001b[0;34m\u001b[0m\u001b[0m\n",
      "\u001b[0;32m/home/franciscosargo/pre_epi_seizures/pre_epi_seizures/learning_pipelines.pyc\u001b[0m in \u001b[0;36msupervised_pipeline\u001b[0;34m(label_struct, baseline_label_struct, pipe, scaler, param_grid, patient_list, feature_slot, hyper_param, plot_eda_all_new, learn_flag, compute_all_new)\u001b[0m\n\u001b[1;32m    182\u001b[0m     seizure_data = cv_pd.convert_to_pandas(path_to_load, path_to_map,\n\u001b[1;32m    183\u001b[0m                             \u001b[0mpatient_list\u001b[0m\u001b[0;34m,\u001b[0m \u001b[0mfeature_name\u001b[0m\u001b[0;34m,\u001b[0m\u001b[0;34m\u001b[0m\u001b[0m\n\u001b[0;32m--> 184\u001b[0;31m                             lead_list, label_struct)\n\u001b[0m\u001b[1;32m    185\u001b[0m     \u001b[0mseizure_data\u001b[0m\u001b[0;34m\u001b[0m\u001b[0m\n\u001b[1;32m    186\u001b[0m \u001b[0;34m\u001b[0m\u001b[0m\n",
      "\u001b[0;32m/home/franciscosargo/pre_epi_seizures/pre_epi_seizures/convertpandas.pyc\u001b[0m in \u001b[0;36mconvert_to_pandas\u001b[0;34m(path_to_load, path_to_map, patient_list, feature_slot, lead_list, label_struct)\u001b[0m\n\u001b[1;32m    127\u001b[0m     data = load_records(path_to_load, path_to_map,\n\u001b[1;32m    128\u001b[0m                         \u001b[0mpatient_list\u001b[0m\u001b[0;34m,\u001b[0m \u001b[0mfeature_slot\u001b[0m\u001b[0;34m,\u001b[0m\u001b[0;34m\u001b[0m\u001b[0m\n\u001b[0;32m--> 129\u001b[0;31m                         lead_list)\n\u001b[0m\u001b[1;32m    130\u001b[0m \u001b[0;34m\u001b[0m\u001b[0m\n\u001b[1;32m    131\u001b[0m     \u001b[0;32mif\u001b[0m \u001b[0mdata\u001b[0m \u001b[0;32mis\u001b[0m \u001b[0;32mnot\u001b[0m \u001b[0mNone\u001b[0m\u001b[0;34m:\u001b[0m\u001b[0;34m\u001b[0m\u001b[0m\n",
      "\u001b[0;32m/home/franciscosargo/pre_epi_seizures/pre_epi_seizures/convertpandas.pyc\u001b[0m in \u001b[0;36mload_records\u001b[0;34m(path_to_load, path_to_map, patient_list, feature_name, lead_list)\u001b[0m\n\u001b[1;32m     23\u001b[0m     \u001b[0;31m# convert to pandas\u001b[0m\u001b[0;34m\u001b[0m\u001b[0;34m\u001b[0m\u001b[0m\n\u001b[1;32m     24\u001b[0m     \u001b[0mrecords_data\u001b[0m \u001b[0;34m=\u001b[0m \u001b[0mdata_struct\u001b[0m\u001b[0;34m[\u001b[0m\u001b[0;36m0\u001b[0m\u001b[0;34m]\u001b[0m\u001b[0;34m\u001b[0m\u001b[0m\n\u001b[0;32m---> 25\u001b[0;31m     \u001b[0mrecords_sample\u001b[0m \u001b[0;34m=\u001b[0m \u001b[0mwindow_data_struct\u001b[0m\u001b[0;34m[\u001b[0m\u001b[0;36m0\u001b[0m\u001b[0;34m]\u001b[0m\u001b[0;34m\u001b[0m\u001b[0m\n\u001b[0m\u001b[1;32m     26\u001b[0m     \u001b[0mrecords_mdata\u001b[0m \u001b[0;34m=\u001b[0m \u001b[0mdata_struct\u001b[0m\u001b[0;34m[\u001b[0m\u001b[0;36m1\u001b[0m\u001b[0;34m]\u001b[0m\u001b[0;34m\u001b[0m\u001b[0m\n\u001b[1;32m     27\u001b[0m     \u001b[0mrecords_patient\u001b[0m \u001b[0;34m=\u001b[0m\u001b[0;34m[\u001b[0m\u001b[0mint\u001b[0m\u001b[0;34m(\u001b[0m\u001b[0mrecord_name\u001b[0m\u001b[0;34m[\u001b[0m\u001b[0;36m1\u001b[0m\u001b[0;34m]\u001b[0m\u001b[0;34m.\u001b[0m\u001b[0msplit\u001b[0m\u001b[0;34m(\u001b[0m\u001b[0;34m'_'\u001b[0m\u001b[0;34m)\u001b[0m\u001b[0;34m[\u001b[0m\u001b[0;36m0\u001b[0m\u001b[0;34m]\u001b[0m\u001b[0;34m)\u001b[0m \u001b[0;32mfor\u001b[0m \u001b[0mrecord_name\u001b[0m \u001b[0;32min\u001b[0m \u001b[0mrecords_list\u001b[0m\u001b[0;34m]\u001b[0m\u001b[0;34m\u001b[0m\u001b[0m\n",
      "\u001b[0;31mTypeError\u001b[0m: 'NoneType' object has no attribute '__getitem__'"
     ]
    }
   ],
   "source": [
    "\n",
    "\n",
    "patient_lists = [[5], [8], [3, 4, 5, 8]]\n",
    "\n",
    "\n",
    "for patient_list in patient_lists:\n",
    "\n",
    "    supervised_pipeline(label_struct, baseline_label_struct,\n",
    "                                                  pipe, scaler, param_grid,\n",
    "                                                  patient_list,\n",
    "                                                  feature_slot,\n",
    "                                                  hyper_param,\n",
    "                                                  plot_eda,\n",
    "                                                  learn_flag,\n",
    "                                                  compute_all_new)\n",
    "    \n",
    "\n",
    "\n",
    "\n",
    "\n",
    "\n",
    "\n"
   ]
  },
  {
   "cell_type": "code",
   "execution_count": null,
   "metadata": {},
   "outputs": [],
   "source": [
    "del y"
   ]
  },
  {
   "cell_type": "code",
   "execution_count": null,
   "metadata": {
    "collapsed": true,
    "scrolled": true
   },
   "outputs": [],
   "source": [
    "client.compute(y)"
   ]
  }
 ],
 "metadata": {
  "kernelspec": {
   "display_name": "Python 2",
   "language": "python",
   "name": "python2"
  },
  "language_info": {
   "codemirror_mode": {
    "name": "ipython",
    "version": 2
   },
   "file_extension": ".py",
   "mimetype": "text/x-python",
   "name": "python",
   "nbconvert_exporter": "python",
   "pygments_lexer": "ipython2",
   "version": "2.7.12"
  }
 },
 "nbformat": 4,
 "nbformat_minor": 2
}
