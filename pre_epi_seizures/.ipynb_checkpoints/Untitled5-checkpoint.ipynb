{
 "cells": [
  {
   "cell_type": "code",
   "execution_count": null,
   "metadata": {
    "collapsed": true
   },
   "outputs": [],
   "source": [
    "# Results"
   ]
  },
  {
   "cell_type": "code",
   "execution_count": null,
   "metadata": {
    "collapsed": true
   },
   "outputs": [],
   "source": [
    "# Get table from original analysis\n",
    "table = get_learning_results(label_struct, baseline_label_struct,\n",
    "                              pipe, scaler, param_grid,\n",
    "                              patient_list,\n",
    "                              feature_slot,\n",
    "                              hyper_param,\n",
    "                              plot_eda,\n",
    "                              learn_flag,\n",
    "                              compute_all_new)\n",
    "\n",
    "# Compute the statistics from the overall labels\n",
    "per_label = evaluate_overall_labels(table)\n",
    "\n",
    "# Compute the statistics for seizure type\n",
    "per_type_of_seizure = evaluate_per_types_of_seizure(table)\n",
    "\n",
    "# Get model name\n",
    "model_name = pipe.steps[0][0]\n",
    "\n",
    "# Get Hyper-parameterization results\n",
    "cv_results=get_hyper_param_results(label_struct, baseline_label_struct,\n",
    "                          pipe, scaler, param_grid,\n",
    "                          patient_list,\n",
    "                          feature_slot,\n",
    "                          hyper_param,\n",
    "                          plot_eda,\n",
    "                          learn_flag,\n",
    "                          compute_all_new)\n",
    "\n",
    "param_name = param_grid[0].keys()[0]\n",
    "single_param_var = param_grid[0][param_name]\n",
    "\n",
    "single_mean_std_param_plot('fgjasljgf', \n",
    "                           cv_results, \n",
    "                           param_name, \n",
    "                           single_param_var,\n",
    "                           feature_slot)\n",
    "\n",
    "# Plot and save EDA\n",
    "\n",
    "\n",
    "\n",
    "# Plot hyper-parameters function\n",
    "\n",
    "single_mean_std_param_plot('fgjasljgf', \n",
    "               cv_results, \n",
    "               param_name, \n",
    "               single_param_var,\n",
    "               feature_slot)"
   ]
  }
 ],
 "metadata": {
  "kernelspec": {
   "display_name": "Python 2",
   "language": "python",
   "name": "python2"
  },
  "language_info": {
   "codemirror_mode": {
    "name": "ipython",
    "version": 2
   },
   "file_extension": ".py",
   "mimetype": "text/x-python",
   "name": "python",
   "nbconvert_exporter": "python",
   "pygments_lexer": "ipython2",
   "version": "2.7.12"
  }
 },
 "nbformat": 4,
 "nbformat_minor": 2
}
