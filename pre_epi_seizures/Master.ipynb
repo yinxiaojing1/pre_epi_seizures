{
 "cells": [
  {
   "cell_type": "code",
   "execution_count": 1,
   "metadata": {
    "collapsed": true,
    "scrolled": false
   },
   "outputs": [],
   "source": [
    "# Import for I/O \n",
    "from storage_utils.storage_utils_nihon_khoden import *\n",
    "from storage_utils.create_datasets_nk import *\n",
    "from storage_utils.create_free_datasets_nk import *"
   ]
  },
  {
   "cell_type": "code",
   "execution_count": 2,
   "metadata": {
    "collapsed": true
   },
   "outputs": [],
   "source": [
    "# State the parameters of the pipeline\n",
    "patient_list = [5]\n",
    "disk = '/Volumes/Seagate Bac/pre_epi_seizures/'\n",
    "baseline_files = 'h5_files/processing_datasets/baseline_datasets_new'\n",
    "seizure_files = 'h5_files/processing_datasets/seizure_datasets_new'\n",
    "time_before_seizure = 50 * 60\n",
    "time_after_seizure = 20 * 60\n",
    "time_baseline = 4 * 60 * 60\n"
   ]
  },
  {
   "cell_type": "code",
   "execution_count": 3,
   "metadata": {
    "collapsed": true,
    "scrolled": true
   },
   "outputs": [],
   "source": [
    "# Convert patients records from edf to hdf5\n",
    "#converter(patient_nr, disk)"
   ]
  },
  {
   "cell_type": "code",
   "execution_count": null,
   "metadata": {
    "scrolled": true
   },
   "outputs": [
    {
     "name": "stderr",
     "output_type": "stream",
     "text": [
      "[2018-02-28 17:20:23.180022]:get_signal:20:Loading [signal: FA7773TA_ECG-_2016-08-23 04:23:59.000000][group: PATIENT5]\n",
      "[2018-02-28 17:20:23.212561]:get_signal:20:Loading [signal: FA7773TA_Ecg_2016-08-23 04:23:59.000000][group: PATIENT5]\n",
      "[2018-02-28 17:20:23.332622]:add_signal:20:Saving [signal: 5_FA7773TA_ECG-_2016-08-23 04:23:59.000000][group: /raw_$beginwin_samplerate:1000_win:0.001_init:0_finish:7200_endwin$__$beginparams_param:None_endparam$_]\n"
     ]
    },
    {
     "name": "stdout",
     "output_type": "stream",
     "text": [
      "closed\n",
      "/Volumes/Seagate Bac/pre_epi_seizures/h5_files/processing_datasets/baseline_datasets_new.h5\n"
     ]
    },
    {
     "name": "stderr",
     "output_type": "stream",
     "text": [
      "[2018-02-28 17:20:24.310472]:add_signal:20:Saving [signal: 5_FA7773TA_Ecg_2016-08-23 04:23:59.000000][group: /raw_$beginwin_samplerate:1000_win:0.001_init:0_finish:7200_endwin$__$beginparams_param:None_endparam$_]\n"
     ]
    },
    {
     "name": "stdout",
     "output_type": "stream",
     "text": [
      "addd\n",
      "addd\n",
      "closinnngg\n",
      "CLOSEDDDDD\n"
     ]
    }
   ],
   "source": [
    "# Create Raw ECG datasets\n",
    "#create_datasets_nk(disk, time_before_seizure, time_after_seizure,\n",
    " #                  patient_list)\n",
    "create_free_datasets_nk(disk, time_baseline, patient_list)"
   ]
  },
  {
   "cell_type": "code",
   "execution_count": null,
   "metadata": {
    "scrolled": true
   },
   "outputs": [
    {
     "name": "stderr",
     "output_type": "stream",
     "text": [
      "[2018-02-28 17:20:25.397150]:get_signal:20:Loading [signal: 5_FA7773TA_ECG-_2016-08-23 04:23:59.000000][group: /raw_$beginwin_samplerate:1000_win:0.001_init:0_finish:7200_endwin$__$beginparams_param:None_endparam$_]\n",
      "[2018-02-28 17:20:25.436081]:baseline_removal:20:Removing the baseline ...\n"
     ]
    }
   ],
   "source": [
    "from Preprocessing.pre_processing import _main\n",
    "_main(disk, baseline_files)"
   ]
  },
  {
   "cell_type": "code",
   "execution_count": null,
   "metadata": {
    "collapsed": true,
    "scrolled": true
   },
   "outputs": [],
   "source": [
    "#from storage_utils.create_datasets_nk import *"
   ]
  }
 ],
 "metadata": {
  "kernelspec": {
   "display_name": "Python 2",
   "language": "python",
   "name": "python2"
  },
  "language_info": {
   "codemirror_mode": {
    "name": "ipython",
    "version": 2
   },
   "file_extension": ".py",
   "mimetype": "text/x-python",
   "name": "python",
   "nbconvert_exporter": "python",
   "pygments_lexer": "ipython2",
   "version": "2.7.10"
  }
 },
 "nbformat": 4,
 "nbformat_minor": 2
}
