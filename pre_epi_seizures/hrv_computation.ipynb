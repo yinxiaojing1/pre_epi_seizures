{
 "cells": [
  {
   "cell_type": "code",
   "execution_count": 1,
   "metadata": {},
   "outputs": [
    {
     "name": "stderr",
     "output_type": "stream",
     "text": [
      "/home/franciscosargo/.virtualenvs/pre_epi_seizures/local/lib/python2.7/site-packages/h5py/__init__.py:34: FutureWarning: Conversion of the second argument of issubdtype from `float` to `np.floating` is deprecated. In future, it will be treated as `np.float64 == np.dtype(float).type`.\n",
      "  from ._conv import register_converters as _register_converters\n"
     ]
    }
   ],
   "source": [
    "import h5py\n",
    "import seaborn as sns\n",
    "import matplotlib.pyplot as plt\n",
    "import pandas as pd\n",
    "import numpy as np\n",
    "from storage_utils.patients_data_new import patients\n",
    "import os"
   ]
  },
  {
   "cell_type": "code",
   "execution_count": null,
   "metadata": {
    "collapsed": true
   },
   "outputs": [],
   "source": [
    "# Load Baseline Removal\n",
    "disk='/mnt/Seagate/'\n",
    "files_dir = 'h5_files_backup/processing_datasets/'\n",
    "file_name = 'seizure_datasets_new.h5'\n",
    "\n",
    "file_path = disk + files_dir + file_name\n",
    "\n",
    "print file_path\n",
    "\n",
    "# patient parameters\n",
    "patient_nr=3\n",
    "patient_info = patients[str(patient_nr)]\n",
    "patient_info\n",
    "\n",
    "# feature for analysis\n",
    "feature_name=('signals/3000_1200'\n",
    "              '/raw'\n",
    "              '/baseline_removal__filt:MedianFIR')\n",
    "\n",
    "# load the file\n",
    "f = h5py.File(file_path, 'r')\n",
    "\n",
    "print feature_name\n",
    "\n",
    "seizures = f[feature_name].keys()\n",
    "\n",
    "# get seizures from patient\n",
    "seizure_from_patient = [seizure\n",
    "                         for seizure in seizures\n",
    "                         if seizure.split('_')[0] == str(patient_nr)]\n",
    "print seizure_from_patient\n",
    "\n",
    "patient_info\n",
    "\n",
    "# Create a list of types of seizure to join\n",
    "types_of_seizure = patient_info['types_of_seizure'] + patient_info['types_of_seizure']\n",
    "\n",
    "\n",
    "print types_of_seizure\n",
    "\n",
    "# Set path to save\n",
    "path_to_save = '/home/franciscosargo/final_results/PATIENT{}/baseline_removal/'.format(patient_nr) \n",
    "if not os.path.exists(path_to_save):\n",
    "    print 'File doesnt exist'\n",
    "    os.makedirs(path_to_save)\n",
    "    \n",
    "    \n",
    "# Get the time parameters of the signal\n",
    "Fs=1000\n",
    "sec_before_onset = 50 * 60\n",
    "sec_after_onset = 20 * 60\n",
    "time_seconds = np.linspace(-sec_before_onset, sec_after_onset, \n",
    "                           (sec_before_onset + sec_after_onset) * Fs)\n",
    "    \n",
    "# get the hdf5 dataset\n",
    "seizure_hdfdataset = f[feature_name + '/' + seizure_name]\n",
    "\n",
    "# load the array to memory\n",
    "seizure_array = seizure_hdfdataset[:]\n",
    "\n",
    "\n",
    "    "
   ]
  },
  {
   "cell_type": "code",
   "execution_count": null,
   "metadata": {
    "collapsed": true
   },
   "outputs": [],
   "source": [
    "# Compute HRV signal\n",
    "hrv_seizure = "
   ]
  },
  {
   "cell_type": "code",
   "execution_count": null,
   "metadata": {
    "collapsed": true
   },
   "outputs": [],
   "source": [
    "seizure_features=['Removed Baseline and filtered']\n",
    "\n",
    "\n",
    "# Plot the signal\n",
    "plt.figure(figsize=(20, 20))\n",
    "plt.plot(time_seconds, seizure_array.T)\n",
    "plt.axvline(x=0, c='k')\n",
    "plt.legend([seizure_features[0], 'EEG Onset'])\n",
    "plt.xlabel('Relative Time to onset [s]')\n",
    "plt.ylabel('Digitation Units')\n",
    "plt.title(seizure_name + ' ' + '|' + ' ' + type_of_seizure)\n",
    "plt.show() \n",
    "\n",
    "# Get seizure id\n",
    "seizure_id = seizure_name.split('_')\n",
    "lead_name = seizure_id[2]\n",
    "seizure_nr = seizure_id[-1]\n",
    "patient_nr = seizure_id[0]\n",
    "\n",
    "\n",
    "\n",
    "plt.savefig(path_to_save + patient_nr + '_' + seizure_nr + '_' + lead_name + '.png')"
   ]
  }
 ],
 "metadata": {
  "kernelspec": {
   "display_name": "Python 2",
   "language": "python",
   "name": "python2"
  },
  "language_info": {
   "codemirror_mode": {
    "name": "ipython",
    "version": 2
   },
   "file_extension": ".py",
   "mimetype": "text/x-python",
   "name": "python",
   "nbconvert_exporter": "python",
   "pygments_lexer": "ipython2",
   "version": "2.7.12"
  }
 },
 "nbformat": 4,
 "nbformat_minor": 2
}
