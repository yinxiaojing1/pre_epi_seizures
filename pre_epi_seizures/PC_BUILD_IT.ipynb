{
 "cells": [
  {
   "cell_type": "markdown",
   "metadata": {},
   "source": [
    "According to [1], the choice of hardware can follow a number of exact steps.\n",
    "The exposition presented in this notebook is a small resume of the information as presented in [1] and [2]\n",
    "\n",
    "The components are initially compated and chosen by using the software available at Pc Pick Part [3]. Then a comparison is made between the prices of those components available in Portugal, by searching popular vendors like: globalldata, PC DIGA, FNAC, WORTEN, and by expliciting evaluating such comparisons by software like: kuantokusta."
   ]
  },
  {
   "cell_type": "markdown",
   "metadata": {},
   "source": [
    "# 1) Choice of Motherboard configuration\n",
    "\n",
    "## 1.1) Choice of GPU configuration\n",
    "\n",
    "The first decision shoud be about the maximum number of GPU’s to have on the newly built system. An active machine learning researcher would want more GPUs. This would in turn help run more than one task in parallel and allow for trials of different variations of model architectures, data normalization, hyper parameters etc.. in parallel."
   ]
  },
  {
   "cell_type": "markdown",
   "metadata": {},
   "source": [
    "## 1.2) Choice of chipset and motherboard model based on GPU configuration  \n",
    "\n",
    "According to , the optimal choice of motherboard is heavily depedent on the choice of an appropriate chipset capable of providing enough PCI-e lanes to feed data to the GPU. Typical choices are:\n"
   ]
  },
  {
   "cell_type": "markdown",
   "metadata": {},
   "source": [
    "* Z170 — Support both 6th/7th Gen Intel Processor. Usage of 7th Gen might require a BIOS Update.\n",
    "* Z270 — Support both 6th/7th Gen Intel Processor. \n",
    "* (Latest) Z370 — Supports 8th Gen Intel Processor."
   ]
  },
  {
   "cell_type": "code",
   "execution_count": null,
   "metadata": {
    "collapsed": true
   },
   "outputs": [],
   "source": [
    "\n",
    "# table for mother boards, \n",
    "{}"
   ]
  },
  {
   "cell_type": "markdown",
   "metadata": {},
   "source": [
    "# 2) Choice of CPU\n",
    "Through the selection of motherboards, the choice of processor is based on constraints like socket type, but the choice of CPU might further dependent on GPU. For Deep learning applications the CPU is responsible mainly for the data processing and communicating with GPU. Hence, The number of cores and threads per core is important to parallelize all that data preparation. It is advised to choose a multi core system (Preferably 4 Cores)to handle these tasks.\n"
   ]
  },
  {
   "cell_type": "code",
   "execution_count": null,
   "metadata": {
    "collapsed": true
   },
   "outputs": [],
   "source": [
    "Typical choices usually are: "
   ]
  },
  {
   "cell_type": "code",
   "execution_count": null,
   "metadata": {
    "collapsed": true
   },
   "outputs": [],
   "source": [
    "# table for CPU\n",
    "\n",
    "\n"
   ]
  },
  {
   "cell_type": "markdown",
   "metadata": {},
   "source": [
    "# 3) Choice of RAM\n",
    "\n",
    "When working with large/big datasetsthere is a need to have them in memory. The Size of the RAM decides how much of dataset can be hold in memory. For Deep learning applications it is suggested to have a minimum of 16GB-32GB memory [4]. Regarding the Clock, The higher the better. It ideally signifies the Speed — Access Time but a minimum of 2400 MHz is advised.\n",
    "\n",
    "It is also advised to get more memory in a single stick as it will allow for further expansion in remaining slots."
   ]
  },
  {
   "cell_type": "code",
   "execution_count": null,
   "metadata": {
    "collapsed": true
   },
   "outputs": [],
   "source": [
    "# Table for RAM"
   ]
  },
  {
   "cell_type": "markdown",
   "metadata": {},
   "source": [
    "# 4) Choice of storage \n",
    "\n",
    "Its always better to get a small size SSD and a large HDD. SSD’s are preffered to store and retrieve data that is actively used. On the other hand HDD should be used to store data that are to be used in future [2].\n",
    "\n",
    "* SSD — Datasets in use + OS (Costly! Min: 128 GB Recommended)\n",
    "* HDD — Misc User Data (Cheaper! Min: 2 TB Recommended 7200RPM)\n"
   ]
  },
  {
   "cell_type": "code",
   "execution_count": null,
   "metadata": {
    "collapsed": true
   },
   "outputs": [],
   "source": []
  },
  {
   "cell_type": "markdown",
   "metadata": {},
   "source": [
    "# 5) GPU choice \n",
    "\n",
    "GPU’s are the heart of Deep learning Build having the most significant impact on the performance gain during training of neural networks. As most of the computation involved in Deep Learning are Matrix operations, GPU outperforms conventional CPU by running the same as parallel operations. They have small computation units called cores that can have threads which enable them to run the matrix operations faster. The Memory bandwidth of the GPU also enables to operate on large batches of data[2]\n",
    "\n",
    "There are numerous intricate factors that come to play when chosing a particular model [5], but the general consensus is best sumarized in the following list adapted from [5]:\n",
    "\n",
    "\n",
    "* Best GPU overall (by a small margin): Titan Xp\n",
    "* Cost efficient but expensive: GTX 1080 Ti, GTX 1070, GTX 1080\n",
    "* Cost efficient and cheap:  GTX 1060 (6GB)\n",
    "* I work with data sets > 250GB: GTX Titan X (Maxwell), NVIDIA Titan X Pascal, or NVIDIA Titan Xp\n",
    "* I have little money: GTX 1060 (6GB)\n",
    "* I have almost no money: GTX 1050 Ti (4GB)\n",
    "* I do Kaggle: GTX 1060 (6GB) for any “normal” competition, or GTX 1080 Ti for “deep learning competitions”\n",
    "* I am a competitive computer vision researcher: NVIDIA Titan Xp; do not upgrade from existing Titan X (Pascal or Maxwell)\n",
    "* I am a researcher: GTX 1080 Ti. In some cases, like natural language processing, a GTX 1070 or GTX 1080 might also be a solid choice — check the memory requirements of your current models\n",
    "* I want to build a GPU cluster: This is really complicated, you can get some ideas here\n",
    "* I started deep learning and I am serious about it: Start with a GTX 1060 (6GB). Depending of what area you choose next (startup, Kaggle, research, applied deep learning) sell your GTX 1060 and buy something more appropriate\n",
    "* I want to try deep learning, but I am not serious about it: GTX 1050 Ti (4 or 2GB)\n",
    "\n",
    "\n"
   ]
  },
  {
   "cell_type": "code",
   "execution_count": null,
   "metadata": {
    "collapsed": true
   },
   "outputs": [],
   "source": [
    "# table for GPU's"
   ]
  }
 ],
 "metadata": {
  "kernelspec": {
   "display_name": "Python 2",
   "language": "python",
   "name": "python2"
  },
  "language_info": {
   "codemirror_mode": {
    "name": "ipython",
    "version": 2
   },
   "file_extension": ".py",
   "mimetype": "text/x-python",
   "name": "python",
   "nbconvert_exporter": "python",
   "pygments_lexer": "ipython2",
   "version": "2.7.10"
  }
 },
 "nbformat": 4,
 "nbformat_minor": 2
}
