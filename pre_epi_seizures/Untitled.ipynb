{
 "cells": [
  {
   "cell_type": "code",
   "execution_count": 1,
   "metadata": {
    "collapsed": true,
    "scrolled": false
   },
   "outputs": [],
   "source": [
    "# Import for I/O \n",
    "from storage_utils.storage_utils_nihon_khoden import *\n",
    "from storage_utils.create_datasets_nk import *\n",
    "from storage_utils.create_free_datasets_nk import *"
   ]
  },
  {
   "cell_type": "code",
   "execution_count": 2,
   "metadata": {},
   "outputs": [],
   "source": [
    "patient_nr = [7]\n",
    "disk = '/Volumes/Seagate Bac/pre_epi_seizures/'\n"
   ]
  },
  {
   "cell_type": "code",
   "execution_count": 3,
   "metadata": {
    "scrolled": true
   },
   "outputs": [
    {
     "name": "stdout",
     "output_type": "stream",
     "text": [
      "['/Volumes/Seagate Bac/pre_epi_seizures/PATIENT7/']\n",
      "\n",
      "['/Volumes/Seagate Bac/pre_epi_seizures/PATIENT7/FA7773OO_1-1.edf', '/Volumes/Seagate Bac/pre_epi_seizures/PATIENT7/FA7773OP_1-1.edf', '/Volumes/Seagate Bac/pre_epi_seizures/PATIENT7/FA7773OQ_1-1.edf', '/Volumes/Seagate Bac/pre_epi_seizures/PATIENT7/FA7773OR_1-1.edf', '/Volumes/Seagate Bac/pre_epi_seizures/PATIENT7/FA7773OS_1-1.edf', '/Volumes/Seagate Bac/pre_epi_seizures/PATIENT7/FA7773P2_1-1.edf', '/Volumes/Seagate Bac/pre_epi_seizures/PATIENT7/FA7773P3_1-1.edf']\n",
      "PATIENT7/"
     ]
    },
    {
     "name": "stderr",
     "output_type": "stream",
     "text": [
      "[2018-02-27 20:11:54.673237]:load_ecg_signal:10:Loading file /Volumes/Seagate Bac/pre_epi_seizures/PATIENT7/FA7773OO_1-1.edf ...\n"
     ]
    },
    {
     "name": "stdout",
     "output_type": "stream",
     "text": [
      "\n",
      "\n",
      "FA7773OO\n",
      "[u'Fp1', u'Fp2', u'F3', u'F4', u'C3', u'C4', u'P3', u'P4', u'O1', u'O2', u'F7', u'F8', u'T7', u'T8', u'P7', u'P8', u'Fz', u'Cz', u'Pz', u'E', u'A1', u'A2', u'Ecg', u'EogL', u'EogR', u'Emg1', u'Emg2', u'ECG-', u'DC01', u'DC02', u'DC03', u'DC04', u'EEG Mark1', u'EEG Mark2', u'F1', u'F2', u'FC1', u'FC2', u'C1', u'C2', u'CP1', u'CP2', u'P1', u'P2', u'AF3', u'AF4', u'FC3', u'FC4', u'CP3', u'CP4', u'PO3', u'PO4', u'F5', u'F6', u'FC5', u'FC6', u'C5', u'C6', u'CP5', u'CP6', u'P5', u'P6', u'AF7', u'AF8', u'FT7', u'FT8', u'TP7', u'TP8', u'PO7', u'PO8', u'F9', u'F10', u'FT9', u'FT10', u'T9', u'T10', u'TP9', u'TP10', u'P9', u'P10', u'Fpz', u'AFz', u'FCz', u'CPz', u'POz', u'OZ', u'Events/Markers']\n",
      "Ecg\n",
      "ECG-\n"
     ]
    },
    {
     "name": "stderr",
     "output_type": "stream",
     "text": [
      "[2018-02-27 20:12:06.979506]:add_signal:20:Saving [signal: FA7773OO_Ecg_2016-07-06 00:12:22.000000][group: PATIENT7/]\n"
     ]
    },
    {
     "name": "stdout",
     "output_type": "stream",
     "text": [
      "ECG+\n",
      "'ECG+' is not in list\n",
      "['FA7773OO_Ecg_2016-07-06 00:12:22.000000', 'FA7773OO_ECG-_2016-07-06 00:12:22.000000']\n",
      "/Volumes/Seagate Bac/pre_epi_seizures/h5_files/raw_fulldata/HSM_data.h5\n",
      "addd"
     ]
    },
    {
     "name": "stderr",
     "output_type": "stream",
     "text": [
      "[2018-02-27 20:12:08.019104]:add_signal:20:Saving [signal: FA7773OO_ECG-_2016-07-06 00:12:22.000000][group: PATIENT7/]\n",
      "[2018-02-27 20:12:08.862005]:load_ecg_signal:10:Loading file /Volumes/Seagate Bac/pre_epi_seizures/PATIENT7/FA7773OP_1-1.edf ...\n"
     ]
    },
    {
     "name": "stdout",
     "output_type": "stream",
     "text": [
      "\n",
      "addd\n",
      "closinnngg\n",
      "CLOSEDDDDD\n",
      "PATIENT7/\n",
      "\n",
      "FA7773OP\n",
      "[u'Fp1', u'Fp2', u'F3', u'F4', u'C3', u'C4', u'P3', u'P4', u'O1', u'O2', u'F7', u'F8', u'T7', u'T8', u'P7', u'P8', u'Fz', u'Cz', u'Pz', u'E', u'A1', u'A2', u'Ecg', u'EogL', u'EogR', u'Emg1', u'Emg2', u'ECG-', u'DC01', u'DC02', u'DC03', u'DC04', u'EEG Mark1', u'EEG Mark2', u'F1', u'F2', u'FC1', u'FC2', u'C1', u'C2', u'CP1', u'CP2', u'P1', u'P2', u'AF3', u'AF4', u'FC3', u'FC4', u'CP3', u'CP4', u'PO3', u'PO4', u'F5', u'F6', u'FC5', u'FC6', u'C5', u'C6', u'CP5', u'CP6', u'P5', u'P6', u'AF7', u'AF8', u'FT7', u'FT8', u'TP7', u'TP8', u'PO7', u'PO8', u'F9', u'F10', u'FT9', u'FT10', u'T9', u'T10', u'TP9', u'TP10', u'P9', u'P10', u'Fpz', u'AFz', u'FCz', u'CPz', u'POz', u'OZ', u'Events/Markers']\n",
      "Ecg\n",
      "ECG-\n",
      "ECG+\n",
      "'ECG+' is not in list\n"
     ]
    },
    {
     "name": "stderr",
     "output_type": "stream",
     "text": [
      "[2018-02-27 20:12:21.778952]:add_signal:20:Saving [signal: FA7773OP_Ecg_2016-07-06 02:12:35.000000][group: PATIENT7/]\n"
     ]
    },
    {
     "name": "stdout",
     "output_type": "stream",
     "text": [
      "['FA7773OP_Ecg_2016-07-06 02:12:35.000000', 'FA7773OP_ECG-_2016-07-06 02:12:35.000000']\n",
      "/Volumes/Seagate Bac/pre_epi_seizures/h5_files/raw_fulldata/HSM_data.h5\n",
      "addd"
     ]
    },
    {
     "name": "stderr",
     "output_type": "stream",
     "text": [
      "[2018-02-27 20:12:22.199678]:add_signal:20:Saving [signal: FA7773OP_ECG-_2016-07-06 02:12:35.000000][group: PATIENT7/]\n"
     ]
    },
    {
     "name": "stdout",
     "output_type": "stream",
     "text": [
      "\n",
      "addd\n",
      "closinnngg\n",
      "CLOSEDDDDD"
     ]
    },
    {
     "name": "stderr",
     "output_type": "stream",
     "text": [
      "[2018-02-27 20:12:23.013985]:load_ecg_signal:10:Loading file /Volumes/Seagate Bac/pre_epi_seizures/PATIENT7/FA7773OQ_1-1.edf ...\n"
     ]
    },
    {
     "name": "stdout",
     "output_type": "stream",
     "text": [
      "\n",
      "PATIENT7/\n",
      "\n",
      "FA7773OQ\n",
      "[u'Fp1', u'Fp2', u'F3', u'F4', u'C3', u'C4', u'P3', u'P4', u'O1', u'O2', u'F7', u'F8', u'T7', u'T8', u'P7', u'P8', u'Fz', u'Cz', u'Pz', u'E', u'A1', u'A2', u'Ecg', u'EogL', u'EogR', u'Emg1', u'Emg2', u'ECG-', u'DC01', u'DC02', u'DC03', u'DC04', u'EEG Mark1', u'EEG Mark2', u'F1', u'F2', u'FC1', u'FC2', u'C1', u'C2', u'CP1', u'CP2', u'P1', u'P2', u'AF3', u'AF4', u'FC3', u'FC4', u'CP3', u'CP4', u'PO3', u'PO4', u'F5', u'F6', u'FC5', u'FC6', u'C5', u'C6', u'CP5', u'CP6', u'P5', u'P6', u'AF7', u'AF8', u'FT7', u'FT8', u'TP7', u'TP8', u'PO7', u'PO8', u'F9', u'F10', u'FT9', u'FT10', u'T9', u'T10', u'TP9', u'TP10', u'P9', u'P10', u'Fpz', u'AFz', u'FCz', u'CPz', u'POz', u'OZ', u'Events/Markers']\n",
      "Ecg\n",
      "ECG-\n",
      "ECG+\n",
      "'ECG+' is not in list\n"
     ]
    },
    {
     "name": "stderr",
     "output_type": "stream",
     "text": [
      "[2018-02-27 20:12:35.564797]:add_signal:20:Saving [signal: FA7773OQ_Ecg_2016-07-06 04:12:48.000000][group: PATIENT7/]\n"
     ]
    },
    {
     "name": "stdout",
     "output_type": "stream",
     "text": [
      "['FA7773OQ_Ecg_2016-07-06 04:12:48.000000', 'FA7773OQ_ECG-_2016-07-06 04:12:48.000000']\n",
      "/Volumes/Seagate Bac/pre_epi_seizures/h5_files/raw_fulldata/HSM_data.h5\n"
     ]
    },
    {
     "name": "stderr",
     "output_type": "stream",
     "text": [
      "[2018-02-27 20:12:36.116878]:add_signal:20:Saving [signal: FA7773OQ_ECG-_2016-07-06 04:12:48.000000][group: PATIENT7/]\n"
     ]
    },
    {
     "name": "stdout",
     "output_type": "stream",
     "text": [
      "addd\n",
      "addd\n"
     ]
    },
    {
     "name": "stderr",
     "output_type": "stream",
     "text": [
      "[2018-02-27 20:12:36.844632]:load_ecg_signal:10:Loading file /Volumes/Seagate Bac/pre_epi_seizures/PATIENT7/FA7773OR_1-1.edf ...\n"
     ]
    },
    {
     "name": "stdout",
     "output_type": "stream",
     "text": [
      "closinnngg\n",
      "CLOSEDDDDD\n",
      "PATIENT7/\n",
      "\n",
      "FA7773OR\n",
      "[u'Fp1', u'Fp2', u'F3', u'F4', u'C3', u'C4', u'P3', u'P4', u'O1', u'O2', u'F7', u'F8', u'T7', u'T8', u'P7', u'P8', u'Fz', u'Cz', u'Pz', u'E', u'A1', u'A2', u'Ecg', u'EogL', u'EogR', u'Emg1', u'Emg2', u'ECG-', u'DC01', u'DC02', u'DC03', u'DC04', u'EEG Mark1', u'EEG Mark2', u'F1', u'F2', u'FC1', u'FC2', u'C1', u'C2', u'CP1', u'CP2', u'P1', u'P2', u'AF3', u'AF4', u'FC3', u'FC4', u'CP3', u'CP4', u'PO3', u'PO4', u'F5', u'F6', u'FC5', u'FC6', u'C5', u'C6', u'CP5', u'CP6', u'P5', u'P6', u'AF7', u'AF8', u'FT7', u'FT8', u'TP7', u'TP8', u'PO7', u'PO8', u'F9', u'F10', u'FT9', u'FT10', u'T9', u'T10', u'TP9', u'TP10', u'P9', u'P10', u'Fpz', u'AFz', u'FCz', u'CPz', u'POz', u'OZ', u'Events/Markers']\n",
      "Ecg\n",
      "ECG-\n",
      "ECG+\n",
      "'ECG+' is not in list\n"
     ]
    },
    {
     "name": "stderr",
     "output_type": "stream",
     "text": [
      "[2018-02-27 20:12:49.364288]:add_signal:20:Saving [signal: FA7773OR_Ecg_2016-07-06 06:13:00.000000][group: PATIENT7/]\n"
     ]
    },
    {
     "name": "stdout",
     "output_type": "stream",
     "text": [
      "['FA7773OR_Ecg_2016-07-06 06:13:00.000000', 'FA7773OR_ECG-_2016-07-06 06:13:00.000000']\n",
      "/Volumes/Seagate Bac/pre_epi_seizures/h5_files/raw_fulldata/HSM_data.h5\n"
     ]
    },
    {
     "name": "stderr",
     "output_type": "stream",
     "text": [
      "[2018-02-27 20:12:49.917225]:add_signal:20:Saving [signal: FA7773OR_ECG-_2016-07-06 06:13:00.000000][group: PATIENT7/]\n"
     ]
    },
    {
     "name": "stdout",
     "output_type": "stream",
     "text": [
      "addd\n",
      "addd\n"
     ]
    },
    {
     "name": "stderr",
     "output_type": "stream",
     "text": [
      "[2018-02-27 20:12:50.656495]:load_ecg_signal:10:Loading file /Volumes/Seagate Bac/pre_epi_seizures/PATIENT7/FA7773OS_1-1.edf ...\n"
     ]
    },
    {
     "name": "stdout",
     "output_type": "stream",
     "text": [
      "closinnngg\n",
      "CLOSEDDDDD\n",
      "PATIENT7/\n",
      "\n",
      "FA7773OS\n",
      "[u'Fp1', u'Fp2', u'F3', u'F4', u'C3', u'C4', u'P3', u'P4', u'O1', u'O2', u'F7', u'F8', u'T7', u'T8', u'P7', u'P8', u'Fz', u'Cz', u'Pz', u'E', u'A1', u'A2', u'Ecg', u'EogL', u'EogR', u'Emg1', u'Emg2', u'ECG-', u'DC01', u'DC02', u'DC03', u'DC04', u'EEG Mark1', u'EEG Mark2', u'F1', u'F2', u'FC1', u'FC2', u'C1', u'C2', u'CP1', u'CP2', u'P1', u'P2', u'AF3', u'AF4', u'FC3', u'FC4', u'CP3', u'CP4', u'PO3', u'PO4', u'F5', u'F6', u'FC5', u'FC6', u'C5', u'C6', u'CP5', u'CP6', u'P5', u'P6', u'AF7', u'AF8', u'FT7', u'FT8', u'TP7', u'TP8', u'PO7', u'PO8', u'F9', u'F10', u'FT9', u'FT10', u'T9', u'T10', u'TP9', u'TP10', u'P9', u'P10', u'Fpz', u'AFz', u'FCz', u'CPz', u'POz', u'OZ', u'Events/Markers']\n",
      "Ecg\n",
      "ECG-\n",
      "ECG+\n",
      "'ECG+' is not in list\n"
     ]
    },
    {
     "name": "stderr",
     "output_type": "stream",
     "text": [
      "[2018-02-27 20:12:59.468325]:add_signal:20:Saving [signal: FA7773OS_Ecg_2016-07-06 08:13:13.000000][group: PATIENT7/]\n"
     ]
    },
    {
     "name": "stdout",
     "output_type": "stream",
     "text": [
      "['FA7773OS_Ecg_2016-07-06 08:13:13.000000', 'FA7773OS_ECG-_2016-07-06 08:13:13.000000']\n",
      "/Volumes/Seagate Bac/pre_epi_seizures/h5_files/raw_fulldata/HSM_data.h5\n"
     ]
    },
    {
     "name": "stderr",
     "output_type": "stream",
     "text": [
      "[2018-02-27 20:12:59.742347]:add_signal:20:Saving [signal: FA7773OS_ECG-_2016-07-06 08:13:13.000000][group: PATIENT7/]\n"
     ]
    },
    {
     "name": "stdout",
     "output_type": "stream",
     "text": [
      "addd\n",
      "addd\n",
      "closinnngg\n",
      "CLOSEDDDDD"
     ]
    },
    {
     "name": "stderr",
     "output_type": "stream",
     "text": [
      "[2018-02-27 20:13:00.439130]:load_ecg_signal:10:Loading file /Volumes/Seagate Bac/pre_epi_seizures/PATIENT7/FA7773P2_1-1.edf ...\n"
     ]
    },
    {
     "name": "stdout",
     "output_type": "stream",
     "text": [
      "\n",
      "PATIENT7/\n",
      "\n",
      "FA7773P2\n",
      "[u'Fp1', u'Fp2', u'F3', u'F4', u'C3', u'C4', u'P3', u'P4', u'O1', u'O2', u'F7', u'F8', u'T7', u'T8', u'P7', u'P8', u'Fz', u'Cz', u'Pz', u'E', u'A1', u'A2', u'Ecg', u'EogL', u'EogR', u'Emg1', u'Emg2', u'ECG-', u'DC01', u'DC02', u'DC03', u'DC04', u'EEG Mark1', u'EEG Mark2', u'X+', u'X-', u'Y+', u'Y-', u'Z+', u'Z-', u'F1', u'F2', u'FC1', u'FC2', u'C1', u'C2', u'CP1', u'CP2', u'P1', u'P2', u'AF3', u'AF4', u'FC3', u'FC4', u'CP3', u'CP4', u'PO3', u'PO4', u'F5', u'F6', u'FC5', u'FC6', u'C5', u'C6', u'CP5', u'CP6', u'P5', u'P6', u'AF7', u'AF8', u'FT7', u'FT8', u'TP7', u'TP8', u'PO7', u'PO8', u'F9', u'F10', u'FT9', u'FT10', u'T9', u'T10', u'TP9', u'TP10', u'P9', u'P10', u'Fpz', u'AFz', u'FCz', u'CPz', u'POz', u'OZ', u'Events/Markers']\n",
      "Ecg\n",
      "ECG-\n",
      "ECG+\n",
      "'ECG+' is not in list\n"
     ]
    },
    {
     "name": "stderr",
     "output_type": "stream",
     "text": [
      "[2018-02-27 20:13:13.485215]:add_signal:20:Saving [signal: FA7773P2_Ecg_2016-07-06 19:52:13.000000][group: PATIENT7/]\n"
     ]
    },
    {
     "name": "stdout",
     "output_type": "stream",
     "text": [
      "['FA7773P2_Ecg_2016-07-06 19:52:13.000000', 'FA7773P2_ECG-_2016-07-06 19:52:13.000000']\n",
      "/Volumes/Seagate Bac/pre_epi_seizures/h5_files/raw_fulldata/HSM_data.h5\n"
     ]
    },
    {
     "name": "stderr",
     "output_type": "stream",
     "text": [
      "[2018-02-27 20:13:14.068598]:add_signal:20:Saving [signal: FA7773P2_ECG-_2016-07-06 19:52:13.000000][group: PATIENT7/]\n"
     ]
    },
    {
     "name": "stdout",
     "output_type": "stream",
     "text": [
      "addd\n",
      "addd\n",
      "closinnngg\n",
      "CLOSEDDDDD"
     ]
    },
    {
     "name": "stderr",
     "output_type": "stream",
     "text": [
      "[2018-02-27 20:13:14.747998]:load_ecg_signal:10:Loading file /Volumes/Seagate Bac/pre_epi_seizures/PATIENT7/FA7773P3_1-1.edf ...\n"
     ]
    },
    {
     "name": "stdout",
     "output_type": "stream",
     "text": [
      "\n",
      "PATIENT7/\n",
      "\n",
      "FA7773P3\n",
      "[u'Fp1', u'Fp2', u'F3', u'F4', u'C3', u'C4', u'P3', u'P4', u'O1', u'O2', u'F7', u'F8', u'T7', u'T8', u'P7', u'P8', u'Fz', u'Cz', u'Pz', u'E', u'A1', u'A2', u'Ecg', u'EogL', u'EogR', u'Emg1', u'Emg2', u'ECG-', u'DC01', u'DC02', u'DC03', u'DC04', u'EEG Mark1', u'EEG Mark2', u'X+', u'X-', u'Y+', u'Y-', u'Z+', u'Z-', u'F1', u'F2', u'FC1', u'FC2', u'C1', u'C2', u'CP1', u'CP2', u'P1', u'P2', u'AF3', u'AF4', u'FC3', u'FC4', u'CP3', u'CP4', u'PO3', u'PO4', u'F5', u'F6', u'FC5', u'FC6', u'C5', u'C6', u'CP5', u'CP6', u'P5', u'P6', u'AF7', u'AF8', u'FT7', u'FT8', u'TP7', u'TP8', u'PO7', u'PO8', u'F9', u'F10', u'FT9', u'FT10', u'T9', u'T10', u'TP9', u'TP10', u'P9', u'P10', u'Fpz', u'AFz', u'FCz', u'CPz', u'POz', u'OZ', u'Events/Markers']\n",
      "Ecg\n",
      "ECG-\n",
      "ECG+\n",
      "'ECG+' is not in list\n"
     ]
    },
    {
     "name": "stderr",
     "output_type": "stream",
     "text": [
      "[2018-02-27 20:13:27.744565]:add_signal:20:Saving [signal: FA7773P3_Ecg_2016-07-06 21:52:27.000000][group: PATIENT7/]\n"
     ]
    },
    {
     "name": "stdout",
     "output_type": "stream",
     "text": [
      "['FA7773P3_Ecg_2016-07-06 21:52:27.000000', 'FA7773P3_ECG-_2016-07-06 21:52:27.000000']\n",
      "/Volumes/Seagate Bac/pre_epi_seizures/h5_files/raw_fulldata/HSM_data.h5\n",
      "addd"
     ]
    },
    {
     "name": "stderr",
     "output_type": "stream",
     "text": [
      "[2018-02-27 20:13:28.301733]:add_signal:20:Saving [signal: FA7773P3_ECG-_2016-07-06 21:52:27.000000][group: PATIENT7/]\n"
     ]
    },
    {
     "name": "stdout",
     "output_type": "stream",
     "text": [
      "\n",
      "addd\n",
      "closinnngg\n",
      "CLOSEDDDDD\n"
     ]
    }
   ],
   "source": [
    "# Convert patients records from edf to hdf5\n",
    "#converter(patient_nr, disk)"
   ]
  },
  {
   "cell_type": "code",
   "execution_count": 4,
   "metadata": {
    "scrolled": true
   },
   "outputs": [
    {
     "name": "stderr",
     "output_type": "stream",
     "text": [
      "[2018-02-27 20:13:28.988568]:create_seizure_dataset_patient:10:searching all files\n",
      "[2018-02-27 20:13:29.010983]:create_seizure_dataset_patient:10:ReturnTuple(signals=[('PATIENT7', u'FA7773OO_ECG-_2016-07-06 00:12:22.000000'), ('PATIENT7', u'FA7773OO_Ecg_2016-07-06 00:12:22.000000'), ('PATIENT7', u'FA7773OP_ECG-_2016-07-06 02:12:35.000000'), ('PATIENT7', u'FA7773OP_Ecg_2016-07-06 02:12:35.000000'), ('PATIENT7', u'FA7773OQ_ECG-_2016-07-06 04:12:48.000000'), ('PATIENT7', u'FA7773OQ_Ecg_2016-07-06 04:12:48.000000'), ('PATIENT7', u'FA7773OR_ECG-_2016-07-06 06:13:00.000000'), ('PATIENT7', u'FA7773OR_Ecg_2016-07-06 06:13:00.000000'), ('PATIENT7', u'FA7773OS_ECG-_2016-07-06 08:13:13.000000'), ('PATIENT7', u'FA7773OS_Ecg_2016-07-06 08:13:13.000000'), ('PATIENT7', u'FA7773P2_ECG-_2016-07-06 19:52:13.000000'), ('PATIENT7', u'FA7773P2_Ecg_2016-07-06 19:52:13.000000'), ('PATIENT7', u'FA7773P3_ECG-_2016-07-06 21:52:27.000000'), ('PATIENT7', u'FA7773P3_Ecg_2016-07-06 21:52:27.000000')])\n",
      "[2018-02-27 20:13:29.029490]:create_seizure_dataset_patient:10:[(('PATIENT7', u'FA7773P3_ECG-_2016-07-06 21:52:27.000000'), 0), (('PATIENT7', u'FA7773P3_Ecg_2016-07-06 21:52:27.000000'), 0), (('PATIENT7', u'FA7773P3_ECG-_2016-07-06 21:52:27.000000'), 1), (('PATIENT7', u'FA7773P3_Ecg_2016-07-06 21:52:27.000000'), 1), (('PATIENT7', u'FA7773P3_ECG-_2016-07-06 21:52:27.000000'), 2), (('PATIENT7', u'FA7773P3_Ecg_2016-07-06 21:52:27.000000'), 2), (('PATIENT7', u'FA7773P3_ECG-_2016-07-06 21:52:27.000000'), 3), (('PATIENT7', u'FA7773P3_Ecg_2016-07-06 21:52:27.000000'), 3), (('PATIENT7', u'FA7773P3_ECG-_2016-07-06 21:52:27.000000'), 4), (('PATIENT7', u'FA7773P3_Ecg_2016-07-06 21:52:27.000000'), 4), (('PATIENT7', u'FA7773P3_ECG-_2016-07-06 21:52:27.000000'), 5), (('PATIENT7', u'FA7773P3_Ecg_2016-07-06 21:52:27.000000'), 5), (('PATIENT7', u'FA7773P3_ECG-_2016-07-06 21:52:27.000000'), 6), (('PATIENT7', u'FA7773P3_Ecg_2016-07-06 21:52:27.000000'), 6), (('PATIENT7', u'FA7773P3_ECG-_2016-07-06 21:52:27.000000'), 7), (('PATIENT7', u'FA7773P3_Ecg_2016-07-06 21:52:27.000000'), 7)]\n",
      "[2018-02-27 20:13:29.031151]:get_signal:20:Loading [signal: FA7773P3_ECG-_2016-07-06 21:52:27.000000][group: PATIENT7]\n",
      "[2018-02-27 20:13:29.221934]:get_signal:20:Loading [signal: FA7773P3_Ecg_2016-07-06 21:52:27.000000][group: PATIENT7]\n"
     ]
    },
    {
     "name": "stdout",
     "output_type": "stream",
     "text": [
      "[(('PATIENT7', u'FA7773P3_ECG-_2016-07-06 21:52:27.000000'), 0), (('PATIENT7', u'FA7773P3_Ecg_2016-07-06 21:52:27.000000'), 0), (('PATIENT7', u'FA7773P3_ECG-_2016-07-06 21:52:27.000000'), 1), (('PATIENT7', u'FA7773P3_Ecg_2016-07-06 21:52:27.000000'), 1), (('PATIENT7', u'FA7773P3_ECG-_2016-07-06 21:52:27.000000'), 2), (('PATIENT7', u'FA7773P3_Ecg_2016-07-06 21:52:27.000000'), 2), (('PATIENT7', u'FA7773P3_ECG-_2016-07-06 21:52:27.000000'), 3), (('PATIENT7', u'FA7773P3_Ecg_2016-07-06 21:52:27.000000'), 3), (('PATIENT7', u'FA7773P3_ECG-_2016-07-06 21:52:27.000000'), 4), (('PATIENT7', u'FA7773P3_Ecg_2016-07-06 21:52:27.000000'), 4), (('PATIENT7', u'FA7773P3_ECG-_2016-07-06 21:52:27.000000'), 5), (('PATIENT7', u'FA7773P3_Ecg_2016-07-06 21:52:27.000000'), 5), (('PATIENT7', u'FA7773P3_ECG-_2016-07-06 21:52:27.000000'), 6), (('PATIENT7', u'FA7773P3_Ecg_2016-07-06 21:52:27.000000'), 6), (('PATIENT7', u'FA7773P3_ECG-_2016-07-06 21:52:27.000000'), 7), (('PATIENT7', u'FA7773P3_Ecg_2016-07-06 21:52:27.000000'), 7)]\n",
      "closed\n",
      "ReturnTuple(signal=array([[ -59.86344991],\n",
      "       [ -51.07438788],\n",
      "       [ -87.40251093],\n",
      "       ..., \n",
      "       [-100.68376022],\n",
      "       [ -95.60563549],\n",
      "       [ -83.30094865]]), mdata=u'')\n",
      "[ -59.86344991  -51.07438788  -87.40251093 ..., -100.68376022  -95.60563549\n",
      "  -83.30094865]\n",
      "0\n",
      "{'ictal_on_time': [datetime.time(4, 20, 52), datetime.time(14, 38, 6), datetime.time(3, 41, 52), datetime.time(5, 58, 29), datetime.time(7, 57, 13), datetime.time(9, 3, 10), datetime.time(10, 47, 24), datetime.time(12, 16, 26)], 'post_ictal_time': [None, None, None, None, None, None, None, None], 'dates_of_seizure': [datetime.date(2016, 8, 23), datetime.date(2016, 8, 24), datetime.date(2016, 8, 25), datetime.date(2016, 8, 25), datetime.date(2016, 8, 25), datetime.date(2016, 8, 25), datetime.date(2016, 8, 25), datetime.date(2016, 8, 28)], 'age': 55, 'ictal_clinical_on_time': [datetime.time(4, 20, 47), datetime.time(14, 38, 6), datetime.time(3, 41, 57), datetime.time(5, 59, 16), datetime.time(7, 57, 13), datetime.time(9, 3, 10), datetime.time(10, 47, 24), datetime.time(12, 16, 26)], 'location_of_seizure': ['FTR', 'FTLR', 'FTLR', 'FTLR', 'FTLR', 'FTLR', 'FTLR', 'FTLR'], 'types_of_seizure': ['FS', 'FS', 'FS', 'FS', 'GS', 'FS', 'FS', 'FS', 'FS'], 'sex': 'm'}\n",
      "2016-08-23 04:20:52\n",
      "2016-07-06 21:52:27\n",
      "2016-08-23 04:20:52\n",
      "4084105.0\n",
      "4084105000\n",
      "('PATIENT7', u'FA7773P3_Ecg_2016-07-06 21:52:27.000000')\n"
     ]
    },
    {
     "name": "stderr",
     "output_type": "stream",
     "text": [
      "[2018-02-27 20:13:29.486187]:get_record_dataset_seizure_file:10:(1, 0)\n",
      "[2018-02-27 20:13:29.492384]:get_signal:20:Loading [signal: FA7773P3_Ecg_2016-07-06 21:52:27.000000][group: PATIENT7]\n"
     ]
    },
    {
     "name": "stdout",
     "output_type": "stream",
     "text": [
      "closed\n",
      "0\n",
      "closed\n",
      "ReturnTuple(signal=array([[-21.77751446],\n",
      "       [-14.25798361],\n",
      "       [-50.68376291],\n",
      "       ..., \n",
      "       [-47.16813809],\n",
      "       [-41.40641965],\n",
      "       [-36.91423239]]), mdata=u'')\n",
      "[-21.77751446 -14.25798361 -50.68376291 ..., -47.16813809 -41.40641965\n",
      " -36.91423239]\n",
      "0\n",
      "{'ictal_on_time': [datetime.time(4, 20, 52), datetime.time(14, 38, 6), datetime.time(3, 41, 52), datetime.time(5, 58, 29), datetime.time(7, 57, 13), datetime.time(9, 3, 10), datetime.time(10, 47, 24), datetime.time(12, 16, 26)], 'post_ictal_time': [None, None, None, None, None, None, None, None], 'dates_of_seizure': [datetime.date(2016, 8, 23), datetime.date(2016, 8, 24), datetime.date(2016, 8, 25), datetime.date(2016, 8, 25), datetime.date(2016, 8, 25), datetime.date(2016, 8, 25), datetime.date(2016, 8, 25), datetime.date(2016, 8, 28)], 'age': 55, 'ictal_clinical_on_time': [datetime.time(4, 20, 47), datetime.time(14, 38, 6), datetime.time(3, 41, 57), datetime.time(5, 59, 16), datetime.time(7, 57, 13), datetime.time(9, 3, 10), datetime.time(10, 47, 24), datetime.time(12, 16, 26)], 'location_of_seizure': ['FTR', 'FTLR', 'FTLR', 'FTLR', 'FTLR', 'FTLR', 'FTLR', 'FTLR'], 'types_of_seizure': ['FS', 'FS', 'FS', 'FS', 'GS', 'FS', 'FS', 'FS', 'FS'], 'sex': 'm'}\n",
      "2016-08-23 04:20:52\n",
      "2016-07-06 21:52:27\n",
      "2016-08-23 04:20:52\n",
      "4084105.0\n",
      "4084105000\n"
     ]
    },
    {
     "ename": "IndexError",
     "evalue": "list index out of range",
     "output_type": "error",
     "traceback": [
      "\u001b[0;31m---------------------------------------------------------------------------\u001b[0m",
      "\u001b[0;31mIndexError\u001b[0m                                Traceback (most recent call last)",
      "\u001b[0;32m<ipython-input-4-b5e6ee611d7a>\u001b[0m in \u001b[0;36m<module>\u001b[0;34m()\u001b[0m\n\u001b[1;32m      2\u001b[0m \u001b[0;31m#patient_nr = [3, 5]\u001b[0m\u001b[0;34m\u001b[0m\u001b[0;34m\u001b[0m\u001b[0m\n\u001b[1;32m      3\u001b[0m \u001b[0;32mfor\u001b[0m \u001b[0mi\u001b[0m \u001b[0;32min\u001b[0m \u001b[0mpatient_nr\u001b[0m\u001b[0;34m:\u001b[0m\u001b[0;34m\u001b[0m\u001b[0m\n\u001b[0;32m----> 4\u001b[0;31m     \u001b[0mcreate_datasets_nk\u001b[0m\u001b[0;34m(\u001b[0m\u001b[0mi\u001b[0m\u001b[0;34m)\u001b[0m\u001b[0;34m\u001b[0m\u001b[0m\n\u001b[0m\u001b[1;32m      5\u001b[0m     \u001b[0mcreate_free_datasets_nk\u001b[0m\u001b[0;34m(\u001b[0m\u001b[0mi\u001b[0m\u001b[0;34m)\u001b[0m\u001b[0;34m\u001b[0m\u001b[0m\n",
      "\u001b[0;32m/Users/franciscosargo/Desktop/pre_epi_seizures/pre_epi_seizures/storage_utils/create_datasets_nk.pyc\u001b[0m in \u001b[0;36mcreate_datasets_nk\u001b[0;34m(patient_nr)\u001b[0m\n\u001b[1;32m    386\u001b[0m                                      \u001b[0mtime_before_seizure\u001b[0m\u001b[0;34m,\u001b[0m\u001b[0;34m\u001b[0m\u001b[0m\n\u001b[1;32m    387\u001b[0m                                      \u001b[0mtime_after_seizure\u001b[0m\u001b[0;34m,\u001b[0m\u001b[0;34m\u001b[0m\u001b[0m\n\u001b[0;32m--> 388\u001b[0;31m                                      patient_nr)\n\u001b[0m",
      "\u001b[0;32m/Users/franciscosargo/Desktop/pre_epi_seizures/pre_epi_seizures/storage_utils/create_datasets_nk.pyc\u001b[0m in \u001b[0;36mcreate_seizure_dataset\u001b[0;34m(path_to_load, path_to_save, path_to_map, time_before_seizure, time_after_seizure, *args)\u001b[0m\n\u001b[1;32m    348\u001b[0m                                         \u001b[0mtime_after_seizure\u001b[0m\u001b[0;34m,\u001b[0m\u001b[0;34m\u001b[0m\u001b[0m\n\u001b[1;32m    349\u001b[0m                                         arg)\n\u001b[0;32m--> 350\u001b[0;31m          for arg in args]\n\u001b[0m\u001b[1;32m    351\u001b[0m     \u001b[0m_logger\u001b[0m\u001b[0;34m.\u001b[0m\u001b[0mdebug\u001b[0m\u001b[0;34m(\u001b[0m\u001b[0;34m'Befor_saving'\u001b[0m\u001b[0;34m)\u001b[0m\u001b[0;34m\u001b[0m\u001b[0m\n\u001b[1;32m    352\u001b[0m \u001b[0;34m\u001b[0m\u001b[0m\n",
      "\u001b[0;32m/Users/franciscosargo/Desktop/pre_epi_seizures/pre_epi_seizures/storage_utils/create_datasets_nk.pyc\u001b[0m in \u001b[0;36mcreate_seizure_dataset_patient\u001b[0;34m(path_to_load, path_to_save, path_to_map, time_before_seizure, time_after_seizure, patient_number)\u001b[0m\n\u001b[1;32m    301\u001b[0m             \u001b[0mpatient_dict\u001b[0m\u001b[0;34m=\u001b[0m\u001b[0mpatients\u001b[0m\u001b[0;34m,\u001b[0m\u001b[0;34m\u001b[0m\u001b[0m\n\u001b[1;32m    302\u001b[0m             nr_leads=nr_leads)\n\u001b[0;32m--> 303\u001b[0;31m             for group_name in group_name_seizure_list]\n\u001b[0m\u001b[1;32m    304\u001b[0m \u001b[0;34m\u001b[0m\u001b[0m\n\u001b[1;32m    305\u001b[0m     \u001b[0;31m# dataset_list = [val for sublist in dataset_list for val in sublist]\u001b[0m\u001b[0;34m\u001b[0m\u001b[0;34m\u001b[0m\u001b[0m\n",
      "\u001b[0;32m/Users/franciscosargo/Desktop/pre_epi_seizures/pre_epi_seizures/storage_utils/create_datasets_nk.pyc\u001b[0m in \u001b[0;36mget_record_dataset_seizure_file\u001b[0;34m(path_to_load, time_before_seizure, time_after_seizure, group_name_all_list, group_name_file_seizure, patient_dict, nr_leads)\u001b[0m\n\u001b[1;32m    230\u001b[0m                 \u001b[0mgroup_name_seizure\u001b[0m\u001b[0;34m=\u001b[0m\u001b[0mgroup_name_file_seizure\u001b[0m\u001b[0;34m,\u001b[0m\u001b[0;34m\u001b[0m\u001b[0m\n\u001b[1;32m    231\u001b[0m                 \u001b[0mtotal_record\u001b[0m\u001b[0;34m=\u001b[0m\u001b[0mtotal_record\u001b[0m\u001b[0;34m,\u001b[0m\u001b[0;34m\u001b[0m\u001b[0m\n\u001b[0;32m--> 232\u001b[0;31m                 nr_leads=nr_leads)]\n\u001b[0m\u001b[1;32m    233\u001b[0m \u001b[0;34m\u001b[0m\u001b[0m\n\u001b[1;32m    234\u001b[0m     \u001b[0;31m# dataset_seizures_file = [\u001b[0m\u001b[0;34m\u001b[0m\u001b[0;34m\u001b[0m\u001b[0m\n",
      "\u001b[0;32m/Users/franciscosargo/Desktop/pre_epi_seizures/pre_epi_seizures/storage_utils/create_datasets_nk.pyc\u001b[0m in \u001b[0;36mget_record_dataset_seizure\u001b[0;34m(path_to_load, samples_before_seizure, samples_after_seizure, sample_seizure, group_name_all_list, group_name_seizure, total_record, nr_leads)\u001b[0m\n\u001b[1;32m    160\u001b[0m     \u001b[0;32mif\u001b[0m \u001b[0mdiff_after_seizure\u001b[0m \u001b[0;34m>\u001b[0m \u001b[0msamples_record\u001b[0m\u001b[0;34m:\u001b[0m\u001b[0;34m\u001b[0m\u001b[0m\n\u001b[1;32m    161\u001b[0m         group_name_next_file = group_name_all_list[\n\u001b[0;32m--> 162\u001b[0;31m             group_name_all_list.index(group_name_seizure) + 1]\n\u001b[0m\u001b[1;32m    163\u001b[0m \u001b[0;34m\u001b[0m\u001b[0m\n\u001b[1;32m    164\u001b[0m         \u001b[0;32mprint\u001b[0m \u001b[0mgroup_name_next_file\u001b[0m\u001b[0;34m\u001b[0m\u001b[0m\n",
      "\u001b[0;31mIndexError\u001b[0m: list index out of range"
     ]
    }
   ],
   "source": [
    "# Create new datasets\n",
    "#patient_nr = [3, 5]\n",
    "for i in patient_nr:\n",
    "    create_datasets_nk(i)\n",
    "    create_free_datasets_nk(i)"
   ]
  },
  {
   "cell_type": "code",
   "execution_count": null,
   "metadata": {
    "collapsed": true,
    "scrolled": true
   },
   "outputs": [],
   "source": [
    "from Preprocessing.pre_processing import *\n",
    "main()"
   ]
  },
  {
   "cell_type": "code",
   "execution_count": null,
   "metadata": {
    "collapsed": true,
    "scrolled": true
   },
   "outputs": [],
   "source": [
    "#from storage_utils.create_datasets_nk import *"
   ]
  }
 ],
 "metadata": {
  "kernelspec": {
   "display_name": "Python 2",
   "language": "python",
   "name": "python2"
  },
  "language_info": {
   "codemirror_mode": {
    "name": "ipython",
    "version": 2
   },
   "file_extension": ".py",
   "mimetype": "text/x-python",
   "name": "python",
   "nbconvert_exporter": "python",
   "pygments_lexer": "ipython2",
   "version": "2.7.10"
  }
 },
 "nbformat": 4,
 "nbformat_minor": 2
}
