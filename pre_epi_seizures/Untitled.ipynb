{
 "cells": [
  {
   "cell_type": "code",
   "execution_count": 1,
   "metadata": {
    "collapsed": true,
    "scrolled": false
   },
   "outputs": [],
   "source": [
    "# Import for I/O \n",
    "from storage_utils.storage_utils_nihon_khoden import *\n",
    "from storage_utils.create_datasets_nk import *\n",
    "from storage_utils.create_free_datasets_nk import *"
   ]
  },
  {
   "cell_type": "code",
   "execution_count": 2,
   "metadata": {
    "collapsed": true
   },
   "outputs": [],
   "source": [
    "patient_nr = [8, 9]"
   ]
  },
  {
   "cell_type": "code",
   "execution_count": 3,
   "metadata": {},
   "outputs": [
    {
     "name": "stderr",
     "output_type": "stream",
     "text": [
      "[2018-01-21 23:13:27.770836]:load_ecg_signal:10:Loading file /Volumes/ASSD/pre_epi_seizures/PATIENT8/FA7773JL_1-1.edf ...\n"
     ]
    },
    {
     "name": "stdout",
     "output_type": "stream",
     "text": [
      "['/Volumes/ASSD/pre_epi_seizures/PATIENT8/', '/Volumes/ASSD/pre_epi_seizures/PATIENT9/']\n",
      "\n",
      "['/Volumes/ASSD/pre_epi_seizures/PATIENT8/FA7773JL_1-1.edf', '/Volumes/ASSD/pre_epi_seizures/PATIENT8/FA7773JL_1-1+.edf', '/Volumes/ASSD/pre_epi_seizures/PATIENT8/FA7773JM_1-1.edf', '/Volumes/ASSD/pre_epi_seizures/PATIENT8/FA7773JM_1-1+.edf', '/Volumes/ASSD/pre_epi_seizures/PATIENT8/FA7773JN_1-1.edf', '/Volumes/ASSD/pre_epi_seizures/PATIENT8/FA7773JN_1-1+.edf', '/Volumes/ASSD/pre_epi_seizures/PATIENT8/FA7773JO_1-1.edf', '/Volumes/ASSD/pre_epi_seizures/PATIENT8/FA7773JO_1-1+.edf', '/Volumes/ASSD/pre_epi_seizures/PATIENT8/FA7773JP_1-1.edf', '/Volumes/ASSD/pre_epi_seizures/PATIENT8/FA7773JP_1-1+.edf', '/Volumes/ASSD/pre_epi_seizures/PATIENT8/FA7773JR_1-1.edf', '/Volumes/ASSD/pre_epi_seizures/PATIENT8/FA7773JR_1-1+.edf', '/Volumes/ASSD/pre_epi_seizures/PATIENT8/FA7773JS_1-1.edf', '/Volumes/ASSD/pre_epi_seizures/PATIENT8/FA7773JT_1-1.edf', '/Volumes/ASSD/pre_epi_seizures/PATIENT8/FA7773JW_1-1.edf', '/Volumes/ASSD/pre_epi_seizures/PATIENT8/FA7773KO_1-1.edf', '/Volumes/ASSD/pre_epi_seizures/PATIENT8/FA7773KP_1-1.edf', '/Volumes/ASSD/pre_epi_seizures/PATIENT8/FA7773KQ_1-1.edf', '/Volumes/ASSD/pre_epi_seizures/PATIENT8/FA7773KR_1-1.edf', '/Volumes/ASSD/pre_epi_seizures/PATIENT8/FA7773KS_1-1.edf', '/Volumes/ASSD/pre_epi_seizures/PATIENT8/FA7773KT_1-1.edf', '/Volumes/ASSD/pre_epi_seizures/PATIENT8/FA7773KU_1-1.edf', '/Volumes/ASSD/pre_epi_seizures/PATIENT8/FA7773KV_1-1.edf', '/Volumes/ASSD/pre_epi_seizures/PATIENT8/FA7773KX_1-1.edf', '/Volumes/ASSD/pre_epi_seizures/PATIENT8/FA7773KY_1-1.edf', '/Volumes/ASSD/pre_epi_seizures/PATIENT8/FA7773KZ_1-1.edf', '/Volumes/ASSD/pre_epi_seizures/PATIENT8/FA7773L0_1-1.edf', '/Volumes/ASSD/pre_epi_seizures/PATIENT8/FA7773L1_1-1.edf', '/Volumes/ASSD/pre_epi_seizures/PATIENT8/FA7773L4_1-1.edf', '/Volumes/ASSD/pre_epi_seizures/PATIENT8/FA7773L5_1-1.edf', '/Volumes/ASSD/pre_epi_seizures/PATIENT8/FA7773L6_1-1.edf', '/Volumes/ASSD/pre_epi_seizures/PATIENT8/FA7773L7_1-1.edf', '/Volumes/ASSD/pre_epi_seizures/PATIENT8/FA7773LA_1-1.edf', '/Volumes/ASSD/pre_epi_seizures/PATIENT8/FA7773LB_1-1.edf', '/Volumes/ASSD/pre_epi_seizures/PATIENT8/FA7773LC_1-1.edf', '/Volumes/ASSD/pre_epi_seizures/PATIENT8/FA7773LD_1-1.edf', '/Volumes/ASSD/pre_epi_seizures/PATIENT8/FA7773LE_1-1.edf']\n",
      "PATIENT8/\n",
      "\n",
      "FA7773JL\n"
     ]
    },
    {
     "name": "stderr",
     "output_type": "stream",
     "text": [
      "[2018-01-21 23:13:36.518972]:add_signal:20:Saving [signal: FA7773JL_Ecg_2016-05-09 15:04:43.000000][group: PATIENT8/]\n",
      "[2018-01-21 23:13:36.640615]:add_signal:20:Saving [signal: FA7773JL_ECG-_2016-05-09 15:04:43.000000][group: PATIENT8/]\n"
     ]
    },
    {
     "name": "stdout",
     "output_type": "stream",
     "text": [
      "[u'Fp1', u'Fp2', u'F3', u'F4', u'C3', u'C4', u'P3', u'P4', u'O1', u'O2', u'F7', u'F8', u'T7', u'T8', u'P7', u'P8', u'Fz', u'Cz', u'Pz', u'E', u'A1', u'A2', u'Ecg', u'EogL', u'EogR', u'Emg1', u'Emg2', u'ECG-', u'DC01', u'DC02', u'DC03', u'DC04', u'EEG Mark1', u'EEG Mark2', u'X+', u'X-', u'Y+', u'Y-', u'Z+', u'Z-', u'F1', u'F2', u'FC1', u'FC2', u'C1', u'C2', u'CP1', u'CP2', u'P1', u'P2', u'AF3', u'AF4', u'FC3', u'FC4', u'CP3', u'CP4', u'PO3', u'PO4', u'F5', u'F6', u'FC5', u'FC6', u'C5', u'C6', u'CP5', u'CP6', u'P5', u'P6', u'AF7', u'AF8', u'FT7', u'FT8', u'TP7', u'TP8', u'PO7', u'PO8', u'F9', u'F10', u'FT9', u'FT10', u'T9', u'T10', u'TP9', u'TP10', u'P9', u'P10', u'Nz', u'Fpz', u'AFz', u'FCz', u'CPz', u'POz', u'OZ', u'Events/Markers']\n",
      "Ecg\n",
      "ECG-\n",
      "ECG+\n",
      "'ECG+' is not in list\n",
      "['FA7773JL_Ecg_2016-05-09 15:04:43.000000', 'FA7773JL_ECG-_2016-05-09 15:04:43.000000']\n",
      "/Volumes/ASSD/pre_epi_seizures/h5_files/raw_fulldata/HSM_data.h5\n",
      "addd\n",
      "addd\n"
     ]
    },
    {
     "name": "stderr",
     "output_type": "stream",
     "text": [
      "[2018-01-21 23:13:46.530860]:load_ecg_signal:10:Loading file /Volumes/ASSD/pre_epi_seizures/PATIENT8/FA7773JL_1-1+.edf ...\n"
     ]
    },
    {
     "name": "stdout",
     "output_type": "stream",
     "text": [
      "closinnngg\n",
      "CLOSEDDDDD\n",
      "PATIENT8/\n",
      "\n",
      "FA7773JL\n",
      "[u'Fp1', u'Fp2', u'F3', u'F4', u'C3', u'C4', u'P3', u'P4', u'O1', u'O2', u'F7', u'F8', u'T7', u'T8', u'P7', u'P8', u'Fz', u'Cz', u'Pz', u'E', u'A1', u'A2', u'Ecg', u'EogL', u'EogR', u'Emg1', u'Emg2', u'ECG-', u'DC01', u'DC02', u'DC03', u'DC04', u'EEG Mark1', u'EEG Mark2', u'X+', u'X-', u'Y+', u'Y-', u'Z+', u'Z-', u'F1', u'F2', u'FC1', u'FC2', u'C1', u'C2', u'CP1', u'CP2', u'P1', u'P2', u'AF3', u'AF4', u'FC3', u'FC4', u'CP3', u'CP4', u'PO3', u'PO4', u'F5', u'F6', u'FC5', u'FC6', u'C5', u'C6', u'CP5', u'CP6', u'P5', u'P6', u'AF7', u'AF8', u'FT7', u'FT8', u'TP7', u'TP8', u'PO7', u'PO8', u'F9', u'F10', u'FT9', u'FT10', u'T9', u'T10', u'TP9', u'TP10', u'P9', u'P10', u'Nz', u'Fpz', u'AFz', u'FCz', u'CPz', u'POz', u'OZ', u'Events/Markers']\n",
      "Ecg\n",
      "ECG-\n",
      "ECG+\n",
      "'ECG+' is not in list\n"
     ]
    },
    {
     "name": "stderr",
     "output_type": "stream",
     "text": [
      "[2018-01-21 23:13:48.094964]:add_signal:20:Saving [signal: FA7773JL_Ecg_2016-05-09 15:04:43.000000][group: PATIENT8/]\n"
     ]
    },
    {
     "name": "stdout",
     "output_type": "stream",
     "text": [
      "['FA7773JL_Ecg_2016-05-09 15:04:43.000000', 'FA7773JL_ECG-_2016-05-09 15:04:43.000000']\n",
      "/Volumes/ASSD/pre_epi_seizures/h5_files/raw_fulldata/HSM_data.h5\n"
     ]
    },
    {
     "name": "stderr",
     "output_type": "stream",
     "text": [
      "[2018-01-21 23:13:48.849710]:add_signal:10:Unable to create link (Name already exists)\n",
      "[2018-01-21 23:13:48.851203]:add_signal:20:Saving [signal: FA7773JL_ECG-_2016-05-09 15:04:43.000000][group: PATIENT8/]\n",
      "[2018-01-21 23:13:48.971164]:add_signal:10:Unable to create link (Name already exists)\n",
      "[2018-01-21 23:13:49.087291]:load_ecg_signal:10:Loading file /Volumes/ASSD/pre_epi_seizures/PATIENT8/FA7773JM_1-1.edf ...\n"
     ]
    },
    {
     "name": "stdout",
     "output_type": "stream",
     "text": [
      "addd\n",
      "addd\n",
      "closinnngg\n",
      "CLOSEDDDDD\n",
      "PATIENT8/\n",
      "\n",
      "FA7773JM\n",
      "[u'Fp1', u'Fp2', u'F3', u'F4', u'C3', u'C4', u'P3', u'P4', u'O1', u'O2', u'F7', u'F8', u'T7', u'T8', u'P7', u'P8', u'Fz', u'Cz', u'Pz', u'E', u'A1', u'A2', u'Ecg', u'EogL', u'EogR', u'Emg1', u'Emg2', u'ECG-', u'DC01', u'DC02', u'DC03', u'DC04', u'EEG Mark1', u'EEG Mark2', u'X+', u'X-', u'Y+', u'Y-', u'Z+', u'Z-', u'F1', u'F2', u'FC1', u'FC2', u'C1', u'C2', u'CP1', u'CP2', u'P1', u'P2', u'AF3', u'AF4', u'FC3', u'FC4', u'CP3', u'CP4', u'PO3', u'PO4', u'F5', u'F6', u'FC5', u'FC6', u'C5', u'C6', u'CP5', u'CP6', u'P5', u'P6', u'AF7', u'AF8', u'FT7', u'FT8', u'TP7', u'TP8', u'PO7', u'PO8', u'F9', u'F10', u'FT9', u'FT10', u'T9', u'T10', u'TP9', u'TP10', u'P9', u'P10', u'Nz', u'Fpz', u'AFz', u'FCz', u'CPz', u'POz', u'OZ', u'Events/Markers']\n",
      "Ecg\n",
      "ECG-\n",
      "ECG+\n",
      "'ECG+' is not in list\n"
     ]
    },
    {
     "name": "stderr",
     "output_type": "stream",
     "text": [
      "[2018-01-21 23:13:57.681977]:add_signal:20:Saving [signal: FA7773JM_Ecg_2016-05-09 17:04:57.000000][group: PATIENT8/]\n"
     ]
    },
    {
     "name": "stdout",
     "output_type": "stream",
     "text": [
      "['FA7773JM_Ecg_2016-05-09 17:04:57.000000', 'FA7773JM_ECG-_2016-05-09 17:04:57.000000']\n",
      "/Volumes/ASSD/pre_epi_seizures/h5_files/raw_fulldata/HSM_data.h5\n",
      "addd\n"
     ]
    },
    {
     "name": "stderr",
     "output_type": "stream",
     "text": [
      "[2018-01-21 23:13:58.054009]:add_signal:20:Saving [signal: FA7773JM_ECG-_2016-05-09 17:04:57.000000][group: PATIENT8/]\n"
     ]
    },
    {
     "name": "stdout",
     "output_type": "stream",
     "text": [
      "addd\n",
      "closinnngg\n",
      "CLOSEDDDDD\n",
      "PATIENT8/"
     ]
    },
    {
     "name": "stderr",
     "output_type": "stream",
     "text": [
      "[2018-01-21 23:14:04.268711]:load_ecg_signal:10:Loading file /Volumes/ASSD/pre_epi_seizures/PATIENT8/FA7773JM_1-1+.edf ...\n"
     ]
    },
    {
     "name": "stdout",
     "output_type": "stream",
     "text": [
      "\n",
      "\n",
      "FA7773JM\n",
      "[u'Fp1', u'Fp2', u'F3', u'F4', u'C3', u'C4', u'P3', u'P4', u'O1', u'O2', u'F7', u'F8', u'T7', u'T8', u'P7', u'P8', u'Fz', u'Cz', u'Pz', u'E', u'A1', u'A2', u'Ecg', u'EogL', u'EogR', u'Emg1', u'Emg2', u'ECG-', u'DC01', u'DC02', u'DC03', u'DC04', u'EEG Mark1', u'EEG Mark2', u'X+', u'X-', u'Y+', u'Y-', u'Z+', u'Z-', u'F1', u'F2', u'FC1', u'FC2', u'C1', u'C2', u'CP1', u'CP2', u'P1', u'P2', u'AF3', u'AF4', u'FC3', u'FC4', u'CP3', u'CP4', u'PO3', u'PO4', u'F5', u'F6', u'FC5', u'FC6', u'C5', u'C6', u'CP5', u'CP6', u'P5', u'P6', u'AF7', u'AF8', u'FT7', u'FT8', u'TP7', u'TP8', u'PO7', u'PO8', u'F9', u'F10', u'FT9', u'FT10', u'T9', u'T10', u'TP9', u'TP10', u'P9', u'P10', u'Nz', u'Fpz', u'AFz', u'FCz', u'CPz', u'POz', u'OZ', u'Events/Markers']\n",
      "'ascii' codec can't decode byte 0xc3 in position 2: ordinal not in range(128)\n",
      "Ecg\n",
      "ECG-\n",
      "ECG+\n",
      "'ECG+' is not in list\n"
     ]
    },
    {
     "name": "stderr",
     "output_type": "stream",
     "text": [
      "[2018-01-21 23:14:05.778804]:add_signal:20:Saving [signal: FA7773JM_Ecg_2016-05-09 17:04:57.000000][group: PATIENT8/]\n"
     ]
    },
    {
     "name": "stdout",
     "output_type": "stream",
     "text": [
      "['FA7773JM_Ecg_2016-05-09 17:04:57.000000', 'FA7773JM_ECG-_2016-05-09 17:04:57.000000']\n",
      "/Volumes/ASSD/pre_epi_seizures/h5_files/raw_fulldata/HSM_data.h5\n",
      "addd\n"
     ]
    },
    {
     "name": "stderr",
     "output_type": "stream",
     "text": [
      "[2018-01-21 23:14:06.413778]:add_signal:10:Unable to create link (Name already exists)\n",
      "[2018-01-21 23:14:06.415107]:add_signal:20:Saving [signal: FA7773JM_ECG-_2016-05-09 17:04:57.000000][group: PATIENT8/]\n",
      "[2018-01-21 23:14:06.548367]:add_signal:10:Unable to create link (Name already exists)\n",
      "[2018-01-21 23:14:06.652130]:load_ecg_signal:10:Loading file /Volumes/ASSD/pre_epi_seizures/PATIENT8/FA7773JN_1-1.edf ...\n"
     ]
    },
    {
     "name": "stdout",
     "output_type": "stream",
     "text": [
      "addd\n",
      "closinnngg\n",
      "CLOSEDDDDD\n",
      "PATIENT8/\n",
      "\n",
      "FA7773JN\n",
      "[u'Fp1', u'Fp2', u'F3', u'F4', u'C3', u'C4', u'P3', u'P4', u'O1', u'O2', u'F7', u'F8', u'T7', u'T8', u'P7', u'P8', u'Fz', u'Cz', u'Pz', u'E', u'A1', u'A2', u'Ecg', u'EogL', u'EogR', u'Emg1', u'Emg2', u'ECG-', u'DC01', u'DC02', u'DC03', u'DC04', u'EEG Mark1', u'EEG Mark2', u'X+', u'X-', u'Y+', u'Y-', u'Z+', u'Z-', u'F1', u'F2', u'FC1', u'FC2', u'C1', u'C2', u'CP1', u'CP2', u'P1', u'P2', u'AF3', u'AF4', u'FC3', u'FC4', u'CP3', u'CP4', u'PO3', u'PO4', u'F5', u'F6', u'FC5', u'FC6', u'C5', u'C6', u'CP5', u'CP6', u'P5', u'P6', u'AF7', u'AF8', u'FT7', u'FT8', u'TP7', u'TP8', u'PO7', u'PO8', u'F9', u'F10', u'FT9', u'FT10', u'T9', u'T10', u'TP9', u'TP10', u'P9', u'P10', u'Nz', u'Fpz', u'AFz', u'FCz', u'CPz', u'POz', u'OZ', u'Events/Markers']\n",
      "Ecg\n",
      "ECG-\n",
      "ECG+\n",
      "'ECG+' is not in list\n"
     ]
    },
    {
     "name": "stderr",
     "output_type": "stream",
     "text": [
      "[2018-01-21 23:14:12.394204]:add_signal:20:Saving [signal: FA7773JN_Ecg_2016-05-09 19:05:09.000000][group: PATIENT8/]\n",
      "[2018-01-21 23:14:12.511571]:add_signal:20:Saving [signal: FA7773JN_ECG-_2016-05-09 19:05:09.000000][group: PATIENT8/]\n"
     ]
    },
    {
     "name": "stdout",
     "output_type": "stream",
     "text": [
      "['FA7773JN_Ecg_2016-05-09 19:05:09.000000', 'FA7773JN_ECG-_2016-05-09 19:05:09.000000']\n",
      "/Volumes/ASSD/pre_epi_seizures/h5_files/raw_fulldata/HSM_data.h5\n",
      "addd\n",
      "addd\n",
      "closinnngg\n"
     ]
    },
    {
     "name": "stderr",
     "output_type": "stream",
     "text": [
      "[2018-01-21 23:14:16.999470]:load_ecg_signal:10:Loading file /Volumes/ASSD/pre_epi_seizures/PATIENT8/FA7773JN_1-1+.edf ...\n"
     ]
    },
    {
     "name": "stdout",
     "output_type": "stream",
     "text": [
      "CLOSEDDDDD\n",
      "PATIENT8/\n",
      "\n",
      "FA7773JN\n",
      "[u'Fp1', u'Fp2', u'F3', u'F4', u'C3', u'C4', u'P3', u'P4', u'O1', u'O2', u'F7', u'F8', u'T7', u'T8', u'P7', u'P8', u'Fz', u'Cz', u'Pz', u'E', u'A1', u'A2', u'Ecg', u'EogL', u'EogR', u'Emg1', u'Emg2', u'ECG-', u'DC01', u'DC02', u'DC03', u'DC04', u'EEG Mark1', u'EEG Mark2', u'X+', u'X-', u'Y+', u'Y-', u'Z+', u'Z-', u'F1', u'F2', u'FC1', u'FC2', u'C1', u'C2', u'CP1', u'CP2', u'P1', u'P2', u'AF3', u'AF4', u'FC3', u'FC4', u'CP3', u'CP4', u'PO3', u'PO4', u'F5', u'F6', u'FC5', u'FC6', u'C5', u'C6', u'CP5', u'CP6', u'P5', u'P6', u'AF7', u'AF8', u'FT7', u'FT8', u'TP7', u'TP8', u'PO7', u'PO8', u'F9', u'F10', u'FT9', u'FT10', u'T9', u'T10', u'TP9', u'TP10', u'P9', u'P10', u'Nz', u'Fpz', u'AFz', u'FCz', u'CPz', u'POz', u'OZ', u'Events/Markers']\n",
      "'ascii' codec can't decode byte 0xc2 in position 1: ordinal not in range(128)\n",
      "Ecg\n",
      "ECG-\n",
      "ECG+\n",
      "'ECG+' is not in list\n"
     ]
    },
    {
     "name": "stderr",
     "output_type": "stream",
     "text": [
      "[2018-01-21 23:14:18.508264]:add_signal:20:Saving [signal: FA7773JN_Ecg_2016-05-09 19:05:09.000000][group: PATIENT8/]\n"
     ]
    },
    {
     "name": "stdout",
     "output_type": "stream",
     "text": [
      "['FA7773JN_Ecg_2016-05-09 19:05:09.000000', 'FA7773JN_ECG-_2016-05-09 19:05:09.000000']\n",
      "/Volumes/ASSD/pre_epi_seizures/h5_files/raw_fulldata/HSM_data.h5\n"
     ]
    },
    {
     "name": "stderr",
     "output_type": "stream",
     "text": [
      "[2018-01-21 23:14:19.238464]:add_signal:10:Unable to create link (Name already exists)\n",
      "[2018-01-21 23:14:19.239864]:add_signal:20:Saving [signal: FA7773JN_ECG-_2016-05-09 19:05:09.000000][group: PATIENT8/]\n",
      "[2018-01-21 23:14:19.374496]:add_signal:10:Unable to create link (Name already exists)\n",
      "[2018-01-21 23:14:19.498849]:load_ecg_signal:10:Loading file /Volumes/ASSD/pre_epi_seizures/PATIENT8/FA7773JO_1-1.edf ...\n"
     ]
    },
    {
     "name": "stdout",
     "output_type": "stream",
     "text": [
      "addd\n",
      "addd\n",
      "closinnngg\n",
      "CLOSEDDDDD\n",
      "PATIENT8/\n",
      "\n",
      "FA7773JO\n",
      "[u'Fp1', u'Fp2', u'F3', u'F4', u'C3', u'C4', u'P3', u'P4', u'O1', u'O2', u'F7', u'F8', u'T7', u'T8', u'P7', u'P8', u'Fz', u'Cz', u'Pz', u'E', u'A1', u'A2', u'Ecg', u'EogL', u'EogR', u'Emg1', u'Emg2', u'ECG-', u'DC01', u'DC02', u'DC03', u'DC04', u'EEG Mark1', u'EEG Mark2', u'X+', u'X-', u'Y+', u'Y-', u'Z+', u'Z-', u'F1', u'F2', u'FC1', u'FC2', u'C1', u'C2', u'CP1', u'CP2', u'P1', u'P2', u'AF3', u'AF4', u'FC3', u'FC4', u'CP3', u'CP4', u'PO3', u'PO4', u'F5', u'F6', u'FC5', u'FC6', u'C5', u'C6', u'CP5', u'CP6', u'P5', u'P6', u'AF7', u'AF8', u'FT7', u'FT8', u'TP7', u'TP8', u'PO7', u'PO8', u'F9', u'F10', u'FT9', u'FT10', u'T9', u'T10', u'TP9', u'TP10', u'P9', u'P10', u'Nz', u'Fpz', u'AFz', u'FCz', u'CPz', u'POz', u'OZ', u'Events/Markers']\n",
      "Ecg\n",
      "ECG-\n",
      "ECG+\n",
      "'ECG+' is not in list\n"
     ]
    },
    {
     "name": "stderr",
     "output_type": "stream",
     "text": [
      "[2018-01-21 23:14:24.971216]:add_signal:20:Saving [signal: FA7773JO_Ecg_2016-05-09 21:05:21.000000][group: PATIENT8/]\n",
      "[2018-01-21 23:14:25.089588]:add_signal:20:Saving [signal: FA7773JO_ECG-_2016-05-09 21:05:21.000000][group: PATIENT8/]\n"
     ]
    },
    {
     "name": "stdout",
     "output_type": "stream",
     "text": [
      "['FA7773JO_Ecg_2016-05-09 21:05:21.000000', 'FA7773JO_ECG-_2016-05-09 21:05:21.000000']\n",
      "/Volumes/ASSD/pre_epi_seizures/h5_files/raw_fulldata/HSM_data.h5\n",
      "addd\n"
     ]
    },
    {
     "name": "stderr",
     "output_type": "stream",
     "text": [
      "[2018-01-21 23:14:29.905844]:load_ecg_signal:10:Loading file /Volumes/ASSD/pre_epi_seizures/PATIENT8/FA7773JO_1-1+.edf ...\n"
     ]
    },
    {
     "name": "stdout",
     "output_type": "stream",
     "text": [
      "addd\n",
      "closinnngg\n",
      "CLOSEDDDDD\n",
      "PATIENT8/\n",
      "\n",
      "FA7773JO\n",
      "[u'Fp1', u'Fp2', u'F3', u'F4', u'C3', u'C4', u'P3', u'P4', u'O1', u'O2', u'F7', u'F8', u'T7', u'T8', u'P7', u'P8', u'Fz', u'Cz', u'Pz', u'E', u'A1', u'A2', u'Ecg', u'EogL', u'EogR', u'Emg1', u'Emg2', u'ECG-', u'DC01', u'DC02', u'DC03', u'DC04', u'EEG Mark1', u'EEG Mark2', u'X+', u'X-', u'Y+', u'Y-', u'Z+', u'Z-', u'F1', u'F2', u'FC1', u'FC2', u'C1', u'C2', u'CP1', u'CP2', u'P1', u'P2', u'AF3', u'AF4', u'FC3', u'FC4', u'CP3', u'CP4', u'PO3', u'PO4', u'F5', u'F6', u'FC5', u'FC6', u'C5', u'C6', u'CP5', u'CP6', u'P5', u'P6', u'AF7', u'AF8', u'FT7', u'FT8', u'TP7', u'TP8', u'PO7', u'PO8', u'F9', u'F10', u'FT9', u'FT10', u'T9', u'T10', u'TP9', u'TP10', u'P9', u'P10', u'Nz', u'Fpz', u'AFz', u'FCz', u'CPz', u'POz', u'OZ', u'Events/Markers']\n",
      "Ecg\n",
      "ECG-\n",
      "ECG+\n",
      "'ECG+' is not in list\n"
     ]
    },
    {
     "name": "stderr",
     "output_type": "stream",
     "text": [
      "[2018-01-21 23:14:31.411972]:add_signal:20:Saving [signal: FA7773JO_Ecg_2016-05-09 21:05:21.000000][group: PATIENT8/]\n"
     ]
    },
    {
     "name": "stdout",
     "output_type": "stream",
     "text": [
      "['FA7773JO_Ecg_2016-05-09 21:05:21.000000', 'FA7773JO_ECG-_2016-05-09 21:05:21.000000']\n",
      "/Volumes/ASSD/pre_epi_seizures/h5_files/raw_fulldata/HSM_data.h5\n",
      "addd"
     ]
    },
    {
     "name": "stderr",
     "output_type": "stream",
     "text": [
      "[2018-01-21 23:14:32.048249]:add_signal:10:Unable to create link (Name already exists)\n",
      "[2018-01-21 23:14:32.049662]:add_signal:20:Saving [signal: FA7773JO_ECG-_2016-05-09 21:05:21.000000][group: PATIENT8/]\n",
      "[2018-01-21 23:14:32.170702]:add_signal:10:Unable to create link (Name already exists)\n",
      "[2018-01-21 23:14:32.279670]:load_ecg_signal:10:Loading file /Volumes/ASSD/pre_epi_seizures/PATIENT8/FA7773JP_1-1.edf ...\n"
     ]
    },
    {
     "name": "stdout",
     "output_type": "stream",
     "text": [
      "\n",
      "addd\n",
      "closinnngg\n",
      "CLOSEDDDDD\n",
      "PATIENT8/\n",
      "\n",
      "FA7773JP\n",
      "[u'Fp1', u'Fp2', u'F3', u'F4', u'C3', u'C4', u'P3', u'P4', u'O1', u'O2', u'F7', u'F8', u'T7', u'T8', u'P7', u'P8', u'Fz', u'Cz', u'Pz', u'E', u'A1', u'A2', u'Ecg', u'EogL', u'EogR', u'Emg1', u'Emg2', u'ECG-', u'DC01', u'DC02', u'DC03', u'DC04', u'EEG Mark1', u'EEG Mark2', u'X+', u'X-', u'Y+', u'Y-', u'Z+', u'Z-', u'F1', u'F2', u'FC1', u'FC2', u'C1', u'C2', u'CP1', u'CP2', u'P1', u'P2', u'AF3', u'AF4', u'FC3', u'FC4', u'CP3', u'CP4', u'PO3', u'PO4', u'F5', u'F6', u'FC5', u'FC6', u'C5', u'C6', u'CP5', u'CP6', u'P5', u'P6', u'AF7', u'AF8', u'FT7', u'FT8', u'TP7', u'TP8', u'PO7', u'PO8', u'F9', u'F10', u'FT9', u'FT10', u'T9', u'T10', u'TP9', u'TP10', u'P9', u'P10', u'Nz', u'Fpz', u'AFz', u'FCz', u'CPz', u'POz', u'OZ', u'Events/Markers']\n",
      "Ecg\n",
      "ECG-\n",
      "ECG+\n",
      "'ECG+' is not in list\n"
     ]
    },
    {
     "name": "stderr",
     "output_type": "stream",
     "text": [
      "[2018-01-21 23:14:37.937085]:add_signal:20:Saving [signal: FA7773JP_Ecg_2016-05-09 23:05:34.000000][group: PATIENT8/]\n",
      "[2018-01-21 23:14:38.054841]:add_signal:20:Saving [signal: FA7773JP_ECG-_2016-05-09 23:05:34.000000][group: PATIENT8/]\n"
     ]
    },
    {
     "name": "stdout",
     "output_type": "stream",
     "text": [
      "['FA7773JP_Ecg_2016-05-09 23:05:34.000000', 'FA7773JP_ECG-_2016-05-09 23:05:34.000000']\n",
      "/Volumes/ASSD/pre_epi_seizures/h5_files/raw_fulldata/HSM_data.h5\n",
      "addd\n"
     ]
    },
    {
     "name": "stderr",
     "output_type": "stream",
     "text": [
      "[2018-01-21 23:14:42.749614]:load_ecg_signal:10:Loading file /Volumes/ASSD/pre_epi_seizures/PATIENT8/FA7773JP_1-1+.edf ...\n"
     ]
    },
    {
     "name": "stdout",
     "output_type": "stream",
     "text": [
      "addd\n",
      "closinnngg\n",
      "CLOSEDDDDD\n",
      "PATIENT8/\n",
      "\n",
      "FA7773JP\n",
      "[u'Fp1', u'Fp2', u'F3', u'F4', u'C3', u'C4', u'P3', u'P4', u'O1', u'O2', u'F7', u'F8', u'T7', u'T8', u'P7', u'P8', u'Fz', u'Cz', u'Pz', u'E', u'A1', u'A2', u'Ecg', u'EogL', u'EogR', u'Emg1', u'Emg2', u'ECG-', u'DC01', u'DC02', u'DC03', u'DC04', u'EEG Mark1', u'EEG Mark2', u'X+', u'X-', u'Y+', u'Y-', u'Z+', u'Z-', u'F1', u'F2', u'FC1', u'FC2', u'C1', u'C2', u'CP1', u'CP2', u'P1', u'P2', u'AF3', u'AF4', u'FC3', u'FC4', u'CP3', u'CP4', u'PO3', u'PO4', u'F5', u'F6', u'FC5', u'FC6', u'C5', u'C6', u'CP5', u'CP6', u'P5', u'P6', u'AF7', u'AF8', u'FT7', u'FT8', u'TP7', u'TP8', u'PO7', u'PO8', u'F9', u'F10', u'FT9', u'FT10', u'T9', u'T10', u'TP9', u'TP10', u'P9', u'P10', u'Nz', u'Fpz', u'AFz', u'FCz', u'CPz', u'POz', u'OZ', u'Events/Markers']\n",
      "'ascii' codec can't decode byte 0xc3 in position 5: ordinal not in range(128)\n",
      "Ecg\n",
      "ECG-\n",
      "ECG+\n",
      "'ECG+' is not in list\n"
     ]
    },
    {
     "name": "stderr",
     "output_type": "stream",
     "text": [
      "[2018-01-21 23:14:44.259015]:add_signal:20:Saving [signal: FA7773JP_Ecg_2016-05-09 23:05:34.000000][group: PATIENT8/]\n"
     ]
    },
    {
     "name": "stdout",
     "output_type": "stream",
     "text": [
      "['FA7773JP_Ecg_2016-05-09 23:05:34.000000', 'FA7773JP_ECG-_2016-05-09 23:05:34.000000']\n",
      "/Volumes/ASSD/pre_epi_seizures/h5_files/raw_fulldata/HSM_data.h5\n"
     ]
    },
    {
     "name": "stderr",
     "output_type": "stream",
     "text": [
      "[2018-01-21 23:14:44.987432]:add_signal:10:Unable to create link (Name already exists)\n",
      "[2018-01-21 23:14:44.988799]:add_signal:20:Saving [signal: FA7773JP_ECG-_2016-05-09 23:05:34.000000][group: PATIENT8/]\n",
      "[2018-01-21 23:14:45.121744]:add_signal:10:Unable to create link (Name already exists)\n",
      "[2018-01-21 23:14:45.251097]:load_ecg_signal:10:Loading file /Volumes/ASSD/pre_epi_seizures/PATIENT8/FA7773JR_1-1.edf ...\n"
     ]
    },
    {
     "name": "stdout",
     "output_type": "stream",
     "text": [
      "addd\n",
      "addd\n",
      "closinnngg\n",
      "CLOSEDDDDD\n",
      "PATIENT8/\n",
      "\n",
      "FA7773JR\n",
      "[u'Fp1', u'Fp2', u'F3', u'F4', u'C3', u'C4', u'P3', u'P4', u'O1', u'O2', u'F7', u'F8', u'T7', u'T8', u'P7', u'P8', u'Fz', u'Cz', u'Pz', u'E', u'A1', u'A2', u'Ecg', u'EogL', u'EogR', u'Emg1', u'Emg2', u'ECG-', u'DC01', u'DC02', u'DC03', u'DC04', u'EEG Mark1', u'EEG Mark2', u'X+', u'X-', u'Y+', u'Y-', u'Z+', u'Z-', u'F1', u'F2', u'FC1', u'FC2', u'C1', u'C2', u'CP1', u'CP2', u'P1', u'P2', u'AF3', u'AF4', u'FC3', u'FC4', u'CP3', u'CP4', u'PO3', u'PO4', u'F5', u'F6', u'FC5', u'FC6', u'C5', u'C6', u'CP5', u'CP6', u'P5', u'P6', u'AF7', u'AF8', u'FT7', u'FT8', u'TP7', u'TP8', u'PO7', u'PO8', u'F9', u'F10', u'FT9', u'FT10', u'T9', u'T10', u'TP9', u'TP10', u'P9', u'P10', u'Nz', u'Fpz', u'AFz', u'FCz', u'CPz', u'POz', u'OZ', u'Events/Markers']\n",
      "Ecg\n",
      "ECG-\n",
      "ECG+\n",
      "'ECG+' is not in list\n"
     ]
    },
    {
     "name": "stderr",
     "output_type": "stream",
     "text": [
      "[2018-01-21 23:14:51.132797]:add_signal:20:Saving [signal: FA7773JR_Ecg_2016-05-10 03:05:59.000000][group: PATIENT8/]\n",
      "[2018-01-21 23:14:51.250899]:add_signal:20:Saving [signal: FA7773JR_ECG-_2016-05-10 03:05:59.000000][group: PATIENT8/]\n"
     ]
    },
    {
     "name": "stdout",
     "output_type": "stream",
     "text": [
      "['FA7773JR_Ecg_2016-05-10 03:05:59.000000', 'FA7773JR_ECG-_2016-05-10 03:05:59.000000']\n",
      "/Volumes/ASSD/pre_epi_seizures/h5_files/raw_fulldata/HSM_data.h5\n",
      "addd\n"
     ]
    },
    {
     "name": "stderr",
     "output_type": "stream",
     "text": [
      "[2018-01-21 23:14:56.607360]:load_ecg_signal:10:Loading file /Volumes/ASSD/pre_epi_seizures/PATIENT8/FA7773JR_1-1+.edf ...\n"
     ]
    },
    {
     "name": "stdout",
     "output_type": "stream",
     "text": [
      "addd\n",
      "closinnngg\n",
      "CLOSEDDDDD\n",
      "PATIENT8/\n",
      "\n",
      "FA7773JR\n",
      "[u'Fp1', u'Fp2', u'F3', u'F4', u'C3', u'C4', u'P3', u'P4', u'O1', u'O2', u'F7', u'F8', u'T7', u'T8', u'P7', u'P8', u'Fz', u'Cz', u'Pz', u'E', u'A1', u'A2', u'Ecg', u'EogL', u'EogR', u'Emg1', u'Emg2', u'ECG-', u'DC01', u'DC02', u'DC03', u'DC04', u'EEG Mark1', u'EEG Mark2', u'X+', u'X-', u'Y+', u'Y-', u'Z+', u'Z-', u'F1', u'F2', u'FC1', u'FC2', u'C1', u'C2', u'CP1', u'CP2', u'P1', u'P2', u'AF3', u'AF4', u'FC3', u'FC4', u'CP3', u'CP4', u'PO3', u'PO4', u'F5', u'F6', u'FC5', u'FC6', u'C5', u'C6', u'CP5', u'CP6', u'P5', u'P6', u'AF7', u'AF8', u'FT7', u'FT8', u'TP7', u'TP8', u'PO7', u'PO8', u'F9', u'F10', u'FT9', u'FT10', u'T9', u'T10', u'TP9', u'TP10', u'P9', u'P10', u'Nz', u'Fpz', u'AFz', u'FCz', u'CPz', u'POz', u'OZ', u'Events/Markers']\n",
      "Ecg\n",
      "ECG-\n",
      "ECG+\n",
      "'ECG+' is not in list\n"
     ]
    },
    {
     "name": "stderr",
     "output_type": "stream",
     "text": [
      "[2018-01-21 23:14:58.120109]:add_signal:20:Saving [signal: FA7773JR_Ecg_2016-05-10 03:05:59.000000][group: PATIENT8/]\n"
     ]
    },
    {
     "name": "stdout",
     "output_type": "stream",
     "text": [
      "['FA7773JR_Ecg_2016-05-10 03:05:59.000000', 'FA7773JR_ECG-_2016-05-10 03:05:59.000000']\n",
      "/Volumes/ASSD/pre_epi_seizures/h5_files/raw_fulldata/HSM_data.h5\n",
      "addd\n"
     ]
    },
    {
     "name": "stderr",
     "output_type": "stream",
     "text": [
      "[2018-01-21 23:14:58.762146]:add_signal:10:Unable to create link (Name already exists)\n",
      "[2018-01-21 23:14:58.763473]:add_signal:20:Saving [signal: FA7773JR_ECG-_2016-05-10 03:05:59.000000][group: PATIENT8/]\n",
      "[2018-01-21 23:14:58.896765]:add_signal:10:Unable to create link (Name already exists)\n",
      "[2018-01-21 23:14:59.002321]:load_ecg_signal:10:Loading file /Volumes/ASSD/pre_epi_seizures/PATIENT8/FA7773JS_1-1.edf ...\n"
     ]
    },
    {
     "name": "stdout",
     "output_type": "stream",
     "text": [
      "addd\n",
      "closinnngg\n",
      "CLOSEDDDDD\n",
      "PATIENT8/\n",
      "\n",
      "FA7773JS\n",
      "[u'Fp1', u'Fp2', u'F3', u'F4', u'C3', u'C4', u'P3', u'P4', u'O1', u'O2', u'F7', u'F8', u'T7', u'T8', u'P7', u'P8', u'Fz', u'Cz', u'Pz', u'E', u'A1', u'A2', u'Ecg', u'EogL', u'EogR', u'Emg1', u'Emg2', u'ECG-', u'DC01', u'DC02', u'DC03', u'DC04', u'EEG Mark1', u'EEG Mark2', u'X+', u'X-', u'Y+', u'Y-', u'Z+', u'Z-', u'F1', u'F2', u'FC1', u'FC2', u'C1', u'C2', u'CP1', u'CP2', u'P1', u'P2', u'AF3', u'AF4', u'FC3', u'FC4', u'CP3', u'CP4', u'PO3', u'PO4', u'F5', u'F6', u'FC5', u'FC6', u'C5', u'C6', u'CP5', u'CP6', u'P5', u'P6', u'AF7', u'AF8', u'FT7', u'FT8', u'TP7', u'TP8', u'PO7', u'PO8', u'F9', u'F10', u'FT9', u'FT10', u'T9', u'T10', u'TP9', u'TP10', u'P9', u'P10', u'Nz', u'Fpz', u'AFz', u'FCz', u'CPz', u'POz', u'OZ', u'Events/Markers']\n",
      "Ecg\n",
      "ECG-\n",
      "ECG+\n",
      "'ECG+' is not in list\n"
     ]
    },
    {
     "name": "stderr",
     "output_type": "stream",
     "text": [
      "[2018-01-21 23:15:05.048590]:add_signal:20:Saving [signal: FA7773JS_Ecg_2016-05-10 05:06:12.000000][group: PATIENT8/]\n",
      "[2018-01-21 23:15:05.165752]:add_signal:20:Saving [signal: FA7773JS_ECG-_2016-05-10 05:06:12.000000][group: PATIENT8/]\n"
     ]
    },
    {
     "name": "stdout",
     "output_type": "stream",
     "text": [
      "['FA7773JS_Ecg_2016-05-10 05:06:12.000000', 'FA7773JS_ECG-_2016-05-10 05:06:12.000000']\n",
      "/Volumes/ASSD/pre_epi_seizures/h5_files/raw_fulldata/HSM_data.h5\n",
      "addd\n",
      "addd"
     ]
    },
    {
     "name": "stderr",
     "output_type": "stream",
     "text": [
      "[2018-01-21 23:15:05.539660]:load_ecg_signal:10:Loading file /Volumes/ASSD/pre_epi_seizures/PATIENT8/FA7773JT_1-1.edf ...\n"
     ]
    },
    {
     "name": "stdout",
     "output_type": "stream",
     "text": [
      "\n",
      "closinnngg\n",
      "CLOSEDDDDD\n",
      "PATIENT8/\n",
      "\n",
      "FA7773JT\n",
      "[u'Fp1', u'Fp2', u'F3', u'F4', u'C3', u'C4', u'P3', u'P4', u'O1', u'O2', u'F7', u'F8', u'T7', u'T8', u'P7', u'P8', u'Fz', u'Cz', u'Pz', u'E', u'A1', u'A2', u'Ecg', u'EogL', u'EogR', u'Emg1', u'Emg2', u'ECG-', u'DC01', u'DC02', u'DC03', u'DC04', u'EEG Mark1', u'EEG Mark2', u'X+', u'X-', u'Y+', u'Y-', u'Z+', u'Z-', u'F1', u'F2', u'FC1', u'FC2', u'C1', u'C2', u'CP1', u'CP2', u'P1', u'P2', u'AF3', u'AF4', u'FC3', u'FC4', u'CP3', u'CP4', u'PO3', u'PO4', u'F5', u'F6', u'FC5', u'FC6', u'C5', u'C6', u'CP5', u'CP6', u'P5', u'P6', u'AF7', u'AF8', u'FT7', u'FT8', u'TP7', u'TP8', u'PO7', u'PO8', u'F9', u'F10', u'FT9', u'FT10', u'T9', u'T10', u'TP9', u'TP10', u'P9', u'P10', u'Nz', u'Fpz', u'AFz', u'FCz', u'CPz', u'POz', u'OZ', u'Events/Markers']\n",
      "Ecg\n",
      "ECG-\n",
      "ECG+\n",
      "'ECG+' is not in list\n"
     ]
    },
    {
     "name": "stderr",
     "output_type": "stream",
     "text": [
      "[2018-01-21 23:15:10.680005]:add_signal:20:Saving [signal: FA7773JT_Ecg_2016-05-10 07:06:25.000000][group: PATIENT8/]\n",
      "[2018-01-21 23:15:10.793065]:add_signal:20:Saving [signal: FA7773JT_ECG-_2016-05-10 07:06:25.000000][group: PATIENT8/]\n"
     ]
    },
    {
     "name": "stdout",
     "output_type": "stream",
     "text": [
      "['FA7773JT_Ecg_2016-05-10 07:06:25.000000', 'FA7773JT_ECG-_2016-05-10 07:06:25.000000']\n",
      "/Volumes/ASSD/pre_epi_seizures/h5_files/raw_fulldata/HSM_data.h5\n",
      "addd\n",
      "addd\n"
     ]
    },
    {
     "name": "stderr",
     "output_type": "stream",
     "text": [
      "[2018-01-21 23:15:11.019293]:load_ecg_signal:10:Loading file /Volumes/ASSD/pre_epi_seizures/PATIENT8/FA7773JW_1-1.edf ...\n"
     ]
    },
    {
     "name": "stdout",
     "output_type": "stream",
     "text": [
      "closinnngg\n",
      "CLOSEDDDDD\n",
      "PATIENT8/\n",
      "\n",
      "FA7773JW\n",
      "[u'Fp1', u'Fp2', u'F3', u'F4', u'C3', u'C4', u'P3', u'P4', u'O1', u'O2', u'F7', u'F8', u'T7', u'T8', u'P7', u'P8', u'Fz', u'Cz', u'Pz', u'E', u'A1', u'A2', u'Ecg', u'EogL', u'EogR', u'Emg1', u'Emg2', u'ECG-', u'DC01', u'DC02', u'DC03', u'DC04', u'EEG Mark1', u'EEG Mark2', u'X+', u'X-', u'Y+', u'Y-', u'Z+', u'Z-', u'F1', u'F2', u'FC1', u'FC2', u'C1', u'C2', u'CP1', u'CP2', u'P1', u'P2', u'AF3', u'AF4', u'FC3', u'FC4', u'CP3', u'CP4', u'PO3', u'PO4', u'F5', u'F6', u'FC5', u'FC6', u'C5', u'C6', u'CP5', u'CP6', u'P5', u'P6', u'AF7', u'AF8', u'FT7', u'FT8', u'TP7', u'TP8', u'PO7', u'PO8', u'F9', u'F10', u'FT9', u'FT10', u'T9', u'T10', u'TP9', u'TP10', u'P9', u'P10', u'Nz', u'Fpz', u'AFz', u'FCz', u'CPz', u'POz', u'OZ', u'Events/Markers']\n",
      "Ecg\n",
      "ECG-\n",
      "ECG+\n",
      "'ECG+' is not in list\n"
     ]
    },
    {
     "name": "stderr",
     "output_type": "stream",
     "text": [
      "[2018-01-21 23:15:17.051704]:add_signal:20:Saving [signal: FA7773JW_Ecg_2016-05-10 09:37:31.000000][group: PATIENT8/]\n",
      "[2018-01-21 23:15:17.185936]:add_signal:20:Saving [signal: FA7773JW_ECG-_2016-05-10 09:37:31.000000][group: PATIENT8/]\n"
     ]
    },
    {
     "name": "stdout",
     "output_type": "stream",
     "text": [
      "['FA7773JW_Ecg_2016-05-10 09:37:31.000000', 'FA7773JW_ECG-_2016-05-10 09:37:31.000000']\n",
      "/Volumes/ASSD/pre_epi_seizures/h5_files/raw_fulldata/HSM_data.h5\n",
      "addd\n",
      "addd"
     ]
    },
    {
     "name": "stderr",
     "output_type": "stream",
     "text": [
      "[2018-01-21 23:15:17.556853]:load_ecg_signal:10:Loading file /Volumes/ASSD/pre_epi_seizures/PATIENT8/FA7773KO_1-1.edf ...\n"
     ]
    },
    {
     "name": "stdout",
     "output_type": "stream",
     "text": [
      "\n",
      "closinnngg\n",
      "CLOSEDDDDD\n",
      "PATIENT8/\n",
      "\n",
      "FA7773KO\n",
      "[u'Fp1', u'Fp2', u'F3', u'F4', u'C3', u'C4', u'P3', u'P4', u'O1', u'O2', u'F7', u'F8', u'T7', u'T8', u'P7', u'P8', u'Fz', u'Cz', u'Pz', u'E', u'A1', u'A2', u'Ecg', u'EogL', u'EogR', u'Emg1', u'Emg2', u'ECG-', u'OBD+', u'OBD-', u'OBE+', u'OBE-', u'SOD+', u'DC01', u'DC02', u'DC03', u'DC04', u'SOD-', u'SOE+', u'EEG Mark1', u'EEG Mark2', u'SOE-', u'CAPD+', u'CAPD-', u'CAPE+', u'CAPE-', u'X+', u'X-', u'Y+', u'Y-', u'Z+', u'Z-', u'F1', u'F2', u'FC1', u'FC2', u'C1', u'C2', u'CP1', u'CP2', u'P1', u'P2', u'AF3', u'AF4', u'FC3', u'FC4', u'CP3', u'CP4', u'PO3', u'PO4', u'F5', u'F6', u'FC5', u'FC6', u'C5', u'C6', u'CP5', u'CP6', u'P5', u'P6', u'AF7', u'AF8', u'FT7', u'FT8', u'TP7', u'TP8', u'PO7', u'PO8', u'F9', u'F10', u'FT9', u'FT10', u'T9', u'T10', u'TP9', u'TP10', u'P9', u'P10', u'Nz', u'Fpz', u'AFz', u'FCz', u'CPz', u'POz', u'OZ', u'Events/Markers']\n",
      "Ecg\n",
      "ECG-\n",
      "ECG+\n",
      "'ECG+' is not in list\n"
     ]
    },
    {
     "name": "stderr",
     "output_type": "stream",
     "text": [
      "[2018-01-21 23:15:24.026892]:add_signal:20:Saving [signal: FA7773KO_Ecg_2016-05-12 13:58:12.000000][group: PATIENT8/]\n",
      "[2018-01-21 23:15:24.161052]:add_signal:20:Saving [signal: FA7773KO_ECG-_2016-05-12 13:58:12.000000][group: PATIENT8/]\n"
     ]
    },
    {
     "name": "stdout",
     "output_type": "stream",
     "text": [
      "['FA7773KO_Ecg_2016-05-12 13:58:12.000000', 'FA7773KO_ECG-_2016-05-12 13:58:12.000000']\n",
      "/Volumes/ASSD/pre_epi_seizures/h5_files/raw_fulldata/HSM_data.h5\n",
      "addd\n"
     ]
    },
    {
     "name": "stderr",
     "output_type": "stream",
     "text": [
      "[2018-01-21 23:15:24.576372]:load_ecg_signal:10:Loading file /Volumes/ASSD/pre_epi_seizures/PATIENT8/FA7773KP_1-1.edf ...\n"
     ]
    },
    {
     "name": "stdout",
     "output_type": "stream",
     "text": [
      "addd\n",
      "closinnngg\n",
      "CLOSEDDDDD\n",
      "PATIENT8/\n",
      "\n",
      "FA7773KP\n",
      "[u'Fp1', u'Fp2', u'F3', u'F4', u'C3', u'C4', u'P3', u'P4', u'O1', u'O2', u'F7', u'F8', u'T7', u'T8', u'P7', u'P8', u'Fz', u'Cz', u'Pz', u'E', u'A1', u'A2', u'Ecg', u'EogL', u'EogR', u'Emg1', u'Emg2', u'ECG-', u'OBD+', u'OBD-', u'OBE+', u'OBE-', u'SOD+', u'DC01', u'DC02', u'DC03', u'DC04', u'SOD-', u'SOE+', u'EEG Mark1', u'EEG Mark2', u'SOE-', u'CAPD+', u'CAPD-', u'CAPE+', u'CAPE-', u'X+', u'X-', u'Y+', u'Y-', u'Z+', u'Z-', u'F1', u'F2', u'FC1', u'FC2', u'C1', u'C2', u'CP1', u'CP2', u'P1', u'P2', u'AF3', u'AF4', u'FC3', u'FC4', u'CP3', u'CP4', u'PO3', u'PO4', u'F5', u'F6', u'FC5', u'FC6', u'C5', u'C6', u'CP5', u'CP6', u'P5', u'P6', u'AF7', u'AF8', u'FT7', u'FT8', u'TP7', u'TP8', u'PO7', u'PO8', u'F9', u'F10', u'FT9', u'FT10', u'T9', u'T10', u'TP9', u'TP10', u'P9', u'P10', u'Nz', u'Fpz', u'AFz', u'FCz', u'CPz', u'POz', u'OZ', u'Events/Markers']\n",
      "Ecg\n",
      "ECG-\n",
      "ECG+\n",
      "'ECG+' is not in list\n"
     ]
    },
    {
     "name": "stderr",
     "output_type": "stream",
     "text": [
      "[2018-01-21 23:15:30.641222]:add_signal:20:Saving [signal: FA7773KP_Ecg_2016-05-12 15:58:25.000000][group: PATIENT8/]\n",
      "[2018-01-21 23:15:30.774781]:add_signal:20:Saving [signal: FA7773KP_ECG-_2016-05-12 15:58:25.000000][group: PATIENT8/]\n"
     ]
    },
    {
     "name": "stdout",
     "output_type": "stream",
     "text": [
      "['FA7773KP_Ecg_2016-05-12 15:58:25.000000', 'FA7773KP_ECG-_2016-05-12 15:58:25.000000']\n",
      "/Volumes/ASSD/pre_epi_seizures/h5_files/raw_fulldata/HSM_data.h5\n",
      "addd\n"
     ]
    },
    {
     "name": "stderr",
     "output_type": "stream",
     "text": [
      "[2018-01-21 23:15:31.176204]:load_ecg_signal:10:Loading file /Volumes/ASSD/pre_epi_seizures/PATIENT8/FA7773KQ_1-1.edf ...\n"
     ]
    },
    {
     "name": "stdout",
     "output_type": "stream",
     "text": [
      "addd\n",
      "closinnngg\n",
      "CLOSEDDDDD\n",
      "PATIENT8/\n",
      "\n",
      "FA7773KQ\n",
      "[u'Fp1', u'Fp2', u'F3', u'F4', u'C3', u'C4', u'P3', u'P4', u'O1', u'O2', u'F7', u'F8', u'T7', u'T8', u'P7', u'P8', u'Fz', u'Cz', u'Pz', u'E', u'A1', u'A2', u'Ecg', u'EogL', u'EogR', u'Emg1', u'Emg2', u'ECG-', u'OBD+', u'OBD-', u'OBE+', u'OBE-', u'SOD+', u'DC01', u'DC02', u'DC03', u'DC04', u'SOD-', u'SOE+', u'EEG Mark1', u'EEG Mark2', u'SOE-', u'CAPD+', u'CAPD-', u'CAPE+', u'CAPE-', u'X+', u'X-', u'Y+', u'Y-', u'Z+', u'Z-', u'F1', u'F2', u'FC1', u'FC2', u'C1', u'C2', u'CP1', u'CP2', u'P1', u'P2', u'AF3', u'AF4', u'FC3', u'FC4', u'CP3', u'CP4', u'PO3', u'PO4', u'F5', u'F6', u'FC5', u'FC6', u'C5', u'C6', u'CP5', u'CP6', u'P5', u'P6', u'AF7', u'AF8', u'FT7', u'FT8', u'TP7', u'TP8', u'PO7', u'PO8', u'F9', u'F10', u'FT9', u'FT10', u'T9', u'T10', u'TP9', u'TP10', u'P9', u'P10', u'Nz', u'Fpz', u'AFz', u'FCz', u'CPz', u'POz', u'OZ', u'Events/Markers']\n",
      "Ecg\n",
      "ECG-\n",
      "ECG+\n",
      "'ECG+' is not in list\n"
     ]
    },
    {
     "name": "stderr",
     "output_type": "stream",
     "text": [
      "[2018-01-21 23:15:37.046724]:add_signal:20:Saving [signal: FA7773KQ_Ecg_2016-05-12 17:58:37.000000][group: PATIENT8/]\n",
      "[2018-01-21 23:15:37.180473]:add_signal:20:Saving [signal: FA7773KQ_ECG-_2016-05-12 17:58:37.000000][group: PATIENT8/]\n"
     ]
    },
    {
     "name": "stdout",
     "output_type": "stream",
     "text": [
      "['FA7773KQ_Ecg_2016-05-12 17:58:37.000000', 'FA7773KQ_ECG-_2016-05-12 17:58:37.000000']\n",
      "/Volumes/ASSD/pre_epi_seizures/h5_files/raw_fulldata/HSM_data.h5\n",
      "addd\n"
     ]
    },
    {
     "name": "stderr",
     "output_type": "stream",
     "text": [
      "[2018-01-21 23:15:37.570311]:load_ecg_signal:10:Loading file /Volumes/ASSD/pre_epi_seizures/PATIENT8/FA7773KR_1-1.edf ...\n"
     ]
    },
    {
     "name": "stdout",
     "output_type": "stream",
     "text": [
      "addd\n",
      "closinnngg\n",
      "CLOSEDDDDD\n",
      "PATIENT8/\n",
      "\n",
      "FA7773KR\n",
      "[u'Fp1', u'Fp2', u'F3', u'F4', u'C3', u'C4', u'P3', u'P4', u'O1', u'O2', u'F7', u'F8', u'T7', u'T8', u'P7', u'P8', u'Fz', u'Cz', u'Pz', u'E', u'A1', u'A2', u'Ecg', u'EogL', u'EogR', u'Emg1', u'Emg2', u'ECG-', u'OBD+', u'OBD-', u'OBE+', u'OBE-', u'SOD+', u'DC01', u'DC02', u'DC03', u'DC04', u'SOD-', u'SOE+', u'EEG Mark1', u'EEG Mark2', u'SOE-', u'CAPD+', u'CAPD-', u'CAPE+', u'CAPE-', u'X+', u'X-', u'Y+', u'Y-', u'Z+', u'Z-', u'F1', u'F2', u'FC1', u'FC2', u'C1', u'C2', u'CP1', u'CP2', u'P1', u'P2', u'AF3', u'AF4', u'FC3', u'FC4', u'CP3', u'CP4', u'PO3', u'PO4', u'F5', u'F6', u'FC5', u'FC6', u'C5', u'C6', u'CP5', u'CP6', u'P5', u'P6', u'AF7', u'AF8', u'FT7', u'FT8', u'TP7', u'TP8', u'PO7', u'PO8', u'F9', u'F10', u'FT9', u'FT10', u'T9', u'T10', u'TP9', u'TP10', u'P9', u'P10', u'Nz', u'Fpz', u'AFz', u'FCz', u'CPz', u'POz', u'OZ', u'Events/Markers']\n",
      "Ecg\n",
      "ECG-\n",
      "ECG+\n",
      "'ECG+' is not in list\n"
     ]
    },
    {
     "name": "stderr",
     "output_type": "stream",
     "text": [
      "[2018-01-21 23:15:43.608265]:add_signal:20:Saving [signal: FA7773KR_Ecg_2016-05-12 19:58:51.000000][group: PATIENT8/]\n",
      "[2018-01-21 23:15:43.742126]:add_signal:20:Saving [signal: FA7773KR_ECG-_2016-05-12 19:58:51.000000][group: PATIENT8/]\n"
     ]
    },
    {
     "name": "stdout",
     "output_type": "stream",
     "text": [
      "['FA7773KR_Ecg_2016-05-12 19:58:51.000000', 'FA7773KR_ECG-_2016-05-12 19:58:51.000000']\n",
      "/Volumes/ASSD/pre_epi_seizures/h5_files/raw_fulldata/HSM_data.h5\n",
      "addd\n",
      "addd\n"
     ]
    },
    {
     "name": "stderr",
     "output_type": "stream",
     "text": [
      "[2018-01-21 23:15:44.095367]:load_ecg_signal:10:Loading file /Volumes/ASSD/pre_epi_seizures/PATIENT8/FA7773KS_1-1.edf ...\n"
     ]
    },
    {
     "name": "stdout",
     "output_type": "stream",
     "text": [
      "closinnngg\n",
      "CLOSEDDDDD\n",
      "PATIENT8/\n",
      "\n",
      "FA7773KS\n",
      "[u'Fp1', u'Fp2', u'F3', u'F4', u'C3', u'C4', u'P3', u'P4', u'O1', u'O2', u'F7', u'F8', u'T7', u'T8', u'P7', u'P8', u'Fz', u'Cz', u'Pz', u'E', u'A1', u'A2', u'Ecg', u'EogL', u'EogR', u'Emg1', u'Emg2', u'ECG-', u'OBD+', u'OBD-', u'OBE+', u'OBE-', u'SOD+', u'DC01', u'DC02', u'DC03', u'DC04', u'SOD-', u'SOE+', u'EEG Mark1', u'EEG Mark2', u'SOE-', u'CAPD+', u'CAPD-', u'CAPE+', u'CAPE-', u'X+', u'X-', u'Y+', u'Y-', u'Z+', u'Z-', u'F1', u'F2', u'FC1', u'FC2', u'C1', u'C2', u'CP1', u'CP2', u'P1', u'P2', u'AF3', u'AF4', u'FC3', u'FC4', u'CP3', u'CP4', u'PO3', u'PO4', u'F5', u'F6', u'FC5', u'FC6', u'C5', u'C6', u'CP5', u'CP6', u'P5', u'P6', u'AF7', u'AF8', u'FT7', u'FT8', u'TP7', u'TP8', u'PO7', u'PO8', u'F9', u'F10', u'FT9', u'FT10', u'T9', u'T10', u'TP9', u'TP10', u'P9', u'P10', u'Nz', u'Fpz', u'AFz', u'FCz', u'CPz', u'POz', u'OZ', u'Events/Markers']\n",
      "Ecg\n",
      "ECG-\n",
      "ECG+\n",
      "'ECG+' is not in list\n"
     ]
    },
    {
     "name": "stderr",
     "output_type": "stream",
     "text": [
      "[2018-01-21 23:15:49.883253]:add_signal:20:Saving [signal: FA7773KS_Ecg_2016-05-12 21:59:04.000000][group: PATIENT8/]\n",
      "[2018-01-21 23:15:50.017707]:add_signal:20:Saving [signal: FA7773KS_ECG-_2016-05-12 21:59:04.000000][group: PATIENT8/]\n"
     ]
    },
    {
     "name": "stdout",
     "output_type": "stream",
     "text": [
      "['FA7773KS_Ecg_2016-05-12 21:59:04.000000', 'FA7773KS_ECG-_2016-05-12 21:59:04.000000']\n",
      "/Volumes/ASSD/pre_epi_seizures/h5_files/raw_fulldata/HSM_data.h5\n",
      "addd\n"
     ]
    },
    {
     "name": "stderr",
     "output_type": "stream",
     "text": [
      "[2018-01-21 23:15:50.390945]:load_ecg_signal:10:Loading file /Volumes/ASSD/pre_epi_seizures/PATIENT8/FA7773KT_1-1.edf ...\n"
     ]
    },
    {
     "name": "stdout",
     "output_type": "stream",
     "text": [
      "addd\n",
      "closinnngg\n",
      "CLOSEDDDDD\n",
      "PATIENT8/\n",
      "\n",
      "FA7773KT\n",
      "[u'Fp1', u'Fp2', u'F3', u'F4', u'C3', u'C4', u'P3', u'P4', u'O1', u'O2', u'F7', u'F8', u'T7', u'T8', u'P7', u'P8', u'Fz', u'Cz', u'Pz', u'E', u'A1', u'A2', u'Ecg', u'EogL', u'EogR', u'Emg1', u'Emg2', u'ECG-', u'OBD+', u'OBD-', u'OBE+', u'OBE-', u'SOD+', u'DC01', u'DC02', u'DC03', u'DC04', u'SOD-', u'SOE+', u'EEG Mark1', u'EEG Mark2', u'SOE-', u'CAPD+', u'CAPD-', u'CAPE+', u'CAPE-', u'X+', u'X-', u'Y+', u'Y-', u'Z+', u'Z-', u'F1', u'F2', u'FC1', u'FC2', u'C1', u'C2', u'CP1', u'CP2', u'P1', u'P2', u'AF3', u'AF4', u'FC3', u'FC4', u'CP3', u'CP4', u'PO3', u'PO4', u'F5', u'F6', u'FC5', u'FC6', u'C5', u'C6', u'CP5', u'CP6', u'P5', u'P6', u'AF7', u'AF8', u'FT7', u'FT8', u'TP7', u'TP8', u'PO7', u'PO8', u'F9', u'F10', u'FT9', u'FT10', u'T9', u'T10', u'TP9', u'TP10', u'P9', u'P10', u'Nz', u'Fpz', u'AFz', u'FCz', u'CPz', u'POz', u'OZ', u'Events/Markers']\n",
      "Ecg\n",
      "ECG-\n",
      "ECG+\n",
      "'ECG+' is not in list\n"
     ]
    },
    {
     "name": "stderr",
     "output_type": "stream",
     "text": [
      "[2018-01-21 23:15:56.025016]:add_signal:20:Saving [signal: FA7773KT_Ecg_2016-05-12 23:59:17.000000][group: PATIENT8/]\n",
      "[2018-01-21 23:15:56.159925]:add_signal:20:Saving [signal: FA7773KT_ECG-_2016-05-12 23:59:17.000000][group: PATIENT8/]\n"
     ]
    },
    {
     "name": "stdout",
     "output_type": "stream",
     "text": [
      "['FA7773KT_Ecg_2016-05-12 23:59:17.000000', 'FA7773KT_ECG-_2016-05-12 23:59:17.000000']\n",
      "/Volumes/ASSD/pre_epi_seizures/h5_files/raw_fulldata/HSM_data.h5\n",
      "addd\n"
     ]
    },
    {
     "name": "stderr",
     "output_type": "stream",
     "text": [
      "[2018-01-21 23:15:56.550692]:load_ecg_signal:10:Loading file /Volumes/ASSD/pre_epi_seizures/PATIENT8/FA7773KU_1-1.edf ...\n"
     ]
    },
    {
     "name": "stdout",
     "output_type": "stream",
     "text": [
      "addd\n",
      "closinnngg\n",
      "CLOSEDDDDD\n",
      "PATIENT8/\n",
      "\n",
      "FA7773KU\n",
      "[u'Fp1', u'Fp2', u'F3', u'F4', u'C3', u'C4', u'P3', u'P4', u'O1', u'O2', u'F7', u'F8', u'T7', u'T8', u'P7', u'P8', u'Fz', u'Cz', u'Pz', u'E', u'A1', u'A2', u'Ecg', u'EogL', u'EogR', u'Emg1', u'Emg2', u'ECG-', u'OBD+', u'OBD-', u'OBE+', u'OBE-', u'SOD+', u'DC01', u'DC02', u'DC03', u'DC04', u'SOD-', u'SOE+', u'EEG Mark1', u'EEG Mark2', u'SOE-', u'CAPD+', u'CAPD-', u'CAPE+', u'CAPE-', u'X+', u'X-', u'Y+', u'Y-', u'Z+', u'Z-', u'F1', u'F2', u'FC1', u'FC2', u'C1', u'C2', u'CP1', u'CP2', u'P1', u'P2', u'AF3', u'AF4', u'FC3', u'FC4', u'CP3', u'CP4', u'PO3', u'PO4', u'F5', u'F6', u'FC5', u'FC6', u'C5', u'C6', u'CP5', u'CP6', u'P5', u'P6', u'AF7', u'AF8', u'FT7', u'FT8', u'TP7', u'TP8', u'PO7', u'PO8', u'F9', u'F10', u'FT9', u'FT10', u'T9', u'T10', u'TP9', u'TP10', u'P9', u'P10', u'Nz', u'Fpz', u'AFz', u'FCz', u'CPz', u'POz', u'OZ', u'Events/Markers']\n",
      "Ecg\n",
      "ECG-\n",
      "ECG+\n",
      "'ECG+' is not in list\n"
     ]
    },
    {
     "name": "stderr",
     "output_type": "stream",
     "text": [
      "[2018-01-21 23:16:02.164521]:add_signal:20:Saving [signal: FA7773KU_Ecg_2016-05-13 01:59:30.000000][group: PATIENT8/]\n",
      "[2018-01-21 23:16:02.301775]:add_signal:20:Saving [signal: FA7773KU_ECG-_2016-05-13 01:59:30.000000][group: PATIENT8/]\n"
     ]
    },
    {
     "name": "stdout",
     "output_type": "stream",
     "text": [
      "['FA7773KU_Ecg_2016-05-13 01:59:30.000000', 'FA7773KU_ECG-_2016-05-13 01:59:30.000000']\n",
      "/Volumes/ASSD/pre_epi_seizures/h5_files/raw_fulldata/HSM_data.h5\n",
      "addd\n",
      "addd\n"
     ]
    },
    {
     "name": "stderr",
     "output_type": "stream",
     "text": [
      "[2018-01-21 23:16:02.691693]:load_ecg_signal:10:Loading file /Volumes/ASSD/pre_epi_seizures/PATIENT8/FA7773KV_1-1.edf ...\n"
     ]
    },
    {
     "name": "stdout",
     "output_type": "stream",
     "text": [
      "closinnngg\n",
      "CLOSEDDDDD\n",
      "PATIENT8/\n",
      "\n",
      "FA7773KV\n",
      "[u'Fp1', u'Fp2', u'F3', u'F4', u'C3', u'C4', u'P3', u'P4', u'O1', u'O2', u'F7', u'F8', u'T7', u'T8', u'P7', u'P8', u'Fz', u'Cz', u'Pz', u'E', u'A1', u'A2', u'Ecg', u'EogL', u'EogR', u'Emg1', u'Emg2', u'ECG-', u'OBD+', u'OBD-', u'OBE+', u'OBE-', u'SOD+', u'DC01', u'DC02', u'DC03', u'DC04', u'SOD-', u'SOE+', u'EEG Mark1', u'EEG Mark2', u'SOE-', u'CAPD+', u'CAPD-', u'CAPE+', u'CAPE-', u'X+', u'X-', u'Y+', u'Y-', u'Z+', u'Z-', u'F1', u'F2', u'FC1', u'FC2', u'C1', u'C2', u'CP1', u'CP2', u'P1', u'P2', u'AF3', u'AF4', u'FC3', u'FC4', u'CP3', u'CP4', u'PO3', u'PO4', u'F5', u'F6', u'FC5', u'FC6', u'C5', u'C6', u'CP5', u'CP6', u'P5', u'P6', u'AF7', u'AF8', u'FT7', u'FT8', u'TP7', u'TP8', u'PO7', u'PO8', u'F9', u'F10', u'FT9', u'FT10', u'T9', u'T10', u'TP9', u'TP10', u'P9', u'P10', u'Nz', u'Fpz', u'AFz', u'FCz', u'CPz', u'POz', u'OZ', u'Events/Markers']\n",
      "Ecg\n",
      "ECG-\n",
      "ECG+\n",
      "'ECG+' is not in list\n"
     ]
    },
    {
     "name": "stderr",
     "output_type": "stream",
     "text": [
      "[2018-01-21 23:16:08.889259]:add_signal:20:Saving [signal: FA7773KV_Ecg_2016-05-13 03:59:44.000000][group: PATIENT8/]\n",
      "[2018-01-21 23:16:09.026240]:add_signal:20:Saving [signal: FA7773KV_ECG-_2016-05-13 03:59:44.000000][group: PATIENT8/]\n"
     ]
    },
    {
     "name": "stdout",
     "output_type": "stream",
     "text": [
      "['FA7773KV_Ecg_2016-05-13 03:59:44.000000', 'FA7773KV_ECG-_2016-05-13 03:59:44.000000']\n",
      "/Volumes/ASSD/pre_epi_seizures/h5_files/raw_fulldata/HSM_data.h5\n",
      "addd\n"
     ]
    },
    {
     "name": "stderr",
     "output_type": "stream",
     "text": [
      "[2018-01-21 23:16:09.419147]:load_ecg_signal:10:Loading file /Volumes/ASSD/pre_epi_seizures/PATIENT8/FA7773KX_1-1.edf ...\n"
     ]
    },
    {
     "name": "stdout",
     "output_type": "stream",
     "text": [
      "addd\n",
      "closinnngg\n",
      "CLOSEDDDDD\n",
      "PATIENT8/\n",
      "\n",
      "FA7773KX\n",
      "[u'Fp1', u'Fp2', u'F3', u'F4', u'C3', u'C4', u'P3', u'P4', u'O1', u'O2', u'F7', u'F8', u'T7', u'T8', u'P7', u'P8', u'Fz', u'Cz', u'Pz', u'E', u'A1', u'A2', u'Ecg', u'EogL', u'EogR', u'Emg1', u'Emg2', u'ECG-', u'OBD+', u'OBD-', u'OBE+', u'OBE-', u'SOD+', u'DC01', u'DC02', u'DC03', u'DC04', u'SOD-', u'SOE+', u'EEG Mark1', u'EEG Mark2', u'SOE-', u'CAPD+', u'CAPD-', u'CAPE+', u'CAPE-', u'X+', u'X-', u'Y+', u'Y-', u'Z+', u'Z-', u'F1', u'F2', u'FC1', u'FC2', u'C1', u'C2', u'CP1', u'CP2', u'P1', u'P2', u'AF3', u'AF4', u'FC3', u'FC4', u'CP3', u'CP4', u'PO3', u'PO4', u'F5', u'F6', u'FC5', u'FC6', u'C5', u'C6', u'CP5', u'CP6', u'P5', u'P6', u'AF7', u'AF8', u'FT7', u'FT8', u'TP7', u'TP8', u'PO7', u'PO8', u'F9', u'F10', u'FT9', u'FT10', u'T9', u'T10', u'TP9', u'TP10', u'P9', u'P10', u'Nz', u'Fpz', u'AFz', u'FCz', u'CPz', u'POz', u'OZ', u'Events/Markers']\n",
      "Ecg\n",
      "ECG-\n",
      "ECG+\n",
      "'ECG+' is not in list\n"
     ]
    },
    {
     "name": "stderr",
     "output_type": "stream",
     "text": [
      "[2018-01-21 23:16:15.845023]:add_signal:20:Saving [signal: FA7773KX_Ecg_2016-05-13 08:00:09.000000][group: PATIENT8/]\n",
      "[2018-01-21 23:16:15.962824]:add_signal:20:Saving [signal: FA7773KX_ECG-_2016-05-13 08:00:09.000000][group: PATIENT8/]\n"
     ]
    },
    {
     "name": "stdout",
     "output_type": "stream",
     "text": [
      "['FA7773KX_Ecg_2016-05-13 08:00:09.000000', 'FA7773KX_ECG-_2016-05-13 08:00:09.000000']\n",
      "/Volumes/ASSD/pre_epi_seizures/h5_files/raw_fulldata/HSM_data.h5\n",
      "addd\n"
     ]
    },
    {
     "name": "stderr",
     "output_type": "stream",
     "text": [
      "[2018-01-21 23:16:16.343711]:load_ecg_signal:10:Loading file /Volumes/ASSD/pre_epi_seizures/PATIENT8/FA7773KY_1-1.edf ...\n"
     ]
    },
    {
     "name": "stdout",
     "output_type": "stream",
     "text": [
      "addd\n",
      "closinnngg\n",
      "CLOSEDDDDD\n",
      "PATIENT8/\n",
      "\n",
      "FA7773KY\n",
      "[u'Fp1', u'Fp2', u'F3', u'F4', u'C3', u'C4', u'P3', u'P4', u'O1', u'O2', u'F7', u'F8', u'T7', u'T8', u'P7', u'P8', u'Fz', u'Cz', u'Pz', u'E', u'A1', u'A2', u'Ecg', u'EogL', u'EogR', u'Emg1', u'Emg2', u'ECG-', u'OBD+', u'OBD-', u'OBE+', u'OBE-', u'SOD+', u'DC01', u'DC02', u'DC03', u'DC04', u'SOD-', u'SOE+', u'EEG Mark1', u'EEG Mark2', u'SOE-', u'CAPD+', u'CAPD-', u'CAPE+', u'CAPE-', u'X+', u'X-', u'Y+', u'Y-', u'Z+', u'Z-', u'F1', u'F2', u'FC1', u'FC2', u'C1', u'C2', u'CP1', u'CP2', u'P1', u'P2', u'AF3', u'AF4', u'FC3', u'FC4', u'CP3', u'CP4', u'PO3', u'PO4', u'F5', u'F6', u'FC5', u'FC6', u'C5', u'C6', u'CP5', u'CP6', u'P5', u'P6', u'AF7', u'AF8', u'FT7', u'FT8', u'TP7', u'TP8', u'PO7', u'PO8', u'F9', u'F10', u'FT9', u'FT10', u'T9', u'T10', u'TP9', u'TP10', u'P9', u'P10', u'Nz', u'Fpz', u'AFz', u'FCz', u'CPz', u'POz', u'OZ', u'Events/Markers']\n",
      "Ecg\n",
      "ECG-\n",
      "ECG+\n",
      "'ECG+' is not in list\n"
     ]
    },
    {
     "name": "stderr",
     "output_type": "stream",
     "text": [
      "[2018-01-21 23:16:22.308095]:add_signal:20:Saving [signal: FA7773KY_Ecg_2016-05-13 10:00:22.000000][group: PATIENT8/]\n",
      "[2018-01-21 23:16:22.427794]:add_signal:20:Saving [signal: FA7773KY_ECG-_2016-05-13 10:00:22.000000][group: PATIENT8/]\n"
     ]
    },
    {
     "name": "stdout",
     "output_type": "stream",
     "text": [
      "['FA7773KY_Ecg_2016-05-13 10:00:22.000000', 'FA7773KY_ECG-_2016-05-13 10:00:22.000000']\n",
      "/Volumes/ASSD/pre_epi_seizures/h5_files/raw_fulldata/HSM_data.h5\n",
      "addd\n"
     ]
    },
    {
     "name": "stderr",
     "output_type": "stream",
     "text": [
      "[2018-01-21 23:16:22.830375]:load_ecg_signal:10:Loading file /Volumes/ASSD/pre_epi_seizures/PATIENT8/FA7773KZ_1-1.edf ...\n"
     ]
    },
    {
     "name": "stdout",
     "output_type": "stream",
     "text": [
      "addd\n",
      "closinnngg\n",
      "CLOSEDDDDD\n",
      "PATIENT8/\n",
      "\n",
      "FA7773KZ\n",
      "[u'Fp1', u'Fp2', u'F3', u'F4', u'C3', u'C4', u'P3', u'P4', u'O1', u'O2', u'F7', u'F8', u'T7', u'T8', u'P7', u'P8', u'Fz', u'Cz', u'Pz', u'E', u'A1', u'A2', u'Ecg', u'EogL', u'EogR', u'Emg1', u'Emg2', u'ECG-', u'OBD+', u'OBD-', u'OBE+', u'OBE-', u'SOD+', u'DC01', u'DC02', u'DC03', u'DC04', u'SOD-', u'SOE+', u'EEG Mark1', u'EEG Mark2', u'SOE-', u'CAPD+', u'CAPD-', u'CAPE+', u'CAPE-', u'X+', u'X-', u'Y+', u'Y-', u'Z+', u'Z-', u'F1', u'F2', u'FC1', u'FC2', u'C1', u'C2', u'CP1', u'CP2', u'P1', u'P2', u'AF3', u'AF4', u'FC3', u'FC4', u'CP3', u'CP4', u'PO3', u'PO4', u'F5', u'F6', u'FC5', u'FC6', u'C5', u'C6', u'CP5', u'CP6', u'P5', u'P6', u'AF7', u'AF8', u'FT7', u'FT8', u'TP7', u'TP8', u'PO7', u'PO8', u'F9', u'F10', u'FT9', u'FT10', u'T9', u'T10', u'TP9', u'TP10', u'P9', u'P10', u'Nz', u'Fpz', u'AFz', u'FCz', u'CPz', u'POz', u'OZ', u'Events/Markers']\n",
      "Ecg\n",
      "ECG-\n",
      "ECG+\n",
      "'ECG+' is not in list\n"
     ]
    },
    {
     "name": "stderr",
     "output_type": "stream",
     "text": [
      "[2018-01-21 23:16:28.926261]:add_signal:20:Saving [signal: FA7773KZ_Ecg_2016-05-13 12:00:35.000000][group: PATIENT8/]\n",
      "[2018-01-21 23:16:29.045572]:add_signal:20:Saving [signal: FA7773KZ_ECG-_2016-05-13 12:00:35.000000][group: PATIENT8/]\n"
     ]
    },
    {
     "name": "stdout",
     "output_type": "stream",
     "text": [
      "['FA7773KZ_Ecg_2016-05-13 12:00:35.000000', 'FA7773KZ_ECG-_2016-05-13 12:00:35.000000']\n",
      "/Volumes/ASSD/pre_epi_seizures/h5_files/raw_fulldata/HSM_data.h5\n",
      "addd\n"
     ]
    },
    {
     "name": "stderr",
     "output_type": "stream",
     "text": [
      "[2018-01-21 23:16:29.428572]:load_ecg_signal:10:Loading file /Volumes/ASSD/pre_epi_seizures/PATIENT8/FA7773L0_1-1.edf ...\n"
     ]
    },
    {
     "name": "stdout",
     "output_type": "stream",
     "text": [
      "addd\n",
      "closinnngg\n",
      "CLOSEDDDDD\n",
      "PATIENT8/\n",
      "\n",
      "FA7773L0\n",
      "[u'Fp1', u'Fp2', u'F3', u'F4', u'C3', u'C4', u'P3', u'P4', u'O1', u'O2', u'F7', u'F8', u'T7', u'T8', u'P7', u'P8', u'Fz', u'Cz', u'Pz', u'E', u'A1', u'A2', u'Ecg', u'EogL', u'EogR', u'Emg1', u'Emg2', u'ECG-', u'OBD+', u'OBD-', u'OBE+', u'OBE-', u'SOD+', u'DC01', u'DC02', u'DC03', u'DC04', u'SOD-', u'SOE+', u'EEG Mark1', u'EEG Mark2', u'SOE-', u'CAPD+', u'CAPD-', u'CAPE+', u'CAPE-', u'X+', u'X-', u'Y+', u'Y-', u'Z+', u'Z-', u'F1', u'F2', u'FC1', u'FC2', u'C1', u'C2', u'CP1', u'CP2', u'P1', u'P2', u'AF3', u'AF4', u'FC3', u'FC4', u'CP3', u'CP4', u'PO3', u'PO4', u'F5', u'F6', u'FC5', u'FC6', u'C5', u'C6', u'CP5', u'CP6', u'P5', u'P6', u'AF7', u'AF8', u'FT7', u'FT8', u'TP7', u'TP8', u'PO7', u'PO8', u'F9', u'F10', u'FT9', u'FT10', u'T9', u'T10', u'TP9', u'TP10', u'P9', u'P10', u'Nz', u'Fpz', u'AFz', u'FCz', u'CPz', u'POz', u'OZ', u'Events/Markers']\n",
      "Ecg\n",
      "ECG-\n",
      "ECG+\n",
      "'ECG+' is not in list\n"
     ]
    },
    {
     "name": "stderr",
     "output_type": "stream",
     "text": [
      "[2018-01-21 23:16:35.375501]:add_signal:20:Saving [signal: FA7773L0_Ecg_2016-05-13 14:00:48.000000][group: PATIENT8/]\n",
      "[2018-01-21 23:16:35.493037]:add_signal:20:Saving [signal: FA7773L0_ECG-_2016-05-13 14:00:48.000000][group: PATIENT8/]\n"
     ]
    },
    {
     "name": "stdout",
     "output_type": "stream",
     "text": [
      "['FA7773L0_Ecg_2016-05-13 14:00:48.000000', 'FA7773L0_ECG-_2016-05-13 14:00:48.000000']\n",
      "/Volumes/ASSD/pre_epi_seizures/h5_files/raw_fulldata/HSM_data.h5\n",
      "addd\n"
     ]
    },
    {
     "name": "stderr",
     "output_type": "stream",
     "text": [
      "[2018-01-21 23:16:35.872706]:load_ecg_signal:10:Loading file /Volumes/ASSD/pre_epi_seizures/PATIENT8/FA7773L1_1-1.edf ...\n"
     ]
    },
    {
     "name": "stdout",
     "output_type": "stream",
     "text": [
      "addd\n",
      "closinnngg\n",
      "CLOSEDDDDD\n",
      "PATIENT8/\n",
      "\n",
      "FA7773L1\n",
      "[u'Fp1', u'Fp2', u'F3', u'F4', u'C3', u'C4', u'P3', u'P4', u'O1', u'O2', u'F7', u'F8', u'T7', u'T8', u'P7', u'P8', u'Fz', u'Cz', u'Pz', u'E', u'A1', u'A2', u'Ecg', u'EogL', u'EogR', u'Emg1', u'Emg2', u'ECG-', u'OBD+', u'OBD-', u'OBE+', u'OBE-', u'SOD+', u'DC01', u'DC02', u'DC03', u'DC04', u'SOD-', u'SOE+', u'EEG Mark1', u'EEG Mark2', u'SOE-', u'CAPD+', u'CAPD-', u'CAPE+', u'CAPE-', u'X+', u'X-', u'Y+', u'Y-', u'Z+', u'Z-', u'F1', u'F2', u'FC1', u'FC2', u'C1', u'C2', u'CP1', u'CP2', u'P1', u'P2', u'AF3', u'AF4', u'FC3', u'FC4', u'CP3', u'CP4', u'PO3', u'PO4', u'F5', u'F6', u'FC5', u'FC6', u'C5', u'C6', u'CP5', u'CP6', u'P5', u'P6', u'AF7', u'AF8', u'FT7', u'FT8', u'TP7', u'TP8', u'PO7', u'PO8', u'F9', u'F10', u'FT9', u'FT10', u'T9', u'T10', u'TP9', u'TP10', u'P9', u'P10', u'Nz', u'Fpz', u'AFz', u'FCz', u'CPz', u'POz', u'OZ', u'Events/Markers']\n",
      "Ecg\n",
      "ECG-\n",
      "ECG+\n",
      "'ECG+' is not in list\n"
     ]
    },
    {
     "name": "stderr",
     "output_type": "stream",
     "text": [
      "[2018-01-21 23:16:41.302922]:add_signal:20:Saving [signal: FA7773L1_Ecg_2016-05-13 16:01:05.000000][group: PATIENT8/]\n",
      "[2018-01-21 23:16:41.414909]:add_signal:20:Saving [signal: FA7773L1_ECG-_2016-05-13 16:01:05.000000][group: PATIENT8/]\n"
     ]
    },
    {
     "name": "stdout",
     "output_type": "stream",
     "text": [
      "['FA7773L1_Ecg_2016-05-13 16:01:05.000000', 'FA7773L1_ECG-_2016-05-13 16:01:05.000000']\n",
      "/Volumes/ASSD/pre_epi_seizures/h5_files/raw_fulldata/HSM_data.h5\n",
      "addd\n"
     ]
    },
    {
     "name": "stderr",
     "output_type": "stream",
     "text": [
      "[2018-01-21 23:16:41.787281]:load_ecg_signal:10:Loading file /Volumes/ASSD/pre_epi_seizures/PATIENT8/FA7773L4_1-1.edf ...\n"
     ]
    },
    {
     "name": "stdout",
     "output_type": "stream",
     "text": [
      "addd\n",
      "closinnngg\n",
      "CLOSEDDDDD\n",
      "PATIENT8/\n",
      "\n",
      "FA7773L4\n",
      "[u'Fp1', u'Fp2', u'F3', u'F4', u'C3', u'C4', u'P3', u'P4', u'O1', u'O2', u'F7', u'F8', u'T7', u'T8', u'P7', u'P8', u'Fz', u'Cz', u'Pz', u'E', u'A1', u'A2', u'Ecg', u'EogL', u'EogR', u'Emg1', u'Emg2', u'ECG-', u'OBD+', u'OBD-', u'OBE+', u'OBE-', u'SOD+', u'DC01', u'DC02', u'DC03', u'DC04', u'SOD-', u'SOE+', u'EEG Mark1', u'EEG Mark2', u'SOE-', u'CAPD+', u'CAPD-', u'CAPE+', u'CAPE-', u'X+', u'X-', u'Y+', u'Y-', u'Z+', u'Z-', u'F1', u'F2', u'FC1', u'FC2', u'C1', u'C2', u'CP1', u'CP2', u'P1', u'P2', u'AF3', u'AF4', u'FC3', u'FC4', u'CP3', u'CP4', u'PO3', u'PO4', u'F5', u'F6', u'FC5', u'FC6', u'C5', u'C6', u'CP5', u'CP6', u'P5', u'P6', u'AF7', u'AF8', u'FT7', u'FT8', u'TP7', u'TP8', u'PO7', u'PO8', u'F9', u'F10', u'FT9', u'FT10', u'T9', u'T10', u'TP9', u'TP10', u'P9', u'P10', u'Nz', u'Fpz', u'AFz', u'FCz', u'CPz', u'POz', u'OZ', u'Events/Markers']\n",
      "Ecg\n",
      "ECG-\n",
      "ECG+\n",
      "'ECG+' is not in list\n"
     ]
    },
    {
     "name": "stderr",
     "output_type": "stream",
     "text": [
      "[2018-01-21 23:16:47.598586]:add_signal:20:Saving [signal: FA7773L4_Ecg_2016-05-13 18:14:46.000000][group: PATIENT8/]\n",
      "[2018-01-21 23:16:47.716988]:add_signal:20:Saving [signal: FA7773L4_ECG-_2016-05-13 18:14:46.000000][group: PATIENT8/]\n"
     ]
    },
    {
     "name": "stdout",
     "output_type": "stream",
     "text": [
      "['FA7773L4_Ecg_2016-05-13 18:14:46.000000', 'FA7773L4_ECG-_2016-05-13 18:14:46.000000']\n",
      "/Volumes/ASSD/pre_epi_seizures/h5_files/raw_fulldata/HSM_data.h5\n",
      "addd\n"
     ]
    },
    {
     "name": "stderr",
     "output_type": "stream",
     "text": [
      "[2018-01-21 23:16:48.107034]:load_ecg_signal:10:Loading file /Volumes/ASSD/pre_epi_seizures/PATIENT8/FA7773L5_1-1.edf ...\n"
     ]
    },
    {
     "name": "stdout",
     "output_type": "stream",
     "text": [
      "addd\n",
      "closinnngg\n",
      "CLOSEDDDDD\n",
      "PATIENT8/\n",
      "\n",
      "FA7773L5\n",
      "[u'Fp1', u'Fp2', u'F3', u'F4', u'C3', u'C4', u'P3', u'P4', u'O1', u'O2', u'F7', u'F8', u'T7', u'T8', u'P7', u'P8', u'Fz', u'Cz', u'Pz', u'E', u'A1', u'A2', u'Ecg', u'EogL', u'EogR', u'Emg1', u'Emg2', u'ECG-', u'OBD+', u'OBD-', u'OBE+', u'OBE-', u'SOD+', u'DC01', u'DC02', u'DC03', u'DC04', u'SOD-', u'SOE+', u'EEG Mark1', u'EEG Mark2', u'SOE-', u'CAPD+', u'CAPD-', u'CAPE+', u'CAPE-', u'X+', u'X-', u'Y+', u'Y-', u'Z+', u'Z-', u'F1', u'F2', u'FC1', u'FC2', u'C1', u'C2', u'CP1', u'CP2', u'P1', u'P2', u'AF3', u'AF4', u'FC3', u'FC4', u'CP3', u'CP4', u'PO3', u'PO4', u'F5', u'F6', u'FC5', u'FC6', u'C5', u'C6', u'CP5', u'CP6', u'P5', u'P6', u'AF7', u'AF8', u'FT7', u'FT8', u'TP7', u'TP8', u'PO7', u'PO8', u'F9', u'F10', u'FT9', u'FT10', u'T9', u'T10', u'TP9', u'TP10', u'P9', u'P10', u'Nz', u'Fpz', u'AFz', u'FCz', u'CPz', u'POz', u'OZ', u'Events/Markers']\n",
      "Ecg\n",
      "ECG-\n",
      "ECG+\n",
      "'ECG+' is not in list\n"
     ]
    },
    {
     "name": "stderr",
     "output_type": "stream",
     "text": [
      "[2018-01-21 23:16:53.734196]:add_signal:20:Saving [signal: FA7773L5_Ecg_2016-05-13 20:14:59.000000][group: PATIENT8/]\n",
      "[2018-01-21 23:16:53.868920]:add_signal:20:Saving [signal: FA7773L5_ECG-_2016-05-13 20:14:59.000000][group: PATIENT8/]\n"
     ]
    },
    {
     "name": "stdout",
     "output_type": "stream",
     "text": [
      "['FA7773L5_Ecg_2016-05-13 20:14:59.000000', 'FA7773L5_ECG-_2016-05-13 20:14:59.000000']\n",
      "/Volumes/ASSD/pre_epi_seizures/h5_files/raw_fulldata/HSM_data.h5\n",
      "addd\n"
     ]
    },
    {
     "name": "stderr",
     "output_type": "stream",
     "text": [
      "[2018-01-21 23:16:54.245700]:load_ecg_signal:10:Loading file /Volumes/ASSD/pre_epi_seizures/PATIENT8/FA7773L6_1-1.edf ...\n"
     ]
    },
    {
     "name": "stdout",
     "output_type": "stream",
     "text": [
      "addd\n",
      "closinnngg\n",
      "CLOSEDDDDD\n",
      "PATIENT8/\n",
      "\n",
      "FA7773L6\n",
      "[u'Fp1', u'Fp2', u'F3', u'F4', u'C3', u'C4', u'P3', u'P4', u'O1', u'O2', u'F7', u'F8', u'T7', u'T8', u'P7', u'P8', u'Fz', u'Cz', u'Pz', u'E', u'A1', u'A2', u'Ecg', u'EogL', u'EogR', u'Emg1', u'Emg2', u'ECG-', u'OBD+', u'OBD-', u'OBE+', u'OBE-', u'SOD+', u'DC01', u'DC02', u'DC03', u'DC04', u'SOD-', u'SOE+', u'EEG Mark1', u'EEG Mark2', u'SOE-', u'CAPD+', u'CAPD-', u'CAPE+', u'CAPE-', u'X+', u'X-', u'Y+', u'Y-', u'Z+', u'Z-', u'F1', u'F2', u'FC1', u'FC2', u'C1', u'C2', u'CP1', u'CP2', u'P1', u'P2', u'AF3', u'AF4', u'FC3', u'FC4', u'CP3', u'CP4', u'PO3', u'PO4', u'F5', u'F6', u'FC5', u'FC6', u'C5', u'C6', u'CP5', u'CP6', u'P5', u'P6', u'AF7', u'AF8', u'FT7', u'FT8', u'TP7', u'TP8', u'PO7', u'PO8', u'F9', u'F10', u'FT9', u'FT10', u'T9', u'T10', u'TP9', u'TP10', u'P9', u'P10', u'Nz', u'Fpz', u'AFz', u'FCz', u'CPz', u'POz', u'OZ', u'Events/Markers']\n",
      "Ecg\n",
      "ECG-\n",
      "ECG+\n",
      "'ECG+' is not in list\n"
     ]
    },
    {
     "name": "stderr",
     "output_type": "stream",
     "text": [
      "[2018-01-21 23:16:59.892711]:add_signal:20:Saving [signal: FA7773L6_Ecg_2016-05-13 22:15:11.000000][group: PATIENT8/]\n",
      "[2018-01-21 23:17:00.028692]:add_signal:20:Saving [signal: FA7773L6_ECG-_2016-05-13 22:15:11.000000][group: PATIENT8/]\n"
     ]
    },
    {
     "name": "stdout",
     "output_type": "stream",
     "text": [
      "['FA7773L6_Ecg_2016-05-13 22:15:11.000000', 'FA7773L6_ECG-_2016-05-13 22:15:11.000000']\n",
      "/Volumes/ASSD/pre_epi_seizures/h5_files/raw_fulldata/HSM_data.h5\n",
      "addd\n",
      "addd\n"
     ]
    },
    {
     "name": "stderr",
     "output_type": "stream",
     "text": [
      "[2018-01-21 23:17:00.408526]:load_ecg_signal:10:Loading file /Volumes/ASSD/pre_epi_seizures/PATIENT8/FA7773L7_1-1.edf ...\n"
     ]
    },
    {
     "name": "stdout",
     "output_type": "stream",
     "text": [
      "closinnngg\n",
      "CLOSEDDDDD\n",
      "PATIENT8/\n",
      "\n",
      "FA7773L7\n",
      "[u'Fp1', u'Fp2', u'F3', u'F4', u'C3', u'C4', u'P3', u'P4', u'O1', u'O2', u'F7', u'F8', u'T7', u'T8', u'P7', u'P8', u'Fz', u'Cz', u'Pz', u'E', u'A1', u'A2', u'Ecg', u'EogL', u'EogR', u'Emg1', u'Emg2', u'ECG-', u'OBD+', u'OBD-', u'OBE+', u'OBE-', u'SOD+', u'DC01', u'DC02', u'DC03', u'DC04', u'SOD-', u'SOE+', u'EEG Mark1', u'EEG Mark2', u'SOE-', u'CAPD+', u'CAPD-', u'CAPE+', u'CAPE-', u'X+', u'X-', u'Y+', u'Y-', u'Z+', u'Z-', u'F1', u'F2', u'FC1', u'FC2', u'C1', u'C2', u'CP1', u'CP2', u'P1', u'P2', u'AF3', u'AF4', u'FC3', u'FC4', u'CP3', u'CP4', u'PO3', u'PO4', u'F5', u'F6', u'FC5', u'FC6', u'C5', u'C6', u'CP5', u'CP6', u'P5', u'P6', u'AF7', u'AF8', u'FT7', u'FT8', u'TP7', u'TP8', u'PO7', u'PO8', u'F9', u'F10', u'FT9', u'FT10', u'T9', u'T10', u'TP9', u'TP10', u'P9', u'P10', u'Nz', u'Fpz', u'AFz', u'FCz', u'CPz', u'POz', u'OZ', u'Events/Markers']\n",
      "Ecg\n",
      "ECG-\n",
      "ECG+\n",
      "'ECG+' is not in list\n"
     ]
    },
    {
     "name": "stderr",
     "output_type": "stream",
     "text": [
      "[2018-01-21 23:17:05.952779]:add_signal:20:Saving [signal: FA7773L7_Ecg_2016-05-14 00:15:23.000000][group: PATIENT8/]\n",
      "[2018-01-21 23:17:06.089463]:add_signal:20:Saving [signal: FA7773L7_ECG-_2016-05-14 00:15:23.000000][group: PATIENT8/]\n"
     ]
    },
    {
     "name": "stdout",
     "output_type": "stream",
     "text": [
      "['FA7773L7_Ecg_2016-05-14 00:15:23.000000', 'FA7773L7_ECG-_2016-05-14 00:15:23.000000']\n",
      "/Volumes/ASSD/pre_epi_seizures/h5_files/raw_fulldata/HSM_data.h5\n",
      "addd\n"
     ]
    },
    {
     "name": "stderr",
     "output_type": "stream",
     "text": [
      "[2018-01-21 23:17:06.497245]:load_ecg_signal:10:Loading file /Volumes/ASSD/pre_epi_seizures/PATIENT8/FA7773LA_1-1.edf ...\n"
     ]
    },
    {
     "name": "stdout",
     "output_type": "stream",
     "text": [
      "addd\n",
      "closinnngg\n",
      "CLOSEDDDDD\n",
      "PATIENT8/\n",
      "\n",
      "FA7773LA\n",
      "[u'Fp1', u'Fp2', u'F3', u'F4', u'C3', u'C4', u'P3', u'P4', u'O1', u'O2', u'F7', u'F8', u'T7', u'T8', u'P7', u'P8', u'Fz', u'Cz', u'Pz', u'E', u'A1', u'A2', u'Ecg', u'EogL', u'EogR', u'Emg1', u'Emg2', u'ECG-', u'OBD+', u'OBD-', u'OBE+', u'OBE-', u'SOD+', u'DC01', u'DC02', u'DC03', u'DC04', u'SOD-', u'SOE+', u'EEG Mark1', u'EEG Mark2', u'SOE-', u'CAPD+', u'CAPD-', u'CAPE+', u'CAPE-', u'X+', u'X-', u'Y+', u'Y-', u'Z+', u'Z-', u'F1', u'F2', u'FC1', u'FC2', u'C1', u'C2', u'CP1', u'CP2', u'P1', u'P2', u'AF3', u'AF4', u'FC3', u'FC4', u'CP3', u'CP4', u'PO3', u'PO4', u'F5', u'F6', u'FC5', u'FC6', u'C5', u'C6', u'CP5', u'CP6', u'P5', u'P6', u'AF7', u'AF8', u'FT7', u'FT8', u'TP7', u'TP8', u'PO7', u'PO8', u'F9', u'F10', u'FT9', u'FT10', u'T9', u'T10', u'TP9', u'TP10', u'P9', u'P10', u'Nz', u'Fpz', u'AFz', u'FCz', u'CPz', u'POz', u'OZ', u'Events/Markers']\n",
      "Ecg\n",
      "ECG-\n",
      "ECG+\n",
      "'ECG+' is not in list\n"
     ]
    },
    {
     "name": "stderr",
     "output_type": "stream",
     "text": [
      "[2018-01-21 23:17:12.163226]:add_signal:20:Saving [signal: FA7773LA_Ecg_2016-05-14 06:16:03.000000][group: PATIENT8/]\n",
      "[2018-01-21 23:17:12.298898]:add_signal:20:Saving [signal: FA7773LA_ECG-_2016-05-14 06:16:03.000000][group: PATIENT8/]\n"
     ]
    },
    {
     "name": "stdout",
     "output_type": "stream",
     "text": [
      "['FA7773LA_Ecg_2016-05-14 06:16:03.000000', 'FA7773LA_ECG-_2016-05-14 06:16:03.000000']\n",
      "/Volumes/ASSD/pre_epi_seizures/h5_files/raw_fulldata/HSM_data.h5\n",
      "addd\n"
     ]
    },
    {
     "name": "stderr",
     "output_type": "stream",
     "text": [
      "[2018-01-21 23:17:12.709422]:load_ecg_signal:10:Loading file /Volumes/ASSD/pre_epi_seizures/PATIENT8/FA7773LB_1-1.edf ...\n"
     ]
    },
    {
     "name": "stdout",
     "output_type": "stream",
     "text": [
      "addd\n",
      "closinnngg\n",
      "CLOSEDDDDD\n",
      "PATIENT8/\n",
      "\n",
      "FA7773LB\n",
      "[u'Fp1', u'Fp2', u'F3', u'F4', u'C3', u'C4', u'P3', u'P4', u'O1', u'O2', u'F7', u'F8', u'T7', u'T8', u'P7', u'P8', u'Fz', u'Cz', u'Pz', u'E', u'A1', u'A2', u'Ecg', u'EogL', u'EogR', u'Emg1', u'Emg2', u'ECG-', u'OBD+', u'OBD-', u'OBE+', u'OBE-', u'SOD+', u'DC01', u'DC02', u'DC03', u'DC04', u'SOD-', u'SOE+', u'EEG Mark1', u'EEG Mark2', u'SOE-', u'CAPD+', u'CAPD-', u'CAPE+', u'CAPE-', u'X+', u'X-', u'Y+', u'Y-', u'Z+', u'Z-', u'F1', u'F2', u'FC1', u'FC2', u'C1', u'C2', u'CP1', u'CP2', u'P1', u'P2', u'AF3', u'AF4', u'FC3', u'FC4', u'CP3', u'CP4', u'PO3', u'PO4', u'F5', u'F6', u'FC5', u'FC6', u'C5', u'C6', u'CP5', u'CP6', u'P5', u'P6', u'AF7', u'AF8', u'FT7', u'FT8', u'TP7', u'TP8', u'PO7', u'PO8', u'F9', u'F10', u'FT9', u'FT10', u'T9', u'T10', u'TP9', u'TP10', u'P9', u'P10', u'Nz', u'Fpz', u'AFz', u'FCz', u'CPz', u'POz', u'OZ', u'Events/Markers']\n",
      "Ecg\n",
      "ECG-\n",
      "ECG+\n",
      "'ECG+' is not in list\n"
     ]
    },
    {
     "name": "stderr",
     "output_type": "stream",
     "text": [
      "[2018-01-21 23:17:18.543189]:add_signal:20:Saving [signal: FA7773LB_Ecg_2016-05-14 08:16:15.000000][group: PATIENT8/]\n",
      "[2018-01-21 23:17:18.678819]:add_signal:20:Saving [signal: FA7773LB_ECG-_2016-05-14 08:16:15.000000][group: PATIENT8/]\n"
     ]
    },
    {
     "name": "stdout",
     "output_type": "stream",
     "text": [
      "['FA7773LB_Ecg_2016-05-14 08:16:15.000000', 'FA7773LB_ECG-_2016-05-14 08:16:15.000000']\n",
      "/Volumes/ASSD/pre_epi_seizures/h5_files/raw_fulldata/HSM_data.h5\n",
      "addd\n"
     ]
    },
    {
     "name": "stderr",
     "output_type": "stream",
     "text": [
      "[2018-01-21 23:17:19.086386]:load_ecg_signal:10:Loading file /Volumes/ASSD/pre_epi_seizures/PATIENT8/FA7773LC_1-1.edf ...\n"
     ]
    },
    {
     "name": "stdout",
     "output_type": "stream",
     "text": [
      "addd\n",
      "closinnngg\n",
      "CLOSEDDDDD\n",
      "PATIENT8/\n",
      "\n",
      "FA7773LC\n",
      "[u'Fp1', u'Fp2', u'F3', u'F4', u'C3', u'C4', u'P3', u'P4', u'O1', u'O2', u'F7', u'F8', u'T7', u'T8', u'P7', u'P8', u'Fz', u'Cz', u'Pz', u'E', u'A1', u'A2', u'Ecg', u'EogL', u'EogR', u'Emg1', u'Emg2', u'ECG-', u'OBD+', u'OBD-', u'OBE+', u'OBE-', u'SOD+', u'DC01', u'DC02', u'DC03', u'DC04', u'SOD-', u'SOE+', u'EEG Mark1', u'EEG Mark2', u'SOE-', u'CAPD+', u'CAPD-', u'CAPE+', u'CAPE-', u'X+', u'X-', u'Y+', u'Y-', u'Z+', u'Z-', u'F1', u'F2', u'FC1', u'FC2', u'C1', u'C2', u'CP1', u'CP2', u'P1', u'P2', u'AF3', u'AF4', u'FC3', u'FC4', u'CP3', u'CP4', u'PO3', u'PO4', u'F5', u'F6', u'FC5', u'FC6', u'C5', u'C6', u'CP5', u'CP6', u'P5', u'P6', u'AF7', u'AF8', u'FT7', u'FT8', u'TP7', u'TP8', u'PO7', u'PO8', u'F9', u'F10', u'FT9', u'FT10', u'T9', u'T10', u'TP9', u'TP10', u'P9', u'P10', u'Nz', u'Fpz', u'AFz', u'FCz', u'CPz', u'POz', u'OZ', u'Events/Markers']\n",
      "Ecg\n",
      "ECG-\n",
      "ECG+\n",
      "'ECG+' is not in list\n"
     ]
    },
    {
     "name": "stderr",
     "output_type": "stream",
     "text": [
      "[2018-01-21 23:17:24.766082]:add_signal:20:Saving [signal: FA7773LC_Ecg_2016-05-14 10:16:29.000000][group: PATIENT8/]\n",
      "[2018-01-21 23:17:24.905430]:add_signal:20:Saving [signal: FA7773LC_ECG-_2016-05-14 10:16:29.000000][group: PATIENT8/]\n"
     ]
    },
    {
     "name": "stdout",
     "output_type": "stream",
     "text": [
      "['FA7773LC_Ecg_2016-05-14 10:16:29.000000', 'FA7773LC_ECG-_2016-05-14 10:16:29.000000']\n",
      "/Volumes/ASSD/pre_epi_seizures/h5_files/raw_fulldata/HSM_data.h5\n",
      "addd\n"
     ]
    },
    {
     "name": "stderr",
     "output_type": "stream",
     "text": [
      "[2018-01-21 23:17:25.312498]:load_ecg_signal:10:Loading file /Volumes/ASSD/pre_epi_seizures/PATIENT8/FA7773LD_1-1.edf ...\n"
     ]
    },
    {
     "name": "stdout",
     "output_type": "stream",
     "text": [
      "addd\n",
      "closinnngg\n",
      "CLOSEDDDDD\n",
      "PATIENT8/\n",
      "\n",
      "FA7773LD\n",
      "[u'Fp1', u'Fp2', u'F3', u'F4', u'C3', u'C4', u'P3', u'P4', u'O1', u'O2', u'F7', u'F8', u'T7', u'T8', u'P7', u'P8', u'Fz', u'Cz', u'Pz', u'E', u'A1', u'A2', u'Ecg', u'EogL', u'EogR', u'Emg1', u'Emg2', u'ECG-', u'OBD+', u'OBD-', u'OBE+', u'OBE-', u'SOD+', u'DC01', u'DC02', u'DC03', u'DC04', u'SOD-', u'SOE+', u'EEG Mark1', u'EEG Mark2', u'SOE-', u'CAPD+', u'CAPD-', u'CAPE+', u'CAPE-', u'X+', u'X-', u'Y+', u'Y-', u'Z+', u'Z-', u'F1', u'F2', u'FC1', u'FC2', u'C1', u'C2', u'CP1', u'CP2', u'P1', u'P2', u'AF3', u'AF4', u'FC3', u'FC4', u'CP3', u'CP4', u'PO3', u'PO4', u'F5', u'F6', u'FC5', u'FC6', u'C5', u'C6', u'CP5', u'CP6', u'P5', u'P6', u'AF7', u'AF8', u'FT7', u'FT8', u'TP7', u'TP8', u'PO7', u'PO8', u'F9', u'F10', u'FT9', u'FT10', u'T9', u'T10', u'TP9', u'TP10', u'P9', u'P10', u'Nz', u'Fpz', u'AFz', u'FCz', u'CPz', u'POz', u'OZ', u'Events/Markers']\n",
      "Ecg\n",
      "ECG-\n",
      "ECG+\n",
      "'ECG+' is not in list\n"
     ]
    },
    {
     "name": "stderr",
     "output_type": "stream",
     "text": [
      "[2018-01-21 23:17:30.979434]:add_signal:20:Saving [signal: FA7773LD_Ecg_2016-05-14 12:16:41.000000][group: PATIENT8/]\n",
      "[2018-01-21 23:17:31.114436]:add_signal:20:Saving [signal: FA7773LD_ECG-_2016-05-14 12:16:41.000000][group: PATIENT8/]\n"
     ]
    },
    {
     "name": "stdout",
     "output_type": "stream",
     "text": [
      "['FA7773LD_Ecg_2016-05-14 12:16:41.000000', 'FA7773LD_ECG-_2016-05-14 12:16:41.000000']\n",
      "/Volumes/ASSD/pre_epi_seizures/h5_files/raw_fulldata/HSM_data.h5\n",
      "addd\n"
     ]
    },
    {
     "name": "stderr",
     "output_type": "stream",
     "text": [
      "[2018-01-21 23:17:31.538415]:load_ecg_signal:10:Loading file /Volumes/ASSD/pre_epi_seizures/PATIENT8/FA7773LE_1-1.edf ...\n"
     ]
    },
    {
     "name": "stdout",
     "output_type": "stream",
     "text": [
      "addd\n",
      "closinnngg\n",
      "CLOSEDDDDD\n",
      "PATIENT8/\n",
      "\n",
      "FA7773LE\n",
      "[u'Fp1', u'Fp2', u'F3', u'F4', u'C3', u'C4', u'P3', u'P4', u'O1', u'O2', u'F7', u'F8', u'T7', u'T8', u'P7', u'P8', u'Fz', u'Cz', u'Pz', u'E', u'A1', u'A2', u'Ecg', u'EogL', u'EogR', u'Emg1', u'Emg2', u'ECG-', u'OBD+', u'OBD-', u'OBE+', u'OBE-', u'SOD+', u'DC01', u'DC02', u'DC03', u'DC04', u'SOD-', u'SOE+', u'EEG Mark1', u'EEG Mark2', u'SOE-', u'CAPD+', u'CAPD-', u'CAPE+', u'CAPE-', u'X+', u'X-', u'Y+', u'Y-', u'Z+', u'Z-', u'F1', u'F2', u'FC1', u'FC2', u'C1', u'C2', u'CP1', u'CP2', u'P1', u'P2', u'AF3', u'AF4', u'FC3', u'FC4', u'CP3', u'CP4', u'PO3', u'PO4', u'F5', u'F6', u'FC5', u'FC6', u'C5', u'C6', u'CP5', u'CP6', u'P5', u'P6', u'AF7', u'AF8', u'FT7', u'FT8', u'TP7', u'TP8', u'PO7', u'PO8', u'F9', u'F10', u'FT9', u'FT10', u'T9', u'T10', u'TP9', u'TP10', u'P9', u'P10', u'Nz', u'Fpz', u'AFz', u'FCz', u'CPz', u'POz', u'OZ', u'Events/Markers']\n",
      "Ecg\n",
      "ECG-\n",
      "ECG+\n",
      "'ECG+' is not in list\n"
     ]
    },
    {
     "name": "stderr",
     "output_type": "stream",
     "text": [
      "[2018-01-21 23:17:37.561318]:add_signal:20:Saving [signal: FA7773LE_Ecg_2016-05-14 14:16:54.000000][group: PATIENT8/]\n",
      "[2018-01-21 23:17:37.696566]:add_signal:20:Saving [signal: FA7773LE_ECG-_2016-05-14 14:16:54.000000][group: PATIENT8/]\n"
     ]
    },
    {
     "name": "stdout",
     "output_type": "stream",
     "text": [
      "['FA7773LE_Ecg_2016-05-14 14:16:54.000000', 'FA7773LE_ECG-_2016-05-14 14:16:54.000000']\n",
      "/Volumes/ASSD/pre_epi_seizures/h5_files/raw_fulldata/HSM_data.h5\n",
      "addd\n",
      "addd\n",
      "closinnngg\n",
      "CLOSEDDDDD\n"
     ]
    }
   ],
   "source": [
    "# Convert patients records from edf to hdf5\n",
    "converter(*patient_nr)"
   ]
  },
  {
   "cell_type": "code",
   "execution_count": 4,
   "metadata": {
    "scrolled": true
   },
   "outputs": [
    {
     "name": "stderr",
     "output_type": "stream",
     "text": [
      "[2018-01-21 23:17:38.167382]:create_seizure_dataset_patient:10:searching all files\n"
     ]
    },
    {
     "ename": "SyntaxError",
     "evalue": "invalid syntax (patients_data_new.py, line 68)",
     "output_type": "error",
     "traceback": [
      "\u001b[0;36m  File \u001b[0;32m\"storage_utils/patients_data_new.py\"\u001b[0;36m, line \u001b[0;32m68\u001b[0m\n\u001b[0;31m    time(12, 16, 26)\u001b[0m\n\u001b[0m       ^\u001b[0m\n\u001b[0;31mSyntaxError\u001b[0m\u001b[0;31m:\u001b[0m invalid syntax\n"
     ]
    }
   ],
   "source": [
    "# Create new datasets\n",
    "#patient_nr = [3, 5]\n",
    "for i in patient_nr:\n",
    "    create_datasets_nk(i)\n",
    "    create_free_datasets_nk(i)"
   ]
  },
  {
   "cell_type": "code",
   "execution_count": null,
   "metadata": {
    "collapsed": true,
    "scrolled": false
   },
   "outputs": [],
   "source": [
    "from Preprocessing.pre_processing import *\n",
    "main()"
   ]
  },
  {
   "cell_type": "code",
   "execution_count": null,
   "metadata": {
    "collapsed": true,
    "scrolled": true
   },
   "outputs": [],
   "source": [
    "#from storage_utils.create_datasets_nk import *"
   ]
  }
 ],
 "metadata": {
  "kernelspec": {
   "display_name": "Python 2",
   "language": "python",
   "name": "python2"
  },
  "language_info": {
   "codemirror_mode": {
    "name": "ipython",
    "version": 2
   },
   "file_extension": ".py",
   "mimetype": "text/x-python",
   "name": "python",
   "nbconvert_exporter": "python",
   "pygments_lexer": "ipython2",
   "version": "2.7.10"
  }
 },
 "nbformat": 4,
 "nbformat_minor": 2
}
