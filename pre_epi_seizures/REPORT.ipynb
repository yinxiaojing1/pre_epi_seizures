{
 "cells": [
  {
   "cell_type": "code",
   "execution_count": 1,
   "metadata": {},
   "outputs": [
    {
     "name": "stderr",
     "output_type": "stream",
     "text": [
      "/home/franciscosargo/.virtualenvs/pre_epi_seizures/local/lib/python2.7/site-packages/h5py/__init__.py:34: FutureWarning: Conversion of the second argument of issubdtype from `float` to `np.floating` is deprecated. In future, it will be treated as `np.float64 == np.dtype(float).type`.\n",
      "  from ._conv import register_converters as _register_converters\n"
     ]
    }
   ],
   "source": [
    "# Exploratory Data Analysis\n",
    "from classification.load_for_class import *\n",
    "import convertpandas as cv_pd\n",
    "import pandas as pd\n",
    "import sklearn.preprocessing as pp\n",
    "from sklearn.kernel_approximation import RBFSampler\n",
    "from interim_processing import *\n",
    "import iopes\n"
   ]
  },
  {
   "cell_type": "code",
   "execution_count": 2,
   "metadata": {
    "collapsed": true
   },
   "outputs": [],
   "source": [
    "disk = '/mnt/pre_epi_seizures/'\n",
    "baseline_files = 'h5_files/processing_datasets/baseline_datasets_new'\n",
    "seizure_files = 'h5_files/processing_datasets/seizure_datasets_new'\n",
    "time_before_seizure = 50 * 60\n",
    "time_after_seizure = 20 * 60\n",
    "time_baseline = 4 * 60 * 60\n",
    "\n"
   ]
  },
  {
   "cell_type": "code",
   "execution_count": 3,
   "metadata": {
    "collapsed": true
   },
   "outputs": [],
   "source": [
    "# Set parameters of analyssis\n",
    "feature_slot = 'hrv_time_feature'\n",
    "# Chose hyper-parameters of acquisition (ix of saved files)\n",
    "hyper_param = 0\n",
    "\n",
    "\n",
    "\n",
    "patient_list = [3]\n",
    "lead_list = ['ECG-']\n",
    "scaler = pp.StandardScaler()\n",
    "rbf_feature = RBFSampler(gamma=1, random_state=1)\n",
    "interim_processing = [scaler]\n",
    "hist_bins = None\n",
    "dist = None\n",
    "flag_hist = True\n",
    "flag_andrews = True\n",
    "flag_series = True\n",
    "flag_box = True\n",
    "flag_pair = True\n",
    "assign_baseline = 'assign_equal_baseline_seizure'\n",
    "label_struct = {\n",
    "                        'inter_ictal':{\n",
    "                            'label': 'Inter-Ictal Data Points',\n",
    "                            'color': 'blue',\n",
    "                            'intervals_samples': [(1000 * 0 * 60, 1000 * 0 * 60 )]\n",
    "                                     },\n",
    "                        'pre_ictal':{\n",
    "                            'label': 'Pre-Ictal data points',\n",
    "                            'color': 'yellow',\n",
    "                            'intervals_samples': [(1000 * 20 * 60, 1000 * 49 * 60 )]\n",
    "                                     },\n",
    "                        'ictal':{\n",
    "                            'label': 'Ictal data points',\n",
    "                            'color': 'red',\n",
    "                            'intervals_samples': [(1000 * 50 * 60, 1000 * 55 * 60 )]\n",
    "                                 },\n",
    "                        }\n",
    "baseline_label_struct = {\n",
    "                         'baseline':{\n",
    "                            'label': 'Baseline Data Points',\n",
    "                            'color': 'green',\n",
    "                            'intervals_samples': [(0, 1000 * 120 * 60 )]\n",
    "                                    },\n",
    "                        }"
   ]
  },
  {
   "cell_type": "code",
   "execution_count": 4,
   "metadata": {
    "scrolled": true
   },
   "outputs": [
    {
     "name": "stdout",
     "output_type": "stream",
     "text": [
      "/raw_$beginwin_samplerate:1000_win:0.001_init:0_finish:7200_endwin$__$beginparams_param:None_endparam$_/baseline_removal_$beginwin_win:0.001__init:0__finish:4200__samplerate:1000_endwin$__$beginparam_filt:MedianFIR_endparam$_/rpeak_detection_$beginwin_win:rpeaks__samplerate:1000_endwin$__$beginparam_method:hamilton_endparam$_/hrv_computation_$beginwin_win:0.001__init:rpeaks[0]__finish:rpeaks[-1]__samplerate:1000_endwin$__$beginparam_method:hamilton__resampling:spline_endparam$_/hrv_time_features_$beginwin_win:120__init:0__finish:4200__samplerate:1000_endwin$__$beginparam_method:hamilton__resampling:spline_endparam$_\n",
      "/raw_$beginwin_samplerate:1000_win:0.001_init:0_finish:7200_endwin$__$beginparams_param:None_endparam$_/baseline_removal_$beginwin_win:0.001__init:0__finish:4200__samplerate:1000_endwin$__$beginparam_filt:MedianFIR_endparam$_/rpeak_detection_$beginwin_win:rpeaks__samplerate:1000_endwin$__$beginparam_method:hamilton_endparam$_/hrv_computation_$beginwin_win:0.001__init:rpeaks[0]__finish:rpeaks[-1]__samplerate:1000_endwin$__$beginparam_method:hamilton__resampling:spline_endparam$_/hrv_time_features_$beginwin_win:120__init:0__finish:4200__samplerate:1000_endwin$__$beginparam_method:hamilton__resampling:spline_endparam$_\n"
     ]
    }
   ],
   "source": [
    "# Ingest Seizure Data\n",
    "path_to_load = disk + seizure_files + '.h5'\n",
    "path_to_map = disk + seizure_files + '_map.txt'\n",
    "\n",
    "# set Labeling structure\n",
    "path_to_load = disk + baseline_files + '.h5'\n",
    "path_to_map = disk + baseline_files + '_map.txt'\n",
    "\n",
    "# Feature group to analyse -- point of entry\n",
    "seizure_feature_name = get_feature_group_name_list(path_to_map,\n",
    "                                               feature_slot)[hyper_param]\n",
    "\n",
    "# Feature group to analyse -- point of entry\n",
    "baseline_feature_name = get_feature_group_name_list(path_to_map,\n",
    "                                               feature_slot)[hyper_param]\n",
    "\n",
    "print seizure_feature_name\n",
    "\n",
    "print baseline_feature_name\n",
    "# Ingest Baseline Data"
   ]
  },
  {
   "cell_type": "code",
   "execution_count": 5,
   "metadata": {
    "scrolled": true
   },
   "outputs": [
    {
     "name": "stdout",
     "output_type": "stream",
     "text": [
      "('flag_box', True)('flag_series', True)('dist', None)('scaler', StandardScaler(copy=True, with_mean=True, with_std=True))('lead_list', ['ECG-'])('interim_processing', [StandardScaler(copy=True, with_mean=True, with_std=True)])('seizure_feature_name', '/raw_$beginwin_samplerate:1000_win:0.001_init:0_finish:7200_endwin$__$beginparams_param:None_endparam$_/baseline_removal_$beginwin_win:0.001__init:0__finish:4200__samplerate:1000_endwin$__$beginparam_filt:MedianFIR_endparam$_/rpeak_detection_$beginwin_win:rpeaks__samplerate:1000_endwin$__$beginparam_method:hamilton_endparam$_/hrv_computation_$beginwin_win:0.001__init:rpeaks[0]__finish:rpeaks[-1]__samplerate:1000_endwin$__$beginparam_method:hamilton__resampling:spline_endparam$_/hrv_time_features_$beginwin_win:120__init:0__finish:4200__samplerate:1000_endwin$__$beginparam_method:hamilton__resampling:spline_endparam$_')('flag_hist', True)('assign_baseline', 'assign_equal_baseline_seizure')('label_struct', {'pre_ictal': {'color': 'yellow', 'intervals_samples': [(1200000, 2940000)], 'label': 'Pre-Ictal data points'}, 'inter_ictal': {'color': 'blue', 'intervals_samples': [(0, 0)], 'label': 'Inter-Ictal Data Points'}, 'ictal': {'color': 'red', 'intervals_samples': [(3000000, 3300000)], 'label': 'Ictal data points'}})('baseline_label_struct', {'baseline': {'color': 'green', 'intervals_samples': [(0, 7200000)], 'label': 'Baseline Data Points'}})('flag_andrews', True)('patient_list', [3])('hist_bins', None)('baseline_feature_name', '/raw_$beginwin_samplerate:1000_win:0.001_init:0_finish:7200_endwin$__$beginparams_param:None_endparam$_/baseline_removal_$beginwin_win:0.001__init:0__finish:4200__samplerate:1000_endwin$__$beginparam_filt:MedianFIR_endparam$_/rpeak_detection_$beginwin_win:rpeaks__samplerate:1000_endwin$__$beginparam_method:hamilton_endparam$_/hrv_computation_$beginwin_win:0.001__init:rpeaks[0]__finish:rpeaks[-1]__samplerate:1000_endwin$__$beginparam_method:hamilton__resampling:spline_endparam$_/hrv_time_features_$beginwin_win:120__init:0__finish:4200__samplerate:1000_endwin$__$beginparam_method:hamilton__resampling:spline_endparam$_')\n"
     ]
    }
   ],
   "source": [
    "eda_dir = 'EDAnalysis/'\n",
    "\n",
    "eda_id = iopes.get_eda_params_path(disk=disk,\n",
    "                                    eda_dir=eda_dir,\n",
    "                                    patient_list = patient_list,\n",
    "                                    lead_list = lead_list,\n",
    "                                    scaler = scaler,\n",
    "                                    interim_processing = interim_processing,\n",
    "                                    hist_bins = hist_bins,\n",
    "                                    dist = dist,\n",
    "                                    flag_hist = flag_hist,\n",
    "                                    flag_andrews = flag_andrews,\n",
    "                                    flag_series = flag_series,\n",
    "                                    flag_box = flag_box,\n",
    "                                    assign_baseline = assign_baseline,\n",
    "                                    label_struct = label_struct,\n",
    "                                    baseline_label_struct = baseline_label_struct,\n",
    "                                    baseline_feature_name = baseline_feature_name,\n",
    "                                    seizure_feature_name = seizure_feature_name)\n",
    "path = disk + eda_dir + eda_id + '/'"
   ]
  },
  {
   "cell_type": "code",
   "execution_count": 6,
   "metadata": {},
   "outputs": [
    {
     "name": "stderr",
     "output_type": "stream",
     "text": [
      "Using TensorFlow backend.\n"
     ]
    },
    {
     "ename": "NameError",
     "evalue": "name 'data' is not defined",
     "output_type": "error",
     "traceback": [
      "\u001b[0;31m--------------------------------------------------------------------------\u001b[0m",
      "\u001b[0;31mNameError\u001b[0m                                Traceback (most recent call last)",
      "\u001b[0;32m<ipython-input-6-02c982295d41>\u001b[0m in \u001b[0;36m<module>\u001b[0;34m()\u001b[0m\n\u001b[1;32m     11\u001b[0m \u001b[0;34m\u001b[0m\u001b[0m\n\u001b[1;32m     12\u001b[0m \u001b[0;31m# Group the data\u001b[0m\u001b[0;34m\u001b[0m\u001b[0;34m\u001b[0m\u001b[0m\n\u001b[0;32m---> 13\u001b[0;31m data_groups = data.groupby(['patient_nr',\n\u001b[0m\u001b[1;32m     14\u001b[0m                             \u001b[0;34m'seizure_nr'\u001b[0m\u001b[0;34m,\u001b[0m\u001b[0;34m\u001b[0m\u001b[0m\n\u001b[1;32m     15\u001b[0m                             \u001b[0;34m'types_of_seizure'\u001b[0m\u001b[0;34m,\u001b[0m\u001b[0;34m\u001b[0m\u001b[0m\n",
      "\u001b[0;31mNameError\u001b[0m: name 'data' is not defined"
     ]
    }
   ],
   "source": [
    "# Modelation\n",
    "import sklearn.svm as svm\n",
    "from sklearn.model_selection import *\n",
    "from sklearn.pipeline import *\n",
    "import sklearn.naive_bayes as nb\n",
    "from sklearn.feature_selection import *\n",
    "from sklearn.neural_network import *\n",
    "from sklearn.neighbors import *\n",
    "from keras.utils import np_utils\n",
    "from classification.keras_neural_nets import *\n",
    "\n",
    "# Group the data\n",
    "data_groups = data.groupby(['patient_nr',\n",
    "                            'seizure_nr',\n",
    "                            'types_of_seizure',\n",
    "                            'location'])\n",
    "group_id = 'seizure_nr'\n",
    "\n",
    "data_groups_list = list(data_groups)\n",
    "\n",
    "label = 'label'\n",
    "\n",
    "\n",
    "\n",
    "# choose Pipeline **Details in pipelines.py \n",
    "pipe = Pipeline([('SVC', svm.SVC())])\n",
    "#pipe = Pipeline([('GaussNB', nb.GaussianNB())])\n",
    "#pipe = Pipeline([('KNN', KNeighborsClassifier())])\n",
    "#pipe = Pipeline( [('ANN', KerasClassifier(build_fn=dense_network,\n",
    " #                                               input_dim = len(features),\n",
    " #                                               output_dim = len(y.unique()),\n",
    "#                                                verbose=0))])\n",
    "\n",
    "# choose parameter search method *coherent with Pipeline steps\n",
    "param_grid = [\n",
    "               {'SVC__C': [2**i for i in xrange(-5, 11)],\n",
    "                'SVC__gamma':[2**i for i in xrange(-15, 1)]},\n",
    "                 ]\n",
    "#param_grid = [\n",
    "               #{'GaussNB__priors': [None]},\n",
    "                 # ]\n",
    "#param_grid = [\n",
    "#               {'KNN__n_neighbors': [n + 1 \n",
    " #                                     for n in xrange(0, 16, 2)]},\n",
    " #                 ]\n",
    "\n",
    "\n",
    "# define cross-validation strategy \n",
    "cv_out = LeavePGroupsOut(n_groups=1)\n",
    "cv_in = LeavePGroupsOut(n_groups=1)\n",
    "\n",
    "# choose scoring\n",
    "scoring = ['f1_macro', 'accuracy']\n",
    "\n",
    "# choose wether to perform new computation\n",
    "compute_all_new = True\n",
    "plot_eda_all_new = True\n",
    "\n",
    "search_function = GridSearchCV\n",
    "\n",
    "hyper_param_heat = False\n",
    "# Get path to save the results\n",
    "#full_path = get_full_pipeline_name(path_to_save,\n",
    "#                                   file_to_save,\n",
    "#                                   pipe, \n",
    "#                                   scoring,\n",
    "#                                   param_grid,\n",
    "#                                   feature_names,\n",
    "#                                   cv_out,\n",
    "#                                   cv_in,\n",
    "#                                   trial)\n",
    "\n",
    "\n",
    "\n",
    "# plot_scatter(path_to_save, data_struct, class_metadata)\n",
    "\n",
    "# plot_full(file_to_save, data_struct, class_metadata)\n",
    "\n",
    "# Create directory to save results\n",
    "#make_dir(full_path)\n"
   ]
  },
  {
   "cell_type": "code",
   "execution_count": null,
   "metadata": {},
   "outputs": [],
   "source": [
    "clf_id = iopes.get_eda_params_path(disk=disk,\n",
    "                                   eda_dir=eda_dir + '/' + eda_id + '/' ,\n",
    "                                   scaler=scaler,\n",
    "                                   pipe = str(pipe),\n",
    "                                   param_grid = param_grid,\n",
    "                                   cv_out = cv_out,\n",
    "                                   cv_in = cv_in,\n",
    "                                   scoring = scoring,\n",
    "                                   search_function = search_function,\n",
    "                                   group_id=group_id,\n",
    "                                   label=label)\n",
    "\n",
    "path_to_save = disk + eda_dir + eda_id + '/' + clf_id"
   ]
  },
  {
   "cell_type": "code",
   "execution_count": null,
   "metadata": {
    "scrolled": true
   },
   "outputs": [],
   "source": [
    "from IPython.display import Image\n",
    "a = [name for name in os.listdir(path_to_save) if name.endswith(\".png\")]\n",
    "for image in a:\n",
    "    display(Image(filename=path_to_save))"
   ]
  }
 ],
 "metadata": {
  "kernelspec": {
   "display_name": "Python 2",
   "language": "python",
   "name": "python2"
  },
  "language_info": {
   "codemirror_mode": {
    "name": "ipython",
    "version": 2
   },
   "file_extension": ".py",
   "mimetype": "text/x-python",
   "name": "python",
   "nbconvert_exporter": "python",
   "pygments_lexer": "ipython2",
   "version": "2.7.12"
  }
 },
 "nbformat": 4,
 "nbformat_minor": 2
}
