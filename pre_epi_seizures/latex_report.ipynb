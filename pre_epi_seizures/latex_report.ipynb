{
 "cells": [
  {
   "cell_type": "code",
   "execution_count": 1,
   "metadata": {},
   "outputs": [
    {
     "name": "stderr",
     "output_type": "stream",
     "text": [
      "/home/franciscosargo/.virtualenvs/pre_epi_seizures/local/lib/python2.7/site-packages/h5py/__init__.py:34: FutureWarning: Conversion of the second argument of issubdtype from `float` to `np.floating` is deprecated. In future, it will be treated as `np.float64 == np.dtype(float).type`.\n",
      "  from ._conv import register_converters as _register_converters\n",
      "Using TensorFlow backend.\n"
     ]
    }
   ],
   "source": [
    "from learning_pipelines import get_learning_results, get_hyper_param_results\n",
    "import sklearn.svm as svm\n",
    "from sklearn.pipeline import Pipeline\n",
    "from sklearn.preprocessing import StandardScaler\n",
    "from sklearn.naive_bayes import GaussianNB\n",
    "from sklearn.neighbors import KNeighborsClassifier\n",
    "import pandas as pd\n",
    "\n",
    "from classification.keras_neural_nets import *\n",
    "\n",
    "import os"
   ]
  },
  {
   "cell_type": "code",
   "execution_count": 2,
   "metadata": {
    "collapsed": true
   },
   "outputs": [],
   "source": [
    "import pylatex"
   ]
  },
  {
   "cell_type": "code",
   "execution_count": 3,
   "metadata": {
    "collapsed": true
   },
   "outputs": [],
   "source": [
    "import glob\n",
    "import shutil\n",
    "import os"
   ]
  },
  {
   "cell_type": "code",
   "execution_count": 4,
   "metadata": {
    "collapsed": true
   },
   "outputs": [],
   "source": [
    "from evaluation_tables import *"
   ]
  },
  {
   "cell_type": "code",
   "execution_count": 5,
   "metadata": {
    "collapsed": true,
    "scrolled": true
   },
   "outputs": [],
   "source": [
    "from classification.hp_opt.single_param import *"
   ]
  },
  {
   "cell_type": "code",
   "execution_count": 6,
   "metadata": {
    "collapsed": true
   },
   "outputs": [],
   "source": [
    "from learning_pipelines import load_eda"
   ]
  },
  {
   "cell_type": "code",
   "execution_count": 7,
   "metadata": {
    "collapsed": true
   },
   "outputs": [],
   "source": [
    "def create_tables_patient_specific(table):\n",
    "        # Overal Patient Classification\n",
    "        per_patient = table[['precision',\n",
    "                             'recall',\n",
    "                             'f1-score',\n",
    "                             'patient_nr',\n",
    "                             'Best Parameters',\n",
    "                             'Labels']].groupby(['patient_nr', 'Labels']).describe()\n",
    "\n",
    "        per_patient.loc[:, (['precision', 'recall', 'f1-score'], ['mean', 'std'])]\n",
    "\n",
    "        # Overal Patient Classification\n",
    "        per_patient = table[['precision',\n",
    "                             'recall',\n",
    "                             'f1-score',\n",
    "                             'patient_nr',\n",
    "                             'Best Parameters',\n",
    "                             'Labels']].groupby(['Best Parameters','patient_nr', 'Labels']).describe()\n",
    "\n",
    "        per_patient.loc[:, (['precision', 'recall', 'f1-score'], ['mean', 'std'])]\n",
    "        \n",
    "        print table\n",
    "    "
   ]
  },
  {
   "cell_type": "code",
   "execution_count": 8,
   "metadata": {
    "collapsed": true
   },
   "outputs": [],
   "source": [
    "# Set the storage parameters \n",
    "disk = '/mnt/Seagate/pre_epi_seizures/'"
   ]
  },
  {
   "cell_type": "code",
   "execution_count": 9,
   "metadata": {
    "collapsed": true
   },
   "outputs": [],
   "source": [
    "# Set the latex report folder\n",
    "latex_dir = 'latex/'"
   ]
  },
  {
   "cell_type": "code",
   "execution_count": 10,
   "metadata": {
    "collapsed": true
   },
   "outputs": [],
   "source": [
    "patient_lists = [[3], [4], [5], [8]]"
   ]
  },
  {
   "cell_type": "code",
   "execution_count": 11,
   "metadata": {
    "collapsed": true,
    "scrolled": true
   },
   "outputs": [],
   "source": [
    "# Allocate the feature set\n",
    "feature_set = [('pca_beat_amp_computation', 0), ('hrv_time_features', 0)]"
   ]
  },
  {
   "cell_type": "code",
   "execution_count": 12,
   "metadata": {
    "collapsed": true
   },
   "outputs": [],
   "source": [
    "model_set = [\n",
    "             (Pipeline([('KNN', KNeighborsClassifier())]), [{'KNN__n_neighbors': [i for i in xrange(1, 15, 2)]}]),\n",
    "             (Pipeline([('GaussNB', GaussianNB())]), [{'GaussNB__priors': [None]}]),\n",
    "             (Pipeline([('SVC', svm.SVC())]), [{'SVC__C': [2**i for i in xrange(-5, 11)], \n",
    "                                                'SVC__gamma':[2**i for i in xrange(-15, 1)]}])]\n",
    "\n",
    "\n",
    "                                               "
   ]
  },
  {
   "cell_type": "code",
   "execution_count": 13,
   "metadata": {
    "collapsed": true
   },
   "outputs": [],
   "source": [
    "scaler_set = [StandardScaler()]"
   ]
  },
  {
   "cell_type": "code",
   "execution_count": 14,
   "metadata": {
    "collapsed": true
   },
   "outputs": [],
   "source": [
    "# Labeling structure\n",
    "label_struct = {\n",
    "                'inter_ictal':{\n",
    "                    'label': 'Inter-Ictal Data Points',\n",
    "                    'color': 'blue',\n",
    "                    'intervals_samples': [(1000 * 0 * 60, 1000 * 20 * 60 )]\n",
    "                             },\n",
    "                'pre_ictal':{\n",
    "                    'label': 'Pre-Ictal data points',\n",
    "                    'color': 'yellow',\n",
    "                    'intervals_samples': [(1000 * 20 * 60, 1000 * 49 * 60 )]\n",
    "                             },\n",
    "                'ictal':{\n",
    "                    'label': 'Ictal data points',\n",
    "                    'color': 'red',\n",
    "                    'intervals_samples': [(1000 * 50 * 60, 1000 * 55 * 60 )]\n",
    "                         },\n",
    "                        }\n",
    "baseline_label_struct = {\n",
    "                 'baseline':{\n",
    "                    'label': 'Baseline Data Points',\n",
    "                    'color': 'green',\n",
    "                    'intervals_samples': [(0, 1000 * 30 * 60 )]\n",
    "                            },\n",
    "                        }\n",
    "\n",
    "plot_eda = False\n",
    "learn_flag = False\n",
    "compute_all_new = False\n"
   ]
  },
  {
   "cell_type": "code",
   "execution_count": 15,
   "metadata": {
    "collapsed": true
   },
   "outputs": [],
   "source": [
    "# Open latex document\n",
    "eda_folder = 'EDanalysis_new/'\n",
    "results_doc = pylatex.Document(default_filepath='/home/franciscosargo/results')\n",
    "#results_doc = pylatex.Document(default_filepath=disk + eda_folder + 'results')\n"
   ]
  },
  {
   "cell_type": "code",
   "execution_count": 16,
   "metadata": {},
   "outputs": [
    {
     "data": {
      "text/plain": [
       "Document('/home/franciscosargo/results', [Command(u'normalsize', Arguments(), Options())])"
      ]
     },
     "execution_count": 16,
     "metadata": {},
     "output_type": "execute_result"
    }
   ],
   "source": [
    "results_doc"
   ]
  },
  {
   "cell_type": "code",
   "execution_count": 17,
   "metadata": {
    "scrolled": false
   },
   "outputs": [
    {
     "name": "stdout",
     "output_type": "stream",
     "text": [
      "pca_beat_amp_computation\n",
      "0\n"
     ]
    },
    {
     "ename": "IndexError",
     "evalue": "tuple index out of range",
     "output_type": "error",
     "traceback": [
      "\u001b[0;31m---------------------------------------------------------------------------\u001b[0m",
      "\u001b[0;31mIndexError\u001b[0m                                Traceback (most recent call last)",
      "\u001b[0;32m<ipython-input-17-5e8ece12711c>\u001b[0m in \u001b[0;36m<module>\u001b[0;34m()\u001b[0m\n\u001b[1;32m     33\u001b[0m                         \u001b[0mscaler\u001b[0m \u001b[0;34m=\u001b[0m \u001b[0mmodel\u001b[0m\u001b[0;34m[\u001b[0m\u001b[0;36m0\u001b[0m\u001b[0;34m]\u001b[0m\u001b[0;34m\u001b[0m\u001b[0m\n\u001b[1;32m     34\u001b[0m                         \u001b[0mpipe\u001b[0m \u001b[0;34m=\u001b[0m \u001b[0mmodel\u001b[0m\u001b[0;34m[\u001b[0m\u001b[0;36m1\u001b[0m\u001b[0;34m]\u001b[0m\u001b[0;34m\u001b[0m\u001b[0m\n\u001b[0;32m---> 35\u001b[0;31m                         \u001b[0mparam_grid\u001b[0m \u001b[0;34m=\u001b[0m \u001b[0mmodel\u001b[0m\u001b[0;34m[\u001b[0m\u001b[0;36m2\u001b[0m\u001b[0;34m]\u001b[0m\u001b[0;34m\u001b[0m\u001b[0m\n\u001b[0m\u001b[1;32m     36\u001b[0m \u001b[0;34m\u001b[0m\u001b[0m\n\u001b[1;32m     37\u001b[0m \u001b[0;34m\u001b[0m\u001b[0m\n",
      "\u001b[0;31mIndexError\u001b[0m: tuple index out of range"
     ]
    }
   ],
   "source": [
    "# Patient Specific results\n",
    "\n",
    "for feature_slot, hyper_param in feature_set:\n",
    "    \n",
    "    print feature_slot\n",
    "    print hyper_param\n",
    "    \n",
    "    with results_doc.create(pylatex.Section('The fancy stuff')):\n",
    "    \n",
    "        # Entry text, needs to be mended and corrected\n",
    "        results_doc.append('The following results concern the feature set: ' + feature_slot)\n",
    "\n",
    "        for patient_list in patient_lists:\n",
    "\n",
    "            # Loop for scaler\n",
    "            #for scaler in scaler_set:\n",
    "\n",
    "            # Do some text\n",
    "            #print 'Patient Number is' + str(patient_list)\n",
    "            #print 'The Scaler is' + str(scaler)\n",
    "\n",
    "            #print 'Here is a visualization of the normalized data'\n",
    "\n",
    "            #print patient_list\n",
    "\n",
    "            # EDA plots\n",
    "            for scaler in scaler_set:\n",
    "\n",
    "                # Loop for model\n",
    "                for model in model_set:\n",
    "\n",
    "                        # Unpack the variables of analysis\n",
    "                        scaler = model[0]\n",
    "                        pipe = model[1]\n",
    "                        param_grid = model[2]\n",
    "\n",
    "\n",
    "                        print 'The Hyper-Parameter Grid for optimization is:' + str(param_grid)\n",
    "\n",
    "                        # Get table from original analysis\n",
    "                        table = get_learning_results(label_struct, baseline_label_struct,\n",
    "                                                      pipe, scaler, param_grid,\n",
    "                                                      patient_list,\n",
    "                                                      feature_slot,\n",
    "                                                      hyper_param,\n",
    "                                                      plot_eda,\n",
    "                                                      learn_flag,\n",
    "                                                      compute_all_new)\n",
    "\n",
    "                        # Compute the statistics from the overall labels\n",
    "                        per_label = evaluate_overall_labels(table)\n",
    "\n",
    "                        # Compute the statistics for seizure type\n",
    "                        per_type_of_seizure = evaluate_per_types_of_seizure(table)\n",
    "\n",
    "                        # Get model name\n",
    "                        model_name = pipe.steps[0][0]\n",
    "\n",
    "                        # Get Hyper-parameterization results\n",
    "                        cv_results=get_hyper_param_results(label_struct, baseline_label_struct,\n",
    "                                                  pipe, scaler, param_grid,\n",
    "                                                  patient_list,\n",
    "                                                  feature_slot,\n",
    "                                                  hyper_param,\n",
    "                                                  plot_eda,\n",
    "                                                  learn_flag,\n",
    "                                                  compute_all_new)\n",
    "\n",
    "                        param_name = param_grid[0].keys()[0]\n",
    "                        single_param_var = param_grid[0][param_name]\n",
    "\n",
    "                        single_mean_std_param_plot('fgjasljgf', \n",
    "                                                   cv_results, \n",
    "                                                   param_name, \n",
    "                                                   single_param_var,\n",
    "                                                   feature_slot)\n",
    "\n",
    "                        # Plot and save EDA\n",
    "\n",
    "\n",
    "\n",
    "                        # Plot hyper-parameters function\n",
    "\n",
    "                        single_mean_std_param_plot('fgjasljgf', \n",
    "                                       cv_results, \n",
    "                                       param_name, \n",
    "                                       single_param_var,\n",
    "                                       feature_slot)\n",
    "\n",
    "                        # \n",
    "\n",
    "\n",
    "                        # Get param\n",
    "\n",
    "                        print per_label\n",
    "                        print per_type_of_seizure\n",
    "\n",
    "\n",
    "\n",
    "\n",
    "    \n",
    "    \n"
   ]
  },
  {
   "cell_type": "code",
   "execution_count": null,
   "metadata": {
    "collapsed": true
   },
   "outputs": [],
   "source": []
  }
 ],
 "metadata": {
  "kernelspec": {
   "display_name": "Python 2",
   "language": "python",
   "name": "python2"
  },
  "language_info": {
   "codemirror_mode": {
    "name": "ipython",
    "version": 2
   },
   "file_extension": ".py",
   "mimetype": "text/x-python",
   "name": "python",
   "nbconvert_exporter": "python",
   "pygments_lexer": "ipython2",
   "version": "2.7.12"
  }
 },
 "nbformat": 4,
 "nbformat_minor": 2
}
