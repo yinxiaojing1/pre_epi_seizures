{
 "cells": [
  {
   "cell_type": "code",
   "execution_count": 1,
   "metadata": {},
   "outputs": [
    {
     "name": "stderr",
     "output_type": "stream",
     "text": [
      "/home/franciscosargo/.virtualenvs/pre_epi_seizures/local/lib/python2.7/site-packages/h5py/__init__.py:34: FutureWarning: Conversion of the second argument of issubdtype from `float` to `np.floating` is deprecated. In future, it will be treated as `np.float64 == np.dtype(float).type`.\n",
      "  from ._conv import register_converters as _register_converters\n",
      "Using TensorFlow backend.\n"
     ]
    }
   ],
   "source": [
    "from learning_pipelines import get_learning_results, get_hyper_param_results\n",
    "import sklearn.svm as svm\n",
    "from sklearn.pipeline import Pipeline\n",
    "from sklearn.preprocessing import StandardScaler\n",
    "from sklearn.naive_bayes import GaussianNB\n",
    "import pandas as pd\n",
    "\n",
    "from classification.keras_neural_nets import *\n",
    "\n",
    "import os"
   ]
  },
  {
   "cell_type": "code",
   "execution_count": 2,
   "metadata": {
    "collapsed": true
   },
   "outputs": [],
   "source": [
    "def create_tables_patient_specific(table):\n",
    "        # Overal Patient Classification\n",
    "        per_patient = table[['precision',\n",
    "                             'recall',\n",
    "                             'f1-score',\n",
    "                             'patient_nr',\n",
    "                             'Best Parameters',\n",
    "                             'Labels']].groupby(['patient_nr', 'Labels']).describe()\n",
    "\n",
    "        per_patient.loc[:, (['precision', 'recall', 'f1-score'], ['mean', 'std'])]\n",
    "\n",
    "        # Overal Patient Classification\n",
    "        per_patient = table[['precision',\n",
    "                             'recall',\n",
    "                             'f1-score',\n",
    "                             'patient_nr',\n",
    "                             'Best Parameters',\n",
    "                             'Labels']].groupby(['Best Parameters','patient_nr', 'Labels']).describe()\n",
    "\n",
    "        per_patient.loc[:, (['precision', 'recall', 'f1-score'], ['mean', 'std'])]\n",
    "        \n",
    "        print table\n",
    "    "
   ]
  },
  {
   "cell_type": "code",
   "execution_count": 3,
   "metadata": {
    "collapsed": true
   },
   "outputs": [],
   "source": [
    "# Set the storage parameters \n",
    "disk = '/mnt/Seagate/pre_epi_seizures/'"
   ]
  },
  {
   "cell_type": "code",
   "execution_count": 4,
   "metadata": {
    "collapsed": true
   },
   "outputs": [],
   "source": [
    "# Set the latex report folder\n",
    "latex_path = '/Seagate/pre_epi_seizure/latex/'"
   ]
  },
  {
   "cell_type": "code",
   "execution_count": 5,
   "metadata": {
    "collapsed": true
   },
   "outputs": [],
   "source": [
    "patient_lists = [[3], [4], [5], [8]]"
   ]
  },
  {
   "cell_type": "code",
   "execution_count": 6,
   "metadata": {
    "collapsed": true,
    "scrolled": true
   },
   "outputs": [],
   "source": [
    "# Allocate the feature set\n",
    "feature_set = [('pca_beat_amp_computation', 0), ('hrv_time_features', 0)]"
   ]
  },
  {
   "cell_type": "code",
   "execution_count": 7,
   "metadata": {
    "collapsed": true
   },
   "outputs": [],
   "source": [
    "model_set = [(StandardScaler(), Pipeline([('GaussNB', GaussianNB())]), [{'GaussNB__priors': [None]}]),\n",
    "             (StandardScaler(), Pipeline([('SVC', svm.SVC())]), [{'SVC__C': [2**i for i in xrange(-5, 11)], \n",
    "                                                'SVC__gamma':[2**i for i in xrange(-15, 1)]}])]\n",
    "\n",
    "model_set = [(StandardScaler(), Pipeline([('GaussNB', GaussianNB())]), [{'GaussNB__priors': [None]}])]\n",
    "                                               "
   ]
  },
  {
   "cell_type": "code",
   "execution_count": 8,
   "metadata": {
    "collapsed": true
   },
   "outputs": [],
   "source": [
    "# Labeling structure\n",
    "label_struct = {\n",
    "                'inter_ictal':{\n",
    "                    'label': 'Inter-Ictal Data Points',\n",
    "                    'color': 'blue',\n",
    "                    'intervals_samples': [(1000 * 0 * 60, 1000 * 20 * 60 )]\n",
    "                             },\n",
    "                'pre_ictal':{\n",
    "                    'label': 'Pre-Ictal data points',\n",
    "                    'color': 'yellow',\n",
    "                    'intervals_samples': [(1000 * 20 * 60, 1000 * 49 * 60 )]\n",
    "                             },\n",
    "                'ictal':{\n",
    "                    'label': 'Ictal data points',\n",
    "                    'color': 'red',\n",
    "                    'intervals_samples': [(1000 * 50 * 60, 1000 * 55 * 60 )]\n",
    "                         },\n",
    "                        }\n",
    "baseline_label_struct = {\n",
    "                 'baseline':{\n",
    "                    'label': 'Baseline Data Points',\n",
    "                    'color': 'green',\n",
    "                    'intervals_samples': [(0, 1000 * 30 * 60 )]\n",
    "                            },\n",
    "                        }\n",
    "\n",
    "plot_eda = False\n",
    "learn_flag = False\n",
    "compute_all_new = False\n"
   ]
  },
  {
   "cell_type": "code",
   "execution_count": 9,
   "metadata": {
    "scrolled": false
   },
   "outputs": [
    {
     "name": "stdout",
     "output_type": "stream",
     "text": [
      "pca_beat_amp_computation\n",
      "0\n",
      "[3]\n",
      "('scaler', StandardScaler(copy=True, with_mean=True, with_std=True))('lead_list', ['ECG-'])('feature_slot', 'pca_beat_amp_computation')('interim_processing', [StandardScaler(copy=True, with_mean=True, with_std=True)])('assign_baseline', 'assign_equal_baseline_seizure')('label_struct', {'pre_ictal': {'color': 'yellow', 'intervals_samples': [(1200000, 2940000)], 'label': 'Pre-Ictal data points'}, 'inter_ictal': {'color': 'blue', 'intervals_samples': [(0, 1200000)], 'label': 'Inter-Ictal Data Points'}, 'ictal': {'color': 'red', 'intervals_samples': [(3000000, 3300000)], 'label': 'Ictal data points'}})('baseline_label_struct', {'baseline': {'color': 'green', 'intervals_samples': [(0, 1800000)], 'label': 'Baseline Data Points'}})('patient_list', [3])('hyper_param', 0)\n",
      "\n",
      "This is a list of the parameters\n",
      "[\"('scaler', StandardScaler(copy=True, with_mean=True, with_std=True))('lead_list', ['ECG-'])('feature_slot', 'pca_beat_amp_computation')('interim_processing', [StandardScaler(copy=True, with_mean=True, with_std=True)])('assign_baseline', 'assign_equal_baseline_seizure')('label_struct', {'pre_ictal': {'color': 'yellow', 'intervals_samples': [(1200000, 2940000)], 'label': 'Pre-Ictal data points'}, 'inter_ictal': {'color': 'blue', 'intervals_samples': [(0, 1200000)], 'label': 'Inter-Ictal Data Points'}, 'ictal': {'color': 'red', 'intervals_samples': [(3000000, 3300000)], 'label': 'Ictal data points'}})('baseline_label_struct', {'baseline': {'color': 'green', 'intervals_samples': [(0, 1800000)], 'label': 'Baseline Data Points'}})('patient_list', [3])('hyper_param', 0)\", \"('scaler', StandardScaler(copy=True, with_mean=True, with_std=True))('lead_list', ['ECG-'])('feature_slot', 'pca_beat_amp_computation')('interim_processing', [StandardScaler(copy=True, with_mean=True, with_std=True)])('assign_baseline', 'assign_equal_baseline_seizure')('label_struct', {'pre_ictal': {'color': 'yellow', 'intervals_samples': [(1200000, 2940000)], 'label': 'Pre-Ictal data points'}, 'inter_ictal': {'color': 'blue', 'intervals_samples': [(0, 1200000)], 'label': 'Inter-Ictal Data Points'}, 'ictal': {'color': 'red', 'intervals_samples': [(3000000, 3300000)], 'label': 'Ictal data points'}})('baseline_label_struct', {'baseline': {'color': 'green', 'intervals_samples': [(0, 1800000)], 'label': 'Baseline Data Points'}})('patient_list', [4])('hyper_param', 0)\", \"('scaler', StandardScaler(copy=True, with_mean=True, with_std=True))('lead_list', ['ECG-'])('feature_slot', 'pca_beat_amp_computation')('interim_processing', [StandardScaler(copy=True, with_mean=True, with_std=True)])('assign_baseline', 'assign_equal_baseline_seizure')('label_struct', {'pre_ictal': {'color': 'yellow', 'intervals_samples': [(1200000, 2940000)], 'label': 'Pre-Ictal data points'}, 'inter_ictal': {'color': 'blue', 'intervals_samples': [(0, 1200000)], 'label': 'Inter-Ictal Data Points'}, 'ictal': {'color': 'red', 'intervals_samples': [(3000000, 3300000)], 'label': 'Ictal data points'}})('baseline_label_struct', {'baseline': {'color': 'green', 'intervals_samples': [(0, 1800000)], 'label': 'Baseline Data Points'}})('patient_list', [5])('hyper_param', 0)\"]\n",
      "\n",
      "This is the new one\n",
      "('scaler', StandardScaler(copy=True, with_mean=True, with_std=True))('lead_list', ['ECG-'])('feature_slot', 'pca_beat_amp_computation')('interim_processing', [StandardScaler(copy=True, with_mean=True, with_std=True)])('assign_baseline', 'assign_equal_baseline_seizure')('label_struct', {'pre_ictal': {'color': 'yellow', 'intervals_samples': [(1200000, 2940000)], 'label': 'Pre-Ictal data points'}, 'inter_ictal': {'color': 'blue', 'intervals_samples': [(0, 1200000)], 'label': 'Inter-Ictal Data Points'}, 'ictal': {'color': 'red', 'intervals_samples': [(3000000, 3300000)], 'label': 'Ictal data points'}})('baseline_label_struct', {'baseline': {'color': 'green', 'intervals_samples': [(0, 1800000)], 'label': 'Baseline Data Points'}})('patient_list', [3])('hyper_param', 0)\n",
      "\n",
      "id params in disk\n",
      "                                              params  \\\n",
      "0  ('scaler', StandardScaler(copy=True, with_mean...   \n",
      "\n",
      "                                     id  \n",
      "0  3962bbf2-457c-11e8-894a-b06ebfc25cc2  \n",
      "\n",
      "Check if they are the same\n",
      "\n",
      "   params     id\n",
      "0    True  False\n",
      "\n",
      "final id -- check disk\n",
      "3962bbf2-457c-11e8-894a-b06ebfc25cc2\n",
      "\n",
      "Check for this path on disk .. should be there\n",
      "3962bbf2-457c-11e8-894a-b06ebfc25cc2\n",
      "('search_function', <class 'sklearn.model_selection._search.GridSearchCV'>)('scoring', ['f1_micro'])('cv_in', LeavePGroupsOut(n_groups=1))('label', 'label')('pipe', \"['GaussNB']\")('cv_out', LeavePGroupsOut(n_groups=1))('group_id', 'seizure_nr')('param_grid', [{'GaussNB__priors': [None]}])\n",
      "\n",
      "This is a list of the parameters\n",
      "['(\\'search_function\\', <class \\'sklearn.model_selection._search.GridSearchCV\\'>)(\\'scoring\\', [\\'f1_micro\\'])(\\'cv_in\\', LeavePGroupsOut(n_groups=1))(\\'label\\', \\'label\\')(\\'pipe\\', \"[\\'GaussNB\\']\")(\\'cv_out\\', LeavePGroupsOut(n_groups=1))(\\'group_id\\', \\'seizure_nr\\')(\\'param_grid\\', [{\\'GaussNB__priors\\': [None]}])', '(\\'search_function\\', <class \\'sklearn.model_selection._search.GridSearchCV\\'>)(\\'scoring\\', [\\'f1_micro\\'])(\\'cv_in\\', LeavePGroupsOut(n_groups=1))(\\'label\\', \\'label\\')(\\'pipe\\', \"[\\'SVC\\']\")(\\'cv_out\\', LeavePGroupsOut(n_groups=1))(\\'group_id\\', \\'seizure_nr\\')(\\'param_grid\\', [{\\'GaussNB__priors\\': [None]}])', '(\\'search_function\\', <class \\'sklearn.model_selection._search.GridSearchCV\\'>)(\\'scoring\\', [\\'f1_micro\\'])(\\'cv_in\\', LeavePGroupsOut(n_groups=1))(\\'label\\', \\'label\\')(\\'pipe\\', \"[\\'SVC\\']\")(\\'cv_out\\', LeavePGroupsOut(n_groups=1))(\\'group_id\\', \\'seizure_nr\\')(\\'param_grid\\', [{\\'SVC__gamma\\': [3.0517578125e-05, 6.103515625e-05, 0.0001220703125, 0.000244140625, 0.00048828125, 0.0009765625, 0.001953125, 0.00390625, 0.0078125, 0.015625, 0.03125, 0.0625, 0.125, 0.25, 0.5, 1], \\'SVC__C\\': [0.03125, 0.0625, 0.125, 0.25, 0.5, 1, 2, 4, 8, 16, 32, 64, 128, 256, 512, 1024]}])']\n",
      "\n",
      "This is the new one\n",
      "('search_function', <class 'sklearn.model_selection._search.GridSearchCV'>)('scoring', ['f1_micro'])('cv_in', LeavePGroupsOut(n_groups=1))('label', 'label')('pipe', \"['GaussNB']\")('cv_out', LeavePGroupsOut(n_groups=1))('group_id', 'seizure_nr')('param_grid', [{'GaussNB__priors': [None]}])\n",
      "\n",
      "id params in disk\n",
      "                                              params  \\\n",
      "0  ('search_function', <class 'sklearn.model_sele...   \n",
      "\n",
      "                                     id  \n",
      "0  40064a28-457c-11e8-894a-b06ebfc25cc2  \n",
      "\n",
      "Check if they are the same\n",
      "\n",
      "   params     id\n",
      "0    True  False\n",
      "\n",
      "final id -- check disk\n",
      "40064a28-457c-11e8-894a-b06ebfc25cc2\n",
      "\n",
      "Check for this path on disk .. should be there\n",
      "40064a28-457c-11e8-894a-b06ebfc25cc2\n",
      "                                   f1-score                              \\\n",
      "                                      count      mean       std     min   \n",
      "patient_nr Labels                                                         \n",
      "3          Baseline Data Points         3.0  0.612767  0.310920  0.4040   \n",
      "           Ictal data points            3.0  0.183200  0.198653  0.0052   \n",
      "           Inter-Ictal Data Points      3.0  0.184500  0.107942  0.1108   \n",
      "           Pre-Ictal data points        3.0  0.067833  0.080650  0.0102   \n",
      "           avg / total                  3.0  0.251733  0.159146  0.1423   \n",
      "\n",
      "                                                                      \\\n",
      "                                        25%     50%      75%     max   \n",
      "patient_nr Labels                                                      \n",
      "3          Baseline Data Points     0.43410  0.4642  0.71715  0.9701   \n",
      "           Ictal data points        0.07605  0.1469  0.27220  0.3975   \n",
      "           Inter-Ictal Data Points  0.12255  0.1343  0.22135  0.3084   \n",
      "           Pre-Ictal data points    0.02175  0.0333  0.09665  0.1600   \n",
      "           avg / total              0.16045  0.1786  0.30645  0.4343   \n",
      "\n",
      "                                   precision             ...             \\\n",
      "                                       count      mean   ...        75%   \n",
      "patient_nr Labels                                        ...              \n",
      "3          Baseline Data Points          3.0  0.501300   ...    0.62485   \n",
      "           Ictal data points             3.0  0.459700   ...    0.65620   \n",
      "           Inter-Ictal Data Points       3.0  0.310933   ...    0.35370   \n",
      "           Pre-Ictal data points         3.0  0.316633   ...    0.36050   \n",
      "           avg / total                   3.0  0.382933   ...    0.42710   \n",
      "\n",
      "                                           recall                              \\\n",
      "                                       max  count      mean       std     min   \n",
      "patient_nr Labels                                                               \n",
      "3          Baseline Data Points     0.9456    3.0  0.986733  0.008271  0.9801   \n",
      "           Ictal data points        0.8780    3.0  0.149767  0.191570  0.0027   \n",
      "           Inter-Ictal Data Points  0.4772    3.0  0.208600  0.224734  0.0627   \n",
      "           Pre-Ictal data points    0.4500    3.0  0.045533  0.059202  0.0052   \n",
      "           avg / total              0.4584    3.0  0.339567  0.102828  0.2612   \n",
      "\n",
      "                                                                      \n",
      "                                        25%     50%      75%     max  \n",
      "patient_nr Labels                                                     \n",
      "3          Baseline Data Points     0.98210  0.9841  0.99005  0.9960  \n",
      "           Ictal data points        0.04145  0.0802  0.22330  0.3664  \n",
      "           Inter-Ictal Data Points  0.07920  0.0957  0.28155  0.4674  \n",
      "           Pre-Ictal data points    0.01155  0.0179  0.06570  0.1135  \n",
      "           avg / total              0.28135  0.3015  0.37875  0.4560  \n",
      "\n",
      "[5 rows x 24 columns]\n"
     ]
    },
    {
     "ename": "NameError",
     "evalue": "name 'stop' is not defined",
     "output_type": "error",
     "traceback": [
      "\u001b[0;31m--------------------------------------------------------------------------\u001b[0m",
      "\u001b[0;31mNameError\u001b[0m                                Traceback (most recent call last)",
      "\u001b[0;32m<ipython-input-9-e15674ddfe86>\u001b[0m in \u001b[0;36m<module>\u001b[0;34m()\u001b[0m\n\u001b[1;32m     34\u001b[0m \u001b[0;34m\u001b[0m\u001b[0m\n\u001b[1;32m     35\u001b[0m \u001b[0;34m\u001b[0m\u001b[0m\n\u001b[0;32m---> 36\u001b[0;31m         \u001b[0mstop\u001b[0m\u001b[0;34m\u001b[0m\u001b[0m\n\u001b[0m\u001b[1;32m     37\u001b[0m \u001b[0;34m\u001b[0m\u001b[0m\n\u001b[1;32m     38\u001b[0m \u001b[0;34m\u001b[0m\u001b[0m\n",
      "\u001b[0;31mNameError\u001b[0m: name 'stop' is not defined"
     ]
    }
   ],
   "source": [
    "# Patient Specific results\n",
    "\n",
    "for feature_slot, hyper_param in feature_set:\n",
    "    \n",
    "    print feature_slot\n",
    "    print hyper_param\n",
    "    \n",
    "    for patient_list in patient_lists:\n",
    "        \n",
    "        print patient_list\n",
    "        \n",
    "        for model in model_set:\n",
    "\n",
    "            scaler = model[0]\n",
    "            pipe = model[1]\n",
    "            param_grid = model[2]\n",
    "\n",
    "            table = get_learning_results(label_struct, baseline_label_struct,\n",
    "                                          pipe, scaler, param_grid,\n",
    "                                          patient_list,\n",
    "                                          feature_slot,\n",
    "                                          hyper_param,\n",
    "                                          plot_eda,\n",
    "                                          learn_flag,\n",
    "                                          compute_all_new)\n",
    "\n",
    "\n",
    "            per_patient = table[['precision',\n",
    "                     'recall',\n",
    "                     'f1-score',\n",
    "                     'patient_nr',\n",
    "                     'Labels']].groupby(['patient_nr', 'Labels']).describe()\n",
    "            \n",
    "            \n",
    "            print per_patient\n",
    "\n",
    "        \n",
    "        stop\n",
    "  \n",
    "\n",
    "\n",
    "    \n",
    "    \n"
   ]
  }
 ],
 "metadata": {
  "kernelspec": {
   "display_name": "Python 2",
   "language": "python",
   "name": "python2"
  },
  "language_info": {
   "codemirror_mode": {
    "name": "ipython",
    "version": 2
   },
   "file_extension": ".py",
   "mimetype": "text/x-python",
   "name": "python",
   "nbconvert_exporter": "python",
   "pygments_lexer": "ipython2",
   "version": "2.7.12"
  }
 },
 "nbformat": 4,
 "nbformat_minor": 2
}
