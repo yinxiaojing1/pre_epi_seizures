{
 "cells": [
  {
   "cell_type": "code",
   "execution_count": 1,
   "metadata": {
    "collapsed": true
   },
   "outputs": [],
   "source": [
    "import h5py\n",
    "import numpy as np\n",
    "from timeit import timeit"
   ]
  },
  {
   "cell_type": "code",
   "execution_count": 2,
   "metadata": {},
   "outputs": [],
   "source": [
    "# Specification for file use\n",
    "file_path = '/Users/franciscosargo/hdf5_experiments/'\n",
    "file_name = 'store_h5py.h5'\n",
    "full_path = file_path + file_name"
   ]
  },
  {
   "cell_type": "code",
   "execution_count": 3,
   "metadata": {
    "collapsed": true
   },
   "outputs": [],
   "source": [
    "# Create dummy array\n",
    "\n",
    "# Specify metadata\n",
    "patient = 'Patient1'\n",
    "seizure = 'seizure_0'\n",
    "Fs = 1000\n",
    "delta_t = 200 # time in seconds\n",
    "initial_t = 0 # initial time in seconds\n",
    "features = ['1', '2', '3', '4', '5'] # specify number of features\n",
    "\n",
    "# Create array\n",
    "data_sz_pt_np = np.random.rand(delta_t * Fs, len(features))"
   ]
  },
  {
   "cell_type": "code",
   "execution_count": 4,
   "metadata": {},
   "outputs": [
    {
     "data": {
      "text/plain": [
       "array([[ 0.4601841 ,  0.11277174,  0.40259742,  0.1546057 ,  0.57317839],\n",
       "       [ 0.00501067,  0.88193462,  0.91295414,  0.09021646,  0.66711494],\n",
       "       [ 0.87542458,  0.56656966,  0.98602651,  0.44991418,  0.33639127],\n",
       "       ..., \n",
       "       [ 0.68008413,  0.24192327,  0.00837528,  0.70624643,  0.35985463],\n",
       "       [ 0.76429631,  0.59596366,  0.19709278,  0.05611982,  0.55053295],\n",
       "       [ 0.58517769,  0.37872378,  0.72547837,  0.43607189,  0.81803772]])"
      ]
     },
     "execution_count": 4,
     "metadata": {},
     "output_type": "execute_result"
    }
   ],
   "source": [
    "data_sz_pt_np"
   ]
  },
  {
   "cell_type": "code",
   "execution_count": 22,
   "metadata": {},
   "outputs": [
    {
     "name": "stdout",
     "output_type": "stream",
     "text": [
      "float64\n"
     ]
    },
    {
     "data": {
      "text/plain": [
       "numpy.ndarray"
      ]
     },
     "execution_count": 22,
     "metadata": {},
     "output_type": "execute_result"
    }
   ],
   "source": [
    "# save data and load it\n",
    "print data_sz_pt_np.dtype\n",
    "\n",
    "# save original type\n",
    "name = '64.h5'\n",
    "with h5py.File(file_path + name, 'w') as f:\n",
    "    f['new_data'] = data_sz_pt_np\n",
    "    \n",
    "# save original type\n",
    "name = '32.h5'\n",
    "with h5py.File(file_path + name, 'w') as f:\n",
    "    f.create_dataset('new_data', data=data_sz_pt_np,\n",
    "                     dtype=np.float32)\n",
    "    f['new_data'] = data_sz_pt_np\n",
    "   \n",
    "type(out)"
   ]
  }
 ],
 "metadata": {
  "kernelspec": {
   "display_name": "Python 2",
   "language": "python",
   "name": "python2"
  },
  "language_info": {
   "codemirror_mode": {
    "name": "ipython",
    "version": 2
   },
   "file_extension": ".py",
   "mimetype": "text/x-python",
   "name": "python",
   "nbconvert_exporter": "python",
   "pygments_lexer": "ipython2",
   "version": "2.7.10"
  }
 },
 "nbformat": 4,
 "nbformat_minor": 2
}
