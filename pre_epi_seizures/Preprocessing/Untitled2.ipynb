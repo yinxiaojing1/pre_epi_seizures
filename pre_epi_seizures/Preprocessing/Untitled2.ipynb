{
 "cells": [
  {
   "cell_type": "code",
   "execution_count": 1,
   "metadata": {
    "collapsed": true
   },
   "outputs": [],
   "source": [
    "import h5py\n",
    "import numpy as np\n",
    "from timeit import timeit"
   ]
  },
  {
   "cell_type": "code",
   "execution_count": 2,
   "metadata": {},
   "outputs": [],
   "source": [
    "# Specification for file use\n",
    "file_path = '/Users/franciscosargo/hdf5_experiments/'\n",
    "file_name = 'store_h5py.h5'\n",
    "full_path = file_path + file_name"
   ]
  },
  {
   "cell_type": "code",
   "execution_count": 3,
   "metadata": {
    "collapsed": true
   },
   "outputs": [],
   "source": [
    "# Create dummy array\n",
    "\n",
    "# Specify metadata\n",
    "patient = 'Patient1'\n",
    "seizure = 'seizure_0'\n",
    "Fs = 1000\n",
    "delta_t = 200 # time in seconds\n",
    "initial_t = 0 # initial time in seconds\n",
    "features = ['1', '2', '3', '4', '5'] # specify number of features\n",
    "\n",
    "# Create array\n",
    "data_sz_pt_np = np.random.rand(delta_t * Fs, len(features))"
   ]
  },
  {
   "cell_type": "code",
   "execution_count": 4,
   "metadata": {},
   "outputs": [
    {
     "data": {
      "text/plain": [
       "array([[ 0.18512694,  0.01666633,  0.99878325,  0.56323918,  0.44404045],\n",
       "       [ 0.74903658,  0.25563573,  0.28598149,  0.88942905,  0.01065773],\n",
       "       [ 0.79657236,  0.3391643 ,  0.47925568,  0.00430949,  0.61652058],\n",
       "       ..., \n",
       "       [ 0.44613569,  0.5621301 ,  0.32600227,  0.72064615,  0.78956731],\n",
       "       [ 0.94361312,  0.64989508,  0.45749313,  0.6893964 ,  0.5322609 ],\n",
       "       [ 0.84714555,  0.3131499 ,  0.13545898,  0.91716164,  0.90000128]])"
      ]
     },
     "execution_count": 4,
     "metadata": {},
     "output_type": "execute_result"
    }
   ],
   "source": [
    "data_sz_pt_np"
   ]
  },
  {
   "cell_type": "code",
   "execution_count": 6,
   "metadata": {},
   "outputs": [
    {
     "name": "stdout",
     "output_type": "stream",
     "text": [
      "float64\n",
      "<class 'h5py._hl.dataset.Dataset'>\n",
      "<type 'numpy.ndarray'>\n",
      "[[ 0.18512695  0.01666632  0.99878323  0.56323916  0.44404045]\n",
      " [ 0.74903655  0.25563574  0.28598148  0.88942903  0.01065773]\n",
      " [ 0.79657233  0.33916429  0.47925568  0.00430949  0.61652058]\n",
      " ..., \n",
      " [ 0.4461357   0.56213009  0.32600227  0.72064614  0.78956729]\n",
      " [ 0.94361311  0.64989507  0.45749313  0.68939638  0.53226089]\n",
      " [ 0.84714556  0.3131499   0.13545898  0.91716164  0.90000129]]\n",
      "[[ 0.18512695  0.01666632  0.99878323  0.56323916  0.44404045]\n",
      " [ 0.74903655  0.25563574  0.28598148  0.88942903  0.01065773]\n",
      " [ 0.79657233  0.33916429  0.47925568  0.00430949  0.61652058]\n",
      " ..., \n",
      " [ 0.4461357   0.56213009  0.32600227  0.72064614  0.78956729]\n",
      " [ 0.94361311  0.64989507  0.45749313  0.68939638  0.53226089]\n",
      " [ 0.84714556  0.3131499   0.13545898  0.91716164  0.90000129]]\n"
     ]
    }
   ],
   "source": [
    "# save data and load it\n",
    "print data_sz_pt_np.dtype\n",
    "\n",
    "# save original type\n",
    "name = '64.h5'\n",
    "with h5py.File(file_path + name, 'w') as f:\n",
    "    f['new_data'] = data_sz_pt_np\n",
    "    \n",
    "# save original type\n",
    "name = '32.h5'\n",
    "with h5py.File(file_path + name, 'w') as f:\n",
    "    f.create_dataset('new_data', data=data_sz_pt_np,\n",
    "                     dtype=np.float32)\n",
    "    dset = f['new_data']\n",
    "    np_data = dset[:]\n",
    "    np_data_2 = dset[...]\n",
    "    print type(dset)\n",
    "    print type(np_data)\n",
    "    print np_data\n",
    "    print np_data_2"
   ]
  }
 ],
 "metadata": {
  "kernelspec": {
   "display_name": "Python 2",
   "language": "python",
   "name": "python2"
  },
  "language_info": {
   "codemirror_mode": {
    "name": "ipython",
    "version": 2
   },
   "file_extension": ".py",
   "mimetype": "text/x-python",
   "name": "python",
   "nbconvert_exporter": "python",
   "pygments_lexer": "ipython2",
   "version": "2.7.10"
  }
 },
 "nbformat": 4,
 "nbformat_minor": 2
}
